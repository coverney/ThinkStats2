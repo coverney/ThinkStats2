{
 "cells": [
  {
   "cell_type": "code",
   "execution_count": 167,
   "metadata": {},
   "outputs": [],
   "source": [
    "import pandas as pd\n",
    "import numpy as np\n",
    "import matplotlib.pyplot as plt\n",
    "import thinkstats2, thinkplot\n",
    "from sklearn.linear_model import Ridge, LogisticRegression\n",
    "from sklearn.neighbors import KNeighborsClassifier\n",
    "from sklearn.model_selection import GridSearchCV, train_test_split, cross_val_score\n",
    "from sklearn.pipeline import Pipeline\n",
    "from sklearn.preprocessing import StandardScaler\n",
    "from sklearn.metrics import classification_report, roc_curve, roc_auc_score, accuracy_score"
   ]
  },
  {
   "cell_type": "markdown",
   "metadata": {},
   "source": [
    "### Data cleaning"
   ]
  },
  {
   "cell_type": "code",
   "execution_count": 32,
   "metadata": {},
   "outputs": [],
   "source": [
    "x = pd.read_csv('../Data/train_values.csv')\n",
    "y = pd.read_csv('../Data/train_labels.csv')\n",
    "x = x.drop('patient_id', axis=1)\n",
    "y = y['heart_disease_present']\n",
    "categorical_vars= ['thal', 'chest_pain_type'] # list of categorical variables"
   ]
  },
  {
   "cell_type": "markdown",
   "metadata": {},
   "source": [
    "Standardize the data by subtracting mean and dividing standard deviation."
   ]
  },
  {
   "cell_type": "code",
   "execution_count": 33,
   "metadata": {},
   "outputs": [],
   "source": [
    "for col in x.columns:\n",
    "    if col not in categorical_vars:\n",
    "        mean = x[col].mean()\n",
    "        std = x[col].std()\n",
    "        x[col] = (x[col] - mean)/std"
   ]
  },
  {
   "cell_type": "markdown",
   "metadata": {},
   "source": [
    "One hot encoding the categorical data and drop the first column to prevent linear dependence/collinearity."
   ]
  },
  {
   "cell_type": "code",
   "execution_count": 34,
   "metadata": {},
   "outputs": [
    {
     "data": {
      "text/html": [
       "<div>\n",
       "<style scoped>\n",
       "    .dataframe tbody tr th:only-of-type {\n",
       "        vertical-align: middle;\n",
       "    }\n",
       "\n",
       "    .dataframe tbody tr th {\n",
       "        vertical-align: top;\n",
       "    }\n",
       "\n",
       "    .dataframe thead th {\n",
       "        text-align: right;\n",
       "    }\n",
       "</style>\n",
       "<table border=\"1\" class=\"dataframe\">\n",
       "  <thead>\n",
       "    <tr style=\"text-align: right;\">\n",
       "      <th></th>\n",
       "      <th>slope_of_peak_exercise_st_segment</th>\n",
       "      <th>resting_blood_pressure</th>\n",
       "      <th>num_major_vessels</th>\n",
       "      <th>fasting_blood_sugar_gt_120_mg_per_dl</th>\n",
       "      <th>resting_ekg_results</th>\n",
       "      <th>serum_cholesterol_mg_per_dl</th>\n",
       "      <th>oldpeak_eq_st_depression</th>\n",
       "      <th>sex</th>\n",
       "      <th>age</th>\n",
       "      <th>max_heart_rate_achieved</th>\n",
       "      <th>exercise_induced_angina</th>\n",
       "      <th>thal_normal</th>\n",
       "      <th>thal_reversible_defect</th>\n",
       "      <th>chest_pain_type_2</th>\n",
       "      <th>chest_pain_type_3</th>\n",
       "      <th>chest_pain_type_4</th>\n",
       "    </tr>\n",
       "  </thead>\n",
       "  <tbody>\n",
       "    <tr>\n",
       "      <th>0</th>\n",
       "      <td>-0.888762</td>\n",
       "      <td>-0.194652</td>\n",
       "      <td>-0.716404</td>\n",
       "      <td>-0.437019</td>\n",
       "      <td>0.951196</td>\n",
       "      <td>1.115158</td>\n",
       "      <td>-0.900694</td>\n",
       "      <td>0.670152</td>\n",
       "      <td>-1.051032</td>\n",
       "      <td>0.929891</td>\n",
       "      <td>-0.678852</td>\n",
       "      <td>1</td>\n",
       "      <td>0</td>\n",
       "      <td>1</td>\n",
       "      <td>0</td>\n",
       "      <td>0</td>\n",
       "    </tr>\n",
       "    <tr>\n",
       "      <th>1</th>\n",
       "      <td>0.727169</td>\n",
       "      <td>-1.252825</td>\n",
       "      <td>-0.716404</td>\n",
       "      <td>-0.437019</td>\n",
       "      <td>-1.051322</td>\n",
       "      <td>-0.667915</td>\n",
       "      <td>0.526148</td>\n",
       "      <td>-1.483908</td>\n",
       "      <td>-0.086892</td>\n",
       "      <td>0.386007</td>\n",
       "      <td>-0.678852</td>\n",
       "      <td>1</td>\n",
       "      <td>0</td>\n",
       "      <td>0</td>\n",
       "      <td>1</td>\n",
       "      <td>0</td>\n",
       "    </tr>\n",
       "    <tr>\n",
       "      <th>2</th>\n",
       "      <td>-0.888762</td>\n",
       "      <td>-0.371014</td>\n",
       "      <td>2.378462</td>\n",
       "      <td>-0.437019</td>\n",
       "      <td>0.951196</td>\n",
       "      <td>1.039283</td>\n",
       "      <td>-0.900694</td>\n",
       "      <td>0.670152</td>\n",
       "      <td>2.377024</td>\n",
       "      <td>0.567302</td>\n",
       "      <td>1.464891</td>\n",
       "      <td>1</td>\n",
       "      <td>0</td>\n",
       "      <td>0</td>\n",
       "      <td>0</td>\n",
       "      <td>1</td>\n",
       "    </tr>\n",
       "    <tr>\n",
       "      <th>3</th>\n",
       "      <td>-0.888762</td>\n",
       "      <td>1.216246</td>\n",
       "      <td>-0.716404</td>\n",
       "      <td>-0.437019</td>\n",
       "      <td>-1.051322</td>\n",
       "      <td>-0.497195</td>\n",
       "      <td>-0.900694</td>\n",
       "      <td>0.670152</td>\n",
       "      <td>-1.586666</td>\n",
       "      <td>1.428452</td>\n",
       "      <td>-0.678852</td>\n",
       "      <td>0</td>\n",
       "      <td>1</td>\n",
       "      <td>0</td>\n",
       "      <td>0</td>\n",
       "      <td>1</td>\n",
       "    </tr>\n",
       "    <tr>\n",
       "      <th>4</th>\n",
       "      <td>2.343100</td>\n",
       "      <td>2.744719</td>\n",
       "      <td>-0.716404</td>\n",
       "      <td>-0.437019</td>\n",
       "      <td>0.951196</td>\n",
       "      <td>0.394342</td>\n",
       "      <td>2.844768</td>\n",
       "      <td>0.670152</td>\n",
       "      <td>0.448742</td>\n",
       "      <td>-0.203201</td>\n",
       "      <td>-0.678852</td>\n",
       "      <td>0</td>\n",
       "      <td>1</td>\n",
       "      <td>0</td>\n",
       "      <td>0</td>\n",
       "      <td>0</td>\n",
       "    </tr>\n",
       "  </tbody>\n",
       "</table>\n",
       "</div>"
      ],
      "text/plain": [
       "   slope_of_peak_exercise_st_segment  resting_blood_pressure  \\\n",
       "0                          -0.888762               -0.194652   \n",
       "1                           0.727169               -1.252825   \n",
       "2                          -0.888762               -0.371014   \n",
       "3                          -0.888762                1.216246   \n",
       "4                           2.343100                2.744719   \n",
       "\n",
       "   num_major_vessels  fasting_blood_sugar_gt_120_mg_per_dl  \\\n",
       "0          -0.716404                             -0.437019   \n",
       "1          -0.716404                             -0.437019   \n",
       "2           2.378462                             -0.437019   \n",
       "3          -0.716404                             -0.437019   \n",
       "4          -0.716404                             -0.437019   \n",
       "\n",
       "   resting_ekg_results  serum_cholesterol_mg_per_dl  oldpeak_eq_st_depression  \\\n",
       "0             0.951196                     1.115158                 -0.900694   \n",
       "1            -1.051322                    -0.667915                  0.526148   \n",
       "2             0.951196                     1.039283                 -0.900694   \n",
       "3            -1.051322                    -0.497195                 -0.900694   \n",
       "4             0.951196                     0.394342                  2.844768   \n",
       "\n",
       "        sex       age  max_heart_rate_achieved  exercise_induced_angina  \\\n",
       "0  0.670152 -1.051032                 0.929891                -0.678852   \n",
       "1 -1.483908 -0.086892                 0.386007                -0.678852   \n",
       "2  0.670152  2.377024                 0.567302                 1.464891   \n",
       "3  0.670152 -1.586666                 1.428452                -0.678852   \n",
       "4  0.670152  0.448742                -0.203201                -0.678852   \n",
       "\n",
       "   thal_normal  thal_reversible_defect  chest_pain_type_2  chest_pain_type_3  \\\n",
       "0            1                       0                  1                  0   \n",
       "1            1                       0                  0                  1   \n",
       "2            1                       0                  0                  0   \n",
       "3            0                       1                  0                  0   \n",
       "4            0                       1                  0                  0   \n",
       "\n",
       "   chest_pain_type_4  \n",
       "0                  0  \n",
       "1                  0  \n",
       "2                  1  \n",
       "3                  1  \n",
       "4                  0  "
      ]
     },
     "execution_count": 34,
     "metadata": {},
     "output_type": "execute_result"
    }
   ],
   "source": [
    "x = pd.get_dummies(x, columns=categorical_vars, drop_first=True)\n",
    "x.head()"
   ]
  },
  {
   "cell_type": "markdown",
   "metadata": {},
   "source": [
    "### Comparing different models\n",
    "\n",
    "First, we define our helper function that run 1000 simulations:\n",
    "- Shuffles the data\n",
    "- Splits the data into training and test sets (80:20)\n",
    "- Trains the model and computes accuracy on the test set\n",
    "- Adds the accuracy to the list"
   ]
  },
  {
   "cell_type": "code",
   "execution_count": 161,
   "metadata": {},
   "outputs": [],
   "source": [
    "def GetAccuracyDist(model=None, inter=1000):\n",
    "    if model is None:\n",
    "        raise TypeError\n",
    "        \n",
    "    accs = []\n",
    "    for _ in range(inter):\n",
    "        x_train, x_test, y_train, y_test = train_test_split(x, y, test_size=0.2, shuffle=True)\n",
    "        model.fit(x_train, y_train)\n",
    "        y_test_pred = model.predict(x_test)\n",
    "        acc = accuracy_score(y_test_pred, y_test)\n",
    "        accs.append(acc)\n",
    "        \n",
    "    return np.asarray(accs)"
   ]
  },
  {
   "cell_type": "markdown",
   "metadata": {},
   "source": [
    "#### Logistic Regression"
   ]
  },
  {
   "cell_type": "code",
   "execution_count": 175,
   "metadata": {},
   "outputs": [
    {
     "data": {
      "text/plain": [
       "0.8205"
      ]
     },
     "execution_count": 175,
     "metadata": {},
     "output_type": "execute_result"
    }
   ],
   "source": [
    "accs = GetAccuracyDist(LogisticRegression())\n",
    "accs.mean()"
   ]
  },
  {
   "cell_type": "code",
   "execution_count": 176,
   "metadata": {},
   "outputs": [
    {
     "data": {
      "image/png": "[encoded data removed]",
      "text/plain": [
       "<Figure size 432x288 with 1 Axes>"
      ]
     },
     "metadata": {
      "needs_background": "light"
     },
     "output_type": "display_data"
    }
   ],
   "source": [
    "pmf = thinkstats2.Pmf(accs)\n",
    "thinkplot.Hist(pmf, align='right')"
   ]
  },
  {
   "cell_type": "markdown",
   "metadata": {},
   "source": [
    "#### KNN"
   ]
  },
  {
   "cell_type": "code",
   "execution_count": 162,
   "metadata": {},
   "outputs": [
    {
     "data": {
      "text/plain": [
       "0.8058611111111111"
      ]
     },
     "execution_count": 162,
     "metadata": {},
     "output_type": "execute_result"
    }
   ],
   "source": [
    "accs = GetAccuracyDist(KNeighborsClassifier(n_neighbors=3))\n",
    "accs.mean()"
   ]
  },
  {
   "cell_type": "code",
   "execution_count": 170,
   "metadata": {},
   "outputs": [
    {
     "data": {
      "image/png": "[encoded data removed]",
      "text/plain": [
       "<Figure size 432x288 with 1 Axes>"
      ]
     },
     "metadata": {
      "needs_background": "light"
     },
     "output_type": "display_data"
    }
   ],
   "source": [
    "pmf = thinkstats2.Pmf(accs)\n",
    "thinkplot.Hist(pmf, align='right')"
   ]
  },
  {
   "cell_type": "markdown",
   "metadata": {},
   "source": [
    "We can also use box plot for these accuracy distribution?"
   ]
  }
 ],
 "metadata": {
  "kernelspec": {
   "display_name": "Python 3",
   "language": "python",
   "name": "python3"
  },
  "language_info": {
   "codemirror_mode": {
    "name": "ipython",
    "version": 3
   },
   "file_extension": ".py",
   "mimetype": "text/x-python",
   "name": "python",
   "nbconvert_exporter": "python",
   "pygments_lexer": "ipython3",
   "version": "3.6.8"
  }
 },
 "nbformat": 4,
 "nbformat_minor": 2
}
