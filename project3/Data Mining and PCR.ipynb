{
 "cells": [
  {
   "cell_type": "markdown",
   "metadata": {},
   "source": [
    "# Logistic Regression \n",
    "\n",
    "We run regression to see which explanatory variables can better predict the presence of heart disease. For each variable, we construct a model, compute $R^{2}$, and append the results to a list. The higher the $R^{2}$ value, the more predictive power the corresponding variable has. "
   ]
  },
  {
   "cell_type": "markdown",
   "metadata": {},
   "source": [
    "## Data Cleaning\n",
    "\n",
    "Read in data\n",
    "\n",
    "Info on variables:\n",
    "- `slope_of_peak_exercise_st_segment` (type: `int`): the slope of the peak exercise ST segment, an electrocardiography read out indicating quality of blood flow to the heart\n",
    "- `thal` (type: `categorical`): results of thallium stress test measuring blood flow to the heart, with possible values normal, fixed_defect, reversible_defect\n",
    "- `resting_blood_pressure` (type: `int`): resting blood pressure\n",
    "- `chest_pain_type` (type: `int`): chest pain type (4 values)\n",
    "- `num_major_vessels` (type: `int`): number of major vessels (0-3) colored by flourosopy\n",
    "- `fasting_blood_sugar_gt_120_mg_per_dl` (type: `binary`): fasting blood sugar > 120 mg/dl\n",
    "- `resting_ekg_results` (type: `int`): resting electrocardiographic results (values 0,1,2)\n",
    "- `serum_cholesterol_mg_per_dl` (type: `int`): serum cholestoral in mg/dl\n",
    "- `oldpeak_eq_st_depression` (type: `float`): oldpeak = ST depression induced by exercise relative to rest, a measure of abnormality in electrocardiograms\n",
    "- `sex` (type: `binary`): 0: female, 1: male\n",
    "- `age` (type: `int`): age in years\n",
    "- `max_heart_rate_achieved` (type: `int`): maximum heart rate achieved (beats per minute)\n",
    "- `exercise_induced_angina` (type: `binary`): exercise-induced chest pain (0: False, 1: True)"
   ]
  },
  {
   "cell_type": "code",
   "execution_count": 72,
   "metadata": {},
   "outputs": [],
   "source": [
    "# Importing the necessary librariers \n",
    "import pandas as pd\n",
    "import numpy as np\n",
    "import thinkstats2\n",
    "import thinkplot\n",
    "import matplotlib.pyplot as plt\n",
    "import seaborn as sns; sns.set()\n",
    "import statsmodels.formula.api as smf\n",
    "\n",
    "from sklearn.preprocessing import scale # center to the mean and component wise scale to unit variance.\n",
    "from sklearn.model_selection import cross_val_score\n",
    "from sklearn.model_selection import KFold\n",
    "from sklearn.decomposition import PCA\n",
    "from sklearn.linear_model import LinearRegression\n",
    "from sklearn.linear_model import LogisticRegression\n",
    "from sklearn.cross_decomposition import PLSRegression, PLSSVD\n",
    "from sklearn.metrics import mean_squared_error\n",
    "from sklearn.model_selection import train_test_split\n",
    "from sklearn.cluster import KMeans\n",
    "from sklearn.metrics import classification_report, confusion_matrix\n",
    "from sklearn.metrics import accuracy_score\n",
    "import sklearn.pipeline as skpl # convenient module for calculating PCs and using them in logistic regression\n",
    "from sklearn.utils import shuffle"
   ]
  },
  {
   "cell_type": "code",
   "execution_count": 44,
   "metadata": {},
   "outputs": [
    {
     "data": {
      "text/html": [
       "<div>\n",
       "<style scoped>\n",
       "    .dataframe tbody tr th:only-of-type {\n",
       "        vertical-align: middle;\n",
       "    }\n",
       "\n",
       "    .dataframe tbody tr th {\n",
       "        vertical-align: top;\n",
       "    }\n",
       "\n",
       "    .dataframe thead th {\n",
       "        text-align: right;\n",
       "    }\n",
       "</style>\n",
       "<table border=\"1\" class=\"dataframe\">\n",
       "  <thead>\n",
       "    <tr style=\"text-align: right;\">\n",
       "      <th></th>\n",
       "      <th>patient_id</th>\n",
       "      <th>slope_of_peak_exercise_st_segment</th>\n",
       "      <th>thal</th>\n",
       "      <th>resting_blood_pressure</th>\n",
       "      <th>chest_pain_type</th>\n",
       "      <th>num_major_vessels</th>\n",
       "      <th>fasting_blood_sugar_gt_120_mg_per_dl</th>\n",
       "      <th>resting_ekg_results</th>\n",
       "      <th>serum_cholesterol_mg_per_dl</th>\n",
       "      <th>oldpeak_eq_st_depression</th>\n",
       "      <th>sex</th>\n",
       "      <th>age</th>\n",
       "      <th>max_heart_rate_achieved</th>\n",
       "      <th>exercise_induced_angina</th>\n",
       "    </tr>\n",
       "  </thead>\n",
       "  <tbody>\n",
       "    <tr>\n",
       "      <th>0</th>\n",
       "      <td>0z64un</td>\n",
       "      <td>1</td>\n",
       "      <td>normal</td>\n",
       "      <td>128</td>\n",
       "      <td>2</td>\n",
       "      <td>0</td>\n",
       "      <td>0</td>\n",
       "      <td>2</td>\n",
       "      <td>308</td>\n",
       "      <td>0.0</td>\n",
       "      <td>1</td>\n",
       "      <td>45</td>\n",
       "      <td>170</td>\n",
       "      <td>0</td>\n",
       "    </tr>\n",
       "    <tr>\n",
       "      <th>1</th>\n",
       "      <td>ryoo3j</td>\n",
       "      <td>2</td>\n",
       "      <td>normal</td>\n",
       "      <td>110</td>\n",
       "      <td>3</td>\n",
       "      <td>0</td>\n",
       "      <td>0</td>\n",
       "      <td>0</td>\n",
       "      <td>214</td>\n",
       "      <td>1.6</td>\n",
       "      <td>0</td>\n",
       "      <td>54</td>\n",
       "      <td>158</td>\n",
       "      <td>0</td>\n",
       "    </tr>\n",
       "    <tr>\n",
       "      <th>2</th>\n",
       "      <td>yt1s1x</td>\n",
       "      <td>1</td>\n",
       "      <td>normal</td>\n",
       "      <td>125</td>\n",
       "      <td>4</td>\n",
       "      <td>3</td>\n",
       "      <td>0</td>\n",
       "      <td>2</td>\n",
       "      <td>304</td>\n",
       "      <td>0.0</td>\n",
       "      <td>1</td>\n",
       "      <td>77</td>\n",
       "      <td>162</td>\n",
       "      <td>1</td>\n",
       "    </tr>\n",
       "    <tr>\n",
       "      <th>3</th>\n",
       "      <td>l2xjde</td>\n",
       "      <td>1</td>\n",
       "      <td>reversible_defect</td>\n",
       "      <td>152</td>\n",
       "      <td>4</td>\n",
       "      <td>0</td>\n",
       "      <td>0</td>\n",
       "      <td>0</td>\n",
       "      <td>223</td>\n",
       "      <td>0.0</td>\n",
       "      <td>1</td>\n",
       "      <td>40</td>\n",
       "      <td>181</td>\n",
       "      <td>0</td>\n",
       "    </tr>\n",
       "    <tr>\n",
       "      <th>4</th>\n",
       "      <td>oyt4ek</td>\n",
       "      <td>3</td>\n",
       "      <td>reversible_defect</td>\n",
       "      <td>178</td>\n",
       "      <td>1</td>\n",
       "      <td>0</td>\n",
       "      <td>0</td>\n",
       "      <td>2</td>\n",
       "      <td>270</td>\n",
       "      <td>4.2</td>\n",
       "      <td>1</td>\n",
       "      <td>59</td>\n",
       "      <td>145</td>\n",
       "      <td>0</td>\n",
       "    </tr>\n",
       "  </tbody>\n",
       "</table>\n",
       "</div>"
      ],
      "text/plain": [
       "  patient_id  slope_of_peak_exercise_st_segment               thal  \\\n",
       "0     0z64un                                  1             normal   \n",
       "1     ryoo3j                                  2             normal   \n",
       "2     yt1s1x                                  1             normal   \n",
       "3     l2xjde                                  1  reversible_defect   \n",
       "4     oyt4ek                                  3  reversible_defect   \n",
       "\n",
       "   resting_blood_pressure  chest_pain_type  num_major_vessels  \\\n",
       "0                     128                2                  0   \n",
       "1                     110                3                  0   \n",
       "2                     125                4                  3   \n",
       "3                     152                4                  0   \n",
       "4                     178                1                  0   \n",
       "\n",
       "   fasting_blood_sugar_gt_120_mg_per_dl  resting_ekg_results  \\\n",
       "0                                     0                    2   \n",
       "1                                     0                    0   \n",
       "2                                     0                    2   \n",
       "3                                     0                    0   \n",
       "4                                     0                    2   \n",
       "\n",
       "   serum_cholesterol_mg_per_dl  oldpeak_eq_st_depression  sex  age  \\\n",
       "0                          308                       0.0    1   45   \n",
       "1                          214                       1.6    0   54   \n",
       "2                          304                       0.0    1   77   \n",
       "3                          223                       0.0    1   40   \n",
       "4                          270                       4.2    1   59   \n",
       "\n",
       "   max_heart_rate_achieved  exercise_induced_angina  \n",
       "0                      170                        0  \n",
       "1                      158                        0  \n",
       "2                      162                        1  \n",
       "3                      181                        0  \n",
       "4                      145                        0  "
      ]
     },
     "execution_count": 44,
     "metadata": {},
     "output_type": "execute_result"
    }
   ],
   "source": [
    "train_values = pd.read_csv('data/train_values.csv')\n",
    "train_values.head()"
   ]
  },
  {
   "cell_type": "code",
   "execution_count": 45,
   "metadata": {},
   "outputs": [
    {
     "data": {
      "text/html": [
       "<div>\n",
       "<style scoped>\n",
       "    .dataframe tbody tr th:only-of-type {\n",
       "        vertical-align: middle;\n",
       "    }\n",
       "\n",
       "    .dataframe tbody tr th {\n",
       "        vertical-align: top;\n",
       "    }\n",
       "\n",
       "    .dataframe thead th {\n",
       "        text-align: right;\n",
       "    }\n",
       "</style>\n",
       "<table border=\"1\" class=\"dataframe\">\n",
       "  <thead>\n",
       "    <tr style=\"text-align: right;\">\n",
       "      <th></th>\n",
       "      <th>patient_id</th>\n",
       "      <th>heart_disease_present</th>\n",
       "    </tr>\n",
       "  </thead>\n",
       "  <tbody>\n",
       "    <tr>\n",
       "      <th>0</th>\n",
       "      <td>0z64un</td>\n",
       "      <td>0</td>\n",
       "    </tr>\n",
       "    <tr>\n",
       "      <th>1</th>\n",
       "      <td>ryoo3j</td>\n",
       "      <td>0</td>\n",
       "    </tr>\n",
       "    <tr>\n",
       "      <th>2</th>\n",
       "      <td>yt1s1x</td>\n",
       "      <td>1</td>\n",
       "    </tr>\n",
       "    <tr>\n",
       "      <th>3</th>\n",
       "      <td>l2xjde</td>\n",
       "      <td>1</td>\n",
       "    </tr>\n",
       "    <tr>\n",
       "      <th>4</th>\n",
       "      <td>oyt4ek</td>\n",
       "      <td>0</td>\n",
       "    </tr>\n",
       "  </tbody>\n",
       "</table>\n",
       "</div>"
      ],
      "text/plain": [
       "  patient_id  heart_disease_present\n",
       "0     0z64un                      0\n",
       "1     ryoo3j                      0\n",
       "2     yt1s1x                      1\n",
       "3     l2xjde                      1\n",
       "4     oyt4ek                      0"
      ]
     },
     "execution_count": 45,
     "metadata": {},
     "output_type": "execute_result"
    }
   ],
   "source": [
    "train_labels = pd.read_csv('data/train_labels.csv')\n",
    "train_labels.head()"
   ]
  },
  {
   "cell_type": "markdown",
   "metadata": {},
   "source": [
    "Merge the two dfs"
   ]
  },
  {
   "cell_type": "code",
   "execution_count": 46,
   "metadata": {},
   "outputs": [
    {
     "data": {
      "text/html": [
       "<div>\n",
       "<style scoped>\n",
       "    .dataframe tbody tr th:only-of-type {\n",
       "        vertical-align: middle;\n",
       "    }\n",
       "\n",
       "    .dataframe tbody tr th {\n",
       "        vertical-align: top;\n",
       "    }\n",
       "\n",
       "    .dataframe thead th {\n",
       "        text-align: right;\n",
       "    }\n",
       "</style>\n",
       "<table border=\"1\" class=\"dataframe\">\n",
       "  <thead>\n",
       "    <tr style=\"text-align: right;\">\n",
       "      <th></th>\n",
       "      <th>patient_id</th>\n",
       "      <th>slope_of_peak_exercise_st_segment</th>\n",
       "      <th>thal</th>\n",
       "      <th>resting_blood_pressure</th>\n",
       "      <th>chest_pain_type</th>\n",
       "      <th>num_major_vessels</th>\n",
       "      <th>fasting_blood_sugar_gt_120_mg_per_dl</th>\n",
       "      <th>resting_ekg_results</th>\n",
       "      <th>serum_cholesterol_mg_per_dl</th>\n",
       "      <th>oldpeak_eq_st_depression</th>\n",
       "      <th>sex</th>\n",
       "      <th>age</th>\n",
       "      <th>max_heart_rate_achieved</th>\n",
       "      <th>exercise_induced_angina</th>\n",
       "      <th>heart_disease_present</th>\n",
       "    </tr>\n",
       "  </thead>\n",
       "  <tbody>\n",
       "    <tr>\n",
       "      <th>0</th>\n",
       "      <td>0z64un</td>\n",
       "      <td>1</td>\n",
       "      <td>normal</td>\n",
       "      <td>128</td>\n",
       "      <td>2</td>\n",
       "      <td>0</td>\n",
       "      <td>0</td>\n",
       "      <td>2</td>\n",
       "      <td>308</td>\n",
       "      <td>0.0</td>\n",
       "      <td>1</td>\n",
       "      <td>45</td>\n",
       "      <td>170</td>\n",
       "      <td>0</td>\n",
       "      <td>0</td>\n",
       "    </tr>\n",
       "    <tr>\n",
       "      <th>1</th>\n",
       "      <td>ryoo3j</td>\n",
       "      <td>2</td>\n",
       "      <td>normal</td>\n",
       "      <td>110</td>\n",
       "      <td>3</td>\n",
       "      <td>0</td>\n",
       "      <td>0</td>\n",
       "      <td>0</td>\n",
       "      <td>214</td>\n",
       "      <td>1.6</td>\n",
       "      <td>0</td>\n",
       "      <td>54</td>\n",
       "      <td>158</td>\n",
       "      <td>0</td>\n",
       "      <td>0</td>\n",
       "    </tr>\n",
       "    <tr>\n",
       "      <th>2</th>\n",
       "      <td>yt1s1x</td>\n",
       "      <td>1</td>\n",
       "      <td>normal</td>\n",
       "      <td>125</td>\n",
       "      <td>4</td>\n",
       "      <td>3</td>\n",
       "      <td>0</td>\n",
       "      <td>2</td>\n",
       "      <td>304</td>\n",
       "      <td>0.0</td>\n",
       "      <td>1</td>\n",
       "      <td>77</td>\n",
       "      <td>162</td>\n",
       "      <td>1</td>\n",
       "      <td>1</td>\n",
       "    </tr>\n",
       "    <tr>\n",
       "      <th>3</th>\n",
       "      <td>l2xjde</td>\n",
       "      <td>1</td>\n",
       "      <td>reversible_defect</td>\n",
       "      <td>152</td>\n",
       "      <td>4</td>\n",
       "      <td>0</td>\n",
       "      <td>0</td>\n",
       "      <td>0</td>\n",
       "      <td>223</td>\n",
       "      <td>0.0</td>\n",
       "      <td>1</td>\n",
       "      <td>40</td>\n",
       "      <td>181</td>\n",
       "      <td>0</td>\n",
       "      <td>1</td>\n",
       "    </tr>\n",
       "    <tr>\n",
       "      <th>4</th>\n",
       "      <td>oyt4ek</td>\n",
       "      <td>3</td>\n",
       "      <td>reversible_defect</td>\n",
       "      <td>178</td>\n",
       "      <td>1</td>\n",
       "      <td>0</td>\n",
       "      <td>0</td>\n",
       "      <td>2</td>\n",
       "      <td>270</td>\n",
       "      <td>4.2</td>\n",
       "      <td>1</td>\n",
       "      <td>59</td>\n",
       "      <td>145</td>\n",
       "      <td>0</td>\n",
       "      <td>0</td>\n",
       "    </tr>\n",
       "  </tbody>\n",
       "</table>\n",
       "</div>"
      ],
      "text/plain": [
       "  patient_id  slope_of_peak_exercise_st_segment               thal  \\\n",
       "0     0z64un                                  1             normal   \n",
       "1     ryoo3j                                  2             normal   \n",
       "2     yt1s1x                                  1             normal   \n",
       "3     l2xjde                                  1  reversible_defect   \n",
       "4     oyt4ek                                  3  reversible_defect   \n",
       "\n",
       "   resting_blood_pressure  chest_pain_type  num_major_vessels  \\\n",
       "0                     128                2                  0   \n",
       "1                     110                3                  0   \n",
       "2                     125                4                  3   \n",
       "3                     152                4                  0   \n",
       "4                     178                1                  0   \n",
       "\n",
       "   fasting_blood_sugar_gt_120_mg_per_dl  resting_ekg_results  \\\n",
       "0                                     0                    2   \n",
       "1                                     0                    0   \n",
       "2                                     0                    2   \n",
       "3                                     0                    0   \n",
       "4                                     0                    2   \n",
       "\n",
       "   serum_cholesterol_mg_per_dl  oldpeak_eq_st_depression  sex  age  \\\n",
       "0                          308                       0.0    1   45   \n",
       "1                          214                       1.6    0   54   \n",
       "2                          304                       0.0    1   77   \n",
       "3                          223                       0.0    1   40   \n",
       "4                          270                       4.2    1   59   \n",
       "\n",
       "   max_heart_rate_achieved  exercise_induced_angina  heart_disease_present  \n",
       "0                      170                        0                      0  \n",
       "1                      158                        0                      0  \n",
       "2                      162                        1                      1  \n",
       "3                      181                        0                      1  \n",
       "4                      145                        0                      0  "
      ]
     },
     "execution_count": 46,
     "metadata": {},
     "output_type": "execute_result"
    }
   ],
   "source": [
    "train = pd.merge(train_values, train_labels, on=\"patient_id\")\n",
    "train.head()"
   ]
  },
  {
   "cell_type": "markdown",
   "metadata": {},
   "source": [
    "Set index to `patient_id`"
   ]
  },
  {
   "cell_type": "code",
   "execution_count": 47,
   "metadata": {},
   "outputs": [
    {
     "data": {
      "text/html": [
       "<div>\n",
       "<style scoped>\n",
       "    .dataframe tbody tr th:only-of-type {\n",
       "        vertical-align: middle;\n",
       "    }\n",
       "\n",
       "    .dataframe tbody tr th {\n",
       "        vertical-align: top;\n",
       "    }\n",
       "\n",
       "    .dataframe thead th {\n",
       "        text-align: right;\n",
       "    }\n",
       "</style>\n",
       "<table border=\"1\" class=\"dataframe\">\n",
       "  <thead>\n",
       "    <tr style=\"text-align: right;\">\n",
       "      <th></th>\n",
       "      <th>slope_of_peak_exercise_st_segment</th>\n",
       "      <th>thal</th>\n",
       "      <th>resting_blood_pressure</th>\n",
       "      <th>chest_pain_type</th>\n",
       "      <th>num_major_vessels</th>\n",
       "      <th>fasting_blood_sugar_gt_120_mg_per_dl</th>\n",
       "      <th>resting_ekg_results</th>\n",
       "      <th>serum_cholesterol_mg_per_dl</th>\n",
       "      <th>oldpeak_eq_st_depression</th>\n",
       "      <th>sex</th>\n",
       "      <th>age</th>\n",
       "      <th>max_heart_rate_achieved</th>\n",
       "      <th>exercise_induced_angina</th>\n",
       "      <th>heart_disease_present</th>\n",
       "    </tr>\n",
       "    <tr>\n",
       "      <th>patient_id</th>\n",
       "      <th></th>\n",
       "      <th></th>\n",
       "      <th></th>\n",
       "      <th></th>\n",
       "      <th></th>\n",
       "      <th></th>\n",
       "      <th></th>\n",
       "      <th></th>\n",
       "      <th></th>\n",
       "      <th></th>\n",
       "      <th></th>\n",
       "      <th></th>\n",
       "      <th></th>\n",
       "      <th></th>\n",
       "    </tr>\n",
       "  </thead>\n",
       "  <tbody>\n",
       "    <tr>\n",
       "      <th>0z64un</th>\n",
       "      <td>1</td>\n",
       "      <td>normal</td>\n",
       "      <td>128</td>\n",
       "      <td>2</td>\n",
       "      <td>0</td>\n",
       "      <td>0</td>\n",
       "      <td>2</td>\n",
       "      <td>308</td>\n",
       "      <td>0.0</td>\n",
       "      <td>1</td>\n",
       "      <td>45</td>\n",
       "      <td>170</td>\n",
       "      <td>0</td>\n",
       "      <td>0</td>\n",
       "    </tr>\n",
       "    <tr>\n",
       "      <th>ryoo3j</th>\n",
       "      <td>2</td>\n",
       "      <td>normal</td>\n",
       "      <td>110</td>\n",
       "      <td>3</td>\n",
       "      <td>0</td>\n",
       "      <td>0</td>\n",
       "      <td>0</td>\n",
       "      <td>214</td>\n",
       "      <td>1.6</td>\n",
       "      <td>0</td>\n",
       "      <td>54</td>\n",
       "      <td>158</td>\n",
       "      <td>0</td>\n",
       "      <td>0</td>\n",
       "    </tr>\n",
       "    <tr>\n",
       "      <th>yt1s1x</th>\n",
       "      <td>1</td>\n",
       "      <td>normal</td>\n",
       "      <td>125</td>\n",
       "      <td>4</td>\n",
       "      <td>3</td>\n",
       "      <td>0</td>\n",
       "      <td>2</td>\n",
       "      <td>304</td>\n",
       "      <td>0.0</td>\n",
       "      <td>1</td>\n",
       "      <td>77</td>\n",
       "      <td>162</td>\n",
       "      <td>1</td>\n",
       "      <td>1</td>\n",
       "    </tr>\n",
       "    <tr>\n",
       "      <th>l2xjde</th>\n",
       "      <td>1</td>\n",
       "      <td>reversible_defect</td>\n",
       "      <td>152</td>\n",
       "      <td>4</td>\n",
       "      <td>0</td>\n",
       "      <td>0</td>\n",
       "      <td>0</td>\n",
       "      <td>223</td>\n",
       "      <td>0.0</td>\n",
       "      <td>1</td>\n",
       "      <td>40</td>\n",
       "      <td>181</td>\n",
       "      <td>0</td>\n",
       "      <td>1</td>\n",
       "    </tr>\n",
       "    <tr>\n",
       "      <th>oyt4ek</th>\n",
       "      <td>3</td>\n",
       "      <td>reversible_defect</td>\n",
       "      <td>178</td>\n",
       "      <td>1</td>\n",
       "      <td>0</td>\n",
       "      <td>0</td>\n",
       "      <td>2</td>\n",
       "      <td>270</td>\n",
       "      <td>4.2</td>\n",
       "      <td>1</td>\n",
       "      <td>59</td>\n",
       "      <td>145</td>\n",
       "      <td>0</td>\n",
       "      <td>0</td>\n",
       "    </tr>\n",
       "  </tbody>\n",
       "</table>\n",
       "</div>"
      ],
      "text/plain": [
       "            slope_of_peak_exercise_st_segment               thal  \\\n",
       "patient_id                                                         \n",
       "0z64un                                      1             normal   \n",
       "ryoo3j                                      2             normal   \n",
       "yt1s1x                                      1             normal   \n",
       "l2xjde                                      1  reversible_defect   \n",
       "oyt4ek                                      3  reversible_defect   \n",
       "\n",
       "            resting_blood_pressure  chest_pain_type  num_major_vessels  \\\n",
       "patient_id                                                               \n",
       "0z64un                         128                2                  0   \n",
       "ryoo3j                         110                3                  0   \n",
       "yt1s1x                         125                4                  3   \n",
       "l2xjde                         152                4                  0   \n",
       "oyt4ek                         178                1                  0   \n",
       "\n",
       "            fasting_blood_sugar_gt_120_mg_per_dl  resting_ekg_results  \\\n",
       "patient_id                                                              \n",
       "0z64un                                         0                    2   \n",
       "ryoo3j                                         0                    0   \n",
       "yt1s1x                                         0                    2   \n",
       "l2xjde                                         0                    0   \n",
       "oyt4ek                                         0                    2   \n",
       "\n",
       "            serum_cholesterol_mg_per_dl  oldpeak_eq_st_depression  sex  age  \\\n",
       "patient_id                                                                    \n",
       "0z64un                              308                       0.0    1   45   \n",
       "ryoo3j                              214                       1.6    0   54   \n",
       "yt1s1x                              304                       0.0    1   77   \n",
       "l2xjde                              223                       0.0    1   40   \n",
       "oyt4ek                              270                       4.2    1   59   \n",
       "\n",
       "            max_heart_rate_achieved  exercise_induced_angina  \\\n",
       "patient_id                                                     \n",
       "0z64un                          170                        0   \n",
       "ryoo3j                          158                        0   \n",
       "yt1s1x                          162                        1   \n",
       "l2xjde                          181                        0   \n",
       "oyt4ek                          145                        0   \n",
       "\n",
       "            heart_disease_present  \n",
       "patient_id                         \n",
       "0z64un                          0  \n",
       "ryoo3j                          0  \n",
       "yt1s1x                          1  \n",
       "l2xjde                          1  \n",
       "oyt4ek                          0  "
      ]
     },
     "execution_count": 47,
     "metadata": {},
     "output_type": "execute_result"
    }
   ],
   "source": [
    "train = train.set_index('patient_id')\n",
    "train.head()"
   ]
  },
  {
   "cell_type": "markdown",
   "metadata": {},
   "source": [
    "## Data Mining\n",
    "Conduct data mining. First replace `thal` values with numbers. Key:\n",
    "- `normal`: 0\n",
    "- `fixed_defect`: 1\n",
    "- `reversible_defect`: 2"
   ]
  },
  {
   "cell_type": "code",
   "execution_count": 49,
   "metadata": {},
   "outputs": [
    {
     "data": {
      "text/html": [
       "<div>\n",
       "<style scoped>\n",
       "    .dataframe tbody tr th:only-of-type {\n",
       "        vertical-align: middle;\n",
       "    }\n",
       "\n",
       "    .dataframe tbody tr th {\n",
       "        vertical-align: top;\n",
       "    }\n",
       "\n",
       "    .dataframe thead th {\n",
       "        text-align: right;\n",
       "    }\n",
       "</style>\n",
       "<table border=\"1\" class=\"dataframe\">\n",
       "  <thead>\n",
       "    <tr style=\"text-align: right;\">\n",
       "      <th></th>\n",
       "      <th>slope_of_peak_exercise_st_segment</th>\n",
       "      <th>thal</th>\n",
       "      <th>resting_blood_pressure</th>\n",
       "      <th>chest_pain_type</th>\n",
       "      <th>num_major_vessels</th>\n",
       "      <th>fasting_blood_sugar_gt_120_mg_per_dl</th>\n",
       "      <th>resting_ekg_results</th>\n",
       "      <th>serum_cholesterol_mg_per_dl</th>\n",
       "      <th>oldpeak_eq_st_depression</th>\n",
       "      <th>sex</th>\n",
       "      <th>age</th>\n",
       "      <th>max_heart_rate_achieved</th>\n",
       "      <th>exercise_induced_angina</th>\n",
       "      <th>heart_disease_present</th>\n",
       "    </tr>\n",
       "    <tr>\n",
       "      <th>patient_id</th>\n",
       "      <th></th>\n",
       "      <th></th>\n",
       "      <th></th>\n",
       "      <th></th>\n",
       "      <th></th>\n",
       "      <th></th>\n",
       "      <th></th>\n",
       "      <th></th>\n",
       "      <th></th>\n",
       "      <th></th>\n",
       "      <th></th>\n",
       "      <th></th>\n",
       "      <th></th>\n",
       "      <th></th>\n",
       "    </tr>\n",
       "  </thead>\n",
       "  <tbody>\n",
       "    <tr>\n",
       "      <th>0z64un</th>\n",
       "      <td>1</td>\n",
       "      <td>0</td>\n",
       "      <td>128</td>\n",
       "      <td>2</td>\n",
       "      <td>0</td>\n",
       "      <td>0</td>\n",
       "      <td>2</td>\n",
       "      <td>308</td>\n",
       "      <td>0.0</td>\n",
       "      <td>1</td>\n",
       "      <td>45</td>\n",
       "      <td>170</td>\n",
       "      <td>0</td>\n",
       "      <td>0</td>\n",
       "    </tr>\n",
       "    <tr>\n",
       "      <th>ryoo3j</th>\n",
       "      <td>2</td>\n",
       "      <td>0</td>\n",
       "      <td>110</td>\n",
       "      <td>3</td>\n",
       "      <td>0</td>\n",
       "      <td>0</td>\n",
       "      <td>0</td>\n",
       "      <td>214</td>\n",
       "      <td>1.6</td>\n",
       "      <td>0</td>\n",
       "      <td>54</td>\n",
       "      <td>158</td>\n",
       "      <td>0</td>\n",
       "      <td>0</td>\n",
       "    </tr>\n",
       "    <tr>\n",
       "      <th>yt1s1x</th>\n",
       "      <td>1</td>\n",
       "      <td>0</td>\n",
       "      <td>125</td>\n",
       "      <td>4</td>\n",
       "      <td>3</td>\n",
       "      <td>0</td>\n",
       "      <td>2</td>\n",
       "      <td>304</td>\n",
       "      <td>0.0</td>\n",
       "      <td>1</td>\n",
       "      <td>77</td>\n",
       "      <td>162</td>\n",
       "      <td>1</td>\n",
       "      <td>1</td>\n",
       "    </tr>\n",
       "    <tr>\n",
       "      <th>l2xjde</th>\n",
       "      <td>1</td>\n",
       "      <td>2</td>\n",
       "      <td>152</td>\n",
       "      <td>4</td>\n",
       "      <td>0</td>\n",
       "      <td>0</td>\n",
       "      <td>0</td>\n",
       "      <td>223</td>\n",
       "      <td>0.0</td>\n",
       "      <td>1</td>\n",
       "      <td>40</td>\n",
       "      <td>181</td>\n",
       "      <td>0</td>\n",
       "      <td>1</td>\n",
       "    </tr>\n",
       "    <tr>\n",
       "      <th>oyt4ek</th>\n",
       "      <td>3</td>\n",
       "      <td>2</td>\n",
       "      <td>178</td>\n",
       "      <td>1</td>\n",
       "      <td>0</td>\n",
       "      <td>0</td>\n",
       "      <td>2</td>\n",
       "      <td>270</td>\n",
       "      <td>4.2</td>\n",
       "      <td>1</td>\n",
       "      <td>59</td>\n",
       "      <td>145</td>\n",
       "      <td>0</td>\n",
       "      <td>0</td>\n",
       "    </tr>\n",
       "  </tbody>\n",
       "</table>\n",
       "</div>"
      ],
      "text/plain": [
       "            slope_of_peak_exercise_st_segment  thal  resting_blood_pressure  \\\n",
       "patient_id                                                                    \n",
       "0z64un                                      1     0                     128   \n",
       "ryoo3j                                      2     0                     110   \n",
       "yt1s1x                                      1     0                     125   \n",
       "l2xjde                                      1     2                     152   \n",
       "oyt4ek                                      3     2                     178   \n",
       "\n",
       "            chest_pain_type  num_major_vessels  \\\n",
       "patient_id                                       \n",
       "0z64un                    2                  0   \n",
       "ryoo3j                    3                  0   \n",
       "yt1s1x                    4                  3   \n",
       "l2xjde                    4                  0   \n",
       "oyt4ek                    1                  0   \n",
       "\n",
       "            fasting_blood_sugar_gt_120_mg_per_dl  resting_ekg_results  \\\n",
       "patient_id                                                              \n",
       "0z64un                                         0                    2   \n",
       "ryoo3j                                         0                    0   \n",
       "yt1s1x                                         0                    2   \n",
       "l2xjde                                         0                    0   \n",
       "oyt4ek                                         0                    2   \n",
       "\n",
       "            serum_cholesterol_mg_per_dl  oldpeak_eq_st_depression  sex  age  \\\n",
       "patient_id                                                                    \n",
       "0z64un                              308                       0.0    1   45   \n",
       "ryoo3j                              214                       1.6    0   54   \n",
       "yt1s1x                              304                       0.0    1   77   \n",
       "l2xjde                              223                       0.0    1   40   \n",
       "oyt4ek                              270                       4.2    1   59   \n",
       "\n",
       "            max_heart_rate_achieved  exercise_induced_angina  \\\n",
       "patient_id                                                     \n",
       "0z64un                          170                        0   \n",
       "ryoo3j                          158                        0   \n",
       "yt1s1x                          162                        1   \n",
       "l2xjde                          181                        0   \n",
       "oyt4ek                          145                        0   \n",
       "\n",
       "            heart_disease_present  \n",
       "patient_id                         \n",
       "0z64un                          0  \n",
       "ryoo3j                          0  \n",
       "yt1s1x                          1  \n",
       "l2xjde                          1  \n",
       "oyt4ek                          0  "
      ]
     },
     "execution_count": 49,
     "metadata": {},
     "output_type": "execute_result"
    }
   ],
   "source": [
    "train['thal'] = train['thal'].replace('normal', 0)\n",
    "train['thal'] = train['thal'].replace('fixed_defect', 1)\n",
    "train['thal'] = train['thal'].replace('reversible_defect', 2)\n",
    "train.head()"
   ]
  },
  {
   "cell_type": "code",
   "execution_count": 7,
   "metadata": {},
   "outputs": [],
   "source": [
    "categorical = ['thal', 'fasting_blood_sugar_gt_120_mg_per_dl', 'sex', 'exercise_induced_angina']"
   ]
  },
  {
   "cell_type": "code",
   "execution_count": 8,
   "metadata": {},
   "outputs": [],
   "source": [
    "t = []\n",
    "for var in train.columns[:-1]:\n",
    "    if var in categorical:\n",
    "        formula = 'heart_disease_present ~ C(' + var + ')'\n",
    "    else:\n",
    "        formula = 'heart_disease_present ~ ' + var\n",
    "    model = smf.ols(formula, data=train)\n",
    "    results = model.fit()\n",
    "\n",
    "    t.append((results.rsquared, var))"
   ]
  },
  {
   "cell_type": "code",
   "execution_count": 9,
   "metadata": {},
   "outputs": [
    {
     "name": "stdout",
     "output_type": "stream",
     "text": [
      "thal 0.2903502482073912\n",
      "exercise_induced_angina 0.2012836970474967\n",
      "num_major_vessels 0.1776779521056978\n",
      "chest_pain_type 0.17042747392162405\n",
      "oldpeak_eq_st_depression 0.14663555948498785\n",
      "max_heart_rate_achieved 0.14088902583806318\n",
      "slope_of_peak_exercise_st_segment 0.1184901531728666\n",
      "sex 0.11250720046082952\n",
      "resting_ekg_results 0.02129655558667054\n",
      "age 0.01911436391120569\n",
      "serum_cholesterol_mg_per_dl 0.006364026902311748\n",
      "resting_blood_pressure 0.00616315049709204\n",
      "fasting_blood_sugar_gt_120_mg_per_dl 1.1418131993679026e-05\n"
     ]
    }
   ],
   "source": [
    "t.sort(reverse=True)\n",
    "for r2, name in t:\n",
    "    print(name, r2)"
   ]
  },
  {
   "cell_type": "markdown",
   "metadata": {},
   "source": [
    "Variables that affect presence of heart disease the most are `thal`, `exercise_induced_angina`, and `num_major_vessels`"
   ]
  },
  {
   "cell_type": "markdown",
   "metadata": {},
   "source": [
    "## PCR\n",
    "\n",
    "In this section, we use Principal Components Analysis to improve logistic regression. First, we make a correlation matrix from each feature pair."
   ]
  },
  {
   "cell_type": "markdown",
   "metadata": {},
   "source": [
    "TODO:\n",
    "1. do 80, 20 train test split and find best number of eigenvectors to use for that (highest accuracy). Use to create distribution of accuracy by drawing random 80, 20 splits and finding accuracy. (should we also find best threshold for logistic regression?)\n",
    "2. clean up section (make copy before)"
   ]
  },
  {
   "cell_type": "code",
   "execution_count": 50,
   "metadata": {},
   "outputs": [],
   "source": [
    "# Store response variable\n",
    "y = train['heart_disease_present']\n",
    "\n",
    "# Prepare data matrix\n",
    "X = scale(train.drop(['heart_disease_present'], 1).astype(float))"
   ]
  },
  {
   "cell_type": "code",
   "execution_count": 67,
   "metadata": {},
   "outputs": [],
   "source": [
    "def PCR(X, y, test_size=0.2, shuffle=True):\n",
    "    # Apply to training data\n",
    "\n",
    "    # Split into training and test sets (80-20 split)\n",
    "    # Random state?!\n",
    "    X_train, X_test, y_train, y_test = train_test_split(X, y, test_size=test_size, random_state=1, shuffle=shuffle)\n",
    "\n",
    "    # Perform PCA on training data to evaluate test set performance\n",
    "    pca_train = PCA()\n",
    "    \n",
    "    Z_train = pca_train.fit_transform(scale(X_train))\n",
    "    n = len(Z_train)\n",
    "\n",
    "    # Go through number of PCs used\n",
    "    max_accuracy = (0, 0)\n",
    "    for i in np.arange(1, 14):\n",
    "        Z_train_reduced = Z_train[:,:i]\n",
    "        Z_test_reduced = pca_train.transform(scale(X_test))[:,:i]\n",
    "        # Train regression model on training data\n",
    "        regr = LogisticRegression(solver='lbfgs')\n",
    "        regr.fit(Z_train_reduced, y_train)\n",
    "\n",
    "        # Predict the labels of the test set: y_pred\n",
    "        y_pred = regr.predict(Z_test_reduced)\n",
    "        \n",
    "        temp_accuracy = accuracy_score(y_test, y_pred)\n",
    "        \n",
    "        if temp_accuracy > max_accuracy[1]:\n",
    "            max_accuracy = (i, temp_accuracy)\n",
    "    return max_accuracy"
   ]
  },
  {
   "cell_type": "code",
   "execution_count": 68,
   "metadata": {},
   "outputs": [
    {
     "name": "stdout",
     "output_type": "stream",
     "text": [
      "(13, 0.8333333333333334)\n"
     ]
    }
   ],
   "source": [
    "print(PCR(X, y))"
   ]
  },
  {
   "cell_type": "code",
   "execution_count": 71,
   "metadata": {},
   "outputs": [],
   "source": [
    "num = train.shape[0]"
   ]
  },
  {
   "cell_type": "code",
   "execution_count": 73,
   "metadata": {},
   "outputs": [
    {
     "name": "stdout",
     "output_type": "stream",
     "text": [
      "(1, 0.8888888888888888)\n",
      "(2, 0.9166666666666666)\n",
      "(1, 0.8055555555555556)\n",
      "(5, 0.8611111111111112)\n",
      "(3, 0.8333333333333334)\n",
      "(2, 0.8055555555555556)\n",
      "(6, 0.9166666666666666)\n",
      "(5, 0.9166666666666666)\n",
      "(9, 0.8611111111111112)\n",
      "(4, 0.8333333333333334)\n",
      "(4, 0.8333333333333334)\n",
      "(3, 0.8888888888888888)\n",
      "(7, 0.8611111111111112)\n",
      "(6, 0.8888888888888888)\n",
      "(6, 0.9166666666666666)\n",
      "(11, 0.9166666666666666)\n",
      "(5, 0.8611111111111112)\n",
      "(3, 0.8333333333333334)\n",
      "(8, 0.8888888888888888)\n",
      "(3, 0.8333333333333334)\n",
      "(2, 0.8333333333333334)\n",
      "(1, 0.8333333333333334)\n",
      "(1, 0.8888888888888888)\n",
      "(1, 0.7777777777777778)\n",
      "(2, 0.9444444444444444)\n",
      "(1, 0.9166666666666666)\n",
      "(3, 0.9444444444444444)\n",
      "(7, 0.8888888888888888)\n",
      "(7, 0.8055555555555556)\n",
      "(2, 0.8888888888888888)\n",
      "(12, 0.8055555555555556)\n",
      "(3, 0.9166666666666666)\n",
      "(2, 0.8888888888888888)\n",
      "(8, 0.8333333333333334)\n",
      "(2, 0.9166666666666666)\n",
      "(1, 0.8888888888888888)\n",
      "(1, 0.9166666666666666)\n",
      "(1, 0.8888888888888888)\n",
      "(5, 0.8611111111111112)\n",
      "(2, 0.8333333333333334)\n",
      "(1, 0.8333333333333334)\n",
      "(4, 0.9444444444444444)\n",
      "(10, 0.8888888888888888)\n",
      "(4, 0.8333333333333334)\n",
      "(1, 0.8611111111111112)\n",
      "(6, 0.9166666666666666)\n",
      "(1, 0.8055555555555556)\n",
      "(11, 0.8333333333333334)\n",
      "(1, 0.7777777777777778)\n",
      "(1, 0.9166666666666666)\n",
      "(7, 0.8888888888888888)\n",
      "(2, 0.8611111111111112)\n",
      "(1, 0.8888888888888888)\n",
      "(1, 0.8611111111111112)\n",
      "(1, 0.9166666666666666)\n",
      "(1, 0.8055555555555556)\n",
      "(5, 0.8333333333333334)\n",
      "(5, 0.8333333333333334)\n",
      "(9, 0.8333333333333334)\n",
      "(8, 0.75)\n",
      "(7, 0.7777777777777778)\n",
      "(2, 0.8611111111111112)\n",
      "(2, 0.8611111111111112)\n",
      "(2, 0.8611111111111112)\n",
      "(2, 0.8888888888888888)\n",
      "(2, 0.8055555555555556)\n",
      "(8, 0.8611111111111112)\n",
      "(5, 0.8611111111111112)\n",
      "(1, 0.8611111111111112)\n",
      "(2, 0.8333333333333334)\n",
      "(10, 0.9444444444444444)\n",
      "(8, 0.8333333333333334)\n",
      "(2, 0.9444444444444444)\n",
      "(4, 0.8611111111111112)\n",
      "(1, 0.9444444444444444)\n",
      "(9, 0.8055555555555556)\n",
      "(1, 0.9166666666666666)\n",
      "(10, 0.8333333333333334)\n",
      "(4, 0.8611111111111112)\n",
      "(3, 0.9166666666666666)\n",
      "(9, 0.7777777777777778)\n",
      "(4, 0.9166666666666666)\n",
      "(11, 0.9166666666666666)\n",
      "(2, 0.7777777777777778)\n",
      "(8, 0.8333333333333334)\n",
      "(8, 0.8888888888888888)\n",
      "(2, 0.8611111111111112)\n",
      "(10, 0.8888888888888888)\n",
      "(2, 0.9444444444444444)\n",
      "(3, 0.8333333333333334)\n",
      "(2, 0.9166666666666666)\n",
      "(9, 0.7777777777777778)\n",
      "(2, 0.9166666666666666)\n",
      "(4, 0.9166666666666666)\n",
      "(2, 0.8611111111111112)\n",
      "(3, 0.8611111111111112)\n",
      "(8, 0.8888888888888888)\n",
      "(11, 0.8611111111111112)\n",
      "(11, 0.8888888888888888)\n",
      "(4, 0.8611111111111112)\n"
     ]
    }
   ],
   "source": [
    "iters = 100\n",
    "for i in range(iters):\n",
    "    # randomize rows\n",
    "    df = shuffle(train)\n",
    "    # Store response variable\n",
    "    y = df['heart_disease_present']\n",
    "    # Prepare data matrix\n",
    "    X = scale(df.drop(['heart_disease_present'], 1).astype(float))\n",
    "    print(PCR(X, y))"
   ]
  },
  {
   "cell_type": "markdown",
   "metadata": {},
   "source": [
    "WTF?! What do we do?"
   ]
  },
  {
   "cell_type": "code",
   "execution_count": null,
   "metadata": {},
   "outputs": [],
   "source": []
  },
  {
   "cell_type": "code",
   "execution_count": 10,
   "metadata": {},
   "outputs": [
    {
     "name": "stdout",
     "output_type": "stream",
     "text": [
      "(14, 14)\n"
     ]
    }
   ],
   "source": [
    "corr = train.corr()\n",
    "print(corr.shape)"
   ]
  },
  {
   "cell_type": "markdown",
   "metadata": {},
   "source": [
    "The correlation matrix is a square matrix with length being the number of features, including the dependent variable. \n",
    "\n",
    "We create a heatmap of the correlation matrix."
   ]
  },
  {
   "cell_type": "code",
   "execution_count": 11,
   "metadata": {},
   "outputs": [
    {
     "data": {
      "image/png": "[encoded data removed]",
      "text/plain": [
       "<Figure size 432x288 with 2 Axes>"
      ]
     },
     "metadata": {
      "needs_background": "light"
     },
     "output_type": "display_data"
    }
   ],
   "source": [
    "sns.heatmap(corr, cmap = 'bwr')\n",
    "plt.show()"
   ]
  },
  {
   "cell_type": "markdown",
   "metadata": {},
   "source": [
    "Red squares off the main diagonal imply multicollinearity. There are a few, but not many, so PCR might not be the best model.  "
   ]
  },
  {
   "cell_type": "code",
   "execution_count": 12,
   "metadata": {},
   "outputs": [
    {
     "name": "stdout",
     "output_type": "stream",
     "text": [
      "[[-0.89124111 -0.89495691 -0.19519463 ... -1.05396422  0.93248505\n",
      "  -0.68074565]\n",
      " [ 0.72919727 -0.89495691 -1.25631978 ... -0.08713407  0.38708356\n",
      "  -0.68074565]\n",
      " [-0.89124111 -0.89495691 -0.37204882 ...  2.38365407  0.56888406\n",
      "   1.46897745]\n",
      " ...\n",
      " [ 0.72919727  1.17032826 -0.37204882 ...  0.98712164 -0.8400698\n",
      "   1.46897745]\n",
      " [-0.89124111 -0.89495691 -0.43100022 ... -0.7316875   1.15973567\n",
      "  -0.68074565]\n",
      " [-0.89124111 -0.89495691  1.69125009 ... -0.08713407  0.61433418\n",
      "  -0.68074565]]\n"
     ]
    }
   ],
   "source": [
    "# Store response variable\n",
    "y = train['heart_disease_present']\n",
    "\n",
    "# Prepare data matrix\n",
    "X = scale(train.drop(['heart_disease_present'], 1).astype(float))\n",
    "print(X) # independent variables"
   ]
  },
  {
   "cell_type": "code",
   "execution_count": 13,
   "metadata": {},
   "outputs": [
    {
     "data": {
      "text/plain": [
       "array([[-2.16064096e+00,  1.57579641e-01,  2.28332202e-02, ...,\n",
       "         4.56400794e-01, -2.94083502e-01,  1.04713378e-02],\n",
       "       [-1.14751585e+00, -1.16875495e-01,  9.82416532e-01, ...,\n",
       "        -8.14973635e-02,  6.89783107e-01,  9.29679339e-04],\n",
       "       [ 1.07527110e+00,  1.53509428e+00, -2.83935305e+00, ...,\n",
       "         4.69418412e-01,  1.88084242e+00,  7.78056395e-01],\n",
       "       ...,\n",
       "       [ 1.82650968e+00, -6.18465234e-01, -8.49455033e-02, ...,\n",
       "        -1.51828742e-01,  7.18316057e-01, -2.48670639e-02],\n",
       "       [-1.54461653e+00,  2.58736530e-01, -9.32878764e-01, ...,\n",
       "         9.66246110e-01, -1.91554015e-01,  6.07838084e-02],\n",
       "       [-1.68349880e+00,  9.89043126e-01, -6.04590589e-02, ...,\n",
       "        -2.63837974e-02, -5.98720511e-01,  5.28739513e-01]])"
      ]
     },
     "execution_count": 13,
     "metadata": {},
     "output_type": "execute_result"
    }
   ],
   "source": [
    "# Perform PCA via the sklearn PCA library and generate score matrix, Z\n",
    "pca = PCA()\n",
    "Z = pca.fit_transform(X)\n",
    "Z"
   ]
  },
  {
   "cell_type": "code",
   "execution_count": 14,
   "metadata": {},
   "outputs": [
    {
     "name": "stdout",
     "output_type": "stream",
     "text": [
      "Num Eigenvalues:  13\n",
      "Eigenvalues:  [2.98974885 1.72516628 1.2851921  1.20511047 1.02578452 0.99483371\n",
      " 0.73266088 0.72193415 0.67807683 0.56447528 0.45496695 0.38789635\n",
      " 0.30677933]\n",
      "Prop of variance explained:  [0.22870301 0.13196785 0.0983117  0.0921858  0.07846813 0.07610053\n",
      " 0.05604543 0.05522488 0.05186998 0.04317995 0.03480303 0.02967241\n",
      " 0.02346731]\n",
      "Cumulative prop explained:  [0.22870301 0.36067086 0.45898256 0.55116836 0.62963649 0.70573702\n",
      " 0.76178245 0.81700733 0.8688773  0.91205725 0.94686028 0.97653269\n",
      " 1.        ]\n"
     ]
    }
   ],
   "source": [
    "# Find and print eigenvalues, prop of variance explained, and cumulative prop explained for PCs\n",
    "eig_values = pca.explained_variance_\n",
    "percent_var = pca.explained_variance_ratio_\n",
    "cum_var = np.cumsum(percent_var)\n",
    "print(\"Num Eigenvalues: \", len(eig_values))\n",
    "print(\"Eigenvalues: \", eig_values)\n",
    "print(\"Prop of variance explained: \", percent_var) # prop of variance explained\n",
    "print(\"Cumulative prop explained: \", cum_var) # cumulative"
   ]
  },
  {
   "cell_type": "code",
   "execution_count": 15,
   "metadata": {},
   "outputs": [],
   "source": [
    "# Run PCR with disease/ no disease as dependent variable\n",
    "\n",
    "# Perform 5-fold cross-validation to see how it influences the MSE\n",
    "n = len(Z) # number of samples\n",
    "\n",
    "# KFold provides train/test indices to split data in train/test sets. \n",
    "# Split dataset into k consecutive folds with shuffling\n",
    "kf_5 = KFold(5, shuffle=True, random_state=1)\n",
    "\n",
    "# Set up ordinary least squares logistic regression \n",
    "regr = LogisticRegression(solver='lbfgs')\n",
    "\n",
    "# Array to store mean squared errors (MSE)\n",
    "mse = []\n",
    "\n",
    "# Calculate average MSE with only the intercept (no principal components in regression)\n",
    "score = -1*cross_val_score(regr, np.ones((n,1)), y.ravel(), cv=kf_5, scoring='neg_mean_squared_error').mean()\n",
    "mse.append(score)"
   ]
  },
  {
   "cell_type": "code",
   "execution_count": 16,
   "metadata": {},
   "outputs": [
    {
     "name": "stdout",
     "output_type": "stream",
     "text": [
      "Accuracy: 0.81 (+/- 0.17)\n",
      "Accuracy: 0.82 (+/- 0.18)\n",
      "Accuracy: 0.85 (+/- 0.23)\n",
      "Accuracy: 0.84 (+/- 0.22)\n",
      "Accuracy: 0.84 (+/- 0.26)\n",
      "Accuracy: 0.82 (+/- 0.25)\n",
      "Accuracy: 0.83 (+/- 0.21)\n",
      "Accuracy: 0.81 (+/- 0.21)\n",
      "Accuracy: 0.83 (+/- 0.19)\n",
      "Accuracy: 0.83 (+/- 0.21)\n",
      "Accuracy: 0.82 (+/- 0.22)\n",
      "Accuracy: 0.81 (+/- 0.24)\n",
      "Accuracy: 0.81 (+/- 0.24)\n"
     ]
    }
   ],
   "source": [
    "# Calculate average MSE using cross-validation for the 13 principle components\n",
    "# adding one more component with each iteration\n",
    "for i in np.arange(1, 14):\n",
    "    # Find average MSE and add to mse array\n",
    "    score = -1*cross_val_score(regr, Z[:,:i], y.ravel(), cv=kf_5, scoring='neg_mean_squared_error').mean()\n",
    "    mse.append(score)\n",
    "    \n",
    "    # Find accuracy and print\n",
    "    score2 = cross_val_score(regr, Z[:,:i], y.ravel(), cv=kf_5)\n",
    "    print(\"Accuracy: %0.2f (+/- %0.2f)\" % (score2.mean(), score2.std() * 2))"
   ]
  },
  {
   "cell_type": "code",
   "execution_count": 17,
   "metadata": {},
   "outputs": [
    {
     "data": {
      "image/png": "[encoded data removed]",
      "text/plain": [
       "<Figure size 640x480 with 1 Axes>"
      ]
     },
     "metadata": {},
     "output_type": "display_data"
    }
   ],
   "source": [
    "# Plot average MSEs against the number of principal components\n",
    "fig = plt.figure(num=None, figsize=(8, 6), dpi=80, facecolor='w', edgecolor='w')\n",
    "plt.plot(mse, '-v')\n",
    "plt.xlabel('Number of principal components in regression', fontsize=20, labelpad=10)\n",
    "plt.ylabel('Average MSE', fontsize=20, labelpad=10)\n",
    "plt.title('Predicting Presence of Heart Disease', fontsize=24)\n",
    "plt.yticks(fontsize=14)\n",
    "plt.yticks(fontsize=14)\n",
    "plt.xlim(left=-1)\n",
    "plt.show()"
   ]
  },
  {
   "cell_type": "markdown",
   "metadata": {},
   "source": [
    "Smallest cross validation error seems to occur after 3 PCs used"
   ]
  },
  {
   "cell_type": "code",
   "execution_count": 18,
   "metadata": {},
   "outputs": [],
   "source": [
    "# Apply to training data\n",
    "\n",
    "# Split into training and test sets\n",
    "X_train, X_test, y_train, y_test = train_test_split(X, y, test_size=0.2, random_state=1)\n",
    "\n",
    "# Perform PCA on training data to evaluate test set performance\n",
    "pca_train = PCA()"
   ]
  },
  {
   "cell_type": "code",
   "execution_count": 42,
   "metadata": {},
   "outputs": [
    {
     "name": "stdout",
     "output_type": "stream",
     "text": [
      "Accuracy: 0.83 (+/- 0.17)\n",
      "Accuracy: 0.83 (+/- 0.17)\n",
      "Accuracy: 0.83 (+/- 0.15)\n",
      "Accuracy: 0.86 (+/- 0.14)\n",
      "Accuracy: 0.85 (+/- 0.14)\n",
      "Accuracy: 0.85 (+/- 0.14)\n",
      "Accuracy: 0.85 (+/- 0.15)\n",
      "Accuracy: 0.81 (+/- 0.22)\n",
      "Accuracy: 0.81 (+/- 0.22)\n",
      "Accuracy: 0.82 (+/- 0.21)\n",
      "Accuracy: 0.82 (+/- 0.18)\n",
      "Accuracy: 0.83 (+/- 0.17)\n",
      "Accuracy: 0.82 (+/- 0.20)\n"
     ]
    },
    {
     "name": "stderr",
     "output_type": "stream",
     "text": [
      "C:\\ProgramData\\Miniconda3\\lib\\site-packages\\matplotlib\\axes\\_base.py:3215: MatplotlibDeprecationWarning: \n",
      "The `xmin` argument was deprecated in Matplotlib 3.0 and will be removed in 3.2. Use `left` instead.\n",
      "  alternative='`left`', obj_type='argument')\n"
     ]
    },
    {
     "data": {
      "image/png": "[encoded data removed]",
      "text/plain": [
       "<Figure size 640x480 with 1 Axes>"
      ]
     },
     "metadata": {},
     "output_type": "display_data"
    }
   ],
   "source": [
    "# Verify number of PCs with smallest MSE on X_train\n",
    "Z_train = pca_train.fit_transform(scale(X_train))\n",
    "n = len(Z_train)\n",
    "\n",
    "# Prepare 3-fold CV, with shuffle\n",
    "kf_3 = KFold(7, shuffle=True, random_state=1)\n",
    "mse = []\n",
    "\n",
    "# Calculate average MSE with only the intercept (no principal components in regression)\n",
    "score = -1*cross_val_score(regr, np.ones((n,1)), y_train.ravel(), cv=kf_3, scoring='neg_mean_squared_error').mean()\n",
    "mse.append(score)\n",
    "\n",
    "# Calculate average MSEs using CV for the 30 principle components, adding one component at the time.\n",
    "for i in np.arange(1, 14):\n",
    "    score = -1*cross_val_score(regr, Z_train[:,:i], y_train.ravel(), cv=kf_3, scoring='neg_mean_squared_error').mean()\n",
    "    score2 = cross_val_score(regr, Z_train[:,:i], y_train.ravel(), cv=kf_3)\n",
    "    print(\"Accuracy: %0.2f (+/- %0.2f)\" % (score2.mean(), score2.std() * 2))\n",
    "    mse.append(score)\n",
    "    \n",
    "# Plot average MSEs against the number of principal components\n",
    "fig = plt.figure(num=None, figsize=(8, 6), dpi=80, facecolor='w', edgecolor='w')\n",
    "plt.plot(mse, '-v')\n",
    "plt.xlabel('Number of principal components in regression', fontsize=20, labelpad=10)\n",
    "plt.ylabel('Average MSE', fontsize=20, labelpad=10)\n",
    "plt.title('Predicting Presence of Heart Disease', fontsize=24)\n",
    "plt.yticks(fontsize=14)\n",
    "plt.yticks(fontsize=14)\n",
    "plt.xlim(xmin=-1)\n",
    "plt.show()"
   ]
  },
  {
   "cell_type": "markdown",
   "metadata": {},
   "source": [
    "One of the smallest cross validation error still occurs when 3 PCs used"
   ]
  },
  {
   "cell_type": "code",
   "execution_count": 20,
   "metadata": {},
   "outputs": [
    {
     "data": {
      "text/plain": [
       "0.19444444444444445"
      ]
     },
     "execution_count": 20,
     "metadata": {},
     "output_type": "execute_result"
    }
   ],
   "source": [
    "# Apply to test data\n",
    "\n",
    "# Dimensionally reduce training data using 1st 3 PCs\n",
    "Z_train_reduced = Z_train[:,:3]\n",
    "# Dimensionally reduce test data using 1st 3 PCs obtained from PCA of training data\n",
    "Z_test_reduced = pca_train.transform(scale(X_test))[:,:3]\n",
    "\n",
    "# Train regression model on training data\n",
    "regr = LogisticRegression(solver='lbfgs')\n",
    "regr.fit(Z_train_reduced, y_train)\n",
    "\n",
    "# Use model to predict values from test data\n",
    "pred = regr.predict(Z_test_reduced)\n",
    "mean_squared_error(y_test, pred)"
   ]
  },
  {
   "cell_type": "code",
   "execution_count": 21,
   "metadata": {},
   "outputs": [
    {
     "name": "stdout",
     "output_type": "stream",
     "text": [
      "13 4 16 3\n"
     ]
    }
   ],
   "source": [
    "# Test if model useful with leave one out cross validation\n",
    "predMalignantRight = 0 #create count variables\n",
    "predMalignantWrong = 0\n",
    "predBenignRight = 0\n",
    "predBenignWrong = 0\n",
    "\n",
    "pred = np.asarray(pred)\n",
    "y_test = np.asarray(y_test)\n",
    "\n",
    "for i in range(0, len(y_test)):\n",
    "    testy = y_test[i]\n",
    "    prediction = pred[i]\n",
    "    if prediction == 1 and testy == 1:\n",
    "        predMalignantRight += 1\n",
    "    elif prediction == 1 and testy == 0:\n",
    "        predMalignantWrong += 1\n",
    "    elif prediction == 0 and testy == 1:\n",
    "        predBenignWrong += 1\n",
    "    else:\n",
    "        predBenignRight += 1\n",
    "        \n",
    "print(predMalignantRight,predMalignantWrong,predBenignRight,predBenignWrong)"
   ]
  },
  {
   "cell_type": "code",
   "execution_count": 22,
   "metadata": {},
   "outputs": [],
   "source": [
    "# Now sensitivity and specificity will be calculated\n",
    "mr,mw = float(predMalignantRight), float(predMalignantWrong)\n",
    "bw,br = float(predBenignWrong), float(predBenignRight)\n",
    "sens = mr/(mr+mw) #calculate sensitivity, or rate of correctly predicting disease\n",
    "spec = br/(br+bw) #calculate specificity, or rate of correctly predicting no disease\n",
    "acc = (sens + spec)/2 #calculate balanced accuracy, or average of sensitivty and specificity\n",
    "mis = (mw+bw)/(mw+bw+mr+br) #calculate misclassification rate"
   ]
  },
  {
   "cell_type": "code",
   "execution_count": 23,
   "metadata": {},
   "outputs": [
    {
     "data": {
      "text/html": [
       "<div>\n",
       "<style scoped>\n",
       "    .dataframe tbody tr th:only-of-type {\n",
       "        vertical-align: middle;\n",
       "    }\n",
       "\n",
       "    .dataframe tbody tr th {\n",
       "        vertical-align: top;\n",
       "    }\n",
       "\n",
       "    .dataframe thead th {\n",
       "        text-align: right;\n",
       "    }\n",
       "</style>\n",
       "<table border=\"1\" class=\"dataframe\">\n",
       "  <thead>\n",
       "    <tr style=\"text-align: right;\">\n",
       "      <th></th>\n",
       "      <th></th>\n",
       "    </tr>\n",
       "  </thead>\n",
       "  <tbody>\n",
       "    <tr>\n",
       "      <th>Sensitivity</th>\n",
       "      <td>0.764706</td>\n",
       "    </tr>\n",
       "    <tr>\n",
       "      <th>Specificity</th>\n",
       "      <td>0.842105</td>\n",
       "    </tr>\n",
       "    <tr>\n",
       "      <th>Balanced Accuracy</th>\n",
       "      <td>0.803406</td>\n",
       "    </tr>\n",
       "    <tr>\n",
       "      <th>Misclassification rate</th>\n",
       "      <td>0.194444</td>\n",
       "    </tr>\n",
       "  </tbody>\n",
       "</table>\n",
       "</div>"
      ],
      "text/plain": [
       "                                \n",
       "Sensitivity             0.764706\n",
       "Specificity             0.842105\n",
       "Balanced Accuracy       0.803406\n",
       "Misclassification rate  0.194444"
      ]
     },
     "execution_count": 23,
     "metadata": {},
     "output_type": "execute_result"
    }
   ],
   "source": [
    "# create series of values, then convert to dataframe to print as table\n",
    "outputseries = pd.Series([sens,spec,acc,mis],index=['Sensitivity','Specificity','Balanced Accuracy','Misclassification rate'])\n",
    "outputdf = pd.DataFrame(outputseries)\n",
    "outputdf.columns = [''] #blank header name\n",
    "outputdf.head()"
   ]
  },
  {
   "cell_type": "code",
   "execution_count": 24,
   "metadata": {},
   "outputs": [],
   "source": [
    "y_new = pd.Series(y.values)"
   ]
  },
  {
   "cell_type": "code",
   "execution_count": 25,
   "metadata": {},
   "outputs": [
    {
     "name": "stdout",
     "output_type": "stream",
     "text": [
      "59 13 87 21\n",
      "65 14 86 15\n",
      "63 12 88 17\n",
      "63 12 88 17\n",
      "63 12 88 17\n",
      "63 13 87 17\n",
      "63 14 86 17\n",
      "63 13 87 17\n",
      "64 14 86 16\n",
      "63 14 86 17\n",
      "63 14 86 17\n",
      "64 16 84 16\n",
      "63 14 86 17\n"
     ]
    }
   ],
   "source": [
    "# Leave one out cross validation method and determine number of PCs that\n",
    "# results in the most accuracy\n",
    "mis_arr = []\n",
    "sens_arr = []\n",
    "spec_arr = []\n",
    "acc_arr = []\n",
    "\n",
    "for i in range(1, 14):\n",
    "    # Run PCR with first i components\n",
    "    pca_new = PCA(n_components=i)\n",
    "    logreg = LogisticRegression(solver='lbfgs')#empty model space\n",
    "\n",
    "    # Create pipeline from pca to logregression space\n",
    "    pipeline = skpl.Pipeline([('pca', pca_new), ('logistic', logreg)]) \n",
    "    \n",
    "    # Test if model useful with leave one out cross validation\n",
    "    predMalignantRight = 0 #create count variables\n",
    "    predMalignantWrong = 0\n",
    "    predBenignRight = 0\n",
    "    predBenignWrong = 0\n",
    "    \n",
    "    for i in range(0,len(Z)): #run through each row in data set\n",
    "        trainX = np.delete(X, i, 0) #train model with predictor dataframe, remove single row\n",
    "        trainy = y_new.drop(i,0) #train model with response array, remove single row\n",
    "        testX = X[i,:].reshape(1,13) #Removed row will be test predictor\n",
    "        testy = y_new[i] #Removed value will be test response\n",
    "        fit = pipeline.fit(trainX, trainy) #fit model\n",
    "        prediction = pipeline.predict(testX) #test model with left out value\n",
    "        if prediction == 1 and testy == 1:\n",
    "            predMalignantRight += 1\n",
    "        elif prediction == 1 and testy == 0:\n",
    "            predMalignantWrong += 1\n",
    "        elif prediction == 0 and testy == 1:\n",
    "            predBenignWrong += 1\n",
    "        else:\n",
    "            predBenignRight += 1\n",
    "    \n",
    "    print(predMalignantRight,predMalignantWrong,predBenignRight,predBenignWrong)\n",
    "    \n",
    "    # Calculate sensitivity and specificity\n",
    "    mr,mw = float(predMalignantRight), float(predMalignantWrong)\n",
    "    bw,br = float(predBenignWrong), float(predBenignRight)\n",
    "    sens = mr/(mr+mw) #calculate sensitivity, or rate of correctly predicting disease\n",
    "    spec = br/(br+bw) #calculate specificity, or rate of correctly predicting no disease\n",
    "    acc = (sens + spec)/2 #calculate balanced accuracy, or average of sensitivty and specificity\n",
    "    mis = (mw+bw)/(mw+bw+mr+br) #calculate misclassification rate\n",
    "    \n",
    "    # Append values to array\n",
    "    mis_arr.append(mis)\n",
    "    sens_arr.append(sens)\n",
    "    spec_arr.append(spec)\n",
    "    acc_arr.append(acc)"
   ]
  },
  {
   "cell_type": "code",
   "execution_count": 26,
   "metadata": {},
   "outputs": [
    {
     "name": "stdout",
     "output_type": "stream",
     "text": [
      "Min misclassification rate:  0.16111111111111112 with num PCs:  2\n"
     ]
    }
   ],
   "source": [
    "minmis_val, minmis_idx = min((val, idx) for (idx, val) in enumerate(mis_arr))\n",
    "print(\"Min misclassification rate: \", minmis_val, \"with num PCs: \", minmis_idx+1)"
   ]
  },
  {
   "cell_type": "code",
   "execution_count": 27,
   "metadata": {},
   "outputs": [
    {
     "name": "stdout",
     "output_type": "stream",
     "text": [
      "Max sensitivity:  0.84 with num PCs:  5\n"
     ]
    }
   ],
   "source": [
    "maxsens_val, maxsens_idx = max((val, idx) for (idx, val) in enumerate(sens_arr))\n",
    "print(\"Max sensitivity: \", maxsens_val, \"with num PCs: \", maxsens_idx+1)"
   ]
  },
  {
   "cell_type": "code",
   "execution_count": 28,
   "metadata": {},
   "outputs": [
    {
     "name": "stdout",
     "output_type": "stream",
     "text": [
      "Max specificity:  0.8514851485148515 with num PCs:  2\n"
     ]
    }
   ],
   "source": [
    "maxspec_val, maxspec_idx = max((val, idx) for (idx, val) in enumerate(spec_arr))\n",
    "print(\"Max specificity: \", maxspec_val, \"with num PCs: \", maxspec_idx+1)"
   ]
  },
  {
   "cell_type": "code",
   "execution_count": 29,
   "metadata": {},
   "outputs": [
    {
     "name": "stdout",
     "output_type": "stream",
     "text": [
      "Max balanced accuracy:  0.839047619047619 with num PCs:  5\n"
     ]
    }
   ],
   "source": [
    "maxacc_val, maxacc_idx = max((val, idx) for (idx, val) in enumerate(acc_arr))\n",
    "print(\"Max balanced accuracy: \", maxacc_val, \"with num PCs: \", maxacc_idx+1)"
   ]
  },
  {
   "cell_type": "code",
   "execution_count": null,
   "metadata": {},
   "outputs": [],
   "source": []
  }
 ],
 "metadata": {
  "kernelspec": {
   "display_name": "Python 3",
   "language": "python",
   "name": "python3"
  },
  "language_info": {
   "codemirror_mode": {
    "name": "ipython",
    "version": 3
   },
   "file_extension": ".py",
   "mimetype": "text/x-python",
   "name": "python",
   "nbconvert_exporter": "python",
   "pygments_lexer": "ipython3",
   "version": "3.6.8"
  }
 },
 "nbformat": 4,
 "nbformat_minor": 2
}
