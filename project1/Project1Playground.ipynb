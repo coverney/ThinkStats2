{
 "cells": [
  {
   "cell_type": "markdown",
   "metadata": {},
   "source": [
    "# Project 1 Playground\n",
    "Workbook for some data analysis experiments. Main goal is to explore how the self-perception of class compares to actual income. \n",
    "\n",
    "Cassandra Overney"
   ]
  },
  {
   "cell_type": "code",
   "execution_count": 2,
   "metadata": {},
   "outputs": [],
   "source": [
    "%matplotlib inline\n",
    "\n",
    "import pandas as pd\n",
    "import numpy as np\n",
    "\n",
    "import matplotlib.pyplot as plt\n",
    "import seaborn as sns\n",
    "sns.set(style='white')\n",
    "\n",
    "from utils import decorate\n",
    "from thinkstats2 import Pmf, Cdf\n",
    "\n",
    "import thinkstats2\n",
    "import thinkplot\n",
    "\n",
    "import utils\n",
    "from utils import decorate"
   ]
  },
  {
   "cell_type": "code",
   "execution_count": 3,
   "metadata": {},
   "outputs": [
    {
     "data": {
      "text/html": [
       "<div>\n",
       "<style scoped>\n",
       "    .dataframe tbody tr th:only-of-type {\n",
       "        vertical-align: middle;\n",
       "    }\n",
       "\n",
       "    .dataframe tbody tr th {\n",
       "        vertical-align: top;\n",
       "    }\n",
       "\n",
       "    .dataframe thead th {\n",
       "        text-align: right;\n",
       "    }\n",
       "</style>\n",
       "<table border=\"1\" class=\"dataframe\">\n",
       "  <thead>\n",
       "    <tr style=\"text-align: right;\">\n",
       "      <th></th>\n",
       "      <th>year</th>\n",
       "      <th>rincome</th>\n",
       "      <th>region</th>\n",
       "      <th>srcbelt</th>\n",
       "      <th>partyid</th>\n",
       "      <th>polviews</th>\n",
       "      <th>satjob</th>\n",
       "      <th>class_</th>\n",
       "      <th>satfin</th>\n",
       "      <th>finrela</th>\n",
       "      <th>...</th>\n",
       "      <th>wrkstat</th>\n",
       "      <th>age</th>\n",
       "      <th>educ</th>\n",
       "      <th>sex</th>\n",
       "      <th>race</th>\n",
       "      <th>hompop</th>\n",
       "      <th>babies</th>\n",
       "      <th>preteen</th>\n",
       "      <th>teens</th>\n",
       "      <th>cohort</th>\n",
       "    </tr>\n",
       "  </thead>\n",
       "  <tbody>\n",
       "    <tr>\n",
       "      <th>0</th>\n",
       "      <td>1972</td>\n",
       "      <td>0</td>\n",
       "      <td>3</td>\n",
       "      <td>3</td>\n",
       "      <td>2</td>\n",
       "      <td>0</td>\n",
       "      <td>3</td>\n",
       "      <td>3</td>\n",
       "      <td>3</td>\n",
       "      <td>3</td>\n",
       "      <td>...</td>\n",
       "      <td>1</td>\n",
       "      <td>23</td>\n",
       "      <td>16</td>\n",
       "      <td>2</td>\n",
       "      <td>1</td>\n",
       "      <td>1</td>\n",
       "      <td>0</td>\n",
       "      <td>0</td>\n",
       "      <td>0</td>\n",
       "      <td>1949</td>\n",
       "    </tr>\n",
       "    <tr>\n",
       "      <th>1</th>\n",
       "      <td>1972</td>\n",
       "      <td>0</td>\n",
       "      <td>3</td>\n",
       "      <td>3</td>\n",
       "      <td>1</td>\n",
       "      <td>0</td>\n",
       "      <td>0</td>\n",
       "      <td>3</td>\n",
       "      <td>2</td>\n",
       "      <td>4</td>\n",
       "      <td>...</td>\n",
       "      <td>5</td>\n",
       "      <td>70</td>\n",
       "      <td>10</td>\n",
       "      <td>1</td>\n",
       "      <td>1</td>\n",
       "      <td>2</td>\n",
       "      <td>0</td>\n",
       "      <td>0</td>\n",
       "      <td>0</td>\n",
       "      <td>1902</td>\n",
       "    </tr>\n",
       "    <tr>\n",
       "      <th>2</th>\n",
       "      <td>1972</td>\n",
       "      <td>0</td>\n",
       "      <td>3</td>\n",
       "      <td>3</td>\n",
       "      <td>3</td>\n",
       "      <td>0</td>\n",
       "      <td>2</td>\n",
       "      <td>2</td>\n",
       "      <td>1</td>\n",
       "      <td>3</td>\n",
       "      <td>...</td>\n",
       "      <td>2</td>\n",
       "      <td>48</td>\n",
       "      <td>12</td>\n",
       "      <td>2</td>\n",
       "      <td>1</td>\n",
       "      <td>4</td>\n",
       "      <td>0</td>\n",
       "      <td>1</td>\n",
       "      <td>1</td>\n",
       "      <td>1924</td>\n",
       "    </tr>\n",
       "    <tr>\n",
       "      <th>3</th>\n",
       "      <td>1972</td>\n",
       "      <td>0</td>\n",
       "      <td>3</td>\n",
       "      <td>3</td>\n",
       "      <td>1</td>\n",
       "      <td>0</td>\n",
       "      <td>1</td>\n",
       "      <td>3</td>\n",
       "      <td>3</td>\n",
       "      <td>3</td>\n",
       "      <td>...</td>\n",
       "      <td>1</td>\n",
       "      <td>27</td>\n",
       "      <td>17</td>\n",
       "      <td>2</td>\n",
       "      <td>1</td>\n",
       "      <td>2</td>\n",
       "      <td>0</td>\n",
       "      <td>0</td>\n",
       "      <td>0</td>\n",
       "      <td>1945</td>\n",
       "    </tr>\n",
       "    <tr>\n",
       "      <th>4</th>\n",
       "      <td>1972</td>\n",
       "      <td>0</td>\n",
       "      <td>3</td>\n",
       "      <td>3</td>\n",
       "      <td>0</td>\n",
       "      <td>0</td>\n",
       "      <td>0</td>\n",
       "      <td>2</td>\n",
       "      <td>1</td>\n",
       "      <td>4</td>\n",
       "      <td>...</td>\n",
       "      <td>7</td>\n",
       "      <td>61</td>\n",
       "      <td>12</td>\n",
       "      <td>2</td>\n",
       "      <td>1</td>\n",
       "      <td>2</td>\n",
       "      <td>0</td>\n",
       "      <td>0</td>\n",
       "      <td>0</td>\n",
       "      <td>1911</td>\n",
       "    </tr>\n",
       "  </tbody>\n",
       "</table>\n",
       "<p>5 rows × 25 columns</p>\n",
       "</div>"
      ],
      "text/plain": [
       "   year  rincome  region  srcbelt  partyid  polviews  satjob  class_  satfin  \\\n",
       "0  1972        0       3        3        2         0       3       3       3   \n",
       "1  1972        0       3        3        1         0       0       3       2   \n",
       "2  1972        0       3        3        3         0       2       2       1   \n",
       "3  1972        0       3        3        1         0       1       3       3   \n",
       "4  1972        0       3        3        0         0       0       2       1   \n",
       "\n",
       "   finrela   ...    wrkstat  age  educ  sex  race  hompop  babies  preteen  \\\n",
       "0        3   ...          1   23    16    2     1       1       0        0   \n",
       "1        4   ...          5   70    10    1     1       2       0        0   \n",
       "2        3   ...          2   48    12    2     1       4       0        1   \n",
       "3        3   ...          1   27    17    2     1       2       0        0   \n",
       "4        4   ...          7   61    12    2     1       2       0        0   \n",
       "\n",
       "   teens  cohort  \n",
       "0      0    1949  \n",
       "1      0    1902  \n",
       "2      1    1924  \n",
       "3      0    1945  \n",
       "4      0    1911  \n",
       "\n",
       "[5 rows x 25 columns]"
      ]
     },
     "execution_count": 3,
     "metadata": {},
     "output_type": "execute_result"
    }
   ],
   "source": [
    "# Read in GSS data\n",
    "def read_gss(dirname):\n",
    "    \"\"\"Reads GSS files from the given directory.\n",
    "    \n",
    "    dirname: string\n",
    "    \n",
    "    returns: DataFrame\n",
    "    \"\"\"\n",
    "    dct = utils.read_stata_dict(dirname + '/GSS.dct')\n",
    "    gss = dct.read_fixed_width(dirname + '/GSS.dat')\n",
    "    return gss\n",
    "\n",
    "gss = read_gss('Project1Data')\n",
    "gss.head()"
   ]
  },
  {
   "cell_type": "markdown",
   "metadata": {},
   "source": [
    "First, I will include stuff I did during HW2"
   ]
  },
  {
   "cell_type": "code",
   "execution_count": 11,
   "metadata": {},
   "outputs": [],
   "source": [
    "gss.realinc.replace([0], np.nan, inplace=True)\n",
    "gss['class_'].replace([5, 8, 9, 0], np.nan, inplace=True)\n",
    "\n",
    "real_incomes = gss['realinc'] # total family income in constant $1000s (1986)\n",
    "real_incomes_scaled = real_incomes/1000\n",
    "classes = gss['class_'] # subjective class identification"
   ]
  },
  {
   "cell_type": "code",
   "execution_count": 6,
   "metadata": {},
   "outputs": [
    {
     "data": {
      "image/png": "[encoded data removed]",
      "text/plain": [
       "<Figure size 432x288 with 1 Axes>"
      ]
     },
     "metadata": {},
     "output_type": "display_data"
    }
   ],
   "source": [
    "# Plot CDF of incomes\n",
    "real_incomes_cdf = thinkstats2.Cdf(real_incomes_scaled, label='realinc')\n",
    "thinkplot.Cdf(real_incomes_cdf)\n",
    "decorate(xlabel='Real income ($1000 1986 USD)', ylabel='CDF')"
   ]
  },
  {
   "cell_type": "code",
   "execution_count": 7,
   "metadata": {},
   "outputs": [
    {
     "data": {
      "image/png": "[encoded data removed]",
      "text/plain": [
       "<Figure size 432x288 with 1 Axes>"
      ]
     },
     "metadata": {},
     "output_type": "display_data"
    }
   ],
   "source": [
    "thinkplot.cdf(real_incomes_cdf, label='realinc', complement=True)\n",
    "\n",
    "decorate(title='Distribution of Income', \n",
    "         xlabel='Real income ($1000 1986 USD)', \n",
    "         ylabel='Complementary CDF, log scale',\n",
    "         yscale='log')"
   ]
  },
  {
   "cell_type": "markdown",
   "metadata": {},
   "source": [
    "The distribution looks relatively straight. (I tried a Pareto distribution but it didn't look very straight, which raises some confusion. Maybe since this is scaled to 1986 dollars?) "
   ]
  },
  {
   "cell_type": "markdown",
   "metadata": {},
   "source": [
    "According to investopedia, middle class corresponds to incomes between \\$40,500 and \\$122,000, lower class corresponds to incomes below \\$40,500, and upper class corresponds to incomes above \\$122,000. GSS includes a working class which I estimate to be between \\$14,000 and \\$40,500, so I will break up the lower class into working and lower.     \n",
    "\n",
    "I used an inflation calculator (https://www.usinflationcalculator.com/) to translate my 2017 income class values to 1986 amounts. Lower class is below \\$6,259.79; working class is between \\$6,259.79 and \\$18,108.68; middle class is between \\$18,108.68 and \\$54,549.61; and upper class is above \\$54,549.61."
   ]
  },
  {
   "cell_type": "code",
   "execution_count": 9,
   "metadata": {},
   "outputs": [
    {
     "name": "stdout",
     "output_type": "stream",
     "text": [
      "0    3\n",
      "1    3\n",
      "2    3\n",
      "3    3\n",
      "4    3\n",
      "dtype: int64\n"
     ]
    }
   ],
   "source": [
    "calculated_classes = []\n",
    "for income in real_incomes:\n",
    "    if income > 54549.61:\n",
    "        # upper class\n",
    "        calculated_classes.append(4)\n",
    "    elif income <= 54549.61 and income > 18108.68:\n",
    "        # middle class\n",
    "        calculated_classes.append(3)\n",
    "    elif income <= 18108.68 and income > 6259.79:\n",
    "        # working class\n",
    "        calculated_classes.append(2)\n",
    "    elif income <= 6259.79:\n",
    "        # lower class\n",
    "        calculated_classes.append(1)\n",
    "calculated_classes = pd.Series(calculated_classes)\n",
    "print(calculated_classes.head())"
   ]
  },
  {
   "cell_type": "code",
   "execution_count": 12,
   "metadata": {},
   "outputs": [
    {
     "data": {
      "image/png": "[encoded data removed]",
      "text/plain": [
       "<Figure size 432x288 with 1 Axes>"
      ]
     },
     "metadata": {},
     "output_type": "display_data"
    }
   ],
   "source": [
    "# Plot simple histograms for comparison\n",
    "calculated_classes_hist = thinkstats2.Hist(calculated_classes, label='calculated class')\n",
    "classes_hist = thinkstats2.Hist(classes, label='reported class')\n",
    "width = 0.45\n",
    "thinkplot.PrePlot(2)\n",
    "thinkplot.Hist(calculated_classes_hist, align='right', width=width)\n",
    "thinkplot.Hist(classes_hist, align='left', width=width)\n",
    "thinkplot.Config(title='Comparison between calculated class and self reported class', xlabel='Class', ylabel='Count', xticks=[1, 2, 3, 4])"
   ]
  },
  {
   "cell_type": "markdown",
   "metadata": {},
   "source": [
    "It seems like people may think they are in a lower class than they actually are with most people considering themselves as part of the working or middle classes. The difference is especially apparent in the working class (more people think they are in that class than they actually are). Also, more people qualify as upper class than they think. This observation is beautifully summarized by Stephen Rose's quote that “because people tend to live in communities with similar incomes, they view themselves as being near the middle because their neighbors’ circumstances are similar to their own even if their incomes are significantly below or above the US median.”"
   ]
  },
  {
   "cell_type": "code",
   "execution_count": 13,
   "metadata": {},
   "outputs": [
    {
     "data": {
      "text/plain": [
       "-0.2521712437405217"
      ]
     },
     "execution_count": 13,
     "metadata": {},
     "output_type": "execute_result"
    }
   ],
   "source": [
    "# Find cohen effect size\n",
    "cohen = thinkstats2.CohenEffectSize(classes, calculated_classes)\n",
    "cohen"
   ]
  },
  {
   "cell_type": "markdown",
   "metadata": {},
   "source": [
    "The Cohen effect size is relatively large, indicating that reported classes tend to be lower than actual classes."
   ]
  },
  {
   "cell_type": "markdown",
   "metadata": {},
   "source": [
    "I did some more research on what constitutes different income classes and found the following information:\n",
    "- Middle class means earning between 2/3 and double the median household income **after incomes have been adjusted for household size**.\n",
    "- Lower income group is divided into lowest-income households and lower-middle income households (working class). Lower class means earning less than half of median. Working class means earning between 1/2 and 2/3 median. \n",
    "- Upper class means earning more than double the median\n",
    "- Incomes can be adjusted for household size and scaled to reflect houseful size of three. Placed in incomes tiers based on household income in calendar year previous to survey year. \n",
    "- Adjusted income = Household income / (Household size)^N, N=0.5 since standard\n",
    "- Three-person household income = Adjusted household income * [(3)^0.5]\n",
    "- Median household income in US changed over time (beyond inflation), so mere inflation adjustment doesn't work. \n",
    "- Good variable for self-perception on class is **subjective class**.\n",
    "- Income data adjusted for inflation using Consumer Price Index Research Series (CPI-U-RS), which is important for measures of absolute progress over time.\n",
    "- Inflation-adjusted estimate = year estimate * (ref CPI-U-RS / year CPI-U-RS)"
   ]
  },
  {
   "cell_type": "markdown",
   "metadata": {},
   "source": [
    "My plan is to use the realinc data and convert to constant 2015 dollars since that probably makes more sense. I got median incomes in 2015 dollars. From there I will adjust the incomes based on the household size. \n",
    "\n",
    "**Need to find data for median household size for median household incomes**\n",
    "\n",
    "After that, I will use newly adjusted median incomes to calculate income classes for each respondent."
   ]
  },
  {
   "cell_type": "markdown",
   "metadata": {},
   "source": [
    "Resources:\n",
    "- [Pew article](http://www.pewsocialtrends.org/2015/12/09/the-american-middle-class-is-losing-ground/#fnref-21084-7)\n",
    "- https://www.investopedia.com/financial-edge/0912/which-income-class-are-you.aspx\n",
    "- https://finance.zacks.com/lower-middle-upper-class-income-levels-9877.html\n",
    "- https://en.wikipedia.org/wiki/Social_class_in_the_United_States\n",
    "- https://courses.lumenlearning.com/boundless-sociology/chapter/the-class-structure-in-the-u-s/\n",
    "- [Paper on Popular Conception of Class](http://ucdata.berkeley.edu/rsfcensus/papers/Hout-ClassIDJan07.pdf)\n",
    "- [Census Bureau Data 2017](https://www.census.gov/library/publications/2018/demo/p60-263.html)\n",
    "- [Census Bureau Data 2015](https://www.census.gov/library/publications/2016/demo/p60-256.html)\n",
    "- [Census Bureau Current vs Real](https://www.census.gov/topics/income-poverty/income/guidance/current-vs-constant-dollars.html)\n",
    "- [GSS Income Variables](http://gss.norc.org/Documents/reports/methodological-reports/MR064.pdf)\n",
    "- [\"What Is Considered Middle Class Income?\"](https://www.thebalance.com/definition-of-middle-class-income-4126870)"
   ]
  },
  {
   "cell_type": "code",
   "execution_count": null,
   "metadata": {
    "collapsed": true
   },
   "outputs": [],
   "source": []
  }
 ],
 "metadata": {
  "kernelspec": {
   "display_name": "Python 3",
   "language": "python",
   "name": "python3"
  },
  "language_info": {
   "codemirror_mode": {
    "name": "ipython",
    "version": 3
   },
   "file_extension": ".py",
   "mimetype": "text/x-python",
   "name": "python",
   "nbconvert_exporter": "python",
   "pygments_lexer": "ipython3",
   "version": "3.6.1"
  }
 },
 "nbformat": 4,
 "nbformat_minor": 2
}
