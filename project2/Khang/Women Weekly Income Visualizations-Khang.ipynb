{
 "cells": [
  {
   "cell_type": "code",
   "execution_count": 5,
   "metadata": {},
   "outputs": [],
   "source": [
    "import pandas as pd\n",
    "import thinkplot\n",
    "import thinkstats2\n",
    "import numpy as np\n",
    "import matplotlib.pyplot as plt\n",
    "import seaborn as sns\n",
    "from statsmodels.tsa.api import Holt\n",
    "\n",
    "import paygap"
   ]
  },
  {
   "cell_type": "markdown",
   "metadata": {},
   "source": [
    "Find median weekly income and calculate proportion of women workers for each occupation. Data from CPS and BLS. "
   ]
  },
  {
   "cell_type": "markdown",
   "metadata": {},
   "source": [
    "Read in data"
   ]
  },
  {
   "cell_type": "code",
   "execution_count": 6,
   "metadata": {},
   "outputs": [
    {
     "data": {
      "text/html": [
       "<div>\n",
       "<style scoped>\n",
       "    .dataframe tbody tr th:only-of-type {\n",
       "        vertical-align: middle;\n",
       "    }\n",
       "\n",
       "    .dataframe tbody tr th {\n",
       "        vertical-align: top;\n",
       "    }\n",
       "\n",
       "    .dataframe thead th {\n",
       "        text-align: right;\n",
       "    }\n",
       "</style>\n",
       "<table border=\"1\" class=\"dataframe\">\n",
       "  <thead>\n",
       "    <tr style=\"text-align: right;\">\n",
       "      <th></th>\n",
       "      <th>Unnamed: 0</th>\n",
       "      <th>Occupation</th>\n",
       "      <th>2018 Total Number of workers</th>\n",
       "      <th>2018 Total Median weekly earnings</th>\n",
       "      <th>2018 Men Number of workers</th>\n",
       "      <th>2018 Men Median weekly earnings</th>\n",
       "      <th>2018 Women Number of workers</th>\n",
       "      <th>2018 Women Median weekly earnings</th>\n",
       "    </tr>\n",
       "  </thead>\n",
       "  <tbody>\n",
       "    <tr>\n",
       "      <th>0</th>\n",
       "      <td>0.0</td>\n",
       "      <td>Total fulltime wage and salary workers</td>\n",
       "      <td>115567.0</td>\n",
       "      <td>886.0</td>\n",
       "      <td>64142.0</td>\n",
       "      <td>973.0</td>\n",
       "      <td>51425.0</td>\n",
       "      <td>789.0</td>\n",
       "    </tr>\n",
       "    <tr>\n",
       "      <th>1</th>\n",
       "      <td>2.0</td>\n",
       "      <td>Management professional and related occupations</td>\n",
       "      <td>48808.0</td>\n",
       "      <td>1246.0</td>\n",
       "      <td>23685.0</td>\n",
       "      <td>1468.0</td>\n",
       "      <td>25123.0</td>\n",
       "      <td>1078.0</td>\n",
       "    </tr>\n",
       "    <tr>\n",
       "      <th>2</th>\n",
       "      <td>3.0</td>\n",
       "      <td>Management business and financial operations o...</td>\n",
       "      <td>19863.0</td>\n",
       "      <td>1355.0</td>\n",
       "      <td>10668.0</td>\n",
       "      <td>1537.0</td>\n",
       "      <td>9195.0</td>\n",
       "      <td>1168.0</td>\n",
       "    </tr>\n",
       "    <tr>\n",
       "      <th>3</th>\n",
       "      <td>4.0</td>\n",
       "      <td>Management occupations</td>\n",
       "      <td>13477.0</td>\n",
       "      <td>1429.0</td>\n",
       "      <td>7754.0</td>\n",
       "      <td>1585.0</td>\n",
       "      <td>5724.0</td>\n",
       "      <td>1236.0</td>\n",
       "    </tr>\n",
       "    <tr>\n",
       "      <th>4</th>\n",
       "      <td>5.0</td>\n",
       "      <td>Chief executives</td>\n",
       "      <td>1098.0</td>\n",
       "      <td>2291.0</td>\n",
       "      <td>790.0</td>\n",
       "      <td>2488.0</td>\n",
       "      <td>307.0</td>\n",
       "      <td>1736.0</td>\n",
       "    </tr>\n",
       "  </tbody>\n",
       "</table>\n",
       "</div>"
      ],
      "text/plain": [
       "   Unnamed: 0                                         Occupation  \\\n",
       "0         0.0             Total fulltime wage and salary workers   \n",
       "1         2.0    Management professional and related occupations   \n",
       "2         3.0  Management business and financial operations o...   \n",
       "3         4.0                             Management occupations   \n",
       "4         5.0                                   Chief executives   \n",
       "\n",
       "   2018 Total Number of workers  2018 Total Median weekly earnings  \\\n",
       "0                      115567.0                              886.0   \n",
       "1                       48808.0                             1246.0   \n",
       "2                       19863.0                             1355.0   \n",
       "3                       13477.0                             1429.0   \n",
       "4                        1098.0                             2291.0   \n",
       "\n",
       "   2018 Men Number of workers  2018 Men Median weekly earnings  \\\n",
       "0                     64142.0                            973.0   \n",
       "1                     23685.0                           1468.0   \n",
       "2                     10668.0                           1537.0   \n",
       "3                      7754.0                           1585.0   \n",
       "4                       790.0                           2488.0   \n",
       "\n",
       "   2018 Women Number of workers  2018 Women Median weekly earnings  \n",
       "0                       51425.0                              789.0  \n",
       "1                       25123.0                             1078.0  \n",
       "2                        9195.0                             1168.0  \n",
       "3                        5724.0                             1236.0  \n",
       "4                         307.0                             1736.0  "
      ]
     },
     "execution_count": 6,
     "metadata": {},
     "output_type": "execute_result"
    }
   ],
   "source": [
    "df_2018 = paygap.ReadBLS(filename='../Data/weeklyincome_occupation_gender_clean_2018.xlsx')\n",
    "df_2018.head()"
   ]
  },
  {
   "cell_type": "markdown",
   "metadata": {},
   "source": [
    "Calculate the proportion of females in each occupation and store in Series"
   ]
  },
  {
   "cell_type": "code",
   "execution_count": 8,
   "metadata": {},
   "outputs": [
    {
     "data": {
      "text/plain": [
       "0    44.497997\n",
       "1    51.473119\n",
       "2    46.292101\n",
       "3    42.472360\n",
       "4    27.959927\n",
       "dtype: float64"
      ]
     },
     "execution_count": 8,
     "metadata": {},
     "output_type": "execute_result"
    }
   ],
   "source": [
    "female_props = (df_2018['2018 Women Number of workers']/df_2018['2018 Total Number of workers'])*100\n",
    "female_props.head()"
   ]
  },
  {
   "cell_type": "markdown",
   "metadata": {},
   "source": [
    "Create a new DataFrame that just contains the occupation, median weekly income, and proportion of females"
   ]
  },
  {
   "cell_type": "code",
   "execution_count": 10,
   "metadata": {},
   "outputs": [
    {
     "data": {
      "text/html": [
       "<div>\n",
       "<style scoped>\n",
       "    .dataframe tbody tr th:only-of-type {\n",
       "        vertical-align: middle;\n",
       "    }\n",
       "\n",
       "    .dataframe tbody tr th {\n",
       "        vertical-align: top;\n",
       "    }\n",
       "\n",
       "    .dataframe thead th {\n",
       "        text-align: right;\n",
       "    }\n",
       "</style>\n",
       "<table border=\"1\" class=\"dataframe\">\n",
       "  <thead>\n",
       "    <tr style=\"text-align: right;\">\n",
       "      <th></th>\n",
       "      <th>Occupation</th>\n",
       "      <th>Weekly Pay</th>\n",
       "      <th>Percent Female</th>\n",
       "    </tr>\n",
       "  </thead>\n",
       "  <tbody>\n",
       "    <tr>\n",
       "      <th>0</th>\n",
       "      <td>Total fulltime wage and salary workers</td>\n",
       "      <td>886.0</td>\n",
       "      <td>44.497997</td>\n",
       "    </tr>\n",
       "    <tr>\n",
       "      <th>1</th>\n",
       "      <td>Management professional and related occupations</td>\n",
       "      <td>1246.0</td>\n",
       "      <td>51.473119</td>\n",
       "    </tr>\n",
       "    <tr>\n",
       "      <th>2</th>\n",
       "      <td>Management business and financial operations o...</td>\n",
       "      <td>1355.0</td>\n",
       "      <td>46.292101</td>\n",
       "    </tr>\n",
       "    <tr>\n",
       "      <th>3</th>\n",
       "      <td>Management occupations</td>\n",
       "      <td>1429.0</td>\n",
       "      <td>42.472360</td>\n",
       "    </tr>\n",
       "    <tr>\n",
       "      <th>4</th>\n",
       "      <td>Chief executives</td>\n",
       "      <td>2291.0</td>\n",
       "      <td>27.959927</td>\n",
       "    </tr>\n",
       "  </tbody>\n",
       "</table>\n",
       "</div>"
      ],
      "text/plain": [
       "                                          Occupation  Weekly Pay  \\\n",
       "0             Total fulltime wage and salary workers       886.0   \n",
       "1    Management professional and related occupations      1246.0   \n",
       "2  Management business and financial operations o...      1355.0   \n",
       "3                             Management occupations      1429.0   \n",
       "4                                   Chief executives      2291.0   \n",
       "\n",
       "   Percent Female  \n",
       "0       44.497997  \n",
       "1       51.473119  \n",
       "2       46.292101  \n",
       "3       42.472360  \n",
       "4       27.959927  "
      ]
     },
     "execution_count": 10,
     "metadata": {},
     "output_type": "execute_result"
    }
   ],
   "source": [
    "d = {'Occupation': df_2018['Occupation'], \n",
    "     'Weekly Pay': df_2018['2018 Total Median weekly earnings'], \n",
    "     'Percent Female': female_props}\n",
    "df_2018_result = pd.DataFrame(d)\n",
    "df_2018_result.head()"
   ]
  },
  {
   "cell_type": "markdown",
   "metadata": {},
   "source": [
    "Sort the DataFrame rows by weekly incomes with the higher incomes at the top"
   ]
  },
  {
   "cell_type": "code",
   "execution_count": 12,
   "metadata": {},
   "outputs": [],
   "source": [
    "df_2018_result = df_2018_result.sort_values(by=['Weekly Pay'], ascending=False)"
   ]
  },
  {
   "cell_type": "markdown",
   "metadata": {},
   "source": [
    "Display results for highest paid occupations"
   ]
  },
  {
   "cell_type": "code",
   "execution_count": 13,
   "metadata": {},
   "outputs": [
    {
     "data": {
      "text/html": [
       "<style  type=\"text/css\" >\n",
       "    #T_45584282_55c1_11e9_895b_f85971b874e0row0_col2 {\n",
       "            background-color:  #9ed89e;\n",
       "            color:  #000000;\n",
       "        }    #T_45584282_55c1_11e9_895b_f85971b874e0row1_col2 {\n",
       "            background-color:  #008000;\n",
       "            color:  #f1f1f1;\n",
       "        }    #T_45584282_55c1_11e9_895b_f85971b874e0row2_col2 {\n",
       "            background-color:  #5cb35c;\n",
       "            color:  #000000;\n",
       "        }    #T_45584282_55c1_11e9_895b_f85971b874e0row3_col2 {\n",
       "            background-color:  #66b866;\n",
       "            color:  #000000;\n",
       "        }    #T_45584282_55c1_11e9_895b_f85971b874e0row4_col2 {\n",
       "            background-color:  #aadeaa;\n",
       "            color:  #000000;\n",
       "        }    #T_45584282_55c1_11e9_895b_f85971b874e0row5_col2 {\n",
       "            background-color:  #c2ebc2;\n",
       "            color:  #000000;\n",
       "        }    #T_45584282_55c1_11e9_895b_f85971b874e0row6_col2 {\n",
       "            background-color:  #bde9bd;\n",
       "            color:  #000000;\n",
       "        }    #T_45584282_55c1_11e9_895b_f85971b874e0row7_col2 {\n",
       "            background-color:  #e5ffe5;\n",
       "            color:  #000000;\n",
       "        }    #T_45584282_55c1_11e9_895b_f85971b874e0row8_col2 {\n",
       "            background-color:  #4aa94a;\n",
       "            color:  #000000;\n",
       "        }    #T_45584282_55c1_11e9_895b_f85971b874e0row9_col2 {\n",
       "            background-color:  #ade0ad;\n",
       "            color:  #000000;\n",
       "        }</style><table id=\"T_45584282_55c1_11e9_895b_f85971b874e0\" ><caption>Percentage of female employees in the 10 highest-paid occupations in America by median weekly pay for full-time workers, 2017.</caption><thead>    <tr>        <th class=\"col_heading level0 col0\" >Occupation</th>        <th class=\"col_heading level0 col1\" >Weekly Pay</th>        <th class=\"col_heading level0 col2\" >Percent Female</th>    </tr></thead><tbody>\n",
       "                <tr>\n",
       "                                <td id=\"T_45584282_55c1_11e9_895b_f85971b874e0row0_col0\" class=\"data row0 col0\" >Chief executives</td>\n",
       "                        <td id=\"T_45584282_55c1_11e9_895b_f85971b874e0row0_col1\" class=\"data row0 col1\" >$2,291</td>\n",
       "                        <td id=\"T_45584282_55c1_11e9_895b_f85971b874e0row0_col2\" class=\"data row0 col2\" >27.96%</td>\n",
       "            </tr>\n",
       "            <tr>\n",
       "                                <td id=\"T_45584282_55c1_11e9_895b_f85971b874e0row1_col0\" class=\"data row1 col0\" >Pharmacists</td>\n",
       "                        <td id=\"T_45584282_55c1_11e9_895b_f85971b874e0row1_col1\" class=\"data row1 col1\" >$2,071</td>\n",
       "                        <td id=\"T_45584282_55c1_11e9_895b_f85971b874e0row1_col2\" class=\"data row1 col2\" >62.74%</td>\n",
       "            </tr>\n",
       "            <tr>\n",
       "                                <td id=\"T_45584282_55c1_11e9_895b_f85971b874e0row2_col0\" class=\"data row2 col0\" >Physicians and surgeons</td>\n",
       "                        <td id=\"T_45584282_55c1_11e9_895b_f85971b874e0row2_col1\" class=\"data row2 col1\" >$2,001</td>\n",
       "                        <td id=\"T_45584282_55c1_11e9_895b_f85971b874e0row2_col2\" class=\"data row2 col2\" >42.56%</td>\n",
       "            </tr>\n",
       "            <tr>\n",
       "                                <td id=\"T_45584282_55c1_11e9_895b_f85971b874e0row3_col0\" class=\"data row3 col0\" >Lawyers</td>\n",
       "                        <td id=\"T_45584282_55c1_11e9_895b_f85971b874e0row3_col1\" class=\"data row3 col1\" >$1,947</td>\n",
       "                        <td id=\"T_45584282_55c1_11e9_895b_f85971b874e0row3_col2\" class=\"data row3 col2\" >40.33%</td>\n",
       "            </tr>\n",
       "            <tr>\n",
       "                                <td id=\"T_45584282_55c1_11e9_895b_f85971b874e0row4_col0\" class=\"data row4 col0\" >Computer and information systems managers</td>\n",
       "                        <td id=\"T_45584282_55c1_11e9_895b_f85971b874e0row4_col1\" class=\"data row4 col1\" >$1,877</td>\n",
       "                        <td id=\"T_45584282_55c1_11e9_895b_f85971b874e0row4_col2\" class=\"data row4 col2\" >25.46%</td>\n",
       "            </tr>\n",
       "            <tr>\n",
       "                                <td id=\"T_45584282_55c1_11e9_895b_f85971b874e0row5_col0\" class=\"data row5 col0\" >Software developers applications and systems software</td>\n",
       "                        <td id=\"T_45584282_55c1_11e9_895b_f85971b874e0row5_col1\" class=\"data row5 col1\" >$1,864</td>\n",
       "                        <td id=\"T_45584282_55c1_11e9_895b_f85971b874e0row5_col2\" class=\"data row5 col2\" >20.30%</td>\n",
       "            </tr>\n",
       "            <tr>\n",
       "                                <td id=\"T_45584282_55c1_11e9_895b_f85971b874e0row6_col0\" class=\"data row6 col0\" >Computer programmers</td>\n",
       "                        <td id=\"T_45584282_55c1_11e9_895b_f85971b874e0row6_col1\" class=\"data row6 col1\" >$1,591</td>\n",
       "                        <td id=\"T_45584282_55c1_11e9_895b_f85971b874e0row6_col2\" class=\"data row6 col2\" >21.26%</td>\n",
       "            </tr>\n",
       "            <tr>\n",
       "                                <td id=\"T_45584282_55c1_11e9_895b_f85971b874e0row7_col0\" class=\"data row7 col0\" >Engineers all other</td>\n",
       "                        <td id=\"T_45584282_55c1_11e9_895b_f85971b874e0row7_col1\" class=\"data row7 col1\" >$1,575</td>\n",
       "                        <td id=\"T_45584282_55c1_11e9_895b_f85971b874e0row7_col2\" class=\"data row7 col2\" >12.31%</td>\n",
       "            </tr>\n",
       "            <tr>\n",
       "                                <td id=\"T_45584282_55c1_11e9_895b_f85971b874e0row8_col0\" class=\"data row8 col0\" >Marketing and sales managers</td>\n",
       "                        <td id=\"T_45584282_55c1_11e9_895b_f85971b874e0row8_col1\" class=\"data row8 col1\" >$1,567</td>\n",
       "                        <td id=\"T_45584282_55c1_11e9_895b_f85971b874e0row8_col2\" class=\"data row8 col2\" >46.42%</td>\n",
       "            </tr>\n",
       "            <tr>\n",
       "                                <td id=\"T_45584282_55c1_11e9_895b_f85971b874e0row9_col0\" class=\"data row9 col0\" >Computer and mathematical occupations</td>\n",
       "                        <td id=\"T_45584282_55c1_11e9_895b_f85971b874e0row9_col1\" class=\"data row9 col1\" >$1,539</td>\n",
       "                        <td id=\"T_45584282_55c1_11e9_895b_f85971b874e0row9_col2\" class=\"data row9 col2\" >24.90%</td>\n",
       "            </tr>\n",
       "    </tbody></table>"
      ],
      "text/plain": [
       "<pandas.io.formats.style.Styler at 0x20015033550>"
      ]
     },
     "execution_count": 13,
     "metadata": {},
     "output_type": "execute_result"
    }
   ],
   "source": [
    "highest = paygap.ShowTableResult(df_2018_result[:10], title='Percentage of female employees in the 10 highest-paid occupations in America by median weekly pay for full-time workers, 2017.')\n",
    "highest"
   ]
  },
  {
   "cell_type": "markdown",
   "metadata": {},
   "source": [
    "Display results for lowest paid occupations"
   ]
  },
  {
   "cell_type": "code",
   "execution_count": 14,
   "metadata": {},
   "outputs": [
    {
     "data": {
      "text/html": [
       "<style  type=\"text/css\" >\n",
       "    #T_455d2448_55c1_11e9_847d_f85971b874e0row0_col2 {\n",
       "            background-color:  #b4e4b4;\n",
       "            color:  #000000;\n",
       "        }    #T_455d2448_55c1_11e9_847d_f85971b874e0row1_col2 {\n",
       "            background-color:  #158b15;\n",
       "            color:  #000000;\n",
       "        }    #T_455d2448_55c1_11e9_847d_f85971b874e0row2_col2 {\n",
       "            background-color:  #68ba68;\n",
       "            color:  #000000;\n",
       "        }    #T_455d2448_55c1_11e9_847d_f85971b874e0row3_col2 {\n",
       "            background-color:  #8cce8c;\n",
       "            color:  #000000;\n",
       "        }    #T_455d2448_55c1_11e9_847d_f85971b874e0row4_col2 {\n",
       "            background-color:  #e5ffe5;\n",
       "            color:  #000000;\n",
       "        }    #T_455d2448_55c1_11e9_847d_f85971b874e0row5_col2 {\n",
       "            background-color:  #008000;\n",
       "            color:  #f1f1f1;\n",
       "        }    #T_455d2448_55c1_11e9_847d_f85971b874e0row6_col2 {\n",
       "            background-color:  #46a746;\n",
       "            color:  #000000;\n",
       "        }    #T_455d2448_55c1_11e9_847d_f85971b874e0row7_col2 {\n",
       "            background-color:  #94d294;\n",
       "            color:  #000000;\n",
       "        }    #T_455d2448_55c1_11e9_847d_f85971b874e0row8_col2 {\n",
       "            background-color:  #b7e5b7;\n",
       "            color:  #000000;\n",
       "        }    #T_455d2448_55c1_11e9_847d_f85971b874e0row9_col2 {\n",
       "            background-color:  #94d294;\n",
       "            color:  #000000;\n",
       "        }</style><table id=\"T_455d2448_55c1_11e9_847d_f85971b874e0\" ><caption>Percentage of female employees in the 10 lowest-paid occupations in America by median weekly pay for full-time workers, 2017.</caption><thead>    <tr>        <th class=\"col_heading level0 col0\" >Occupation</th>        <th class=\"col_heading level0 col1\" >Weekly Pay</th>        <th class=\"col_heading level0 col2\" >Percent Female</th>    </tr></thead><tbody>\n",
       "                <tr>\n",
       "                                <td id=\"T_455d2448_55c1_11e9_847d_f85971b874e0row0_col0\" class=\"data row0 col0\" >Food preparation and serving related occupations</td>\n",
       "                        <td id=\"T_455d2448_55c1_11e9_847d_f85971b874e0row0_col1\" class=\"data row0 col1\" >$501</td>\n",
       "                        <td id=\"T_455d2448_55c1_11e9_847d_f85971b874e0row0_col2\" class=\"data row0 col2\" >49.70%</td>\n",
       "            </tr>\n",
       "            <tr>\n",
       "                                <td id=\"T_455d2448_55c1_11e9_847d_f85971b874e0row1_col0\" class=\"data row1 col0\" >Personal care aides</td>\n",
       "                        <td id=\"T_455d2448_55c1_11e9_847d_f85971b874e0row1_col1\" class=\"data row1 col1\" >$500</td>\n",
       "                        <td id=\"T_455d2448_55c1_11e9_847d_f85971b874e0row1_col2\" class=\"data row1 col2\" >83.21%</td>\n",
       "            </tr>\n",
       "            <tr>\n",
       "                                <td id=\"T_455d2448_55c1_11e9_847d_f85971b874e0row2_col0\" class=\"data row2 col0\" >Waiters and waitresses</td>\n",
       "                        <td id=\"T_455d2448_55c1_11e9_847d_f85971b874e0row2_col1\" class=\"data row2 col1\" >$496</td>\n",
       "                        <td id=\"T_455d2448_55c1_11e9_847d_f85971b874e0row2_col2\" class=\"data row2 col2\" >65.56%</td>\n",
       "            </tr>\n",
       "            <tr>\n",
       "                                <td id=\"T_455d2448_55c1_11e9_847d_f85971b874e0row3_col0\" class=\"data row3 col0\" >Packers and packagers hand</td>\n",
       "                        <td id=\"T_455d2448_55c1_11e9_847d_f85971b874e0row3_col1\" class=\"data row3 col1\" >$495</td>\n",
       "                        <td id=\"T_455d2448_55c1_11e9_847d_f85971b874e0row3_col2\" class=\"data row3 col2\" >58.16%</td>\n",
       "            </tr>\n",
       "            <tr>\n",
       "                                <td id=\"T_455d2448_55c1_11e9_847d_f85971b874e0row4_col0\" class=\"data row4 col0\" >Cooks</td>\n",
       "                        <td id=\"T_455d2448_55c1_11e9_847d_f85971b874e0row4_col1\" class=\"data row4 col1\" >$486</td>\n",
       "                        <td id=\"T_455d2448_55c1_11e9_847d_f85971b874e0row4_col2\" class=\"data row4 col2\" >39.32%</td>\n",
       "            </tr>\n",
       "            <tr>\n",
       "                                <td id=\"T_455d2448_55c1_11e9_847d_f85971b874e0row5_col0\" class=\"data row5 col0\" >Maids and housekeeping cleaners</td>\n",
       "                        <td id=\"T_455d2448_55c1_11e9_847d_f85971b874e0row5_col1\" class=\"data row5 col1\" >$467</td>\n",
       "                        <td id=\"T_455d2448_55c1_11e9_847d_f85971b874e0row5_col2\" class=\"data row5 col2\" >87.64%</td>\n",
       "            </tr>\n",
       "            <tr>\n",
       "                                <td id=\"T_455d2448_55c1_11e9_847d_f85971b874e0row6_col0\" class=\"data row6 col0\" >Cashiers</td>\n",
       "                        <td id=\"T_455d2448_55c1_11e9_847d_f85971b874e0row6_col1\" class=\"data row6 col1\" >$465</td>\n",
       "                        <td id=\"T_455d2448_55c1_11e9_847d_f85971b874e0row6_col2\" class=\"data row6 col2\" >72.88%</td>\n",
       "            </tr>\n",
       "            <tr>\n",
       "                                <td id=\"T_455d2448_55c1_11e9_847d_f85971b874e0row7_col0\" class=\"data row7 col0\" >Food preparation workers</td>\n",
       "                        <td id=\"T_455d2448_55c1_11e9_847d_f85971b874e0row7_col1\" class=\"data row7 col1\" >$463</td>\n",
       "                        <td id=\"T_455d2448_55c1_11e9_847d_f85971b874e0row7_col2\" class=\"data row7 col2\" >56.45%</td>\n",
       "            </tr>\n",
       "            <tr>\n",
       "                                <td id=\"T_455d2448_55c1_11e9_847d_f85971b874e0row8_col0\" class=\"data row8 col0\" >Dining room and cafeteria attendants and bartender helpers</td>\n",
       "                        <td id=\"T_455d2448_55c1_11e9_847d_f85971b874e0row8_col1\" class=\"data row8 col1\" >$447</td>\n",
       "                        <td id=\"T_455d2448_55c1_11e9_847d_f85971b874e0row8_col2\" class=\"data row8 col2\" >49.15%</td>\n",
       "            </tr>\n",
       "            <tr>\n",
       "                                <td id=\"T_455d2448_55c1_11e9_847d_f85971b874e0row9_col0\" class=\"data row9 col0\" >Combined food preparation and serving workers including fast food</td>\n",
       "                        <td id=\"T_455d2448_55c1_11e9_847d_f85971b874e0row9_col1\" class=\"data row9 col1\" >$436</td>\n",
       "                        <td id=\"T_455d2448_55c1_11e9_847d_f85971b874e0row9_col2\" class=\"data row9 col2\" >56.46%</td>\n",
       "            </tr>\n",
       "    </tbody></table>"
      ],
      "text/plain": [
       "<pandas.io.formats.style.Styler at 0x2001582a9b0>"
      ]
     },
     "execution_count": 14,
     "metadata": {},
     "output_type": "execute_result"
    }
   ],
   "source": [
    "lowest = paygap.ShowTableResult(df_2018_result[-10:], title='Percentage of female employees in the 10 lowest-paid occupations in America by median weekly pay for full-time workers, 2017.')\n",
    "lowest"
   ]
  },
  {
   "cell_type": "markdown",
   "metadata": {},
   "source": [
    "### Plot women's median weekly earnings as a share of white men's over time for different races."
   ]
  },
  {
   "cell_type": "markdown",
   "metadata": {},
   "source": [
    "Read in the CPS data, each row corresponds to a particular gender and race"
   ]
  },
  {
   "cell_type": "code",
   "execution_count": 15,
   "metadata": {},
   "outputs": [],
   "source": [
    "df_race_raw = paygap.ReadCPS('../Data/weeklyincome_gender_race_1979to2018.xlsx')"
   ]
  },
  {
   "cell_type": "code",
   "execution_count": 16,
   "metadata": {
    "scrolled": true
   },
   "outputs": [
    {
     "data": {
      "text/html": [
       "<div>\n",
       "<style scoped>\n",
       "    .dataframe tbody tr th:only-of-type {\n",
       "        vertical-align: middle;\n",
       "    }\n",
       "\n",
       "    .dataframe tbody tr th {\n",
       "        vertical-align: top;\n",
       "    }\n",
       "\n",
       "    .dataframe thead th {\n",
       "        text-align: right;\n",
       "    }\n",
       "</style>\n",
       "<table border=\"1\" class=\"dataframe\">\n",
       "  <thead>\n",
       "    <tr style=\"text-align: right;\">\n",
       "      <th></th>\n",
       "      <th>Category</th>\n",
       "      <th>Annual\n",
       "1979</th>\n",
       "      <th>Annual\n",
       "1980</th>\n",
       "      <th>Annual\n",
       "1981</th>\n",
       "      <th>Annual\n",
       "1982</th>\n",
       "      <th>Annual\n",
       "1983</th>\n",
       "      <th>Annual\n",
       "1984</th>\n",
       "      <th>Annual\n",
       "1985</th>\n",
       "      <th>Annual\n",
       "1986</th>\n",
       "      <th>Annual\n",
       "1987</th>\n",
       "      <th>...</th>\n",
       "      <th>Annual\n",
       "2009</th>\n",
       "      <th>Annual\n",
       "2010</th>\n",
       "      <th>Annual\n",
       "2011</th>\n",
       "      <th>Annual\n",
       "2012</th>\n",
       "      <th>Annual\n",
       "2013</th>\n",
       "      <th>Annual\n",
       "2014</th>\n",
       "      <th>Annual\n",
       "2015</th>\n",
       "      <th>Annual\n",
       "2016</th>\n",
       "      <th>Annual\n",
       "2017</th>\n",
       "      <th>Annual\n",
       "2018</th>\n",
       "    </tr>\n",
       "  </thead>\n",
       "  <tbody>\n",
       "    <tr>\n",
       "      <th>0</th>\n",
       "      <td>White Men</td>\n",
       "      <td>298.0</td>\n",
       "      <td>320.0</td>\n",
       "      <td>350.0</td>\n",
       "      <td>375.0</td>\n",
       "      <td>387.0</td>\n",
       "      <td>401.0</td>\n",
       "      <td>418.0</td>\n",
       "      <td>433.0</td>\n",
       "      <td>450.0</td>\n",
       "      <td>...</td>\n",
       "      <td>845.0</td>\n",
       "      <td>850.0</td>\n",
       "      <td>856.0</td>\n",
       "      <td>879.0</td>\n",
       "      <td>884.0</td>\n",
       "      <td>897.0</td>\n",
       "      <td>920.0</td>\n",
       "      <td>942.0</td>\n",
       "      <td>971.0</td>\n",
       "      <td>1002.0</td>\n",
       "    </tr>\n",
       "    <tr>\n",
       "      <th>1</th>\n",
       "      <td>White Women</td>\n",
       "      <td>184.0</td>\n",
       "      <td>203.0</td>\n",
       "      <td>221.0</td>\n",
       "      <td>242.0</td>\n",
       "      <td>254.0</td>\n",
       "      <td>268.0</td>\n",
       "      <td>281.0</td>\n",
       "      <td>294.0</td>\n",
       "      <td>307.0</td>\n",
       "      <td>...</td>\n",
       "      <td>669.0</td>\n",
       "      <td>684.0</td>\n",
       "      <td>703.0</td>\n",
       "      <td>710.0</td>\n",
       "      <td>722.0</td>\n",
       "      <td>734.0</td>\n",
       "      <td>743.0</td>\n",
       "      <td>766.0</td>\n",
       "      <td>795.0</td>\n",
       "      <td>817.0</td>\n",
       "    </tr>\n",
       "    <tr>\n",
       "      <th>2</th>\n",
       "      <td>Black Women</td>\n",
       "      <td>169.0</td>\n",
       "      <td>185.0</td>\n",
       "      <td>206.0</td>\n",
       "      <td>217.0</td>\n",
       "      <td>232.0</td>\n",
       "      <td>241.0</td>\n",
       "      <td>252.0</td>\n",
       "      <td>264.0</td>\n",
       "      <td>276.0</td>\n",
       "      <td>...</td>\n",
       "      <td>582.0</td>\n",
       "      <td>592.0</td>\n",
       "      <td>595.0</td>\n",
       "      <td>599.0</td>\n",
       "      <td>606.0</td>\n",
       "      <td>611.0</td>\n",
       "      <td>615.0</td>\n",
       "      <td>641.0</td>\n",
       "      <td>657.0</td>\n",
       "      <td>654.0</td>\n",
       "    </tr>\n",
       "    <tr>\n",
       "      <th>3</th>\n",
       "      <td>Asian Women</td>\n",
       "      <td>NaN</td>\n",
       "      <td>NaN</td>\n",
       "      <td>NaN</td>\n",
       "      <td>NaN</td>\n",
       "      <td>NaN</td>\n",
       "      <td>NaN</td>\n",
       "      <td>NaN</td>\n",
       "      <td>NaN</td>\n",
       "      <td>NaN</td>\n",
       "      <td>...</td>\n",
       "      <td>779.0</td>\n",
       "      <td>773.0</td>\n",
       "      <td>751.0</td>\n",
       "      <td>770.0</td>\n",
       "      <td>819.0</td>\n",
       "      <td>841.0</td>\n",
       "      <td>877.0</td>\n",
       "      <td>902.0</td>\n",
       "      <td>903.0</td>\n",
       "      <td>937.0</td>\n",
       "    </tr>\n",
       "    <tr>\n",
       "      <th>4</th>\n",
       "      <td>Hispanic Women</td>\n",
       "      <td>157.0</td>\n",
       "      <td>172.0</td>\n",
       "      <td>190.0</td>\n",
       "      <td>203.0</td>\n",
       "      <td>215.0</td>\n",
       "      <td>223.0</td>\n",
       "      <td>230.0</td>\n",
       "      <td>241.0</td>\n",
       "      <td>251.0</td>\n",
       "      <td>...</td>\n",
       "      <td>509.0</td>\n",
       "      <td>508.0</td>\n",
       "      <td>518.0</td>\n",
       "      <td>521.0</td>\n",
       "      <td>541.0</td>\n",
       "      <td>548.0</td>\n",
       "      <td>566.0</td>\n",
       "      <td>586.0</td>\n",
       "      <td>603.0</td>\n",
       "      <td>617.0</td>\n",
       "    </tr>\n",
       "  </tbody>\n",
       "</table>\n",
       "<p>5 rows × 41 columns</p>\n",
       "</div>"
      ],
      "text/plain": [
       "         Category  Annual\\n1979  Annual\\n1980  Annual\\n1981  Annual\\n1982  \\\n",
       "0       White Men         298.0         320.0         350.0         375.0   \n",
       "1     White Women         184.0         203.0         221.0         242.0   \n",
       "2     Black Women         169.0         185.0         206.0         217.0   \n",
       "3     Asian Women           NaN           NaN           NaN           NaN   \n",
       "4  Hispanic Women         157.0         172.0         190.0         203.0   \n",
       "\n",
       "   Annual\\n1983  Annual\\n1984  Annual\\n1985  Annual\\n1986  Annual\\n1987  ...  \\\n",
       "0         387.0         401.0         418.0         433.0         450.0  ...   \n",
       "1         254.0         268.0         281.0         294.0         307.0  ...   \n",
       "2         232.0         241.0         252.0         264.0         276.0  ...   \n",
       "3           NaN           NaN           NaN           NaN           NaN  ...   \n",
       "4         215.0         223.0         230.0         241.0         251.0  ...   \n",
       "\n",
       "   Annual\\n2009  Annual\\n2010  Annual\\n2011  Annual\\n2012  Annual\\n2013  \\\n",
       "0         845.0         850.0         856.0         879.0         884.0   \n",
       "1         669.0         684.0         703.0         710.0         722.0   \n",
       "2         582.0         592.0         595.0         599.0         606.0   \n",
       "3         779.0         773.0         751.0         770.0         819.0   \n",
       "4         509.0         508.0         518.0         521.0         541.0   \n",
       "\n",
       "   Annual\\n2014  Annual\\n2015  Annual\\n2016  Annual\\n2017  Annual\\n2018  \n",
       "0         897.0         920.0         942.0         971.0        1002.0  \n",
       "1         734.0         743.0         766.0         795.0         817.0  \n",
       "2         611.0         615.0         641.0         657.0         654.0  \n",
       "3         841.0         877.0         902.0         903.0         937.0  \n",
       "4         548.0         566.0         586.0         603.0         617.0  \n",
       "\n",
       "[5 rows x 41 columns]"
      ]
     },
     "execution_count": 16,
     "metadata": {},
     "output_type": "execute_result"
    }
   ],
   "source": [
    "df_race_raw.head()"
   ]
  },
  {
   "cell_type": "markdown",
   "metadata": {},
   "source": [
    "Generate year range and extract the values of the white male income row"
   ]
  },
  {
   "cell_type": "code",
   "execution_count": 17,
   "metadata": {},
   "outputs": [
    {
     "data": {
      "text/plain": [
       "array([1979, 1980, 1981, 1982, 1983, 1984, 1985, 1986, 1987, 1988, 1989,\n",
       "       1990, 1991, 1992, 1993, 1994, 1995, 1996, 1997, 1998, 1999, 2000,\n",
       "       2001, 2002, 2003, 2004, 2005, 2006, 2007, 2008, 2009, 2010, 2011,\n",
       "       2012, 2013, 2014, 2015, 2016, 2017, 2018])"
      ]
     },
     "execution_count": 17,
     "metadata": {},
     "output_type": "execute_result"
    }
   ],
   "source": [
    "years = np.arange(1979, 2019)\n",
    "years"
   ]
  },
  {
   "cell_type": "code",
   "execution_count": 18,
   "metadata": {},
   "outputs": [
    {
     "data": {
      "text/plain": [
       "array([298.0, 320.0, 350.0, 375.0, 387.0, 401.0, 418.0, 433.0, 450.0,\n",
       "       465.0, 482.0, 494.0, 506.0, 514.0, 524.0, 547.0, 566.0, 580.0,\n",
       "       595.0, 615.0, 638.0, 662.0, 689.0, 702.0, 715.0, 732.0, 743.0,\n",
       "       761.0, 788.0, 825.0, 845.0, 850.0, 856.0, 879.0, 884.0, 897.0,\n",
       "       920.0, 942.0, 971.0, 1002.0], dtype=object)"
      ]
     },
     "execution_count": 18,
     "metadata": {},
     "output_type": "execute_result"
    }
   ],
   "source": [
    "white_male_income = df_race_raw.loc[0].values[1:]\n",
    "white_male_income"
   ]
  },
  {
   "cell_type": "markdown",
   "metadata": {},
   "source": [
    "Find proportions of female median weekly income to male median weekly income for each year and race"
   ]
  },
  {
   "cell_type": "code",
   "execution_count": 19,
   "metadata": {},
   "outputs": [],
   "source": [
    "white_female_income_prop = df_race_raw.loc[1].values[1:]/white_male_income\n",
    "black_female_income_prop = df_race_raw.loc[2].values[1:]/white_male_income\n",
    "asian_female_income_prop = df_race_raw.loc[3].values[1:]/white_male_income\n",
    "hispanic_female_income_prop = df_race_raw.loc[4].values[1:]/white_male_income"
   ]
  },
  {
   "cell_type": "markdown",
   "metadata": {},
   "source": [
    "Create another DataFrame with calculated values"
   ]
  },
  {
   "cell_type": "code",
   "execution_count": 20,
   "metadata": {},
   "outputs": [
    {
     "data": {
      "text/html": [
       "<div>\n",
       "<style scoped>\n",
       "    .dataframe tbody tr th:only-of-type {\n",
       "        vertical-align: middle;\n",
       "    }\n",
       "\n",
       "    .dataframe tbody tr th {\n",
       "        vertical-align: top;\n",
       "    }\n",
       "\n",
       "    .dataframe thead th {\n",
       "        text-align: right;\n",
       "    }\n",
       "</style>\n",
       "<table border=\"1\" class=\"dataframe\">\n",
       "  <thead>\n",
       "    <tr style=\"text-align: right;\">\n",
       "      <th></th>\n",
       "      <th>Years</th>\n",
       "      <th>Asian Women</th>\n",
       "      <th>White Women</th>\n",
       "      <th>Black Women</th>\n",
       "      <th>Hispanic Women</th>\n",
       "    </tr>\n",
       "  </thead>\n",
       "  <tbody>\n",
       "    <tr>\n",
       "      <th>0</th>\n",
       "      <td>1979</td>\n",
       "      <td>NaN</td>\n",
       "      <td>0.617450</td>\n",
       "      <td>0.567114</td>\n",
       "      <td>0.526846</td>\n",
       "    </tr>\n",
       "    <tr>\n",
       "      <th>1</th>\n",
       "      <td>1980</td>\n",
       "      <td>NaN</td>\n",
       "      <td>0.634375</td>\n",
       "      <td>0.578125</td>\n",
       "      <td>0.537500</td>\n",
       "    </tr>\n",
       "    <tr>\n",
       "      <th>2</th>\n",
       "      <td>1981</td>\n",
       "      <td>NaN</td>\n",
       "      <td>0.631429</td>\n",
       "      <td>0.588571</td>\n",
       "      <td>0.542857</td>\n",
       "    </tr>\n",
       "    <tr>\n",
       "      <th>3</th>\n",
       "      <td>1982</td>\n",
       "      <td>NaN</td>\n",
       "      <td>0.645333</td>\n",
       "      <td>0.578667</td>\n",
       "      <td>0.541333</td>\n",
       "    </tr>\n",
       "    <tr>\n",
       "      <th>4</th>\n",
       "      <td>1983</td>\n",
       "      <td>NaN</td>\n",
       "      <td>0.656331</td>\n",
       "      <td>0.599483</td>\n",
       "      <td>0.555556</td>\n",
       "    </tr>\n",
       "  </tbody>\n",
       "</table>\n",
       "</div>"
      ],
      "text/plain": [
       "   Years  Asian Women  White Women  Black Women  Hispanic Women\n",
       "0   1979          NaN     0.617450     0.567114        0.526846\n",
       "1   1980          NaN     0.634375     0.578125        0.537500\n",
       "2   1981          NaN     0.631429     0.588571        0.542857\n",
       "3   1982          NaN     0.645333     0.578667        0.541333\n",
       "4   1983          NaN     0.656331     0.599483        0.555556"
      ]
     },
     "execution_count": 20,
     "metadata": {},
     "output_type": "execute_result"
    }
   ],
   "source": [
    "d = {'Years': years, \n",
    "     'Asian Women': asian_female_income_prop.astype(float), \n",
    "     'White Women': white_female_income_prop.astype(float), \n",
    "     'Black Women': black_female_income_prop.astype(float), \n",
    "     'Hispanic Women': hispanic_female_income_prop.astype(float)}\n",
    "df_race = pd.DataFrame(d)\n",
    "df_race.head()"
   ]
  },
  {
   "cell_type": "markdown",
   "metadata": {},
   "source": [
    "Plot the columns of the new DataFrame"
   ]
  },
  {
   "cell_type": "code",
   "execution_count": 21,
   "metadata": {},
   "outputs": [
    {
     "data": {
      "image/png": "[encoded data removed]",
      "text/plain": [
       "<Figure size 576x432 with 1 Axes>"
      ]
     },
     "metadata": {
      "needs_background": "light"
     },
     "output_type": "display_data"
    },
    {
     "data": {
      "text/plain": [
       "<Figure size 576x432 with 0 Axes>"
      ]
     },
     "metadata": {},
     "output_type": "display_data"
    }
   ],
   "source": [
    "fig, ax = plt.subplots(figsize=(8,6))\n",
    "\n",
    "# Plot data across different races\n",
    "for col in df_race:\n",
    "    if col != 'Years':\n",
    "        thinkplot.Plot(df_race['Years'], df_race[col], label=col, color=paygap.GetColor(), alpha=0.8)\n",
    "\n",
    "# Plot white men income (horizontal line at 1.0)\n",
    "xs = np.arange(years.min(), years.max() + 1)\n",
    "ys = np.zeros(len(xs)) + 1\n",
    "thinkplot.Plot(xs,  ys, color='black', lineWidth=1)\n",
    "plt.text(x=1985, y=0.995, s='  same median weekly earnings as white men ', bbox=dict(facecolor='white', alpha=1, edgeColor='white'), fontsize=12)\n",
    "\n",
    "# Decorate the plot\n",
    "thinkplot.Config(xlim=(xs.min(), xs.max()),\n",
    "                 xlabel='Years', \n",
    "                 ylabel='Proportion of female income to white male income', \n",
    "                 title='Proportions of median weekly female income to \\nmedian weekly white male income compared for different races')\n",
    "thinkplot.set_font_size(13, 13, 11, 11)\n",
    "thinkplot.Show()"
   ]
  },
  {
   "cell_type": "markdown",
   "metadata": {},
   "source": [
    "## Prediction"
   ]
  },
  {
   "cell_type": "code",
   "execution_count": 22,
   "metadata": {},
   "outputs": [
    {
     "data": {
      "image/png": "[encoded data removed]",
      "text/plain": [
       "<Figure size 576x432 with 1 Axes>"
      ]
     },
     "metadata": {
      "needs_background": "light"
     },
     "output_type": "display_data"
    },
    {
     "data": {
      "text/plain": [
       "<Figure size 576x432 with 0 Axes>"
      ]
     },
     "metadata": {},
     "output_type": "display_data"
    }
   ],
   "source": [
    "fig, ax = plt.subplots(figsize=(8,6))\n",
    "\n",
    "# Plot data across different races\n",
    "for col in df_race:\n",
    "    if col != 'Years':\n",
    "        y = df_race[col].dropna()\n",
    "        y.index -= y.index.min() # Re-start index at 0\n",
    "        fit = Holt(y, damped=True, exponential=True).fit(smoothing_level=0.8, smoothing_slope=0.2)\n",
    "        fcast = fit.predict(len(y))\n",
    "        \n",
    "        color = paygap.GetColor()\n",
    "        thinkplot.Plot(df_race['Years'], df_race[col], label=col, color=color, alpha=0.8) # data\n",
    "        thinkplot.Scatter([2019], fcast, color=color, alpha=0.8) # prediction\n",
    "\n",
    "# Plot white men income (horizontal line at 1.0)\n",
    "xs = np.arange(years.min(), years.max() + 3)\n",
    "ys = np.zeros(len(xs)) + 1\n",
    "thinkplot.Plot(xs,  ys, color='black', lineWidth=1)\n",
    "plt.text(x=1985, y=0.995, s='  same median weekly earnings as white men ', bbox=dict(facecolor='white', alpha=1, edgeColor='white'), fontsize=12)\n",
    "\n",
    "# Decorate the plot\n",
    "thinkplot.Config(xlim=(xs.min(), xs.max()),\n",
    "                 xlabel='Years', \n",
    "                 ylabel='Proportion of female income to white male income', \n",
    "                 title='Proportions of median weekly female income to \\nmedian weekly white male income compared for different races')\n",
    "thinkplot.set_font_size(13, 13, 11, 11)\n",
    "thinkplot.Show()"
   ]
  },
  {
   "cell_type": "code",
   "execution_count": 23,
   "metadata": {},
   "outputs": [],
   "source": [
    "fig.savefig(\"proportion-female-to-male-income\", quality=100, dpi=200)"
   ]
  },
  {
   "cell_type": "code",
   "execution_count": 24,
   "metadata": {},
   "outputs": [],
   "source": []
  }
 ],
 "metadata": {
  "kernelspec": {
   "display_name": "Python 3",
   "language": "python",
   "name": "python3"
  },
  "language_info": {
   "codemirror_mode": {
    "name": "ipython",
    "version": 3
   },
   "file_extension": ".py",
   "mimetype": "text/x-python",
   "name": "python",
   "nbconvert_exporter": "python",
   "pygments_lexer": "ipython3",
   "version": "3.6.8"
  }
 },
 "nbformat": 4,
 "nbformat_minor": 2
}
