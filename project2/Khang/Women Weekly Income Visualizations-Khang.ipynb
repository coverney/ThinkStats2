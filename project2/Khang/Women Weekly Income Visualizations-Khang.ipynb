{
 "cells": [
  {
   "cell_type": "code",
   "execution_count": 1,
   "metadata": {},
   "outputs": [],
   "source": [
    "import pandas as pd\n",
    "import thinkplot\n",
    "import thinkstats2\n",
    "import numpy as np\n",
    "import statsmodels.formula.api as smf\n",
    "import statsmodels.api as sm\n",
    "from statsmodels.sandbox.regression.predstd import wls_prediction_std"
   ]
  },
  {
   "cell_type": "markdown",
   "metadata": {},
   "source": [
    "Find median weekly income and calculate proportion of women workers for each occupation. Data from CPS and BLS. "
   ]
  },
  {
   "cell_type": "markdown",
   "metadata": {},
   "source": [
    "Read in data"
   ]
  },
  {
   "cell_type": "code",
   "execution_count": 2,
   "metadata": {},
   "outputs": [],
   "source": [
    "df_2018_raw = pd.read_excel('../Data/weeklyincome_occupation_gender_2018.xlsx')"
   ]
  },
  {
   "cell_type": "code",
   "execution_count": 3,
   "metadata": {},
   "outputs": [
    {
     "data": {
      "text/html": [
       "<div>\n",
       "<style scoped>\n",
       "    .dataframe tbody tr th:only-of-type {\n",
       "        vertical-align: middle;\n",
       "    }\n",
       "\n",
       "    .dataframe tbody tr th {\n",
       "        vertical-align: top;\n",
       "    }\n",
       "\n",
       "    .dataframe thead th {\n",
       "        text-align: right;\n",
       "    }\n",
       "</style>\n",
       "<table border=\"1\" class=\"dataframe\">\n",
       "  <thead>\n",
       "    <tr style=\"text-align: right;\">\n",
       "      <th></th>\n",
       "      <th>Occupation</th>\n",
       "      <th>Total Number of workers</th>\n",
       "      <th>Total Median weekly earnings</th>\n",
       "      <th>Men Number of workers</th>\n",
       "      <th>Men Median weekly earnings</th>\n",
       "      <th>Women Number of workers</th>\n",
       "      <th>Women Median weekly earnings</th>\n",
       "    </tr>\n",
       "  </thead>\n",
       "  <tbody>\n",
       "    <tr>\n",
       "      <th>0</th>\n",
       "      <td>Total, full-time wage and salary workers</td>\n",
       "      <td>115567.0</td>\n",
       "      <td>886</td>\n",
       "      <td>64142.0</td>\n",
       "      <td>973</td>\n",
       "      <td>51425.0</td>\n",
       "      <td>789</td>\n",
       "    </tr>\n",
       "    <tr>\n",
       "      <th>1</th>\n",
       "      <td>NaN</td>\n",
       "      <td>NaN</td>\n",
       "      <td>NaN</td>\n",
       "      <td>NaN</td>\n",
       "      <td>NaN</td>\n",
       "      <td>NaN</td>\n",
       "      <td>NaN</td>\n",
       "    </tr>\n",
       "    <tr>\n",
       "      <th>2</th>\n",
       "      <td>Management, professional, and related occupations</td>\n",
       "      <td>48808.0</td>\n",
       "      <td>1246</td>\n",
       "      <td>23685.0</td>\n",
       "      <td>1468</td>\n",
       "      <td>25123.0</td>\n",
       "      <td>1078</td>\n",
       "    </tr>\n",
       "    <tr>\n",
       "      <th>3</th>\n",
       "      <td>Management, business, and financial operations...</td>\n",
       "      <td>19863.0</td>\n",
       "      <td>1355</td>\n",
       "      <td>10668.0</td>\n",
       "      <td>1537</td>\n",
       "      <td>9195.0</td>\n",
       "      <td>1168</td>\n",
       "    </tr>\n",
       "    <tr>\n",
       "      <th>4</th>\n",
       "      <td>Management occupations</td>\n",
       "      <td>13477.0</td>\n",
       "      <td>1429</td>\n",
       "      <td>7754.0</td>\n",
       "      <td>1585</td>\n",
       "      <td>5724.0</td>\n",
       "      <td>1236</td>\n",
       "    </tr>\n",
       "  </tbody>\n",
       "</table>\n",
       "</div>"
      ],
      "text/plain": [
       "                                          Occupation  Total Number of workers  \\\n",
       "0           Total, full-time wage and salary workers                 115567.0   \n",
       "1                                                NaN                      NaN   \n",
       "2  Management, professional, and related occupations                  48808.0   \n",
       "3  Management, business, and financial operations...                  19863.0   \n",
       "4                             Management occupations                  13477.0   \n",
       "\n",
       "  Total Median weekly earnings  Men Number of workers  \\\n",
       "0                          886                64142.0   \n",
       "1                          NaN                    NaN   \n",
       "2                         1246                23685.0   \n",
       "3                         1355                10668.0   \n",
       "4                         1429                 7754.0   \n",
       "\n",
       "  Men Median weekly earnings  Women Number of workers  \\\n",
       "0                        973                  51425.0   \n",
       "1                        NaN                      NaN   \n",
       "2                       1468                  25123.0   \n",
       "3                       1537                   9195.0   \n",
       "4                       1585                   5724.0   \n",
       "\n",
       "  Women Median weekly earnings  \n",
       "0                          789  \n",
       "1                          NaN  \n",
       "2                         1078  \n",
       "3                         1168  \n",
       "4                         1236  "
      ]
     },
     "execution_count": 3,
     "metadata": {},
     "output_type": "execute_result"
    }
   ],
   "source": [
    "df_2018_raw.head()"
   ]
  },
  {
   "cell_type": "markdown",
   "metadata": {},
   "source": [
    "Remove NaNs that occur between types of occupations"
   ]
  },
  {
   "cell_type": "code",
   "execution_count": 4,
   "metadata": {},
   "outputs": [
    {
     "data": {
      "text/html": [
       "<div>\n",
       "<style scoped>\n",
       "    .dataframe tbody tr th:only-of-type {\n",
       "        vertical-align: middle;\n",
       "    }\n",
       "\n",
       "    .dataframe tbody tr th {\n",
       "        vertical-align: top;\n",
       "    }\n",
       "\n",
       "    .dataframe thead th {\n",
       "        text-align: right;\n",
       "    }\n",
       "</style>\n",
       "<table border=\"1\" class=\"dataframe\">\n",
       "  <thead>\n",
       "    <tr style=\"text-align: right;\">\n",
       "      <th></th>\n",
       "      <th>Occupation</th>\n",
       "      <th>Total Number of workers</th>\n",
       "      <th>Total Median weekly earnings</th>\n",
       "      <th>Men Number of workers</th>\n",
       "      <th>Men Median weekly earnings</th>\n",
       "      <th>Women Number of workers</th>\n",
       "      <th>Women Median weekly earnings</th>\n",
       "    </tr>\n",
       "  </thead>\n",
       "  <tbody>\n",
       "    <tr>\n",
       "      <th>0</th>\n",
       "      <td>Total, full-time wage and salary workers</td>\n",
       "      <td>115567.0</td>\n",
       "      <td>886</td>\n",
       "      <td>64142.0</td>\n",
       "      <td>973</td>\n",
       "      <td>51425.0</td>\n",
       "      <td>789</td>\n",
       "    </tr>\n",
       "    <tr>\n",
       "      <th>2</th>\n",
       "      <td>Management, professional, and related occupations</td>\n",
       "      <td>48808.0</td>\n",
       "      <td>1246</td>\n",
       "      <td>23685.0</td>\n",
       "      <td>1468</td>\n",
       "      <td>25123.0</td>\n",
       "      <td>1078</td>\n",
       "    </tr>\n",
       "    <tr>\n",
       "      <th>3</th>\n",
       "      <td>Management, business, and financial operations...</td>\n",
       "      <td>19863.0</td>\n",
       "      <td>1355</td>\n",
       "      <td>10668.0</td>\n",
       "      <td>1537</td>\n",
       "      <td>9195.0</td>\n",
       "      <td>1168</td>\n",
       "    </tr>\n",
       "    <tr>\n",
       "      <th>4</th>\n",
       "      <td>Management occupations</td>\n",
       "      <td>13477.0</td>\n",
       "      <td>1429</td>\n",
       "      <td>7754.0</td>\n",
       "      <td>1585</td>\n",
       "      <td>5724.0</td>\n",
       "      <td>1236</td>\n",
       "    </tr>\n",
       "    <tr>\n",
       "      <th>5</th>\n",
       "      <td>Chief executives</td>\n",
       "      <td>1098.0</td>\n",
       "      <td>2291</td>\n",
       "      <td>790.0</td>\n",
       "      <td>2488</td>\n",
       "      <td>307.0</td>\n",
       "      <td>1736</td>\n",
       "    </tr>\n",
       "  </tbody>\n",
       "</table>\n",
       "</div>"
      ],
      "text/plain": [
       "                                          Occupation  Total Number of workers  \\\n",
       "0           Total, full-time wage and salary workers                 115567.0   \n",
       "2  Management, professional, and related occupations                  48808.0   \n",
       "3  Management, business, and financial operations...                  19863.0   \n",
       "4                             Management occupations                  13477.0   \n",
       "5                                   Chief executives                   1098.0   \n",
       "\n",
       "  Total Median weekly earnings  Men Number of workers  \\\n",
       "0                          886                64142.0   \n",
       "2                         1246                23685.0   \n",
       "3                         1355                10668.0   \n",
       "4                         1429                 7754.0   \n",
       "5                         2291                  790.0   \n",
       "\n",
       "  Men Median weekly earnings  Women Number of workers  \\\n",
       "0                        973                  51425.0   \n",
       "2                       1468                  25123.0   \n",
       "3                       1537                   9195.0   \n",
       "4                       1585                   5724.0   \n",
       "5                       2488                    307.0   \n",
       "\n",
       "  Women Median weekly earnings  \n",
       "0                          789  \n",
       "2                         1078  \n",
       "3                         1168  \n",
       "4                         1236  \n",
       "5                         1736  "
      ]
     },
     "execution_count": 4,
     "metadata": {},
     "output_type": "execute_result"
    }
   ],
   "source": [
    "df_2018 = df_2018_raw.dropna()\n",
    "df_2018.head()"
   ]
  },
  {
   "cell_type": "markdown",
   "metadata": {},
   "source": [
    "Calculate the proportion of females in each occupation and store in Series"
   ]
  },
  {
   "cell_type": "code",
   "execution_count": 5,
   "metadata": {},
   "outputs": [
    {
     "data": {
      "text/plain": [
       "0    44.497997\n",
       "2    51.473119\n",
       "3    46.292101\n",
       "4    42.472360\n",
       "5    27.959927\n",
       "dtype: float64"
      ]
     },
     "execution_count": 5,
     "metadata": {},
     "output_type": "execute_result"
    }
   ],
   "source": [
    "female_props = (df_2018['Women Number of workers']/df_2018['Total Number of workers'])*100\n",
    "female_props.head()"
   ]
  },
  {
   "cell_type": "markdown",
   "metadata": {},
   "source": [
    "Create a new DataFrame that just contains the occupation, median weekly income, and proportion of females"
   ]
  },
  {
   "cell_type": "code",
   "execution_count": 6,
   "metadata": {},
   "outputs": [
    {
     "data": {
      "text/html": [
       "<div>\n",
       "<style scoped>\n",
       "    .dataframe tbody tr th:only-of-type {\n",
       "        vertical-align: middle;\n",
       "    }\n",
       "\n",
       "    .dataframe tbody tr th {\n",
       "        vertical-align: top;\n",
       "    }\n",
       "\n",
       "    .dataframe thead th {\n",
       "        text-align: right;\n",
       "    }\n",
       "</style>\n",
       "<table border=\"1\" class=\"dataframe\">\n",
       "  <thead>\n",
       "    <tr style=\"text-align: right;\">\n",
       "      <th></th>\n",
       "      <th>Occupation</th>\n",
       "      <th>Weekly Pay</th>\n",
       "      <th>Percent Female</th>\n",
       "    </tr>\n",
       "  </thead>\n",
       "  <tbody>\n",
       "    <tr>\n",
       "      <th>0</th>\n",
       "      <td>Total, full-time wage and salary workers</td>\n",
       "      <td>886</td>\n",
       "      <td>44.497997</td>\n",
       "    </tr>\n",
       "    <tr>\n",
       "      <th>2</th>\n",
       "      <td>Management, professional, and related occupations</td>\n",
       "      <td>1246</td>\n",
       "      <td>51.473119</td>\n",
       "    </tr>\n",
       "    <tr>\n",
       "      <th>3</th>\n",
       "      <td>Management, business, and financial operations...</td>\n",
       "      <td>1355</td>\n",
       "      <td>46.292101</td>\n",
       "    </tr>\n",
       "    <tr>\n",
       "      <th>4</th>\n",
       "      <td>Management occupations</td>\n",
       "      <td>1429</td>\n",
       "      <td>42.472360</td>\n",
       "    </tr>\n",
       "    <tr>\n",
       "      <th>5</th>\n",
       "      <td>Chief executives</td>\n",
       "      <td>2291</td>\n",
       "      <td>27.959927</td>\n",
       "    </tr>\n",
       "  </tbody>\n",
       "</table>\n",
       "</div>"
      ],
      "text/plain": [
       "                                          Occupation Weekly Pay  \\\n",
       "0           Total, full-time wage and salary workers        886   \n",
       "2  Management, professional, and related occupations       1246   \n",
       "3  Management, business, and financial operations...       1355   \n",
       "4                             Management occupations       1429   \n",
       "5                                   Chief executives       2291   \n",
       "\n",
       "   Percent Female  \n",
       "0       44.497997  \n",
       "2       51.473119  \n",
       "3       46.292101  \n",
       "4       42.472360  \n",
       "5       27.959927  "
      ]
     },
     "execution_count": 6,
     "metadata": {},
     "output_type": "execute_result"
    }
   ],
   "source": [
    "d = {'Occupation': df_2018['Occupation'], 'Weekly Pay': df_2018['Total Median weekly earnings'], 'Percent Female': female_props}\n",
    "df_2018_result = pd.DataFrame(d)\n",
    "df_2018_result.head()"
   ]
  },
  {
   "cell_type": "markdown",
   "metadata": {},
   "source": [
    "Only select for the weekly pays that are not spaces (the spaces are the result of me replacing '-' with ' ' in Excel)"
   ]
  },
  {
   "cell_type": "code",
   "execution_count": 7,
   "metadata": {},
   "outputs": [],
   "source": [
    "df_2018_result = df_2018_result[df_2018_result['Weekly Pay'] != ' ']"
   ]
  },
  {
   "cell_type": "markdown",
   "metadata": {},
   "source": [
    "Sort the DataFrame rows by weekly incomes with the higher incomes at the top"
   ]
  },
  {
   "cell_type": "code",
   "execution_count": 8,
   "metadata": {},
   "outputs": [],
   "source": [
    "df_2018_result = df_2018_result.sort_values(by=['Weekly Pay'], ascending=False)"
   ]
  },
  {
   "cell_type": "markdown",
   "metadata": {},
   "source": [
    "Display results for highest paid occupations"
   ]
  },
  {
   "cell_type": "code",
   "execution_count": 9,
   "metadata": {
    "scrolled": true
   },
   "outputs": [
    {
     "data": {
      "text/html": [
       "<div>\n",
       "<style scoped>\n",
       "    .dataframe tbody tr th:only-of-type {\n",
       "        vertical-align: middle;\n",
       "    }\n",
       "\n",
       "    .dataframe tbody tr th {\n",
       "        vertical-align: top;\n",
       "    }\n",
       "\n",
       "    .dataframe thead th {\n",
       "        text-align: right;\n",
       "    }\n",
       "</style>\n",
       "<table border=\"1\" class=\"dataframe\">\n",
       "  <thead>\n",
       "    <tr style=\"text-align: right;\">\n",
       "      <th></th>\n",
       "      <th>Occupation</th>\n",
       "      <th>Weekly Pay</th>\n",
       "      <th>Percent Female</th>\n",
       "    </tr>\n",
       "  </thead>\n",
       "  <tbody>\n",
       "    <tr>\n",
       "      <th>5</th>\n",
       "      <td>Chief executives</td>\n",
       "      <td>2291</td>\n",
       "      <td>27.959927</td>\n",
       "    </tr>\n",
       "    <tr>\n",
       "      <th>23</th>\n",
       "      <td>Architectural and engineering managers</td>\n",
       "      <td>2226</td>\n",
       "      <td>12.751678</td>\n",
       "    </tr>\n",
       "    <tr>\n",
       "      <th>180</th>\n",
       "      <td>Pharmacists</td>\n",
       "      <td>2071</td>\n",
       "      <td>62.737643</td>\n",
       "    </tr>\n",
       "    <tr>\n",
       "      <th>181</th>\n",
       "      <td>Physicians and surgeons</td>\n",
       "      <td>2001</td>\n",
       "      <td>42.563482</td>\n",
       "    </tr>\n",
       "    <tr>\n",
       "      <th>138</th>\n",
       "      <td>Lawyers</td>\n",
       "      <td>1947</td>\n",
       "      <td>40.328253</td>\n",
       "    </tr>\n",
       "  </tbody>\n",
       "</table>\n",
       "</div>"
      ],
      "text/plain": [
       "                                 Occupation Weekly Pay  Percent Female\n",
       "5                          Chief executives       2291       27.959927\n",
       "23   Architectural and engineering managers       2226       12.751678\n",
       "180                             Pharmacists       2071       62.737643\n",
       "181                 Physicians and surgeons       2001       42.563482\n",
       "138                                 Lawyers       1947       40.328253"
      ]
     },
     "execution_count": 9,
     "metadata": {},
     "output_type": "execute_result"
    }
   ],
   "source": [
    "df_2018_result.head()"
   ]
  },
  {
   "cell_type": "markdown",
   "metadata": {},
   "source": [
    "Display results for lowest paid occupations"
   ]
  },
  {
   "cell_type": "code",
   "execution_count": 10,
   "metadata": {},
   "outputs": [
    {
     "data": {
      "text/html": [
       "<div>\n",
       "<style scoped>\n",
       "    .dataframe tbody tr th:only-of-type {\n",
       "        vertical-align: middle;\n",
       "    }\n",
       "\n",
       "    .dataframe tbody tr th {\n",
       "        vertical-align: top;\n",
       "    }\n",
       "\n",
       "    .dataframe thead th {\n",
       "        text-align: right;\n",
       "    }\n",
       "</style>\n",
       "<table border=\"1\" class=\"dataframe\">\n",
       "  <thead>\n",
       "    <tr style=\"text-align: right;\">\n",
       "      <th></th>\n",
       "      <th>Occupation</th>\n",
       "      <th>Weekly Pay</th>\n",
       "      <th>Percent Female</th>\n",
       "    </tr>\n",
       "  </thead>\n",
       "  <tbody>\n",
       "    <tr>\n",
       "      <th>246</th>\n",
       "      <td>Food preparation workers</td>\n",
       "      <td>463</td>\n",
       "      <td>56.448203</td>\n",
       "    </tr>\n",
       "    <tr>\n",
       "      <th>252</th>\n",
       "      <td>Dining room and cafeteria attendants and barte...</td>\n",
       "      <td>447</td>\n",
       "      <td>49.152542</td>\n",
       "    </tr>\n",
       "    <tr>\n",
       "      <th>253</th>\n",
       "      <td>Dishwashers</td>\n",
       "      <td>441</td>\n",
       "      <td>19.819820</td>\n",
       "    </tr>\n",
       "    <tr>\n",
       "      <th>248</th>\n",
       "      <td>Combined food preparation and serving workers,...</td>\n",
       "      <td>436</td>\n",
       "      <td>56.462585</td>\n",
       "    </tr>\n",
       "    <tr>\n",
       "      <th>488</th>\n",
       "      <td>Laundry and dry-cleaning workers</td>\n",
       "      <td>432</td>\n",
       "      <td>70.370370</td>\n",
       "    </tr>\n",
       "  </tbody>\n",
       "</table>\n",
       "</div>"
      ],
      "text/plain": [
       "                                            Occupation Weekly Pay  \\\n",
       "246                           Food preparation workers        463   \n",
       "252  Dining room and cafeteria attendants and barte...        447   \n",
       "253                                        Dishwashers        441   \n",
       "248  Combined food preparation and serving workers,...        436   \n",
       "488                   Laundry and dry-cleaning workers        432   \n",
       "\n",
       "     Percent Female  \n",
       "246       56.448203  \n",
       "252       49.152542  \n",
       "253       19.819820  \n",
       "248       56.462585  \n",
       "488       70.370370  "
      ]
     },
     "execution_count": 10,
     "metadata": {},
     "output_type": "execute_result"
    }
   ],
   "source": [
    "df_2018_result.tail()"
   ]
  },
  {
   "cell_type": "markdown",
   "metadata": {},
   "source": [
    "Plot women's median weekly earnings as a share of white men's over time for different races. Data from CPS."
   ]
  },
  {
   "cell_type": "markdown",
   "metadata": {},
   "source": [
    "Read in the data, each row corresponds to a particular gender and race"
   ]
  },
  {
   "cell_type": "code",
   "execution_count": 11,
   "metadata": {},
   "outputs": [],
   "source": [
    "df_race_raw = pd.read_excel('../Data/weeklyincome_gender_race_1979to2018.xlsx')"
   ]
  },
  {
   "cell_type": "code",
   "execution_count": 12,
   "metadata": {},
   "outputs": [
    {
     "data": {
      "text/html": [
       "<div>\n",
       "<style scoped>\n",
       "    .dataframe tbody tr th:only-of-type {\n",
       "        vertical-align: middle;\n",
       "    }\n",
       "\n",
       "    .dataframe tbody tr th {\n",
       "        vertical-align: top;\n",
       "    }\n",
       "\n",
       "    .dataframe thead th {\n",
       "        text-align: right;\n",
       "    }\n",
       "</style>\n",
       "<table border=\"1\" class=\"dataframe\">\n",
       "  <thead>\n",
       "    <tr style=\"text-align: right;\">\n",
       "      <th></th>\n",
       "      <th>Series ID</th>\n",
       "      <th>Annual\n",
       "1979</th>\n",
       "      <th>Annual\n",
       "1980</th>\n",
       "      <th>Annual\n",
       "1981</th>\n",
       "      <th>Annual\n",
       "1982</th>\n",
       "      <th>Annual\n",
       "1983</th>\n",
       "      <th>Annual\n",
       "1984</th>\n",
       "      <th>Annual\n",
       "1985</th>\n",
       "      <th>Annual\n",
       "1986</th>\n",
       "      <th>Annual\n",
       "1987</th>\n",
       "      <th>...</th>\n",
       "      <th>Annual\n",
       "2009</th>\n",
       "      <th>Annual\n",
       "2010</th>\n",
       "      <th>Annual\n",
       "2011</th>\n",
       "      <th>Annual\n",
       "2012</th>\n",
       "      <th>Annual\n",
       "2013</th>\n",
       "      <th>Annual\n",
       "2014</th>\n",
       "      <th>Annual\n",
       "2015</th>\n",
       "      <th>Annual\n",
       "2016</th>\n",
       "      <th>Annual\n",
       "2017</th>\n",
       "      <th>Annual\n",
       "2018</th>\n",
       "    </tr>\n",
       "  </thead>\n",
       "  <tbody>\n",
       "    <tr>\n",
       "      <th>0</th>\n",
       "      <td>LEU0252883900</td>\n",
       "      <td>298.0</td>\n",
       "      <td>320.0</td>\n",
       "      <td>350.0</td>\n",
       "      <td>375.0</td>\n",
       "      <td>387.0</td>\n",
       "      <td>401.0</td>\n",
       "      <td>418.0</td>\n",
       "      <td>433.0</td>\n",
       "      <td>450.0</td>\n",
       "      <td>...</td>\n",
       "      <td>845</td>\n",
       "      <td>850</td>\n",
       "      <td>856</td>\n",
       "      <td>879</td>\n",
       "      <td>884</td>\n",
       "      <td>897</td>\n",
       "      <td>920</td>\n",
       "      <td>942</td>\n",
       "      <td>971</td>\n",
       "      <td>1002</td>\n",
       "    </tr>\n",
       "    <tr>\n",
       "      <th>1</th>\n",
       "      <td>LEU0252884200</td>\n",
       "      <td>184.0</td>\n",
       "      <td>203.0</td>\n",
       "      <td>221.0</td>\n",
       "      <td>242.0</td>\n",
       "      <td>254.0</td>\n",
       "      <td>268.0</td>\n",
       "      <td>281.0</td>\n",
       "      <td>294.0</td>\n",
       "      <td>307.0</td>\n",
       "      <td>...</td>\n",
       "      <td>669</td>\n",
       "      <td>684</td>\n",
       "      <td>703</td>\n",
       "      <td>710</td>\n",
       "      <td>722</td>\n",
       "      <td>734</td>\n",
       "      <td>743</td>\n",
       "      <td>766</td>\n",
       "      <td>795</td>\n",
       "      <td>817</td>\n",
       "    </tr>\n",
       "    <tr>\n",
       "      <th>2</th>\n",
       "      <td>LEU0252885100</td>\n",
       "      <td>169.0</td>\n",
       "      <td>185.0</td>\n",
       "      <td>206.0</td>\n",
       "      <td>217.0</td>\n",
       "      <td>232.0</td>\n",
       "      <td>241.0</td>\n",
       "      <td>252.0</td>\n",
       "      <td>264.0</td>\n",
       "      <td>276.0</td>\n",
       "      <td>...</td>\n",
       "      <td>582</td>\n",
       "      <td>592</td>\n",
       "      <td>595</td>\n",
       "      <td>599</td>\n",
       "      <td>606</td>\n",
       "      <td>611</td>\n",
       "      <td>615</td>\n",
       "      <td>641</td>\n",
       "      <td>657</td>\n",
       "      <td>654</td>\n",
       "    </tr>\n",
       "    <tr>\n",
       "      <th>3</th>\n",
       "      <td>LEU0254468600</td>\n",
       "      <td>NaN</td>\n",
       "      <td>NaN</td>\n",
       "      <td>NaN</td>\n",
       "      <td>NaN</td>\n",
       "      <td>NaN</td>\n",
       "      <td>NaN</td>\n",
       "      <td>NaN</td>\n",
       "      <td>NaN</td>\n",
       "      <td>NaN</td>\n",
       "      <td>...</td>\n",
       "      <td>779</td>\n",
       "      <td>773</td>\n",
       "      <td>751</td>\n",
       "      <td>770</td>\n",
       "      <td>819</td>\n",
       "      <td>841</td>\n",
       "      <td>877</td>\n",
       "      <td>902</td>\n",
       "      <td>903</td>\n",
       "      <td>937</td>\n",
       "    </tr>\n",
       "    <tr>\n",
       "      <th>4</th>\n",
       "      <td>LEU0252886000</td>\n",
       "      <td>157.0</td>\n",
       "      <td>172.0</td>\n",
       "      <td>190.0</td>\n",
       "      <td>203.0</td>\n",
       "      <td>215.0</td>\n",
       "      <td>223.0</td>\n",
       "      <td>230.0</td>\n",
       "      <td>241.0</td>\n",
       "      <td>251.0</td>\n",
       "      <td>...</td>\n",
       "      <td>509</td>\n",
       "      <td>508</td>\n",
       "      <td>518</td>\n",
       "      <td>521</td>\n",
       "      <td>541</td>\n",
       "      <td>548</td>\n",
       "      <td>566</td>\n",
       "      <td>586</td>\n",
       "      <td>603</td>\n",
       "      <td>617</td>\n",
       "    </tr>\n",
       "  </tbody>\n",
       "</table>\n",
       "<p>5 rows × 41 columns</p>\n",
       "</div>"
      ],
      "text/plain": [
       "       Series ID  Annual\\n1979  Annual\\n1980  Annual\\n1981  Annual\\n1982  \\\n",
       "0  LEU0252883900         298.0         320.0         350.0         375.0   \n",
       "1  LEU0252884200         184.0         203.0         221.0         242.0   \n",
       "2  LEU0252885100         169.0         185.0         206.0         217.0   \n",
       "3  LEU0254468600           NaN           NaN           NaN           NaN   \n",
       "4  LEU0252886000         157.0         172.0         190.0         203.0   \n",
       "\n",
       "   Annual\\n1983  Annual\\n1984  Annual\\n1985  Annual\\n1986  Annual\\n1987  ...  \\\n",
       "0         387.0         401.0         418.0         433.0         450.0  ...   \n",
       "1         254.0         268.0         281.0         294.0         307.0  ...   \n",
       "2         232.0         241.0         252.0         264.0         276.0  ...   \n",
       "3           NaN           NaN           NaN           NaN           NaN  ...   \n",
       "4         215.0         223.0         230.0         241.0         251.0  ...   \n",
       "\n",
       "   Annual\\n2009  Annual\\n2010  Annual\\n2011  Annual\\n2012  Annual\\n2013  \\\n",
       "0           845           850           856           879           884   \n",
       "1           669           684           703           710           722   \n",
       "2           582           592           595           599           606   \n",
       "3           779           773           751           770           819   \n",
       "4           509           508           518           521           541   \n",
       "\n",
       "   Annual\\n2014  Annual\\n2015  Annual\\n2016  Annual\\n2017  Annual\\n2018  \n",
       "0           897           920           942           971          1002  \n",
       "1           734           743           766           795           817  \n",
       "2           611           615           641           657           654  \n",
       "3           841           877           902           903           937  \n",
       "4           548           566           586           603           617  \n",
       "\n",
       "[5 rows x 41 columns]"
      ]
     },
     "execution_count": 12,
     "metadata": {},
     "output_type": "execute_result"
    }
   ],
   "source": [
    "df_race_raw.head()"
   ]
  },
  {
   "cell_type": "markdown",
   "metadata": {},
   "source": [
    "Generate year range and extract the values of the white male income row"
   ]
  },
  {
   "cell_type": "code",
   "execution_count": 13,
   "metadata": {},
   "outputs": [
    {
     "data": {
      "text/plain": [
       "array([298.0, 320.0, 350.0, 375.0, 387.0, 401.0, 418.0, 433.0, 450.0,\n",
       "       465.0, 482.0, 494.0, 506.0, 514.0, 524.0, 547.0, 566.0, 580.0,\n",
       "       595.0, 615.0, 638.0, 662, 689, 702, 715, 732, 743, 761, 788, 825,\n",
       "       845, 850, 856, 879, 884, 897, 920, 942, 971, 1002], dtype=object)"
      ]
     },
     "execution_count": 13,
     "metadata": {},
     "output_type": "execute_result"
    }
   ],
   "source": [
    "years = range(1979, 2019)\n",
    "white_male_income = df_race_raw.loc[0].values[1:]\n",
    "white_male_income"
   ]
  },
  {
   "cell_type": "markdown",
   "metadata": {},
   "source": [
    "Find proportions of female median weekly income to male median weekly income for each year and race"
   ]
  },
  {
   "cell_type": "code",
   "execution_count": 14,
   "metadata": {},
   "outputs": [],
   "source": [
    "white_female_income_prop = df_race_raw.loc[1].values[1:]/white_male_income\n",
    "black_female_income_prop = df_race_raw.loc[2].values[1:]/white_male_income\n",
    "asian_female_income_prop = df_race_raw.loc[3].values[1:]/white_male_income\n",
    "hispanic_female_income_prop = df_race_raw.loc[4].values[1:]/white_male_income"
   ]
  },
  {
   "cell_type": "markdown",
   "metadata": {},
   "source": [
    "Create another DataFrame with calculated values"
   ]
  },
  {
   "cell_type": "code",
   "execution_count": 15,
   "metadata": {},
   "outputs": [
    {
     "data": {
      "text/html": [
       "<div>\n",
       "<style scoped>\n",
       "    .dataframe tbody tr th:only-of-type {\n",
       "        vertical-align: middle;\n",
       "    }\n",
       "\n",
       "    .dataframe tbody tr th {\n",
       "        vertical-align: top;\n",
       "    }\n",
       "\n",
       "    .dataframe thead th {\n",
       "        text-align: right;\n",
       "    }\n",
       "</style>\n",
       "<table border=\"1\" class=\"dataframe\">\n",
       "  <thead>\n",
       "    <tr style=\"text-align: right;\">\n",
       "      <th></th>\n",
       "      <th>Years</th>\n",
       "      <th>White Women</th>\n",
       "      <th>Black Women</th>\n",
       "      <th>Asian Women</th>\n",
       "      <th>Hispanic Women</th>\n",
       "    </tr>\n",
       "  </thead>\n",
       "  <tbody>\n",
       "    <tr>\n",
       "      <th>0</th>\n",
       "      <td>1979</td>\n",
       "      <td>0.61745</td>\n",
       "      <td>0.567114</td>\n",
       "      <td>NaN</td>\n",
       "      <td>0.526846</td>\n",
       "    </tr>\n",
       "    <tr>\n",
       "      <th>1</th>\n",
       "      <td>1980</td>\n",
       "      <td>0.634375</td>\n",
       "      <td>0.578125</td>\n",
       "      <td>NaN</td>\n",
       "      <td>0.5375</td>\n",
       "    </tr>\n",
       "    <tr>\n",
       "      <th>2</th>\n",
       "      <td>1981</td>\n",
       "      <td>0.631429</td>\n",
       "      <td>0.588571</td>\n",
       "      <td>NaN</td>\n",
       "      <td>0.542857</td>\n",
       "    </tr>\n",
       "    <tr>\n",
       "      <th>3</th>\n",
       "      <td>1982</td>\n",
       "      <td>0.645333</td>\n",
       "      <td>0.578667</td>\n",
       "      <td>NaN</td>\n",
       "      <td>0.541333</td>\n",
       "    </tr>\n",
       "    <tr>\n",
       "      <th>4</th>\n",
       "      <td>1983</td>\n",
       "      <td>0.656331</td>\n",
       "      <td>0.599483</td>\n",
       "      <td>NaN</td>\n",
       "      <td>0.555556</td>\n",
       "    </tr>\n",
       "  </tbody>\n",
       "</table>\n",
       "</div>"
      ],
      "text/plain": [
       "   Years White Women Black Women Asian Women Hispanic Women\n",
       "0   1979     0.61745    0.567114         NaN       0.526846\n",
       "1   1980    0.634375    0.578125         NaN         0.5375\n",
       "2   1981    0.631429    0.588571         NaN       0.542857\n",
       "3   1982    0.645333    0.578667         NaN       0.541333\n",
       "4   1983    0.656331    0.599483         NaN       0.555556"
      ]
     },
     "execution_count": 15,
     "metadata": {},
     "output_type": "execute_result"
    }
   ],
   "source": [
    "d = {'Years': years, 'White Women': white_female_income_prop, 'Black Women': black_female_income_prop, 'Asian Women': asian_female_income_prop, 'Hispanic Women': hispanic_female_income_prop}\n",
    "df_race = pd.DataFrame(d)\n",
    "df_race.head()"
   ]
  },
  {
   "cell_type": "markdown",
   "metadata": {},
   "source": [
    "Plot the columns of the new DataFrame"
   ]
  },
  {
   "cell_type": "code",
   "execution_count": 16,
   "metadata": {},
   "outputs": [
    {
     "data": {
      "image/png": "[encoded data removed]",
      "text/plain": [
       "<Figure size 432x288 with 1 Axes>"
      ]
     },
     "metadata": {
      "needs_background": "light"
     },
     "output_type": "display_data"
    },
    {
     "data": {
      "text/plain": [
       "<Figure size 576x432 with 0 Axes>"
      ]
     },
     "metadata": {},
     "output_type": "display_data"
    }
   ],
   "source": [
    "thinkplot.Plot(df_race['Years'], df_race['White Women'], label='White Women', color='red')\n",
    "thinkplot.Plot(df_race['Years'], df_race['Black Women'], label='Black Women', color='green')\n",
    "thinkplot.Plot(df_race['Years'], df_race['Asian Women'], label='Asian Women', color='purple')\n",
    "thinkplot.Plot(df_race['Years'], df_race['Hispanic Women'], label='Hispanic Women', color='blue')\n",
    "thinkplot.Plot(df_race['Years'], np.zeros(len(df_race['Years'])) + 1, label='White Men', color='gray', linestyle='--', lineWidth=1)\n",
    "thinkplot.Show()"
   ]
  },
  {
   "cell_type": "markdown",
   "metadata": {},
   "source": [
    "## Explore space"
   ]
  },
  {
   "cell_type": "code",
   "execution_count": 17,
   "metadata": {},
   "outputs": [],
   "source": [
    "from statsmodels.tsa.api import ExponentialSmoothing, SimpleExpSmoothing, Holt\n",
    "from statsmodels.tsa.arima_model import ARMA\n",
    "import matplotlib.pyplot as plt"
   ]
  },
  {
   "cell_type": "code",
   "execution_count": 18,
   "metadata": {},
   "outputs": [
    {
     "name": "stdout",
     "output_type": "stream",
     "text": [
      "2019    0.649697\n",
      "2020    0.650346\n",
      "2021    0.647944\n",
      "2022    0.648246\n",
      "2023    0.646300\n",
      "2024    0.646361\n",
      "dtype: float64\n"
     ]
    }
   ],
   "source": [
    "# ARMA example\n",
    "y = df_race['Black Women'].copy()\n",
    "y.index += df_race.Years.min()\n",
    "# fit model\n",
    "model = ARMA(y.astype(float), order=(2, 1))\n",
    "model_fit = model.fit(disp=False)\n",
    "# make prediction\n",
    "yhat = model_fit.predict(len(y), len(y)+5)\n",
    "print(yhat)"
   ]
  },
  {
   "cell_type": "code",
   "execution_count": 19,
   "metadata": {},
   "outputs": [
    {
     "data": {
      "image/png": "[encoded data removed]",
      "text/plain": [
       "<Figure size 576x288 with 1 Axes>"
      ]
     },
     "execution_count": 19,
     "metadata": {},
     "output_type": "execute_result"
    },
    {
     "data": {
      "image/png": "[encoded data removed]",
      "text/plain": [
       "<Figure size 576x288 with 1 Axes>"
      ]
     },
     "metadata": {
      "needs_background": "light"
     },
     "output_type": "display_data"
    }
   ],
   "source": [
    "fig, ax = plt.subplots(figsize=(8,4))\n",
    "model_fit.plot_predict(start=0, end=55, ax=ax)"
   ]
  },
  {
   "cell_type": "code",
   "execution_count": 20,
   "metadata": {},
   "outputs": [],
   "source": [
    "# data = pd.Series(df_race['white_women'], df_race['Years'])\n",
    "# data.index = data.Years\n",
    "# index= pd.date_range(start=np.min(df_race['Years']), end=np.max(df_race['Years']), freq='A')\n",
    "# df_race.index = index\n",
    "fit1 = SimpleExpSmoothing(df_race['White Women'].astype(float)).fit(smoothing_level=0.6,optimized=False)\n",
    "fcast1 = fit1.forecast(10).rename(r'$\\alpha=0.6$')"
   ]
  },
  {
   "cell_type": "code",
   "execution_count": 21,
   "metadata": {},
   "outputs": [
    {
     "data": {
      "text/plain": [
       "<matplotlib.axes._subplots.AxesSubplot at 0x1e6dab184e0>"
      ]
     },
     "execution_count": 21,
     "metadata": {},
     "output_type": "execute_result"
    },
    {
     "data": {
      "image/png": "[encoded data removed]",
      "text/plain": [
       "<Figure size 576x432 with 1 Axes>"
      ]
     },
     "metadata": {
      "needs_background": "light"
     },
     "output_type": "display_data"
    }
   ],
   "source": [
    "fig, ax = plt.subplots(figsize=(8,6))\n",
    "ax=df_race['White Women'].plot()\n",
    "fcast1.plot(marker='o', ax=ax, color='green', legend=True)\n",
    "fit1.fittedvalues.plot(marker='o', ax=ax, color='green')\n",
    "# plt.show()"
   ]
  },
  {
   "cell_type": "markdown",
   "metadata": {},
   "source": [
    "### CI 90?"
   ]
  },
  {
   "cell_type": "code",
   "execution_count": 22,
   "metadata": {},
   "outputs": [],
   "source": [
    "class RegressionResult:\n",
    "    def __init__(self, inter, slope):\n",
    "        self.inter = inter\n",
    "        self.slope = slope\n",
    "        pass\n",
    "    \n",
    "    def predict(self, xs):\n",
    "        return self.slope * xs + self.inter\n",
    "    \n",
    "def RunLinearModel(df, dependent, independent='Years'):\n",
    "    y = np.asarray(df_race[dependent])\n",
    "    x = np.asarray(df_race[independent])\n",
    "    inter, slope = thinkstats2.LeastSquares(x, y)\n",
    "    _, fit_ys = thinkstats2.FitLine(x, inter, slope)\n",
    "    \n",
    "    result = RegressionResult(inter, slope)\n",
    "    result.fittedvalues = fit_ys\n",
    "    result.resid = thinkstats2.Residuals(x, y, inter, slope)\n",
    "    return result\n",
    "\n",
    "def SimulateResults(df, dependent, iters=101):\n",
    "    results = RunLinearModel(df, dependent)\n",
    "    fake = df.copy()\n",
    "    \n",
    "    result_seq = []\n",
    "\n",
    "    for i in range(iters):\n",
    "        fake[dependent] = results.fittedvalues + thinkstats2.Resample(results.resid)\n",
    "        fake_results = RunLinearModel(fake, dependent)\n",
    "        result_seq.append(fake_results)\n",
    "    \n",
    "    return result_seq\n",
    "\n",
    "def GeneratePredictions(result_seq, years, add_resid=False):\n",
    "    n = len(years)\n",
    "    predict_seq = []\n",
    "        \n",
    "    for fake_results in result_seq:\n",
    "        predict = fake_results.predict(years)\n",
    "        if add_resid:\n",
    "            predict = predict + thinkstats2.Resample(fake_results.resid, n)\n",
    "        predict_seq.append(predict)\n",
    "        \n",
    "    return predict_seq\n",
    "\n",
    "def PlotPredictions(df, years, iters=51, percent=90):\n",
    "    dependent = 'Black Women'\n",
    "    result_seq = SimulateResults(df, dependent, iters=iters)\n",
    "    p = (100 - percent) / 2\n",
    "    percents = p, 100-p\n",
    "    \n",
    "    predict_seq = GeneratePredictions(result_seq, years, True)\n",
    "    low, high = thinkstats2.PercentileRows(predict_seq, percents)\n",
    "    thinkplot.FillBetween(years, low, high, alpha=0.3, color='gray')\n",
    "    \n",
    "#     predict_seq = GeneratePredictions(result_seq, years, False)\n",
    "#     low, high = thinkstats2.PercentileRows(predict_seq, percents)\n",
    "#     thinkplot.FillBetween(years, low, high, alpha=0.5, color='blue')\n",
    "    \n",
    "    thinkplot.Plot(df_race['Years'], df_race[dependent], label='White Women', color='red')"
   ]
  },
  {
   "cell_type": "code",
   "execution_count": 23,
   "metadata": {},
   "outputs": [
    {
     "data": {
      "image/png": "[encoded data removed]",
      "text/plain": [
       "<Figure size 432x288 with 1 Axes>"
      ]
     },
     "metadata": {
      "needs_background": "light"
     },
     "output_type": "display_data"
    }
   ],
   "source": [
    "years = np.arange(np.min(df_race['Years']), 2030)\n",
    "PlotPredictions(df_race, years=years)"
   ]
  },
  {
   "cell_type": "markdown",
   "metadata": {},
   "source": [
    "## Why?"
   ]
  },
  {
   "cell_type": "code",
   "execution_count": 24,
   "metadata": {},
   "outputs": [],
   "source": [
    "df_race['white_women'] = df_race['White Women']\n",
    "y = np.asarray(df_race['white_women'])\n",
    "x = np.asarray(df_race['Years'])\n",
    "res = sm.OLS(y, x).fit()"
   ]
  },
  {
   "cell_type": "code",
   "execution_count": 25,
   "metadata": {},
   "outputs": [],
   "source": [
    "prstd, iv_l, iv_u = wls_prediction_std(res)\n",
    "y_true = res.fittedvalues"
   ]
  },
  {
   "cell_type": "code",
   "execution_count": 26,
   "metadata": {},
   "outputs": [
    {
     "data": {
      "image/png": "[encoded data removed]",
      "text/plain": [
       "<Figure size 576x432 with 1 Axes>"
      ]
     },
     "metadata": {
      "needs_background": "light"
     },
     "output_type": "display_data"
    }
   ],
   "source": [
    "fig, ax = plt.subplots(figsize=(8,6))\n",
    "\n",
    "ax.plot(x, y, 'o', label=\"data\")\n",
    "ax.plot(x, res.fittedvalues, 'r--.', label=\"OLS\")\n",
    "ax.plot(x, iv_u, 'r--')\n",
    "ax.plot(x, iv_l, 'r--')\n",
    "ax.legend(loc='best');\n",
    "# ax.axis('equal')"
   ]
  },
  {
   "cell_type": "markdown",
   "metadata": {},
   "source": [
    "### thinkstats2 methods"
   ]
  },
  {
   "cell_type": "code",
   "execution_count": 27,
   "metadata": {},
   "outputs": [
    {
     "data": {
      "text/plain": [
       "[<matplotlib.lines.Line2D at 0x1e6db4f3f98>]"
      ]
     },
     "execution_count": 27,
     "metadata": {},
     "output_type": "execute_result"
    },
    {
     "data": {
      "image/png": "[encoded data removed]",
      "text/plain": [
       "<Figure size 576x432 with 1 Axes>"
      ]
     },
     "metadata": {
      "needs_background": "light"
     },
     "output_type": "display_data"
    }
   ],
   "source": [
    "df_race['white_women'] = df_race['White Women']\n",
    "y = np.asarray(df_race['white_women'])\n",
    "x = np.asarray(df_race['Years'])\n",
    "\n",
    "inter, slope = thinkstats2.LeastSquares(x, y)\n",
    "fit_xs, fit_ys = thinkstats2.FitLine(x, inter, slope)\n",
    "    \n",
    "fig, ax = plt.subplots(figsize=(8,6))\n",
    "ax.plot(x, y, 'o', label=\"data\")\n",
    "ax.plot(fit_xs, fit_ys, 'r--.', label=\"OLS\")\n",
    "# ax.axis('equal')"
   ]
  }
 ],
 "metadata": {
  "kernelspec": {
   "display_name": "Python 3",
   "language": "python",
   "name": "python3"
  },
  "language_info": {
   "codemirror_mode": {
    "name": "ipython",
    "version": 3
   },
   "file_extension": ".py",
   "mimetype": "text/x-python",
   "name": "python",
   "nbconvert_exporter": "python",
   "pygments_lexer": "ipython3",
   "version": "3.6.8"
  }
 },
 "nbformat": 4,
 "nbformat_minor": 2
}
