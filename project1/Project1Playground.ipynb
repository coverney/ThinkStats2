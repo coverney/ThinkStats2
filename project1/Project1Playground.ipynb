{
 "cells": [
  {
   "cell_type": "markdown",
   "metadata": {},
   "source": [
    "# Project 1 Playground\n",
    "Workbook for some data analysis experiments. Main goal is to explore how the self-perception of class compares to actual income. \n",
    "\n",
    "Cassandra Overney"
   ]
  },
  {
   "cell_type": "code",
   "execution_count": 1,
   "metadata": {
    "collapsed": true
   },
   "outputs": [],
   "source": [
    "%matplotlib inline\n",
    "\n",
    "import pandas as pd\n",
    "import numpy as np\n",
    "\n",
    "import matplotlib.pyplot as plt\n",
    "import seaborn as sns\n",
    "sns.set(style='white')\n",
    "\n",
    "from utils import decorate\n",
    "from thinkstats2 import Pmf, Cdf\n",
    "\n",
    "import thinkstats2\n",
    "import thinkplot\n",
    "\n",
    "import utils\n",
    "from utils import decorate"
   ]
  },
  {
   "cell_type": "code",
   "execution_count": 2,
   "metadata": {},
   "outputs": [
    {
     "data": {
      "text/html": [
       "<div>\n",
       "<style scoped>\n",
       "    .dataframe tbody tr th:only-of-type {\n",
       "        vertical-align: middle;\n",
       "    }\n",
       "\n",
       "    .dataframe tbody tr th {\n",
       "        vertical-align: top;\n",
       "    }\n",
       "\n",
       "    .dataframe thead th {\n",
       "        text-align: right;\n",
       "    }\n",
       "</style>\n",
       "<table border=\"1\" class=\"dataframe\">\n",
       "  <thead>\n",
       "    <tr style=\"text-align: right;\">\n",
       "      <th></th>\n",
       "      <th>year</th>\n",
       "      <th>rincome</th>\n",
       "      <th>region</th>\n",
       "      <th>srcbelt</th>\n",
       "      <th>partyid</th>\n",
       "      <th>polviews</th>\n",
       "      <th>satjob</th>\n",
       "      <th>class_</th>\n",
       "      <th>satfin</th>\n",
       "      <th>finrela</th>\n",
       "      <th>...</th>\n",
       "      <th>wrkstat</th>\n",
       "      <th>age</th>\n",
       "      <th>educ</th>\n",
       "      <th>sex</th>\n",
       "      <th>race</th>\n",
       "      <th>hompop</th>\n",
       "      <th>babies</th>\n",
       "      <th>preteen</th>\n",
       "      <th>teens</th>\n",
       "      <th>cohort</th>\n",
       "    </tr>\n",
       "  </thead>\n",
       "  <tbody>\n",
       "    <tr>\n",
       "      <th>0</th>\n",
       "      <td>1972</td>\n",
       "      <td>0</td>\n",
       "      <td>3</td>\n",
       "      <td>3</td>\n",
       "      <td>2</td>\n",
       "      <td>0</td>\n",
       "      <td>3</td>\n",
       "      <td>3</td>\n",
       "      <td>3</td>\n",
       "      <td>3</td>\n",
       "      <td>...</td>\n",
       "      <td>1</td>\n",
       "      <td>23</td>\n",
       "      <td>16</td>\n",
       "      <td>2</td>\n",
       "      <td>1</td>\n",
       "      <td>1</td>\n",
       "      <td>0</td>\n",
       "      <td>0</td>\n",
       "      <td>0</td>\n",
       "      <td>1949</td>\n",
       "    </tr>\n",
       "    <tr>\n",
       "      <th>1</th>\n",
       "      <td>1972</td>\n",
       "      <td>0</td>\n",
       "      <td>3</td>\n",
       "      <td>3</td>\n",
       "      <td>1</td>\n",
       "      <td>0</td>\n",
       "      <td>0</td>\n",
       "      <td>3</td>\n",
       "      <td>2</td>\n",
       "      <td>4</td>\n",
       "      <td>...</td>\n",
       "      <td>5</td>\n",
       "      <td>70</td>\n",
       "      <td>10</td>\n",
       "      <td>1</td>\n",
       "      <td>1</td>\n",
       "      <td>2</td>\n",
       "      <td>0</td>\n",
       "      <td>0</td>\n",
       "      <td>0</td>\n",
       "      <td>1902</td>\n",
       "    </tr>\n",
       "    <tr>\n",
       "      <th>2</th>\n",
       "      <td>1972</td>\n",
       "      <td>0</td>\n",
       "      <td>3</td>\n",
       "      <td>3</td>\n",
       "      <td>3</td>\n",
       "      <td>0</td>\n",
       "      <td>2</td>\n",
       "      <td>2</td>\n",
       "      <td>1</td>\n",
       "      <td>3</td>\n",
       "      <td>...</td>\n",
       "      <td>2</td>\n",
       "      <td>48</td>\n",
       "      <td>12</td>\n",
       "      <td>2</td>\n",
       "      <td>1</td>\n",
       "      <td>4</td>\n",
       "      <td>0</td>\n",
       "      <td>1</td>\n",
       "      <td>1</td>\n",
       "      <td>1924</td>\n",
       "    </tr>\n",
       "    <tr>\n",
       "      <th>3</th>\n",
       "      <td>1972</td>\n",
       "      <td>0</td>\n",
       "      <td>3</td>\n",
       "      <td>3</td>\n",
       "      <td>1</td>\n",
       "      <td>0</td>\n",
       "      <td>1</td>\n",
       "      <td>3</td>\n",
       "      <td>3</td>\n",
       "      <td>3</td>\n",
       "      <td>...</td>\n",
       "      <td>1</td>\n",
       "      <td>27</td>\n",
       "      <td>17</td>\n",
       "      <td>2</td>\n",
       "      <td>1</td>\n",
       "      <td>2</td>\n",
       "      <td>0</td>\n",
       "      <td>0</td>\n",
       "      <td>0</td>\n",
       "      <td>1945</td>\n",
       "    </tr>\n",
       "    <tr>\n",
       "      <th>4</th>\n",
       "      <td>1972</td>\n",
       "      <td>0</td>\n",
       "      <td>3</td>\n",
       "      <td>3</td>\n",
       "      <td>0</td>\n",
       "      <td>0</td>\n",
       "      <td>0</td>\n",
       "      <td>2</td>\n",
       "      <td>1</td>\n",
       "      <td>4</td>\n",
       "      <td>...</td>\n",
       "      <td>7</td>\n",
       "      <td>61</td>\n",
       "      <td>12</td>\n",
       "      <td>2</td>\n",
       "      <td>1</td>\n",
       "      <td>2</td>\n",
       "      <td>0</td>\n",
       "      <td>0</td>\n",
       "      <td>0</td>\n",
       "      <td>1911</td>\n",
       "    </tr>\n",
       "  </tbody>\n",
       "</table>\n",
       "<p>5 rows × 25 columns</p>\n",
       "</div>"
      ],
      "text/plain": [
       "   year  rincome  region  srcbelt  partyid  polviews  satjob  class_  satfin  \\\n",
       "0  1972        0       3        3        2         0       3       3       3   \n",
       "1  1972        0       3        3        1         0       0       3       2   \n",
       "2  1972        0       3        3        3         0       2       2       1   \n",
       "3  1972        0       3        3        1         0       1       3       3   \n",
       "4  1972        0       3        3        0         0       0       2       1   \n",
       "\n",
       "   finrela   ...    wrkstat  age  educ  sex  race  hompop  babies  preteen  \\\n",
       "0        3   ...          1   23    16    2     1       1       0        0   \n",
       "1        4   ...          5   70    10    1     1       2       0        0   \n",
       "2        3   ...          2   48    12    2     1       4       0        1   \n",
       "3        3   ...          1   27    17    2     1       2       0        0   \n",
       "4        4   ...          7   61    12    2     1       2       0        0   \n",
       "\n",
       "   teens  cohort  \n",
       "0      0    1949  \n",
       "1      0    1902  \n",
       "2      1    1924  \n",
       "3      0    1945  \n",
       "4      0    1911  \n",
       "\n",
       "[5 rows x 25 columns]"
      ]
     },
     "execution_count": 2,
     "metadata": {},
     "output_type": "execute_result"
    }
   ],
   "source": [
    "# Read in GSS data\n",
    "def read_gss(dirname):\n",
    "    \"\"\"Reads GSS files from the given directory.\n",
    "    \n",
    "    dirname: string\n",
    "    \n",
    "    returns: DataFrame\n",
    "    \"\"\"\n",
    "    dct = utils.read_stata_dict(dirname + '/GSS.dct')\n",
    "    gss = dct.read_fixed_width(dirname + '/GSS.dat')\n",
    "    return gss\n",
    "\n",
    "gss = read_gss('Project1Data')\n",
    "gss.head()"
   ]
  },
  {
   "cell_type": "markdown",
   "metadata": {},
   "source": [
    "First, I will include stuff I did during HW2"
   ]
  },
  {
   "cell_type": "code",
   "execution_count": 3,
   "metadata": {
    "collapsed": true
   },
   "outputs": [],
   "source": [
    "gss.realinc.replace([0], np.nan, inplace=True)\n",
    "gss['class_'].replace([5, 8, 9, 0], np.nan, inplace=True)\n",
    "\n",
    "real_incomes = gss['realinc'] # total family income in constant $1000s (1986)\n",
    "real_incomes_scaled = real_incomes/1000\n",
    "classes = gss['class_'] # subjective class identification"
   ]
  },
  {
   "cell_type": "markdown",
   "metadata": {},
   "source": [
    "Classes have four values:\n",
    "- 1: lower class\n",
    "- 2: working class\n",
    "- 3: middle class\n",
    "- 4: upper class"
   ]
  },
  {
   "cell_type": "code",
   "execution_count": 4,
   "metadata": {},
   "outputs": [
    {
     "data": {
      "image/png": "[encoded data removed]",
      "text/plain": [
       "<Figure size 432x288 with 1 Axes>"
      ]
     },
     "metadata": {},
     "output_type": "display_data"
    }
   ],
   "source": [
    "# Plot CDF of incomes\n",
    "real_incomes_cdf = thinkstats2.Cdf(real_incomes_scaled, label='realinc')\n",
    "thinkplot.Cdf(real_incomes_cdf)\n",
    "decorate(xlabel='Real income ($1000 1986 USD)', ylabel='CDF')"
   ]
  },
  {
   "cell_type": "code",
   "execution_count": 5,
   "metadata": {},
   "outputs": [
    {
     "data": {
      "image/png": "[encoded data removed]",
      "text/plain": [
       "<Figure size 432x288 with 1 Axes>"
      ]
     },
     "metadata": {},
     "output_type": "display_data"
    }
   ],
   "source": [
    "thinkplot.cdf(real_incomes_cdf, label='realinc', complement=True)\n",
    "\n",
    "decorate(title='Distribution of Income', \n",
    "         xlabel='Real income ($1000 1986 USD)', \n",
    "         ylabel='Complementary CDF, log scale',\n",
    "         yscale='log')"
   ]
  },
  {
   "cell_type": "markdown",
   "metadata": {},
   "source": [
    "The distribution looks relatively straight. (I tried a Pareto distribution but it didn't look very straight, which raises some confusion. Maybe since this is scaled to 1986 dollars?) Doesn't look Pareto because cut off the tail. "
   ]
  },
  {
   "cell_type": "markdown",
   "metadata": {},
   "source": [
    "According to investopedia, middle class corresponds to incomes between \\$40,500 and \\$122,000, lower class corresponds to incomes below \\$40,500, and upper class corresponds to incomes above \\$122,000. GSS includes a working class which I estimate to be between \\$14,000 and \\$40,500, so I will break up the lower class into working and lower.     \n",
    "\n",
    "I used an inflation calculator (https://www.usinflationcalculator.com/) to translate my 2017 income class values to 1986 amounts. Lower class is below \\$6,259.79; working class is between \\$6,259.79 and \\$18,108.68; middle class is between \\$18,108.68 and \\$54,549.61; and upper class is above \\$54,549.61."
   ]
  },
  {
   "cell_type": "code",
   "execution_count": 6,
   "metadata": {},
   "outputs": [
    {
     "name": "stdout",
     "output_type": "stream",
     "text": [
      "0    3\n",
      "1    3\n",
      "2    3\n",
      "3    3\n",
      "4    3\n",
      "dtype: int64\n"
     ]
    }
   ],
   "source": [
    "calculated_classes = []\n",
    "for income in real_incomes:\n",
    "    if income > 54549.61:\n",
    "        # upper class\n",
    "        calculated_classes.append(4)\n",
    "    elif income <= 54549.61 and income > 18108.68:\n",
    "        # middle class\n",
    "        calculated_classes.append(3)\n",
    "    elif income <= 18108.68 and income > 6259.79:\n",
    "        # working class\n",
    "        calculated_classes.append(2)\n",
    "    elif income <= 6259.79:\n",
    "        # lower class\n",
    "        calculated_classes.append(1)\n",
    "calculated_classes = pd.Series(calculated_classes)\n",
    "print(calculated_classes.head())"
   ]
  },
  {
   "cell_type": "code",
   "execution_count": 7,
   "metadata": {},
   "outputs": [
    {
     "data": {
      "image/png": "[encoded data removed]",
      "text/plain": [
       "<Figure size 432x288 with 1 Axes>"
      ]
     },
     "metadata": {},
     "output_type": "display_data"
    }
   ],
   "source": [
    "# Plot simple histograms for comparison\n",
    "calculated_classes_hist = thinkstats2.Hist(calculated_classes, label='calculated class')\n",
    "classes_hist = thinkstats2.Hist(classes, label='reported class')\n",
    "width = 0.45\n",
    "thinkplot.PrePlot(2)\n",
    "thinkplot.Hist(calculated_classes_hist, align='right', width=width)\n",
    "thinkplot.Hist(classes_hist, align='left', width=width)\n",
    "thinkplot.Config(title='Comparison between calculated class and self reported class', xlabel='Class', ylabel='Count', xticks=[1, 2, 3, 4])"
   ]
  },
  {
   "cell_type": "markdown",
   "metadata": {},
   "source": [
    "It seems like people may think they are in a lower class than they actually are with most people considering themselves as part of the working or middle classes. The difference is especially apparent in the working class (more people think they are in that class than they actually are). Also, more people qualify as upper class than they think. This observation is beautifully summarized by Stephen Rose's quote that “because people tend to live in communities with similar incomes, they view themselves as being near the middle because their neighbors’ circumstances are similar to their own even if their incomes are significantly below or above the US median.”"
   ]
  },
  {
   "cell_type": "code",
   "execution_count": 8,
   "metadata": {},
   "outputs": [
    {
     "data": {
      "text/plain": [
       "-0.2521712437405217"
      ]
     },
     "execution_count": 8,
     "metadata": {},
     "output_type": "execute_result"
    }
   ],
   "source": [
    "# Find cohen effect size\n",
    "cohen = thinkstats2.CohenEffectSize(classes, calculated_classes)\n",
    "cohen"
   ]
  },
  {
   "cell_type": "markdown",
   "metadata": {},
   "source": [
    "The Cohen effect size is relatively large, indicating that reported classes tend to be lower than actual classes."
   ]
  },
  {
   "cell_type": "markdown",
   "metadata": {},
   "source": [
    "I did some more research on what constitutes different income classes and found the following information:\n",
    "- Middle class means earning between 2/3 and double the median household income **after incomes have been adjusted for household size**.\n",
    "- Lower income group is divided into lowest-income households and lower-middle income households (working class). Lower class means earning less than half of median. Working class means earning between 1/2 and 2/3 median. \n",
    "- Upper class means earning more than double the median\n",
    "- Incomes can be adjusted for household size and scaled to reflect houseful size of three. Placed in incomes tiers based on household income in calendar year previous to survey year. \n",
    "- Adjusted income = Household income / (Household size)^N, N=0.5 since standard\n",
    "- Three-person household income = Adjusted household income * [(3)^0.5]\n",
    "- Median household income in US changed over time (beyond inflation), so mere inflation adjustment doesn't work. \n",
    "- Good variable for self-perception on class is **subjective class**.\n",
    "- Income data adjusted for inflation using Consumer Price Index Research Series (CPI-U-RS), which is important for measures of absolute progress over time.\n",
    "- Inflation-adjusted estimate = year estimate * (ref CPI-U-RS / year CPI-U-RS)"
   ]
  },
  {
   "cell_type": "markdown",
   "metadata": {},
   "source": [
    "My plan is to use the realinc data and convert to constant 2015 dollars since that probably makes more sense. I got median incomes in 2015 dollars. From there I will adjust the incomes based on the household size. \n",
    "\n",
    "**Need to find data for median household size for median household incomes** After looking at the average median household sizes, I am fairly confident that the median household size from 1971 to 2015 is 3, so I don't need to adjust the medians for household size. \n",
    "\n",
    "After that, I will use newly adjusted median incomes to calculate income classes for each respondent."
   ]
  },
  {
   "cell_type": "code",
   "execution_count": 9,
   "metadata": {
    "scrolled": true
   },
   "outputs": [
    {
     "name": "stdout",
     "output_type": "stream",
     "text": [
      "[2015, 2014, '2013_2', 2013, 2012, 2011, 2010, 2009, 2008, 2007, 2006, 2005, 2004, 2003, 2002, 2001, 2000, 1999, 1998, 1997, 1996, 1995, 1994, 1993, 1992, 1991, 1990, 1989, 1988, 1987, 1986, 1985, 1984, 1983, 1982, 1981, 1980, 1979, 1978, 1977, 1976, 1975, 1974, 1973, 1972, 1971]\n"
     ]
    },
    {
     "data": {
      "text/html": [
       "<div>\n",
       "<style scoped>\n",
       "    .dataframe tbody tr th:only-of-type {\n",
       "        vertical-align: middle;\n",
       "    }\n",
       "\n",
       "    .dataframe tbody tr th {\n",
       "        vertical-align: top;\n",
       "    }\n",
       "\n",
       "    .dataframe thead th {\n",
       "        text-align: right;\n",
       "    }\n",
       "</style>\n",
       "<table border=\"1\" class=\"dataframe\">\n",
       "  <thead>\n",
       "    <tr style=\"text-align: right;\">\n",
       "      <th></th>\n",
       "      <th>Median income (dollars)</th>\n",
       "    </tr>\n",
       "  </thead>\n",
       "  <tbody>\n",
       "    <tr>\n",
       "      <th>2015</th>\n",
       "      <td>56516</td>\n",
       "    </tr>\n",
       "    <tr>\n",
       "      <th>2014</th>\n",
       "      <td>53718</td>\n",
       "    </tr>\n",
       "    <tr>\n",
       "      <th>2013</th>\n",
       "      <td>52850.1</td>\n",
       "    </tr>\n",
       "    <tr>\n",
       "      <th>2012</th>\n",
       "      <td>52665.9</td>\n",
       "    </tr>\n",
       "    <tr>\n",
       "      <th>2011</th>\n",
       "      <td>52750.6</td>\n",
       "    </tr>\n",
       "    <tr>\n",
       "      <th>2010</th>\n",
       "      <td>53568.2</td>\n",
       "    </tr>\n",
       "    <tr>\n",
       "      <th>2009</th>\n",
       "      <td>54988.4</td>\n",
       "    </tr>\n",
       "    <tr>\n",
       "      <th>2008</th>\n",
       "      <td>55376.2</td>\n",
       "    </tr>\n",
       "    <tr>\n",
       "      <th>2007</th>\n",
       "      <td>57423.3</td>\n",
       "    </tr>\n",
       "    <tr>\n",
       "      <th>2006</th>\n",
       "      <td>56663</td>\n",
       "    </tr>\n",
       "    <tr>\n",
       "      <th>2005</th>\n",
       "      <td>56224.2</td>\n",
       "    </tr>\n",
       "    <tr>\n",
       "      <th>2004</th>\n",
       "      <td>55629.2</td>\n",
       "    </tr>\n",
       "    <tr>\n",
       "      <th>2003</th>\n",
       "      <td>55822.8</td>\n",
       "    </tr>\n",
       "    <tr>\n",
       "      <th>2002</th>\n",
       "      <td>55871.4</td>\n",
       "    </tr>\n",
       "    <tr>\n",
       "      <th>2001</th>\n",
       "      <td>56531.3</td>\n",
       "    </tr>\n",
       "    <tr>\n",
       "      <th>2000</th>\n",
       "      <td>57790.2</td>\n",
       "    </tr>\n",
       "    <tr>\n",
       "      <th>1999</th>\n",
       "      <td>57909.1</td>\n",
       "    </tr>\n",
       "    <tr>\n",
       "      <th>1998</th>\n",
       "      <td>56509.8</td>\n",
       "    </tr>\n",
       "    <tr>\n",
       "      <th>1997</th>\n",
       "      <td>54505.7</td>\n",
       "    </tr>\n",
       "    <tr>\n",
       "      <th>1996</th>\n",
       "      <td>53406.7</td>\n",
       "    </tr>\n",
       "    <tr>\n",
       "      <th>1995</th>\n",
       "      <td>52664.3</td>\n",
       "    </tr>\n",
       "    <tr>\n",
       "      <th>1994</th>\n",
       "      <td>51065.1</td>\n",
       "    </tr>\n",
       "    <tr>\n",
       "      <th>1993</th>\n",
       "      <td>50478.5</td>\n",
       "    </tr>\n",
       "    <tr>\n",
       "      <th>1992</th>\n",
       "      <td>50724.9</td>\n",
       "    </tr>\n",
       "    <tr>\n",
       "      <th>1991</th>\n",
       "      <td>51145.2</td>\n",
       "    </tr>\n",
       "    <tr>\n",
       "      <th>1990</th>\n",
       "      <td>52683.9</td>\n",
       "    </tr>\n",
       "    <tr>\n",
       "      <th>1989</th>\n",
       "      <td>53367.3</td>\n",
       "    </tr>\n",
       "    <tr>\n",
       "      <th>1988</th>\n",
       "      <td>52432.2</td>\n",
       "    </tr>\n",
       "    <tr>\n",
       "      <th>1987</th>\n",
       "      <td>52032.3</td>\n",
       "    </tr>\n",
       "    <tr>\n",
       "      <th>1986</th>\n",
       "      <td>51387.9</td>\n",
       "    </tr>\n",
       "    <tr>\n",
       "      <th>1985</th>\n",
       "      <td>49630.6</td>\n",
       "    </tr>\n",
       "    <tr>\n",
       "      <th>1984</th>\n",
       "      <td>48719.7</td>\n",
       "    </tr>\n",
       "    <tr>\n",
       "      <th>1983</th>\n",
       "      <td>47283.2</td>\n",
       "    </tr>\n",
       "    <tr>\n",
       "      <th>1982</th>\n",
       "      <td>47585</td>\n",
       "    </tr>\n",
       "    <tr>\n",
       "      <th>1981</th>\n",
       "      <td>47712.4</td>\n",
       "    </tr>\n",
       "    <tr>\n",
       "      <th>1980</th>\n",
       "      <td>48517.9</td>\n",
       "    </tr>\n",
       "    <tr>\n",
       "      <th>1979</th>\n",
       "      <td>50146.3</td>\n",
       "    </tr>\n",
       "    <tr>\n",
       "      <th>1978</th>\n",
       "      <td>50242.2</td>\n",
       "    </tr>\n",
       "    <tr>\n",
       "      <th>1977</th>\n",
       "      <td>48370.2</td>\n",
       "    </tr>\n",
       "    <tr>\n",
       "      <th>1976</th>\n",
       "      <td>48066</td>\n",
       "    </tr>\n",
       "    <tr>\n",
       "      <th>1975</th>\n",
       "      <td>47281.5</td>\n",
       "    </tr>\n",
       "    <tr>\n",
       "      <th>1974</th>\n",
       "      <td>48552.9</td>\n",
       "    </tr>\n",
       "    <tr>\n",
       "      <th>1973</th>\n",
       "      <td>50140.8</td>\n",
       "    </tr>\n",
       "    <tr>\n",
       "      <th>1972</th>\n",
       "      <td>49148.4</td>\n",
       "    </tr>\n",
       "    <tr>\n",
       "      <th>1971</th>\n",
       "      <td>47129.7</td>\n",
       "    </tr>\n",
       "  </tbody>\n",
       "</table>\n",
       "</div>"
      ],
      "text/plain": [
       "     Median income (dollars)\n",
       "2015                   56516\n",
       "2014                   53718\n",
       "2013                 52850.1\n",
       "2012                 52665.9\n",
       "2011                 52750.6\n",
       "2010                 53568.2\n",
       "2009                 54988.4\n",
       "2008                 55376.2\n",
       "2007                 57423.3\n",
       "2006                   56663\n",
       "2005                 56224.2\n",
       "2004                 55629.2\n",
       "2003                 55822.8\n",
       "2002                 55871.4\n",
       "2001                 56531.3\n",
       "2000                 57790.2\n",
       "1999                 57909.1\n",
       "1998                 56509.8\n",
       "1997                 54505.7\n",
       "1996                 53406.7\n",
       "1995                 52664.3\n",
       "1994                 51065.1\n",
       "1993                 50478.5\n",
       "1992                 50724.9\n",
       "1991                 51145.2\n",
       "1990                 52683.9\n",
       "1989                 53367.3\n",
       "1988                 52432.2\n",
       "1987                 52032.3\n",
       "1986                 51387.9\n",
       "1985                 49630.6\n",
       "1984                 48719.7\n",
       "1983                 47283.2\n",
       "1982                   47585\n",
       "1981                 47712.4\n",
       "1980                 48517.9\n",
       "1979                 50146.3\n",
       "1978                 50242.2\n",
       "1977                 48370.2\n",
       "1976                   48066\n",
       "1975                 47281.5\n",
       "1974                 48552.9\n",
       "1973                 50140.8\n",
       "1972                 49148.4\n",
       "1971                 47129.7"
      ]
     },
     "execution_count": 9,
     "metadata": {},
     "output_type": "execute_result"
    }
   ],
   "source": [
    "# Read in median income data from Excel file from specific column and rows\n",
    "median_income_file = 'Project1Data/median_income.xls'\n",
    "median_income_df = pd.read_excel(median_income_file, index_col=None, na_values=['NA'], usecols=\"M\").iloc[1:47]\n",
    "# Generate list of years as strings\n",
    "years = list(range(2015, 1970, -1))\n",
    "years.insert(2, '2013_2') # Add another 2013 to account for two 2013 median incomes\n",
    "print(years)\n",
    "median_income_df.index = years # Set the index to years\n",
    "median_income_df = median_income_df.drop(median_income_df.index[[2]]) # drop the first 2013 (has higher SE)\n",
    "median_income_df"
   ]
  },
  {
   "cell_type": "code",
   "execution_count": 10,
   "metadata": {
    "collapsed": true
   },
   "outputs": [],
   "source": [
    "# Convert realinc data to constant 2015 dollars\n",
    "cpi_ratio = 348.9/168.6\n",
    "real_incomes_2015 = real_incomes*cpi_ratio"
   ]
  },
  {
   "cell_type": "code",
   "execution_count": 11,
   "metadata": {
    "collapsed": true
   },
   "outputs": [],
   "source": [
    "# Adjust income for household size (to 3 person household)\n",
    "gss['hompop'].replace([99], np.nan, inplace=True)\n",
    "household_sizes = gss['hompop']\n",
    "adjusted_real_incomes_2015 = (real_incomes_2015/(household_sizes**0.5))*(3**0.5)"
   ]
  },
  {
   "cell_type": "code",
   "execution_count": 21,
   "metadata": {},
   "outputs": [
    {
     "name": "stdout",
     "output_type": "stream",
     "text": [
      "0    3.0\n",
      "1    3.0\n",
      "2    3.0\n",
      "3    3.0\n",
      "4    4.0\n",
      "dtype: float64\n"
     ]
    }
   ],
   "source": [
    "# Calculate income classes\n",
    "income_years = gss['year'] - 1 # minus 1 since report last year's income\n",
    "income_classes = []\n",
    "for index, resp_yr in enumerate(income_years):\n",
    "    temp_median = median_income_df.loc[resp_yr]['Median income (dollars)']\n",
    "    temp_income = adjusted_real_incomes_2015[index]\n",
    "    temp_prop = temp_income/temp_median\n",
    "    if temp_prop > 2:\n",
    "        # upper\n",
    "        income_classes.append(4)\n",
    "    elif temp_prop <= 2 and temp_prop >= (2/3):\n",
    "        # middle \n",
    "        income_classes.append(3)\n",
    "    elif temp_prop >= (1/2) and temp_prop < (2/3):\n",
    "        # working\n",
    "        income_classes.append(2)\n",
    "    elif temp_prop < (1/2):\n",
    "        # lower\n",
    "        income_classes.append(1)\n",
    "    else:\n",
    "        # nan\n",
    "        income_classes.append(np.nan)\n",
    "\n",
    "income_classes = pd.Series(income_classes)\n",
    "print(income_classes.head())"
   ]
  },
  {
   "cell_type": "code",
   "execution_count": 13,
   "metadata": {},
   "outputs": [
    {
     "data": {
      "image/png": "[encoded data removed]",
      "text/plain": [
       "<Figure size 432x288 with 1 Axes>"
      ]
     },
     "metadata": {},
     "output_type": "display_data"
    }
   ],
   "source": [
    "# Plot simple histograms for comparison\n",
    "income_classes_hist = thinkstats2.Hist(income_classes, label='income class')\n",
    "classes_hist = thinkstats2.Hist(classes, label='subjective class')\n",
    "width = 0.45\n",
    "thinkplot.PrePlot(2)\n",
    "thinkplot.Hist(income_classes_hist, align='right', width=width)\n",
    "thinkplot.Hist(classes_hist, align='left', width=width)\n",
    "thinkplot.Config(title='Comparison between income class and subjective class', xlabel='Class', ylabel='Count', xticks=[1, 2, 3, 4])"
   ]
  },
  {
   "cell_type": "markdown",
   "metadata": {},
   "source": [
    "Observations from histogram above:\n",
    "- More lower income class than lower subjective class\n",
    "- More respondents view themselves as being in the working or middle classes. \n",
    "- Most respondents are in the middle class. \n",
    "- More upper income class than upper subjective class.\n",
    "- The most significant difference between income class and subjective class is seen in the working class. "
   ]
  },
  {
   "cell_type": "code",
   "execution_count": 14,
   "metadata": {},
   "outputs": [
    {
     "data": {
      "text/plain": [
       "-0.2628451872068792"
      ]
     },
     "execution_count": 14,
     "metadata": {},
     "output_type": "execute_result"
    }
   ],
   "source": [
    "# Find cohen effect size\n",
    "cohen2 = thinkstats2.CohenEffectSize(classes, income_classes)\n",
    "cohen2"
   ]
  },
  {
   "cell_type": "markdown",
   "metadata": {},
   "source": [
    "Pairwise gives Confusion matrix (guesses on one axis and reality on another axis) 4*4, numbers, colored by density "
   ]
  },
  {
   "cell_type": "code",
   "execution_count": 24,
   "metadata": {},
   "outputs": [],
   "source": [
    "from pandas_ml import ConfusionMatrix\n",
    "import matplotlib.pyplot as plt"
   ]
  },
  {
   "cell_type": "code",
   "execution_count": 23,
   "metadata": {},
   "outputs": [
    {
     "name": "stdout",
     "output_type": "stream",
     "text": [
      "62466 62466\n",
      "Confusion matrix:\n",
      "Predicted   1.0    2.0    3.0   4.0  __all__\n",
      "Actual                                      \n",
      "1.0        2190   5696   3326   261    11473\n",
      "2.0         395   2849   1360    64     4668\n",
      "3.0         629  13837  11869   334    26669\n",
      "4.0          42   2247   7090   991    10370\n",
      "__all__    3256  24629  23645  1650    53180\n"
     ]
    }
   ],
   "source": [
    "print(len(income_classes), len(classes))\n",
    "class_true = income_classes\n",
    "class_pred = classes\n",
    "confusion_matrix = ConfusionMatrix(class_true, class_pred)\n",
    "print(\"Confusion matrix:\\n%s\" % confusion_matrix)"
   ]
  },
  {
   "cell_type": "code",
   "execution_count": 27,
   "metadata": {},
   "outputs": [
    {
     "data": {
      "image/png": "[encoded data removed]",
      "text/plain": [
       "<Figure size 648x576 with 2 Axes>"
      ]
     },
     "metadata": {},
     "output_type": "display_data"
    }
   ],
   "source": [
    "confusion_matrix.plot()\n",
    "plt.show()"
   ]
  },
  {
   "cell_type": "markdown",
   "metadata": {},
   "source": [
    "Delve into variables and confusion matrix."
   ]
  },
  {
   "cell_type": "markdown",
   "metadata": {},
   "source": [
    "My immediate next steps involve:\n",
    "- Ask for confirmation on current income class calculation method (does it account for potential period effects?) Sounds reasonable\n",
    "- Might have potential cohort and age effects (assume how people think about subjective class doesn't change over time)\n",
    "- Attempt pairwise comparisons (confusion matrix)\n",
    "- What is the distribution of subjective class and how has it changed over time?\n",
    "- Look at other subjective income related variables (stfin, finrela)\n",
    "- Subgroups (srcbelt, education, race, sex, region)\n",
    "- Other interesting variables (wrkstat, satjob, partyid, polviews)"
   ]
  },
  {
   "cell_type": "markdown",
   "metadata": {},
   "source": [
    "Resources:\n",
    "- [Pew article](http://www.pewsocialtrends.org/2015/12/09/the-american-middle-class-is-losing-ground/#fnref-21084-7)\n",
    "- https://www.investopedia.com/financial-edge/0912/which-income-class-are-you.aspx\n",
    "- https://finance.zacks.com/lower-middle-upper-class-income-levels-9877.html\n",
    "- https://en.wikipedia.org/wiki/Social_class_in_the_United_States\n",
    "- https://courses.lumenlearning.com/boundless-sociology/chapter/the-class-structure-in-the-u-s/\n",
    "- [Paper on Popular Conception of Class](http://ucdata.berkeley.edu/rsfcensus/papers/Hout-ClassIDJan07.pdf)\n",
    "- [Census Bureau Data 2017](https://www.census.gov/library/publications/2018/demo/p60-263.html)\n",
    "- [Census Bureau Data 2015](https://www.census.gov/library/publications/2016/demo/p60-256.html)\n",
    "- [Census Bureau Current vs Real](https://www.census.gov/topics/income-poverty/income/guidance/current-vs-constant-dollars.html)\n",
    "- [GSS Income Variables](http://gss.norc.org/Documents/reports/methodological-reports/MR064.pdf)\n",
    "- [\"What Is Considered Middle Class Income?\"](https://www.thebalance.com/definition-of-middle-class-income-4126870)"
   ]
  },
  {
   "cell_type": "code",
   "execution_count": null,
   "metadata": {
    "collapsed": true
   },
   "outputs": [],
   "source": []
  }
 ],
 "metadata": {
  "kernelspec": {
   "display_name": "Python 3",
   "language": "python",
   "name": "python3"
  },
  "language_info": {
   "codemirror_mode": {
    "name": "ipython",
    "version": 3
   },
   "file_extension": ".py",
   "mimetype": "text/x-python",
   "name": "python",
   "nbconvert_exporter": "python",
   "pygments_lexer": "ipython3",
   "version": "3.6.1"
  }
 },
 "nbformat": 4,
 "nbformat_minor": 2
}
