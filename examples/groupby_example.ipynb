{
 "cells": [
  {
   "cell_type": "markdown",
   "metadata": {},
   "source": [
    "# GroupBy examples\n",
    "\n",
    "Allen Downey\n",
    "\n",
    "[MIT License](https://en.wikipedia.org/wiki/MIT_License)"
   ]
  },
  {
   "cell_type": "code",
   "execution_count": 1,
   "metadata": {
    "collapsed": true
   },
   "outputs": [],
   "source": [
    "%matplotlib inline\n",
    "\n",
    "import pandas as pd\n",
    "import numpy as np\n",
    "\n",
    "import matplotlib.pyplot as plt\n",
    "import seaborn as sns\n",
    "sns.set(style='white')\n",
    "\n",
    "from thinkstats2 import Pmf, Cdf\n",
    "\n",
    "import thinkstats2\n",
    "import thinkplot\n",
    "\n",
    "decorate = thinkplot.config"
   ]
  },
  {
   "cell_type": "markdown",
   "metadata": {},
   "source": [
    "Let's load the GSS dataset."
   ]
  },
  {
   "cell_type": "code",
   "execution_count": 2,
   "metadata": {},
   "outputs": [
    {
     "name": "stdout",
     "output_type": "stream",
     "text": [
      "Wall time: 122 ms\n"
     ]
    },
    {
     "data": {
      "text/html": [
       "<div>\n",
       "<style scoped>\n",
       "    .dataframe tbody tr th:only-of-type {\n",
       "        vertical-align: middle;\n",
       "    }\n",
       "\n",
       "    .dataframe tbody tr th {\n",
       "        vertical-align: top;\n",
       "    }\n",
       "\n",
       "    .dataframe thead th {\n",
       "        text-align: right;\n",
       "    }\n",
       "</style>\n",
       "<table border=\"1\" class=\"dataframe\">\n",
       "  <thead>\n",
       "    <tr style=\"text-align: right;\">\n",
       "      <th></th>\n",
       "      <th>year</th>\n",
       "      <th>id_</th>\n",
       "      <th>agewed</th>\n",
       "      <th>divorce</th>\n",
       "      <th>sibs</th>\n",
       "      <th>childs</th>\n",
       "      <th>age</th>\n",
       "      <th>educ</th>\n",
       "      <th>paeduc</th>\n",
       "      <th>maeduc</th>\n",
       "      <th>...</th>\n",
       "      <th>memchurh</th>\n",
       "      <th>realinc</th>\n",
       "      <th>cohort</th>\n",
       "      <th>marcohrt</th>\n",
       "      <th>ballot</th>\n",
       "      <th>wtssall</th>\n",
       "      <th>adults</th>\n",
       "      <th>compuse</th>\n",
       "      <th>databank</th>\n",
       "      <th>wtssnr</th>\n",
       "    </tr>\n",
       "  </thead>\n",
       "  <tbody>\n",
       "    <tr>\n",
       "      <th>0</th>\n",
       "      <td>1972</td>\n",
       "      <td>167</td>\n",
       "      <td>NaN</td>\n",
       "      <td>0</td>\n",
       "      <td>2</td>\n",
       "      <td>0</td>\n",
       "      <td>26.0</td>\n",
       "      <td>18.0</td>\n",
       "      <td>12</td>\n",
       "      <td>12</td>\n",
       "      <td>...</td>\n",
       "      <td>0</td>\n",
       "      <td>13537.0</td>\n",
       "      <td>1946.0</td>\n",
       "      <td>0</td>\n",
       "      <td>0</td>\n",
       "      <td>0.8893</td>\n",
       "      <td>2.0</td>\n",
       "      <td>0</td>\n",
       "      <td>0</td>\n",
       "      <td>1.0</td>\n",
       "    </tr>\n",
       "    <tr>\n",
       "      <th>1</th>\n",
       "      <td>1972</td>\n",
       "      <td>1256</td>\n",
       "      <td>30.0</td>\n",
       "      <td>2</td>\n",
       "      <td>0</td>\n",
       "      <td>1</td>\n",
       "      <td>38.0</td>\n",
       "      <td>12.0</td>\n",
       "      <td>97</td>\n",
       "      <td>99</td>\n",
       "      <td>...</td>\n",
       "      <td>0</td>\n",
       "      <td>18951.0</td>\n",
       "      <td>1934.0</td>\n",
       "      <td>1964</td>\n",
       "      <td>0</td>\n",
       "      <td>0.4446</td>\n",
       "      <td>1.0</td>\n",
       "      <td>0</td>\n",
       "      <td>0</td>\n",
       "      <td>1.0</td>\n",
       "    </tr>\n",
       "    <tr>\n",
       "      <th>2</th>\n",
       "      <td>1972</td>\n",
       "      <td>415</td>\n",
       "      <td>NaN</td>\n",
       "      <td>0</td>\n",
       "      <td>7</td>\n",
       "      <td>0</td>\n",
       "      <td>57.0</td>\n",
       "      <td>12.0</td>\n",
       "      <td>7</td>\n",
       "      <td>7</td>\n",
       "      <td>...</td>\n",
       "      <td>0</td>\n",
       "      <td>30458.0</td>\n",
       "      <td>1915.0</td>\n",
       "      <td>0</td>\n",
       "      <td>0</td>\n",
       "      <td>1.3339</td>\n",
       "      <td>3.0</td>\n",
       "      <td>0</td>\n",
       "      <td>0</td>\n",
       "      <td>1.0</td>\n",
       "    </tr>\n",
       "    <tr>\n",
       "      <th>3</th>\n",
       "      <td>1972</td>\n",
       "      <td>234</td>\n",
       "      <td>18.0</td>\n",
       "      <td>1</td>\n",
       "      <td>6</td>\n",
       "      <td>3</td>\n",
       "      <td>61.0</td>\n",
       "      <td>14.0</td>\n",
       "      <td>8</td>\n",
       "      <td>5</td>\n",
       "      <td>...</td>\n",
       "      <td>0</td>\n",
       "      <td>37226.0</td>\n",
       "      <td>1911.0</td>\n",
       "      <td>1929</td>\n",
       "      <td>0</td>\n",
       "      <td>0.8893</td>\n",
       "      <td>2.0</td>\n",
       "      <td>0</td>\n",
       "      <td>0</td>\n",
       "      <td>1.0</td>\n",
       "    </tr>\n",
       "    <tr>\n",
       "      <th>4</th>\n",
       "      <td>1972</td>\n",
       "      <td>554</td>\n",
       "      <td>22.0</td>\n",
       "      <td>2</td>\n",
       "      <td>3</td>\n",
       "      <td>3</td>\n",
       "      <td>59.0</td>\n",
       "      <td>12.0</td>\n",
       "      <td>6</td>\n",
       "      <td>11</td>\n",
       "      <td>...</td>\n",
       "      <td>0</td>\n",
       "      <td>30458.0</td>\n",
       "      <td>1913.0</td>\n",
       "      <td>1935</td>\n",
       "      <td>0</td>\n",
       "      <td>0.8893</td>\n",
       "      <td>2.0</td>\n",
       "      <td>0</td>\n",
       "      <td>0</td>\n",
       "      <td>1.0</td>\n",
       "    </tr>\n",
       "  </tbody>\n",
       "</table>\n",
       "<p>5 rows × 101 columns</p>\n",
       "</div>"
      ],
      "text/plain": [
       "   year   id_  agewed  divorce  sibs  childs   age  educ  paeduc  maeduc  \\\n",
       "0  1972   167     NaN        0     2       0  26.0  18.0      12      12   \n",
       "1  1972  1256    30.0        2     0       1  38.0  12.0      97      99   \n",
       "2  1972   415     NaN        0     7       0  57.0  12.0       7       7   \n",
       "3  1972   234    18.0        1     6       3  61.0  14.0       8       5   \n",
       "4  1972   554    22.0        2     3       3  59.0  12.0       6      11   \n",
       "\n",
       "    ...    memchurh  realinc  cohort  marcohrt  ballot  wtssall  adults  \\\n",
       "0   ...           0  13537.0  1946.0         0       0   0.8893     2.0   \n",
       "1   ...           0  18951.0  1934.0      1964       0   0.4446     1.0   \n",
       "2   ...           0  30458.0  1915.0         0       0   1.3339     3.0   \n",
       "3   ...           0  37226.0  1911.0      1929       0   0.8893     2.0   \n",
       "4   ...           0  30458.0  1913.0      1935       0   0.8893     2.0   \n",
       "\n",
       "   compuse  databank  wtssnr  \n",
       "0        0         0     1.0  \n",
       "1        0         0     1.0  \n",
       "2        0         0     1.0  \n",
       "3        0         0     1.0  \n",
       "4        0         0     1.0  \n",
       "\n",
       "[5 rows x 101 columns]"
      ]
     },
     "execution_count": 2,
     "metadata": {},
     "output_type": "execute_result"
    }
   ],
   "source": [
    "%time gss = pd.read_hdf('../homeworks/gss.hdf5', 'gss')\n",
    "gss.head()"
   ]
  },
  {
   "cell_type": "code",
   "execution_count": 3,
   "metadata": {
    "collapsed": true
   },
   "outputs": [],
   "source": [
    "def counts(series):\n",
    "    return series.value_counts(sort=False).sort_index()"
   ]
  },
  {
   "cell_type": "markdown",
   "metadata": {},
   "source": [
    "The GSS interviews a few thousand respondents each year."
   ]
  },
  {
   "cell_type": "code",
   "execution_count": 4,
   "metadata": {},
   "outputs": [
    {
     "data": {
      "text/plain": [
       "1972    1613\n",
       "1973    1504\n",
       "1974    1484\n",
       "1975    1490\n",
       "1976    1499\n",
       "1977    1530\n",
       "1978    1532\n",
       "1980    1468\n",
       "1982    1860\n",
       "1983    1599\n",
       "1984    1473\n",
       "1985    1534\n",
       "1986    1470\n",
       "1987    1819\n",
       "1988    1481\n",
       "1989    1537\n",
       "1990    1372\n",
       "1991    1517\n",
       "1993    1606\n",
       "1994    2992\n",
       "1996    2904\n",
       "1998    2832\n",
       "2000    2817\n",
       "2002    2765\n",
       "2004    2812\n",
       "2006    4510\n",
       "2008    2023\n",
       "2010    2044\n",
       "2012    1974\n",
       "2014    2538\n",
       "2016    2867\n",
       "Name: year, dtype: int64"
      ]
     },
     "execution_count": 4,
     "metadata": {},
     "output_type": "execute_result"
    }
   ],
   "source": [
    "counts(gss['year'])"
   ]
  },
  {
   "cell_type": "markdown",
   "metadata": {},
   "source": [
    "One of the [questions](https://gssdataexplorer.norc.org/projects/52787/variables/285/vshow) they ask is \"Do you think the use of marijuana should be made legal or not?\"\n",
    "\n",
    "The answer codes are:\n",
    "\n",
    "```\n",
    "1\tLegal\n",
    "2\tNot legal\n",
    "8\tDon't know\n",
    "9\tNo answer\n",
    "0\tNot applicable\n",
    "```\n",
    "\n",
    "Here is the distribution of responses for all years."
   ]
  },
  {
   "cell_type": "code",
   "execution_count": 5,
   "metadata": {},
   "outputs": [
    {
     "data": {
      "text/plain": [
       "0    24398\n",
       "1    11027\n",
       "2    25195\n",
       "8     1733\n",
       "9      113\n",
       "Name: grass, dtype: int64"
      ]
     },
     "execution_count": 5,
     "metadata": {},
     "output_type": "execute_result"
    }
   ],
   "source": [
    "counts(gss['grass'])"
   ]
  },
  {
   "cell_type": "markdown",
   "metadata": {},
   "source": [
    "I'll replace \"Don't know\", \"No answer\", and \"Not applicable\" with NaN."
   ]
  },
  {
   "cell_type": "code",
   "execution_count": 6,
   "metadata": {
    "collapsed": true
   },
   "outputs": [],
   "source": [
    "gss['grass'].replace([0,8,9], np.nan, inplace=True)"
   ]
  },
  {
   "cell_type": "markdown",
   "metadata": {},
   "source": [
    "And replace `2`, which represents \"No\", with `1`.  That way we can use `mean` to compute the fraction in favor."
   ]
  },
  {
   "cell_type": "code",
   "execution_count": 7,
   "metadata": {
    "collapsed": true
   },
   "outputs": [],
   "source": [
    "gss['grass'].replace(2, 0, inplace=True)"
   ]
  },
  {
   "cell_type": "markdown",
   "metadata": {},
   "source": [
    "Here are the value counts after replacement."
   ]
  },
  {
   "cell_type": "code",
   "execution_count": 8,
   "metadata": {},
   "outputs": [
    {
     "data": {
      "text/plain": [
       "0.0    25195\n",
       "1.0    11027\n",
       "Name: grass, dtype: int64"
      ]
     },
     "execution_count": 8,
     "metadata": {},
     "output_type": "execute_result"
    }
   ],
   "source": [
    "counts(gss['grass'])"
   ]
  },
  {
   "cell_type": "markdown",
   "metadata": {},
   "source": [
    "And here's the mean."
   ]
  },
  {
   "cell_type": "code",
   "execution_count": 9,
   "metadata": {},
   "outputs": [
    {
     "data": {
      "text/plain": [
       "0.3044282480260615"
      ]
     },
     "execution_count": 9,
     "metadata": {},
     "output_type": "execute_result"
    }
   ],
   "source": [
    "gss['grass'].mean()"
   ]
  },
  {
   "cell_type": "markdown",
   "metadata": {},
   "source": [
    "So 30% of respondents thought marijuana should be legal, at the time they were interviewed.\n",
    "\n",
    "Now we can see how that fraction depends on age, cohort (year of birth), and period (year of interview).\n",
    "\n",
    "### Group by year\n",
    "\n",
    "First we'll group respondents by year."
   ]
  },
  {
   "cell_type": "code",
   "execution_count": 10,
   "metadata": {},
   "outputs": [
    {
     "data": {
      "text/plain": [
       "<pandas.core.groupby.groupby.DataFrameGroupBy object at 0x0000019BE85C4DA0>"
      ]
     },
     "execution_count": 10,
     "metadata": {},
     "output_type": "execute_result"
    }
   ],
   "source": [
    "grouped = gss.groupby('year')\n",
    "grouped"
   ]
  },
  {
   "cell_type": "markdown",
   "metadata": {},
   "source": [
    "The result in a `DataFrameGroupBy` object we can iterate through:"
   ]
  },
  {
   "cell_type": "code",
   "execution_count": 11,
   "metadata": {},
   "outputs": [
    {
     "name": "stdout",
     "output_type": "stream",
     "text": [
      "1972 1613\n",
      "1973 1504\n",
      "1974 1484\n",
      "1975 1490\n",
      "1976 1499\n",
      "1977 1530\n",
      "1978 1532\n",
      "1980 1468\n",
      "1982 1860\n",
      "1983 1599\n",
      "1984 1473\n",
      "1985 1534\n",
      "1986 1470\n",
      "1987 1819\n",
      "1988 1481\n",
      "1989 1537\n",
      "1990 1372\n",
      "1991 1517\n",
      "1993 1606\n",
      "1994 2992\n",
      "1996 2904\n",
      "1998 2832\n",
      "2000 2817\n",
      "2002 2765\n",
      "2004 2812\n",
      "2006 4510\n",
      "2008 2023\n",
      "2010 2044\n",
      "2012 1974\n",
      "2014 2538\n",
      "2016 2867\n"
     ]
    }
   ],
   "source": [
    "for name, group in grouped:\n",
    "    print(name, len(group))"
   ]
  },
  {
   "cell_type": "markdown",
   "metadata": {},
   "source": [
    "And we can compute summary statistics for each group."
   ]
  },
  {
   "cell_type": "code",
   "execution_count": 12,
   "metadata": {},
   "outputs": [
    {
     "name": "stdout",
     "output_type": "stream",
     "text": [
      "1972 nan\n",
      "1973 0.20136518771331058\n",
      "1974 nan\n",
      "1975 0.22569198012775019\n",
      "1976 0.29395604395604397\n",
      "1977 nan\n",
      "1978 0.3056501021102791\n",
      "1980 0.2585844428871759\n",
      "1982 nan\n",
      "1983 0.23943661971830985\n",
      "1984 0.2147887323943662\n",
      "1985 nan\n",
      "1986 0.17466945024356298\n",
      "1987 0.15506508205998867\n",
      "1988 0.1705170517051705\n",
      "1989 0.17492416582406473\n",
      "1990 0.15940366972477063\n",
      "1991 0.17775467775467776\n",
      "1993 0.24342745861733203\n",
      "1994 0.24722075172048702\n",
      "1996 0.28713910761154854\n",
      "1998 0.2966589861751152\n",
      "2000 0.3395810363836825\n",
      "2002 0.3403755868544601\n",
      "2004 0.35785536159601\n",
      "2006 0.3435155412647374\n",
      "2008 0.4001597444089457\n",
      "2010 0.4773988897700238\n",
      "2012 0.4835341365461847\n",
      "2014 0.5790147152911068\n",
      "2016 0.5911039657020365\n"
     ]
    }
   ],
   "source": [
    "for name, group in grouped:\n",
    "    print(name, group['grass'].mean())"
   ]
  },
  {
   "cell_type": "markdown",
   "metadata": {},
   "source": [
    "Using a for loop can be useful for debugging, but it is more concise, more idiomatic, and faster to apply operations directly to the `DataFrameGroupBy` object.\n",
    "\n",
    "For example, if you select a column from a `DataFrameGroupBy`, the result is a `SeriesGroupBy` that represents one `Series` for each group."
   ]
  },
  {
   "cell_type": "code",
   "execution_count": 13,
   "metadata": {},
   "outputs": [
    {
     "data": {
      "text/plain": [
       "<pandas.core.groupby.groupby.SeriesGroupBy object at 0x0000019BFE02BC18>"
      ]
     },
     "execution_count": 13,
     "metadata": {},
     "output_type": "execute_result"
    }
   ],
   "source": [
    "grouped['grass']"
   ]
  },
  {
   "cell_type": "markdown",
   "metadata": {},
   "source": [
    "You can loop through the `SeriesGroupBy`, but you normally don't."
   ]
  },
  {
   "cell_type": "code",
   "execution_count": 15,
   "metadata": {},
   "outputs": [
    {
     "name": "stdout",
     "output_type": "stream",
     "text": [
      "1972 nan\n",
      "1973 0.20136518771331058\n",
      "1974 nan\n",
      "1975 0.22569198012775019\n",
      "1976 0.29395604395604397\n",
      "1977 nan\n",
      "1978 0.3056501021102791\n",
      "1980 0.2585844428871759\n",
      "1982 nan\n",
      "1983 0.23943661971830985\n",
      "1984 0.2147887323943662\n",
      "1985 nan\n",
      "1986 0.17466945024356298\n",
      "1987 0.15506508205998867\n",
      "1988 0.1705170517051705\n",
      "1989 0.17492416582406473\n",
      "1990 0.15940366972477063\n",
      "1991 0.17775467775467776\n",
      "1993 0.24342745861733203\n",
      "1994 0.24722075172048702\n",
      "1996 0.28713910761154854\n",
      "1998 0.2966589861751152\n",
      "2000 0.3395810363836825\n",
      "2002 0.3403755868544601\n",
      "2004 0.35785536159601\n",
      "2006 0.3435155412647374\n",
      "2008 0.4001597444089457\n",
      "2010 0.4773988897700238\n",
      "2012 0.4835341365461847\n",
      "2014 0.5790147152911068\n",
      "2016 0.5911039657020365\n"
     ]
    }
   ],
   "source": [
    "for name, series in grouped['grass']:\n",
    "    print(name, series.mean())"
   ]
  },
  {
   "cell_type": "markdown",
   "metadata": {},
   "source": [
    "Instead, you can apply a function to the `SeriesGroupBy`; the result is a new `Series` that maps from group names to the results from the function; in this case, it's the fraction of support for each interview year."
   ]
  },
  {
   "cell_type": "code",
   "execution_count": 16,
   "metadata": {},
   "outputs": [
    {
     "data": {
      "text/plain": [
       "year\n",
       "1972         NaN\n",
       "1973    0.201365\n",
       "1974         NaN\n",
       "1975    0.225692\n",
       "1976    0.293956\n",
       "1977         NaN\n",
       "1978    0.305650\n",
       "1980    0.258584\n",
       "1982         NaN\n",
       "1983    0.239437\n",
       "1984    0.214789\n",
       "1985         NaN\n",
       "1986    0.174669\n",
       "1987    0.155065\n",
       "1988    0.170517\n",
       "1989    0.174924\n",
       "1990    0.159404\n",
       "1991    0.177755\n",
       "1993    0.243427\n",
       "1994    0.247221\n",
       "1996    0.287139\n",
       "1998    0.296659\n",
       "2000    0.339581\n",
       "2002    0.340376\n",
       "2004    0.357855\n",
       "2006    0.343516\n",
       "2008    0.400160\n",
       "2010    0.477399\n",
       "2012    0.483534\n",
       "2014    0.579015\n",
       "2016    0.591104\n",
       "Name: grass, dtype: float64"
      ]
     },
     "execution_count": 16,
     "metadata": {},
     "output_type": "execute_result"
    }
   ],
   "source": [
    "series = grouped['grass'].mean()\n",
    "series"
   ]
  },
  {
   "cell_type": "markdown",
   "metadata": {},
   "source": [
    "Overall support for legalization has been increasing since 1990."
   ]
  },
  {
   "cell_type": "code",
   "execution_count": 17,
   "metadata": {},
   "outputs": [
    {
     "data": {
      "image/png": "[encoded data removed]",
      "text/plain": [
       "<Figure size 432x288 with 1 Axes>"
      ]
     },
     "metadata": {},
     "output_type": "display_data"
    }
   ],
   "source": [
    "series.plot(color='C0')\n",
    "decorate(xlabel='Year of interview', \n",
    "         ylabel='% in favor',\n",
    "         title='Should marijuana be made legal?')"
   ]
  },
  {
   "cell_type": "markdown",
   "metadata": {},
   "source": [
    "### Group by cohort\n",
    "\n",
    "The variable `cohort` contains respondents' year of birth."
   ]
  },
  {
   "cell_type": "code",
   "execution_count": 18,
   "metadata": {},
   "outputs": [
    {
     "data": {
      "text/plain": [
       "1883.0      2\n",
       "1884.0      3\n",
       "1885.0      2\n",
       "1886.0      4\n",
       "1887.0     10\n",
       "1888.0      5\n",
       "1889.0     14\n",
       "1890.0     19\n",
       "1891.0     25\n",
       "1892.0     20\n",
       "1893.0     29\n",
       "1894.0     47\n",
       "1895.0     43\n",
       "1896.0     41\n",
       "1897.0     52\n",
       "1898.0     62\n",
       "1899.0     93\n",
       "1900.0    120\n",
       "1901.0    104\n",
       "1902.0    111\n",
       "1903.0    128\n",
       "1904.0    138\n",
       "1905.0    169\n",
       "1906.0    171\n",
       "1907.0    236\n",
       "1908.0    191\n",
       "1909.0    257\n",
       "1910.0    236\n",
       "1911.0    255\n",
       "1912.0    326\n",
       "         ... \n",
       "1969.0    813\n",
       "1970.0    809\n",
       "1971.0    691\n",
       "1972.0    649\n",
       "1973.0    671\n",
       "1974.0    641\n",
       "1975.0    570\n",
       "1976.0    542\n",
       "1977.0    536\n",
       "1978.0    483\n",
       "1979.0    590\n",
       "1980.0    476\n",
       "1981.0    467\n",
       "1982.0    413\n",
       "1983.0    342\n",
       "1984.0    335\n",
       "1985.0    371\n",
       "1986.0    278\n",
       "1987.0    306\n",
       "1988.0    205\n",
       "1989.0    227\n",
       "1990.0    185\n",
       "1991.0    188\n",
       "1992.0    107\n",
       "1993.0    116\n",
       "1994.0    116\n",
       "1995.0     89\n",
       "1996.0     50\n",
       "1997.0     53\n",
       "1998.0      6\n",
       "Name: cohort, Length: 116, dtype: int64"
      ]
     },
     "execution_count": 18,
     "metadata": {},
     "output_type": "execute_result"
    }
   ],
   "source": [
    "counts(gss['cohort'])"
   ]
  },
  {
   "cell_type": "markdown",
   "metadata": {},
   "source": [
    "Pulling together the code from the previous section, we can plot support for legalization by year of birth."
   ]
  },
  {
   "cell_type": "code",
   "execution_count": 19,
   "metadata": {},
   "outputs": [
    {
     "data": {
      "image/png": "[encoded data removed]",
      "text/plain": [
       "<Figure size 432x288 with 1 Axes>"
      ]
     },
     "metadata": {},
     "output_type": "display_data"
    }
   ],
   "source": [
    "grouped = gss.groupby('cohort')\n",
    "series = grouped['grass'].mean()\n",
    "series.plot(color='C1')\n",
    "decorate(xlabel='Year of birth', \n",
    "         ylabel='% in favor',\n",
    "         title='Should marijuana be made legal?')"
   ]
  },
  {
   "cell_type": "markdown",
   "metadata": {},
   "source": [
    "Later generations are more likely to support legalization than earlier generations."
   ]
  },
  {
   "cell_type": "markdown",
   "metadata": {},
   "source": [
    "### Group by age\n",
    "\n",
    "Finally, let's see how support varies with age at time of interview."
   ]
  },
  {
   "cell_type": "code",
   "execution_count": 20,
   "metadata": {},
   "outputs": [
    {
     "data": {
      "image/png": "[encoded data removed]",
      "text/plain": [
       "<Figure size 432x288 with 1 Axes>"
      ]
     },
     "metadata": {},
     "output_type": "display_data"
    }
   ],
   "source": [
    "grouped = gss.groupby('age')\n",
    "series = grouped['grass'].mean()\n",
    "series.plot(color='C2')\n",
    "decorate(xlabel='Age at interview', \n",
    "         ylabel='% in favor',\n",
    "         title='Should marijuana be made legal?')"
   ]
  },
  {
   "cell_type": "markdown",
   "metadata": {},
   "source": [
    "Younger people are more likely to support legalization than old people.\n",
    "\n",
    "In general, it is not easy to separate period, cohort, and age effects, but there are ways.  We'll come back to this example to see how."
   ]
  }
 ],
 "metadata": {
  "kernelspec": {
   "display_name": "Python 3",
   "language": "python",
   "name": "python3"
  },
  "language_info": {
   "codemirror_mode": {
    "name": "ipython",
    "version": 3
   },
   "file_extension": ".py",
   "mimetype": "text/x-python",
   "name": "python",
   "nbconvert_exporter": "python",
   "pygments_lexer": "ipython3",
   "version": "3.7.2"
  }
 },
 "nbformat": 4,
 "nbformat_minor": 2
}
