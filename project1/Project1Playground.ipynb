{
 "cells": [
  {
   "cell_type": "markdown",
   "metadata": {},
   "source": [
    "# Project 1 Playground\n",
    "Workbook for some data analysis experiments. Main goal is to explore how the self-perception of class compares to actual income. \n",
    "\n",
    "Cassandra Overney"
   ]
  },
  {
   "cell_type": "code",
   "execution_count": 23,
   "metadata": {
    "collapsed": true
   },
   "outputs": [],
   "source": [
    "%matplotlib inline\n",
    "\n",
    "import pandas as pd\n",
    "import numpy as np\n",
    "\n",
    "import itertools\n",
    "\n",
    "import matplotlib.pyplot as plt\n",
    "import seaborn as sns\n",
    "sns.set(style='white')\n",
    "\n",
    "from utils import decorate\n",
    "from thinkstats2 import Pmf, Cdf\n",
    "\n",
    "import thinkstats2\n",
    "import thinkplot\n",
    "\n",
    "import utils\n",
    "from utils import decorate"
   ]
  },
  {
   "cell_type": "code",
   "execution_count": 2,
   "metadata": {},
   "outputs": [
    {
     "data": {
      "text/html": [
       "<div>\n",
       "<style scoped>\n",
       "    .dataframe tbody tr th:only-of-type {\n",
       "        vertical-align: middle;\n",
       "    }\n",
       "\n",
       "    .dataframe tbody tr th {\n",
       "        vertical-align: top;\n",
       "    }\n",
       "\n",
       "    .dataframe thead th {\n",
       "        text-align: right;\n",
       "    }\n",
       "</style>\n",
       "<table border=\"1\" class=\"dataframe\">\n",
       "  <thead>\n",
       "    <tr style=\"text-align: right;\">\n",
       "      <th></th>\n",
       "      <th>year</th>\n",
       "      <th>rincome</th>\n",
       "      <th>region</th>\n",
       "      <th>srcbelt</th>\n",
       "      <th>partyid</th>\n",
       "      <th>polviews</th>\n",
       "      <th>satjob</th>\n",
       "      <th>class_</th>\n",
       "      <th>satfin</th>\n",
       "      <th>finrela</th>\n",
       "      <th>...</th>\n",
       "      <th>wrkstat</th>\n",
       "      <th>age</th>\n",
       "      <th>educ</th>\n",
       "      <th>sex</th>\n",
       "      <th>race</th>\n",
       "      <th>hompop</th>\n",
       "      <th>babies</th>\n",
       "      <th>preteen</th>\n",
       "      <th>teens</th>\n",
       "      <th>cohort</th>\n",
       "    </tr>\n",
       "  </thead>\n",
       "  <tbody>\n",
       "    <tr>\n",
       "      <th>0</th>\n",
       "      <td>1972</td>\n",
       "      <td>0</td>\n",
       "      <td>3</td>\n",
       "      <td>3</td>\n",
       "      <td>2</td>\n",
       "      <td>0</td>\n",
       "      <td>3</td>\n",
       "      <td>3</td>\n",
       "      <td>3</td>\n",
       "      <td>3</td>\n",
       "      <td>...</td>\n",
       "      <td>1</td>\n",
       "      <td>23</td>\n",
       "      <td>16</td>\n",
       "      <td>2</td>\n",
       "      <td>1</td>\n",
       "      <td>1</td>\n",
       "      <td>0</td>\n",
       "      <td>0</td>\n",
       "      <td>0</td>\n",
       "      <td>1949</td>\n",
       "    </tr>\n",
       "    <tr>\n",
       "      <th>1</th>\n",
       "      <td>1972</td>\n",
       "      <td>0</td>\n",
       "      <td>3</td>\n",
       "      <td>3</td>\n",
       "      <td>1</td>\n",
       "      <td>0</td>\n",
       "      <td>0</td>\n",
       "      <td>3</td>\n",
       "      <td>2</td>\n",
       "      <td>4</td>\n",
       "      <td>...</td>\n",
       "      <td>5</td>\n",
       "      <td>70</td>\n",
       "      <td>10</td>\n",
       "      <td>1</td>\n",
       "      <td>1</td>\n",
       "      <td>2</td>\n",
       "      <td>0</td>\n",
       "      <td>0</td>\n",
       "      <td>0</td>\n",
       "      <td>1902</td>\n",
       "    </tr>\n",
       "    <tr>\n",
       "      <th>2</th>\n",
       "      <td>1972</td>\n",
       "      <td>0</td>\n",
       "      <td>3</td>\n",
       "      <td>3</td>\n",
       "      <td>3</td>\n",
       "      <td>0</td>\n",
       "      <td>2</td>\n",
       "      <td>2</td>\n",
       "      <td>1</td>\n",
       "      <td>3</td>\n",
       "      <td>...</td>\n",
       "      <td>2</td>\n",
       "      <td>48</td>\n",
       "      <td>12</td>\n",
       "      <td>2</td>\n",
       "      <td>1</td>\n",
       "      <td>4</td>\n",
       "      <td>0</td>\n",
       "      <td>1</td>\n",
       "      <td>1</td>\n",
       "      <td>1924</td>\n",
       "    </tr>\n",
       "    <tr>\n",
       "      <th>3</th>\n",
       "      <td>1972</td>\n",
       "      <td>0</td>\n",
       "      <td>3</td>\n",
       "      <td>3</td>\n",
       "      <td>1</td>\n",
       "      <td>0</td>\n",
       "      <td>1</td>\n",
       "      <td>3</td>\n",
       "      <td>3</td>\n",
       "      <td>3</td>\n",
       "      <td>...</td>\n",
       "      <td>1</td>\n",
       "      <td>27</td>\n",
       "      <td>17</td>\n",
       "      <td>2</td>\n",
       "      <td>1</td>\n",
       "      <td>2</td>\n",
       "      <td>0</td>\n",
       "      <td>0</td>\n",
       "      <td>0</td>\n",
       "      <td>1945</td>\n",
       "    </tr>\n",
       "    <tr>\n",
       "      <th>4</th>\n",
       "      <td>1972</td>\n",
       "      <td>0</td>\n",
       "      <td>3</td>\n",
       "      <td>3</td>\n",
       "      <td>0</td>\n",
       "      <td>0</td>\n",
       "      <td>0</td>\n",
       "      <td>2</td>\n",
       "      <td>1</td>\n",
       "      <td>4</td>\n",
       "      <td>...</td>\n",
       "      <td>7</td>\n",
       "      <td>61</td>\n",
       "      <td>12</td>\n",
       "      <td>2</td>\n",
       "      <td>1</td>\n",
       "      <td>2</td>\n",
       "      <td>0</td>\n",
       "      <td>0</td>\n",
       "      <td>0</td>\n",
       "      <td>1911</td>\n",
       "    </tr>\n",
       "  </tbody>\n",
       "</table>\n",
       "<p>5 rows × 25 columns</p>\n",
       "</div>"
      ],
      "text/plain": [
       "   year  rincome  region  srcbelt  partyid  polviews  satjob  class_  satfin  \\\n",
       "0  1972        0       3        3        2         0       3       3       3   \n",
       "1  1972        0       3        3        1         0       0       3       2   \n",
       "2  1972        0       3        3        3         0       2       2       1   \n",
       "3  1972        0       3        3        1         0       1       3       3   \n",
       "4  1972        0       3        3        0         0       0       2       1   \n",
       "\n",
       "   finrela   ...    wrkstat  age  educ  sex  race  hompop  babies  preteen  \\\n",
       "0        3   ...          1   23    16    2     1       1       0        0   \n",
       "1        4   ...          5   70    10    1     1       2       0        0   \n",
       "2        3   ...          2   48    12    2     1       4       0        1   \n",
       "3        3   ...          1   27    17    2     1       2       0        0   \n",
       "4        4   ...          7   61    12    2     1       2       0        0   \n",
       "\n",
       "   teens  cohort  \n",
       "0      0    1949  \n",
       "1      0    1902  \n",
       "2      1    1924  \n",
       "3      0    1945  \n",
       "4      0    1911  \n",
       "\n",
       "[5 rows x 25 columns]"
      ]
     },
     "execution_count": 2,
     "metadata": {},
     "output_type": "execute_result"
    }
   ],
   "source": [
    "# Read in GSS data\n",
    "def read_gss(dirname):\n",
    "    \"\"\"Reads GSS files from the given directory.\n",
    "    \n",
    "    dirname: string\n",
    "    \n",
    "    returns: DataFrame\n",
    "    \"\"\"\n",
    "    dct = utils.read_stata_dict(dirname + '/GSS.dct')\n",
    "    gss = dct.read_fixed_width(dirname + '/GSS.dat')\n",
    "    return gss\n",
    "\n",
    "gss = read_gss('Project1Data')\n",
    "gss.head()"
   ]
  },
  {
   "cell_type": "markdown",
   "metadata": {},
   "source": [
    "First, I will include stuff I did during HW2"
   ]
  },
  {
   "cell_type": "code",
   "execution_count": 3,
   "metadata": {
    "collapsed": true
   },
   "outputs": [],
   "source": [
    "gss.realinc.replace([0], np.nan, inplace=True)\n",
    "gss['class_'].replace([5, 8, 9, 0], np.nan, inplace=True)\n",
    "\n",
    "real_incomes = gss['realinc'] # total family income in constant $1000s (1986)\n",
    "real_incomes_scaled = real_incomes/1000\n",
    "classes = gss['class_'] # subjective class identification"
   ]
  },
  {
   "cell_type": "markdown",
   "metadata": {},
   "source": [
    "Classes have four values:\n",
    "- 1: lower class\n",
    "- 2: working class\n",
    "- 3: middle class\n",
    "- 4: upper class"
   ]
  },
  {
   "cell_type": "code",
   "execution_count": 4,
   "metadata": {},
   "outputs": [
    {
     "data": {
      "image/png": "[encoded data removed]",
      "text/plain": [
       "<Figure size 432x288 with 1 Axes>"
      ]
     },
     "metadata": {},
     "output_type": "display_data"
    }
   ],
   "source": [
    "# Plot CDF of incomes\n",
    "real_incomes_cdf = thinkstats2.Cdf(real_incomes_scaled, label='realinc')\n",
    "thinkplot.Cdf(real_incomes_cdf)\n",
    "decorate(xlabel='Real income ($1000 1986 USD)', ylabel='CDF')"
   ]
  },
  {
   "cell_type": "code",
   "execution_count": 5,
   "metadata": {},
   "outputs": [
    {
     "data": {
      "image/png": "[encoded data removed]",
      "text/plain": [
       "<Figure size 432x288 with 1 Axes>"
      ]
     },
     "metadata": {},
     "output_type": "display_data"
    }
   ],
   "source": [
    "thinkplot.cdf(real_incomes_cdf, label='realinc', complement=True)\n",
    "\n",
    "decorate(title='Distribution of Income', \n",
    "         xlabel='Real income ($1000 1986 USD)', \n",
    "         ylabel='Complementary CDF, log scale',\n",
    "         yscale='log')"
   ]
  },
  {
   "cell_type": "markdown",
   "metadata": {},
   "source": [
    "The distribution looks relatively straight. (I tried a Pareto distribution but it didn't look very straight, which raises some confusion. Maybe since this is scaled to 1986 dollars?) Doesn't look Pareto because cut off the tail. "
   ]
  },
  {
   "cell_type": "markdown",
   "metadata": {},
   "source": [
    "According to investopedia, middle class corresponds to incomes between \\$40,500 and \\$122,000, lower class corresponds to incomes below \\$40,500, and upper class corresponds to incomes above \\$122,000. GSS includes a working class which I estimate to be between \\$14,000 and \\$40,500, so I will break up the lower class into working and lower.     \n",
    "\n",
    "I used an inflation calculator (https://www.usinflationcalculator.com/) to translate my 2017 income class values to 1986 amounts. Lower class is below \\$6,259.79; working class is between \\$6,259.79 and \\$18,108.68; middle class is between \\$18,108.68 and \\$54,549.61; and upper class is above \\$54,549.61."
   ]
  },
  {
   "cell_type": "code",
   "execution_count": 6,
   "metadata": {},
   "outputs": [
    {
     "name": "stdout",
     "output_type": "stream",
     "text": [
      "0    3\n",
      "1    3\n",
      "2    3\n",
      "3    3\n",
      "4    3\n",
      "dtype: int64\n"
     ]
    }
   ],
   "source": [
    "calculated_classes = []\n",
    "for income in real_incomes:\n",
    "    if income > 54549.61:\n",
    "        # upper class\n",
    "        calculated_classes.append(4)\n",
    "    elif income <= 54549.61 and income > 18108.68:\n",
    "        # middle class\n",
    "        calculated_classes.append(3)\n",
    "    elif income <= 18108.68 and income > 6259.79:\n",
    "        # working class\n",
    "        calculated_classes.append(2)\n",
    "    elif income <= 6259.79:\n",
    "        # lower class\n",
    "        calculated_classes.append(1)\n",
    "calculated_classes = pd.Series(calculated_classes)\n",
    "print(calculated_classes.head())"
   ]
  },
  {
   "cell_type": "code",
   "execution_count": 7,
   "metadata": {},
   "outputs": [
    {
     "data": {
      "image/png": "[encoded data removed]",
      "text/plain": [
       "<Figure size 432x288 with 1 Axes>"
      ]
     },
     "metadata": {},
     "output_type": "display_data"
    }
   ],
   "source": [
    "# Plot simple histograms for comparison\n",
    "calculated_classes_hist = thinkstats2.Hist(calculated_classes, label='calculated class')\n",
    "classes_hist = thinkstats2.Hist(classes, label='reported class')\n",
    "width = 0.45\n",
    "thinkplot.PrePlot(2)\n",
    "thinkplot.Hist(calculated_classes_hist, align='right', width=width)\n",
    "thinkplot.Hist(classes_hist, align='left', width=width)\n",
    "thinkplot.Config(title='Comparison between calculated class and self reported class', xlabel='Class', ylabel='Count', xticks=[1, 2, 3, 4])"
   ]
  },
  {
   "cell_type": "markdown",
   "metadata": {},
   "source": [
    "It seems like people may think they are in a lower class than they actually are with most people considering themselves as part of the working or middle classes. The difference is especially apparent in the working class (more people think they are in that class than they actually are). Also, more people qualify as upper class than they think. This observation is beautifully summarized by Stephen Rose's quote that “because people tend to live in communities with similar incomes, they view themselves as being near the middle because their neighbors’ circumstances are similar to their own even if their incomes are significantly below or above the US median.”"
   ]
  },
  {
   "cell_type": "code",
   "execution_count": 8,
   "metadata": {},
   "outputs": [
    {
     "data": {
      "text/plain": [
       "-0.2521712437405217"
      ]
     },
     "execution_count": 8,
     "metadata": {},
     "output_type": "execute_result"
    }
   ],
   "source": [
    "# Find cohen effect size\n",
    "cohen = thinkstats2.CohenEffectSize(classes, calculated_classes)\n",
    "cohen"
   ]
  },
  {
   "cell_type": "markdown",
   "metadata": {},
   "source": [
    "The Cohen effect size is relatively large, indicating that reported classes tend to be lower than actual classes."
   ]
  },
  {
   "cell_type": "markdown",
   "metadata": {},
   "source": [
    "I did some more research on what constitutes different income classes and found the following information:\n",
    "- Middle class means earning between 2/3 and double the median household income **after incomes have been adjusted for household size**.\n",
    "- Lower income group is divided into lowest-income households and lower-middle income households (working class). Lower class means earning less than half of median. Working class means earning between 1/2 and 2/3 median. \n",
    "- Upper class means earning more than double the median\n",
    "- Incomes can be adjusted for household size and scaled to reflect houseful size of three. Placed in incomes tiers based on household income in calendar year previous to survey year. \n",
    "- Adjusted income = Household income / (Household size)^N, N=0.5 since standard\n",
    "- Three-person household income = Adjusted household income * [(3)^0.5]\n",
    "- Median household income in US changed over time (beyond inflation), so mere inflation adjustment doesn't work. \n",
    "- Good variable for self-perception on class is **subjective class**.\n",
    "- Income data adjusted for inflation using Consumer Price Index Research Series (CPI-U-RS), which is important for measures of absolute progress over time.\n",
    "- Inflation-adjusted estimate = year estimate * (ref CPI-U-RS / year CPI-U-RS)"
   ]
  },
  {
   "cell_type": "markdown",
   "metadata": {},
   "source": [
    "My plan is to use the realinc data and convert to constant 2015 dollars since that probably makes more sense. I got median incomes in 2015 dollars. From there I will adjust the incomes based on the household size. \n",
    "\n",
    "**Need to find data for median household size for median household incomes** After looking at the average median household sizes, I am fairly confident that the median household size from 1971 to 2015 is 3, so I don't need to adjust the medians for household size. \n",
    "\n",
    "After that, I will use newly adjusted median incomes to calculate income classes for each respondent."
   ]
  },
  {
   "cell_type": "code",
   "execution_count": 9,
   "metadata": {
    "scrolled": true
   },
   "outputs": [
    {
     "name": "stdout",
     "output_type": "stream",
     "text": [
      "[2015, 2014, '2013_2', 2013, 2012, 2011, 2010, 2009, 2008, 2007, 2006, 2005, 2004, 2003, 2002, 2001, 2000, 1999, 1998, 1997, 1996, 1995, 1994, 1993, 1992, 1991, 1990, 1989, 1988, 1987, 1986, 1985, 1984, 1983, 1982, 1981, 1980, 1979, 1978, 1977, 1976, 1975, 1974, 1973, 1972, 1971]\n"
     ]
    },
    {
     "data": {
      "text/html": [
       "<div>\n",
       "<style scoped>\n",
       "    .dataframe tbody tr th:only-of-type {\n",
       "        vertical-align: middle;\n",
       "    }\n",
       "\n",
       "    .dataframe tbody tr th {\n",
       "        vertical-align: top;\n",
       "    }\n",
       "\n",
       "    .dataframe thead th {\n",
       "        text-align: right;\n",
       "    }\n",
       "</style>\n",
       "<table border=\"1\" class=\"dataframe\">\n",
       "  <thead>\n",
       "    <tr style=\"text-align: right;\">\n",
       "      <th></th>\n",
       "      <th>Median income (dollars)</th>\n",
       "    </tr>\n",
       "  </thead>\n",
       "  <tbody>\n",
       "    <tr>\n",
       "      <th>2015</th>\n",
       "      <td>56516</td>\n",
       "    </tr>\n",
       "    <tr>\n",
       "      <th>2014</th>\n",
       "      <td>53718</td>\n",
       "    </tr>\n",
       "    <tr>\n",
       "      <th>2013</th>\n",
       "      <td>52850.1</td>\n",
       "    </tr>\n",
       "    <tr>\n",
       "      <th>2012</th>\n",
       "      <td>52665.9</td>\n",
       "    </tr>\n",
       "    <tr>\n",
       "      <th>2011</th>\n",
       "      <td>52750.6</td>\n",
       "    </tr>\n",
       "    <tr>\n",
       "      <th>2010</th>\n",
       "      <td>53568.2</td>\n",
       "    </tr>\n",
       "    <tr>\n",
       "      <th>2009</th>\n",
       "      <td>54988.4</td>\n",
       "    </tr>\n",
       "    <tr>\n",
       "      <th>2008</th>\n",
       "      <td>55376.2</td>\n",
       "    </tr>\n",
       "    <tr>\n",
       "      <th>2007</th>\n",
       "      <td>57423.3</td>\n",
       "    </tr>\n",
       "    <tr>\n",
       "      <th>2006</th>\n",
       "      <td>56663</td>\n",
       "    </tr>\n",
       "    <tr>\n",
       "      <th>2005</th>\n",
       "      <td>56224.2</td>\n",
       "    </tr>\n",
       "    <tr>\n",
       "      <th>2004</th>\n",
       "      <td>55629.2</td>\n",
       "    </tr>\n",
       "    <tr>\n",
       "      <th>2003</th>\n",
       "      <td>55822.8</td>\n",
       "    </tr>\n",
       "    <tr>\n",
       "      <th>2002</th>\n",
       "      <td>55871.4</td>\n",
       "    </tr>\n",
       "    <tr>\n",
       "      <th>2001</th>\n",
       "      <td>56531.3</td>\n",
       "    </tr>\n",
       "    <tr>\n",
       "      <th>2000</th>\n",
       "      <td>57790.2</td>\n",
       "    </tr>\n",
       "    <tr>\n",
       "      <th>1999</th>\n",
       "      <td>57909.1</td>\n",
       "    </tr>\n",
       "    <tr>\n",
       "      <th>1998</th>\n",
       "      <td>56509.8</td>\n",
       "    </tr>\n",
       "    <tr>\n",
       "      <th>1997</th>\n",
       "      <td>54505.7</td>\n",
       "    </tr>\n",
       "    <tr>\n",
       "      <th>1996</th>\n",
       "      <td>53406.7</td>\n",
       "    </tr>\n",
       "    <tr>\n",
       "      <th>1995</th>\n",
       "      <td>52664.3</td>\n",
       "    </tr>\n",
       "    <tr>\n",
       "      <th>1994</th>\n",
       "      <td>51065.1</td>\n",
       "    </tr>\n",
       "    <tr>\n",
       "      <th>1993</th>\n",
       "      <td>50478.5</td>\n",
       "    </tr>\n",
       "    <tr>\n",
       "      <th>1992</th>\n",
       "      <td>50724.9</td>\n",
       "    </tr>\n",
       "    <tr>\n",
       "      <th>1991</th>\n",
       "      <td>51145.2</td>\n",
       "    </tr>\n",
       "    <tr>\n",
       "      <th>1990</th>\n",
       "      <td>52683.9</td>\n",
       "    </tr>\n",
       "    <tr>\n",
       "      <th>1989</th>\n",
       "      <td>53367.3</td>\n",
       "    </tr>\n",
       "    <tr>\n",
       "      <th>1988</th>\n",
       "      <td>52432.2</td>\n",
       "    </tr>\n",
       "    <tr>\n",
       "      <th>1987</th>\n",
       "      <td>52032.3</td>\n",
       "    </tr>\n",
       "    <tr>\n",
       "      <th>1986</th>\n",
       "      <td>51387.9</td>\n",
       "    </tr>\n",
       "    <tr>\n",
       "      <th>1985</th>\n",
       "      <td>49630.6</td>\n",
       "    </tr>\n",
       "    <tr>\n",
       "      <th>1984</th>\n",
       "      <td>48719.7</td>\n",
       "    </tr>\n",
       "    <tr>\n",
       "      <th>1983</th>\n",
       "      <td>47283.2</td>\n",
       "    </tr>\n",
       "    <tr>\n",
       "      <th>1982</th>\n",
       "      <td>47585</td>\n",
       "    </tr>\n",
       "    <tr>\n",
       "      <th>1981</th>\n",
       "      <td>47712.4</td>\n",
       "    </tr>\n",
       "    <tr>\n",
       "      <th>1980</th>\n",
       "      <td>48517.9</td>\n",
       "    </tr>\n",
       "    <tr>\n",
       "      <th>1979</th>\n",
       "      <td>50146.3</td>\n",
       "    </tr>\n",
       "    <tr>\n",
       "      <th>1978</th>\n",
       "      <td>50242.2</td>\n",
       "    </tr>\n",
       "    <tr>\n",
       "      <th>1977</th>\n",
       "      <td>48370.2</td>\n",
       "    </tr>\n",
       "    <tr>\n",
       "      <th>1976</th>\n",
       "      <td>48066</td>\n",
       "    </tr>\n",
       "    <tr>\n",
       "      <th>1975</th>\n",
       "      <td>47281.5</td>\n",
       "    </tr>\n",
       "    <tr>\n",
       "      <th>1974</th>\n",
       "      <td>48552.9</td>\n",
       "    </tr>\n",
       "    <tr>\n",
       "      <th>1973</th>\n",
       "      <td>50140.8</td>\n",
       "    </tr>\n",
       "    <tr>\n",
       "      <th>1972</th>\n",
       "      <td>49148.4</td>\n",
       "    </tr>\n",
       "    <tr>\n",
       "      <th>1971</th>\n",
       "      <td>47129.7</td>\n",
       "    </tr>\n",
       "  </tbody>\n",
       "</table>\n",
       "</div>"
      ],
      "text/plain": [
       "     Median income (dollars)\n",
       "2015                   56516\n",
       "2014                   53718\n",
       "2013                 52850.1\n",
       "2012                 52665.9\n",
       "2011                 52750.6\n",
       "2010                 53568.2\n",
       "2009                 54988.4\n",
       "2008                 55376.2\n",
       "2007                 57423.3\n",
       "2006                   56663\n",
       "2005                 56224.2\n",
       "2004                 55629.2\n",
       "2003                 55822.8\n",
       "2002                 55871.4\n",
       "2001                 56531.3\n",
       "2000                 57790.2\n",
       "1999                 57909.1\n",
       "1998                 56509.8\n",
       "1997                 54505.7\n",
       "1996                 53406.7\n",
       "1995                 52664.3\n",
       "1994                 51065.1\n",
       "1993                 50478.5\n",
       "1992                 50724.9\n",
       "1991                 51145.2\n",
       "1990                 52683.9\n",
       "1989                 53367.3\n",
       "1988                 52432.2\n",
       "1987                 52032.3\n",
       "1986                 51387.9\n",
       "1985                 49630.6\n",
       "1984                 48719.7\n",
       "1983                 47283.2\n",
       "1982                   47585\n",
       "1981                 47712.4\n",
       "1980                 48517.9\n",
       "1979                 50146.3\n",
       "1978                 50242.2\n",
       "1977                 48370.2\n",
       "1976                   48066\n",
       "1975                 47281.5\n",
       "1974                 48552.9\n",
       "1973                 50140.8\n",
       "1972                 49148.4\n",
       "1971                 47129.7"
      ]
     },
     "execution_count": 9,
     "metadata": {},
     "output_type": "execute_result"
    }
   ],
   "source": [
    "# Read in median income data from Excel file from specific column and rows\n",
    "median_income_file = 'Project1Data/median_income.xls'\n",
    "median_income_df = pd.read_excel(median_income_file, index_col=None, na_values=['NA'], usecols=\"M\").iloc[1:47]\n",
    "# Generate list of years as strings\n",
    "years = list(range(2015, 1970, -1))\n",
    "years.insert(2, '2013_2') # Add another 2013 to account for two 2013 median incomes\n",
    "print(years)\n",
    "median_income_df.index = years # Set the index to years\n",
    "median_income_df = median_income_df.drop(median_income_df.index[[2]]) # drop the first 2013 (has higher SE)\n",
    "median_income_df"
   ]
  },
  {
   "cell_type": "code",
   "execution_count": 10,
   "metadata": {
    "collapsed": true
   },
   "outputs": [],
   "source": [
    "# Convert realinc data to constant 2015 dollars\n",
    "cpi_ratio = 348.9/168.6\n",
    "real_incomes_2015 = real_incomes*cpi_ratio"
   ]
  },
  {
   "cell_type": "code",
   "execution_count": 11,
   "metadata": {
    "collapsed": true
   },
   "outputs": [],
   "source": [
    "# Adjust income for household size (to 3 person household)\n",
    "gss['hompop'].replace([99], np.nan, inplace=True)\n",
    "household_sizes = gss['hompop']\n",
    "adjusted_real_incomes_2015 = (real_incomes_2015/(household_sizes**0.5))*(3**0.5)"
   ]
  },
  {
   "cell_type": "code",
   "execution_count": 12,
   "metadata": {},
   "outputs": [
    {
     "name": "stdout",
     "output_type": "stream",
     "text": [
      "0    3.0\n",
      "1    3.0\n",
      "2    3.0\n",
      "3    3.0\n",
      "4    4.0\n",
      "dtype: float64\n"
     ]
    }
   ],
   "source": [
    "# Calculate income classes\n",
    "income_years = gss['year'] - 1 # minus 1 since report last year's income\n",
    "income_classes = []\n",
    "for index, resp_yr in enumerate(income_years):\n",
    "    temp_median = median_income_df.loc[resp_yr]['Median income (dollars)']\n",
    "    temp_income = adjusted_real_incomes_2015[index]\n",
    "    temp_prop = temp_income/temp_median\n",
    "    if temp_prop > 2:\n",
    "        # upper\n",
    "        income_classes.append(4)\n",
    "    elif temp_prop <= 2 and temp_prop >= (2/3):\n",
    "        # middle \n",
    "        income_classes.append(3)\n",
    "    elif temp_prop >= (1/2) and temp_prop < (2/3):\n",
    "        # working\n",
    "        income_classes.append(2)\n",
    "    elif temp_prop < (1/2):\n",
    "        # lower\n",
    "        income_classes.append(1)\n",
    "    else:\n",
    "        # nan\n",
    "        income_classes.append(np.nan)\n",
    "\n",
    "income_classes = pd.Series(income_classes)\n",
    "print(income_classes.head())"
   ]
  },
  {
   "cell_type": "code",
   "execution_count": 13,
   "metadata": {},
   "outputs": [
    {
     "data": {
      "image/png": "[encoded data removed]",
      "text/plain": [
       "<Figure size 432x288 with 1 Axes>"
      ]
     },
     "metadata": {},
     "output_type": "display_data"
    }
   ],
   "source": [
    "# Plot simple histograms for comparison\n",
    "income_classes_hist = thinkstats2.Hist(income_classes, label='income class')\n",
    "classes_hist = thinkstats2.Hist(classes, label='subjective class')\n",
    "width = 0.45\n",
    "thinkplot.PrePlot(2)\n",
    "thinkplot.Hist(income_classes_hist, align='right', width=width)\n",
    "thinkplot.Hist(classes_hist, align='left', width=width)\n",
    "thinkplot.Config(title='Comparison between income class and subjective class', xlabel='Class', ylabel='Count', xticks=[1, 2, 3, 4])"
   ]
  },
  {
   "cell_type": "markdown",
   "metadata": {},
   "source": [
    "Observations from histogram above:\n",
    "- More lower income class than lower subjective class\n",
    "- More respondents view themselves as being in the working or middle classes. \n",
    "- Most respondents are in the middle class. \n",
    "- More upper income class than upper subjective class.\n",
    "- The most significant difference between income class and subjective class is seen in the working class. "
   ]
  },
  {
   "cell_type": "code",
   "execution_count": 14,
   "metadata": {},
   "outputs": [
    {
     "data": {
      "text/plain": [
       "-0.2599501109479166"
      ]
     },
     "execution_count": 14,
     "metadata": {},
     "output_type": "execute_result"
    }
   ],
   "source": [
    "# Find cohen effect size\n",
    "cohen2 = thinkstats2.CohenEffectSize(classes, income_classes)\n",
    "cohen2"
   ]
  },
  {
   "cell_type": "markdown",
   "metadata": {},
   "source": [
    "Pairwise gives Confusion matrix (guesses on one axis and reality on another axis) 4*4, numbers, colored by density "
   ]
  },
  {
   "cell_type": "code",
   "execution_count": 15,
   "metadata": {
    "collapsed": true
   },
   "outputs": [],
   "source": [
    "from pandas_ml import ConfusionMatrix\n",
    "import matplotlib.pyplot as plt"
   ]
  },
  {
   "cell_type": "code",
   "execution_count": 54,
   "metadata": {},
   "outputs": [
    {
     "name": "stdout",
     "output_type": "stream",
     "text": [
      "62466 62466\n",
      "Confusion matrix:\n",
      "Predicted    1.0   2.0    3.0    4.0  __all__\n",
      "Actual                                       \n",
      "1.0         2190   395    629     42     3256\n",
      "2.0         5696  2849  13837   2247    24629\n",
      "3.0         3326  1360  11869   7090    23645\n",
      "4.0          261    64    334    991     1650\n",
      "__all__    11473  4668  26669  10370    53180\n"
     ]
    }
   ],
   "source": [
    "print(len(income_classes), len(classes))\n",
    "class_true = classes\n",
    "class_pred = income_classes\n",
    "confusion_matrix = ConfusionMatrix(class_true, class_pred)\n",
    "print(\"Confusion matrix:\\n%s\" % confusion_matrix)\n",
    "\n",
    "# Print a bunch of confusion matrix stats (with p-values)\n",
    "# confusion_matrix.print_stats()"
   ]
  },
  {
   "cell_type": "code",
   "execution_count": 58,
   "metadata": {},
   "outputs": [],
   "source": [
    "# Convert confusion matrix into data frame and then numpy arrays\n",
    "cm_df = confusion_matrix.to_dataframe()\n",
    "cm = cm_df.values"
   ]
  },
  {
   "cell_type": "code",
   "execution_count": 59,
   "metadata": {},
   "outputs": [
    {
     "data": {
      "image/png": "[encoded data removed]",
      "text/plain": [
       "<Figure size 648x576 with 2 Axes>"
      ]
     },
     "metadata": {},
     "output_type": "display_data"
    }
   ],
   "source": [
    "confusion_matrix.plot()\n",
    "plt.show()"
   ]
  },
  {
   "cell_type": "markdown",
   "metadata": {},
   "source": [
    "Using a confusion matrix plotting function I found [here](https://stackoverflow.com/questions/19233771/sklearn-plot-confusion-matrix-with-labels), I will beautify my confusion matrix. "
   ]
  },
  {
   "cell_type": "code",
   "execution_count": 151,
   "metadata": {
    "collapsed": true
   },
   "outputs": [],
   "source": [
    "def plot_confusion_matrix(cm,\n",
    "                          target_names,\n",
    "                          title='Confusion matrix',\n",
    "                          cmap=None,\n",
    "                          normalize=True, y_label='True plot', x_label='Predicted label'):\n",
    "    \"\"\"\n",
    "    given a sklearn confusion matrix (cm), make a nice plot\n",
    "\n",
    "    Arguments\n",
    "    ---------\n",
    "    cm:           confusion matrix from sklearn.metrics.confusion_matrix\n",
    "\n",
    "    target_names: given classification classes such as [0, 1, 2]\n",
    "                  the class names, for example: ['high', 'medium', 'low']\n",
    "\n",
    "    title:        the text to display at the top of the matrix\n",
    "\n",
    "    cmap:         the gradient of the values displayed from matplotlib.pyplot.cm\n",
    "                  see http://matplotlib.org/examples/color/colormaps_reference.html\n",
    "                  plt.get_cmap('jet') or plt.cm.Blues\n",
    "\n",
    "    normalize:    If False, plot the raw numbers\n",
    "                  If True, plot the proportions\n",
    "\n",
    "    Usage\n",
    "    -----\n",
    "    plot_confusion_matrix(cm           = cm,                  # confusion matrix created by\n",
    "                                                              # sklearn.metrics.confusion_matrix\n",
    "                          normalize    = True,                # show proportions\n",
    "                          target_names = y_labels_vals,       # list of names of the classes\n",
    "                          title        = best_estimator_name) # title of graph\n",
    "\n",
    "    Citiation\n",
    "    ---------\n",
    "    http://scikit-learn.org/stable/auto_examples/model_selection/plot_confusion_matrix.html\n",
    "\n",
    "    \"\"\"\n",
    "\n",
    "    accuracy = np.trace(cm) / float(np.sum(cm))\n",
    "    misclass = 1 - accuracy\n",
    "\n",
    "    if cmap is None:\n",
    "        cmap = plt.get_cmap('Blues')\n",
    "\n",
    "    plt.figure(figsize=(8, 6))\n",
    "    plt.imshow(cm, interpolation='nearest', cmap=cmap)\n",
    "    plt.title(title)\n",
    "\n",
    "    if target_names is not None:\n",
    "        tick_marks = np.arange(len(target_names))\n",
    "        #plt.xticks(tick_marks, target_names, rotation=45)\n",
    "        plt.xticks(tick_marks, target_names)\n",
    "        plt.yticks(tick_marks, target_names)\n",
    "\n",
    "    if normalize:\n",
    "        #cm2 = cm.astype('float') / cm.sum(axis=1)[:, np.newaxis]\n",
    "        cm2 = cm.astype('float') / cm.sum()\n",
    "\n",
    "    thresh = cm.max() / 2\n",
    "\n",
    "    #thresh = cm2.max() / 1.5 if normalize else cm.max() / 2\n",
    "    for i, j in itertools.product(range(cm.shape[0]), range(cm.shape[1])):\n",
    "        if normalize:\n",
    "            plt.text(j, i, \"{:,}\\n{:0.1f}%\".format(cm[i, j], cm2[i, j]*100),\n",
    "                     horizontalalignment=\"center\",\n",
    "                     verticalalignment=\"center\",\n",
    "                     color=\"white\" if cm[i, j] > thresh else \"black\")\n",
    "        else:\n",
    "            plt.text(j, i, \"{:,}\".format(cm[i, j]),\n",
    "                     horizontalalignment=\"center\",\n",
    "                     verticalalignment=\"center\",\n",
    "                     color=\"white\" if cm[i, j] > thresh else \"black\")\n",
    "\n",
    "\n",
    "    plt.tight_layout()\n",
    "    plt.ylabel(y_label, labelpad=10)\n",
    "    #plt.xlabel(x_label+'\\naccuracy={:0.4f}; misclass={:0.4f}'.format(accuracy, misclass), labelpad=10)\n",
    "    plt.xlabel(x_label, labelpad=10)\n",
    "    plt.colorbar()\n",
    "    plt.show()"
   ]
  },
  {
   "cell_type": "code",
   "execution_count": 152,
   "metadata": {},
   "outputs": [
    {
     "data": {
      "image/png": "[encoded data removed]",
      "text/plain": [
       "<Figure size 576x432 with 2 Axes>"
      ]
     },
     "metadata": {},
     "output_type": "display_data"
    }
   ],
   "source": [
    "# First need to generate sklearn confusion matrix\n",
    "plot_confusion_matrix(cm,['Lower', 'Working', 'Middle', 'Upper'],title='Confusion Matrix of Income and Subjective Class',cmap=None,normalize=True, y_label='Subjective Class', x_label='Income Class')"
   ]
  },
  {
   "cell_type": "markdown",
   "metadata": {},
   "source": [
    "**Question**: What is the best way to do the frequencies? "
   ]
  },
  {
   "cell_type": "markdown",
   "metadata": {},
   "source": [
    "I gleaned the following observations from the above confusion matrix:\n",
    "- Most of the subjective classes are working or middle class.\n",
    "- Very few respondents proclaim themselves to be upper class even if their income classes are. \n",
    "- Respondents from the lower income class are more likely to consider themselves working class than lower or middle class.\n",
    "- There are actually surprisingly few people in the working income class. Those who are mainly characterize themselves as working class.\n",
    "- Most respondents lie in the middle income class and they mainly characterize themselves as either working or middle class (with working class being more common).\n",
    "- Respondents from the upper income class are more likely to consider themselves middle and then working class compared to upper class."
   ]
  },
  {
   "cell_type": "markdown",
   "metadata": {},
   "source": [
    "Now, I will make segmented bar charts for subject class, stfin, and finrela. The different bars will correspond to different income ranges. "
   ]
  },
  {
   "cell_type": "code",
   "execution_count": 222,
   "metadata": {},
   "outputs": [
    {
     "data": {
      "image/png": "[encoded data removed]",
      "text/plain": [
       "<Figure size 432x288 with 1 Axes>"
      ]
     },
     "metadata": {},
     "output_type": "display_data"
    }
   ],
   "source": [
    "# For subjective class\n",
    "x_values = ['Lower', 'Working', 'Middle', 'Upper']\n",
    "x_pos = [i for i, _ in enumerate(x_values)]\n",
    "\n",
    "total = cm[0,:]+cm[1,:]+cm[2,:]+cm[3,:]\n",
    "\n",
    "prop_lower = np.true_divide(cm[0,:], total) * 100\n",
    "prop_working = np.true_divide(cm[1,:], total) * 100\n",
    "prop_middle = np.true_divide(cm[2,:], total) * 100\n",
    "prop_upper = np.true_divide(cm[3,:], total) * 100\n",
    "\n",
    "plt.barh(x_pos, prop_upper, height=0.8, label='upper', color='gold', \n",
    "        left=prop_middle+prop_working+prop_lower)\n",
    "plt.barh(x_pos, prop_middle, height=0.8, label='middle', color='silver', \n",
    "        left=prop_working+prop_lower)\n",
    "plt.barh(x_pos, prop_working, height=0.8, label='working', color='#CD853F', \n",
    "        left=prop_lower)\n",
    "plt.barh(x_pos, prop_lower, height=0.8, label='lower', color='brown')\n",
    "\n",
    "# plt.bar(x_pos, prop_upper, width=0.8, label='upper', color='gold', \n",
    "#         bottom=prop_middle+prop_working+prop_lower)\n",
    "# plt.bar(x_pos, prop_middle, width=0.8, label='middle', color='silver', \n",
    "#         bottom=prop_working+prop_lower)\n",
    "# plt.bar(x_pos, prop_working, width=0.8, label='working', color='#CD853F', \n",
    "#         bottom=prop_lower)\n",
    "# plt.bar(x_pos, prop_lower, width=0.8, label='lower', color='brown')\n",
    "\n",
    "plt.yticks(x_pos, x_values)\n",
    "locs, labels = plt.xticks()\n",
    "plt.xticks(locs[:-1], ['0%', '20%', '40%', '60%', '80%', '100%'])\n",
    "plt.ylabel(\"Income Class\", labelpad=10)\n",
    "plt.xlabel(\"Subjective Class\", labelpad=10)\n",
    "plt.title(\"Class Identification by Income Class\", pad=22)\n",
    "handles, labels = plt.gca().get_legend_handles_labels()\n",
    "order = [3, 2, 1, 0]\n",
    "plt.legend([handles[idx] for idx in order],[labels[idx] for idx in order], loc=\"upper center\", bbox_to_anchor=(0.5, 1.10),\n",
    "          ncol=4)\n",
    "\n",
    "plt.show()"
   ]
  },
  {
   "cell_type": "markdown",
   "metadata": {},
   "source": [
    "For the finrela variable, the question is \"Compared with American families in general, would you say your family income is far below average, below average, average, above average, or far above average?\" The possible values are\n",
    "- 1: far below average\n",
    "- 2: below average\n",
    "- 3: average\n",
    "- 4: above average\n",
    "- 5: far above average"
   ]
  },
  {
   "cell_type": "code",
   "execution_count": 244,
   "metadata": {
    "collapsed": true
   },
   "outputs": [],
   "source": [
    "# For finrela, get data first\n",
    "gss['finrela'].replace([0, 8, 9], np.nan, inplace=True)\n",
    "finrelas = gss['finrela']"
   ]
  },
  {
   "cell_type": "code",
   "execution_count": 224,
   "metadata": {},
   "outputs": [
    {
     "name": "stderr",
     "output_type": "stream",
     "text": [
      "C:\\ProgramData\\Miniconda3\\lib\\site-packages\\pandas_ml\\confusion_matrix\\abstract.py:66: FutureWarning: \n",
      "Passing list-likes to .loc or [] with any missing label will raise\n",
      "KeyError in the future, you can use .reindex() as an alternative.\n",
      "\n",
      "See the documentation here:\n",
      "https://pandas.pydata.org/pandas-docs/stable/indexing.html#deprecate-loc-reindex-listlike\n",
      "  df = df.loc[idx, idx.copy()].fillna(0)  # if some columns or rows are missing\n"
     ]
    },
    {
     "data": {
      "image/png": "[encoded data removed]",
      "text/plain": [
       "<Figure size 648x576 with 2 Axes>"
      ]
     },
     "metadata": {},
     "output_type": "display_data"
    }
   ],
   "source": [
    "# Generate confusion matrix and conert into numpy array\n",
    "class_pred = income_classes\n",
    "confusion_matrix2 = ConfusionMatrix(finrelas, class_pred)\n",
    "cm_df2 = confusion_matrix2.to_dataframe()\n",
    "cm2 = cm_df2.values\n",
    "confusion_matrix2.plot()\n",
    "plt.show()"
   ]
  },
  {
   "cell_type": "code",
   "execution_count": 241,
   "metadata": {},
   "outputs": [
    {
     "name": "stderr",
     "output_type": "stream",
     "text": [
      "C:\\ProgramData\\Miniconda3\\lib\\site-packages\\ipykernel_launcher.py:7: RuntimeWarning: invalid value encountered in true_divide\n",
      "  import sys\n",
      "C:\\ProgramData\\Miniconda3\\lib\\site-packages\\ipykernel_launcher.py:8: RuntimeWarning: invalid value encountered in true_divide\n",
      "  \n",
      "C:\\ProgramData\\Miniconda3\\lib\\site-packages\\ipykernel_launcher.py:9: RuntimeWarning: invalid value encountered in true_divide\n",
      "  if __name__ == '__main__':\n",
      "C:\\ProgramData\\Miniconda3\\lib\\site-packages\\ipykernel_launcher.py:10: RuntimeWarning: invalid value encountered in true_divide\n",
      "  # Remove the CWD from sys.path while we load stuff.\n",
      "C:\\ProgramData\\Miniconda3\\lib\\site-packages\\ipykernel_launcher.py:11: RuntimeWarning: invalid value encountered in true_divide\n",
      "  # This is added back by InteractiveShellApp.init_path()\n"
     ]
    },
    {
     "data": {
      "image/png": "[encoded data removed]",
      "text/plain": [
       "<Figure size 576x432 with 1 Axes>"
      ]
     },
     "metadata": {},
     "output_type": "display_data"
    }
   ],
   "source": [
    "plt.figure(figsize=(8, 6))\n",
    "x_values = ['Lower', 'Working', 'Middle', 'Upper']\n",
    "x_pos = [i for i, _ in enumerate(x_values)]\n",
    "\n",
    "total = cm2[0,:]+cm2[1,:]+cm2[2,:]+cm2[3,:]+cm2[4,:]\n",
    "\n",
    "prop_farbelow = (np.true_divide(cm2[0,:], total) * 100)[:-1]\n",
    "prop_below = (np.true_divide(cm2[1,:], total) * 100)[:-1]\n",
    "prop_average = (np.true_divide(cm2[2,:], total) * 100)[:-1]\n",
    "prop_above = (np.true_divide(cm2[3,:], total) * 100)[:-1]\n",
    "prop_farabove = (np.true_divide(cm2[4,:], total) * 100)[:-1]\n",
    "\n",
    "plt.barh(x_pos, prop_farabove, height=0.8, label='far above average', color='gold', \n",
    "        left=prop_above+prop_average+prop_below+prop_farbelow)\n",
    "plt.barh(x_pos, prop_above, height=0.8, label='above average', color='silver', \n",
    "        left=prop_average+prop_below+prop_farbelow)\n",
    "plt.barh(x_pos, prop_average, height=0.8, label='average', color='#CD853F', \n",
    "        left=prop_below+prop_farbelow)\n",
    "plt.barh(x_pos, prop_below, height=0.8, label='below average', color='brown', \n",
    "        left=prop_farbelow)\n",
    "plt.barh(x_pos, prop_farbelow, height=0.8, label='far below average', color='orange')\n",
    "\n",
    "plt.yticks(x_pos, x_values)\n",
    "locs, labels = plt.xticks()\n",
    "plt.xticks(locs[:-1], ['0%', '20%', '40%', '60%', '80%', '100%'])\n",
    "plt.ylabel(\"Income Class\", labelpad=10)\n",
    "plt.xlabel(\"Opinion of Family Income\", labelpad=10)\n",
    "plt.title(\"Opinion of Family Income by Income Class\", pad=35)\n",
    "handles, labels = plt.gca().get_legend_handles_labels()\n",
    "order = [4, 3, 2, 1, 0]\n",
    "plt.legend([handles[idx] for idx in order],[labels[idx] for idx in order], loc=\"upper center\", bbox_to_anchor=(0.5, 1.10),\n",
    "          ncol=5)\n",
    "plt.show()"
   ]
  },
  {
   "cell_type": "markdown",
   "metadata": {},
   "source": [
    "For the satfin variable, the question is \"We are interested in how people are getting along financially these days. So far as you and your family are concerned, would you say that you are pretty well satisfied with your present financial situation, more or less satisfied, or not satisfied at all?\" The possible values are:\n",
    "- 1: satisfied\n",
    "- 2: more or less\n",
    "- 3: not at all sat"
   ]
  },
  {
   "cell_type": "code",
   "execution_count": 243,
   "metadata": {
    "collapsed": true
   },
   "outputs": [],
   "source": [
    "# Get data first\n",
    "gss['satfin'].replace([0, 8, 9], np.nan, inplace=True)\n",
    "satfins = gss['satfin']"
   ]
  },
  {
   "cell_type": "code",
   "execution_count": 245,
   "metadata": {},
   "outputs": [
    {
     "name": "stderr",
     "output_type": "stream",
     "text": [
      "C:\\ProgramData\\Miniconda3\\lib\\site-packages\\pandas_ml\\confusion_matrix\\abstract.py:66: FutureWarning: \n",
      "Passing list-likes to .loc or [] with any missing label will raise\n",
      "KeyError in the future, you can use .reindex() as an alternative.\n",
      "\n",
      "See the documentation here:\n",
      "https://pandas.pydata.org/pandas-docs/stable/indexing.html#deprecate-loc-reindex-listlike\n",
      "  df = df.loc[idx, idx.copy()].fillna(0)  # if some columns or rows are missing\n"
     ]
    },
    {
     "data": {
      "image/png": "[encoded data removed]",
      "text/plain": [
       "<Figure size 648x576 with 2 Axes>"
      ]
     },
     "metadata": {},
     "output_type": "display_data"
    }
   ],
   "source": [
    "# Generate confusion matrix and conert into numpy array\n",
    "class_pred = income_classes\n",
    "confusion_matrix3 = ConfusionMatrix(satfins, class_pred)\n",
    "cm_df3 = confusion_matrix3.to_dataframe()\n",
    "cm3 = cm_df3.values\n",
    "confusion_matrix3.plot()\n",
    "plt.show()"
   ]
  },
  {
   "cell_type": "code",
   "execution_count": 250,
   "metadata": {},
   "outputs": [
    {
     "data": {
      "image/png": "[encoded data removed]",
      "text/plain": [
       "<Figure size 432x288 with 1 Axes>"
      ]
     },
     "metadata": {},
     "output_type": "display_data"
    }
   ],
   "source": [
    "x_values = ['Lower', 'Working', 'Middle', 'Upper']\n",
    "x_pos = [i for i, _ in enumerate(x_values)]\n",
    "\n",
    "total = cm3[0,:]+cm3[1,:]+cm3[2,:]\n",
    "\n",
    "prop_yes = np.true_divide(cm3[0,:], total) * 100\n",
    "prop_okay = np.true_divide(cm3[1,:], total) * 100\n",
    "prop_no = np.true_divide(cm3[2,:], total) * 100\n",
    "\n",
    "plt.barh(x_pos, prop_yes, height=0.8, label='satisfied', color='gold', \n",
    "        left=prop_okay+prop_no)\n",
    "plt.barh(x_pos, prop_okay, height=0.8, label='more or less', color='silver', \n",
    "        left=prop_no)\n",
    "plt.barh(x_pos, prop_no, height=0.8, label='not at all', color='brown')\n",
    "\n",
    "plt.yticks(x_pos, x_values)\n",
    "locs, labels = plt.xticks()\n",
    "plt.xticks(locs[:-1], ['0%', '20%', '40%', '60%', '80%', '100%'])\n",
    "plt.ylabel(\"Income Class\", labelpad=10)\n",
    "plt.xlabel(\"Satisfaction with Financial Situation\", labelpad=10)\n",
    "plt.title(\"Financial Satisfaction by Income Class\", pad=22)\n",
    "handles, labels = plt.gca().get_legend_handles_labels()\n",
    "order = [2, 1, 0]\n",
    "plt.legend([handles[idx] for idx in order],[labels[idx] for idx in order], loc=\"upper center\", bbox_to_anchor=(0.5, 1.10),\n",
    "          ncol=3)\n",
    "\n",
    "plt.show()"
   ]
  },
  {
   "cell_type": "markdown",
   "metadata": {},
   "source": [
    "My immediate next steps involve:\n",
    "- (DONE) Ask for confirmation on current income class calculation method (does it account for potential period effects?) Sounds reasonable\n",
    "- (DONE) Might have potential cohort and age effects (assume how people think about subjective class doesn't change over time)\n",
    "- (DONE) Attempt pairwise comparisons (confusion matrix)\n",
    "- (DONE) What is the distribution of subjective class and how has it changed over time? I assume that how people think about subjective class doesn't change over time, which is probably not the case, but it is my modeling decison. \n",
    "- (DONE) Carefully analyze confusion matrix and make it look better\n",
    "- (DONE) Segmented bar charts for subjective class, stfin, and finrela\n",
    "- Subgroups (srcbelt, education, race, sex, region)\n",
    "- Other interesting variables (wrkstat, satjob, partyid, polviews)"
   ]
  },
  {
   "cell_type": "markdown",
   "metadata": {},
   "source": [
    "Resources:\n",
    "- [Pew article](http://www.pewsocialtrends.org/2015/12/09/the-american-middle-class-is-losing-ground/#fnref-21084-7)\n",
    "- https://www.investopedia.com/financial-edge/0912/which-income-class-are-you.aspx\n",
    "- https://finance.zacks.com/lower-middle-upper-class-income-levels-9877.html\n",
    "- https://en.wikipedia.org/wiki/Social_class_in_the_United_States\n",
    "- https://courses.lumenlearning.com/boundless-sociology/chapter/the-class-structure-in-the-u-s/\n",
    "- [Paper on Popular Conception of Class](http://ucdata.berkeley.edu/rsfcensus/papers/Hout-ClassIDJan07.pdf)\n",
    "- [Census Bureau Data 2017](https://www.census.gov/library/publications/2018/demo/p60-263.html)\n",
    "- [Census Bureau Data 2015](https://www.census.gov/library/publications/2016/demo/p60-256.html)\n",
    "- [Census Bureau Current vs Real](https://www.census.gov/topics/income-poverty/income/guidance/current-vs-constant-dollars.html)\n",
    "- [GSS Income Variables](http://gss.norc.org/Documents/reports/methodological-reports/MR064.pdf)\n",
    "- [\"What Is Considered Middle Class Income?\"](https://www.thebalance.com/definition-of-middle-class-income-4126870)"
   ]
  },
  {
   "cell_type": "code",
   "execution_count": null,
   "metadata": {
    "collapsed": true
   },
   "outputs": [],
   "source": []
  }
 ],
 "metadata": {
  "kernelspec": {
   "display_name": "Python 3",
   "language": "python",
   "name": "python3"
  },
  "language_info": {
   "codemirror_mode": {
    "name": "ipython",
    "version": 3
   },
   "file_extension": ".py",
   "mimetype": "text/x-python",
   "name": "python",
   "nbconvert_exporter": "python",
   "pygments_lexer": "ipython3",
   "version": "3.6.1"
  }
 },
 "nbformat": 4,
 "nbformat_minor": 2
}
