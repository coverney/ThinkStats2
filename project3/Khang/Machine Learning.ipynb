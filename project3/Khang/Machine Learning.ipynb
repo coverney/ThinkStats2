{
 "cells": [
  {
   "cell_type": "code",
   "execution_count": 180,
   "metadata": {},
   "outputs": [],
   "source": [
    "import pandas as pd\n",
    "import numpy as np\n",
    "import matplotlib.pyplot as plt\n",
    "from sklearn.linear_model import Ridge, LogisticRegression\n",
    "from sklearn.neighbors import KNeighborsClassifier\n",
    "from sklearn.model_selection import GridSearchCV, train_test_split, cross_val_score\n",
    "from sklearn.pipeline import Pipeline\n",
    "from sklearn.preprocessing import StandardScaler\n",
    "from sklearn.metrics import classification_report, roc_curve, roc_auc_score"
   ]
  },
  {
   "cell_type": "code",
   "execution_count": 181,
   "metadata": {},
   "outputs": [],
   "source": [
    "def clean_data(x, y=None, scaler=None):\n",
    "    x = x.drop('patient_id', axis=1)\n",
    "    x = pd.get_dummies(x)\n",
    "    x = x.drop('thal_reversible_defect', axis=1)\n",
    "    if y is not None:\n",
    "        y = y['heart_disease_present']\n",
    "    if scaler is None:\n",
    "        scaler = StandardScaler().fit(x)\n",
    "    x = scaler.transform(x)\n",
    "    return scaler, x, y"
   ]
  },
  {
   "cell_type": "code",
   "execution_count": 182,
   "metadata": {},
   "outputs": [],
   "source": [
    "x = pd.read_csv('../Data/train_values.csv')\n",
    "y = pd.read_csv('../Data/train_labels.csv')\n",
    "x_test = pd.read_csv('../Data/test_values.csv')\n",
    "patient_id_test = x_test['patient_id']\n",
    "scaler, x, y = clean_data(x, y)\n",
    "_, x_test, _ = clean_data(x_test, None, scaler)"
   ]
  },
  {
   "cell_type": "code",
   "execution_count": 183,
   "metadata": {
    "scrolled": false
   },
   "outputs": [
    {
     "data": {
      "text/plain": [
       "array([-0.89124111, -0.19519463, -1.23477477, -0.71840267, -0.4382385 ,\n",
       "        0.95384966,  1.11826909, -0.90320689,  0.67202151, -1.05396422,\n",
       "        0.93248505, -0.68074565, -0.21566555,  0.91473203])"
      ]
     },
     "execution_count": 183,
     "metadata": {},
     "output_type": "execute_result"
    }
   ],
   "source": [
    "x[0]"
   ]
  },
  {
   "cell_type": "code",
   "execution_count": 184,
   "metadata": {},
   "outputs": [],
   "source": [
    "x_train, x_val, y_train, y_val = train_test_split(x, y, test_size=0.2, random_state=42)"
   ]
  },
  {
   "cell_type": "markdown",
   "metadata": {},
   "source": [
    "## Logistic Regression"
   ]
  },
  {
   "cell_type": "code",
   "execution_count": 185,
   "metadata": {},
   "outputs": [],
   "source": [
    "steps = [('scaler', StandardScaler()), ('classifier', LogisticRegression())]\n",
    "pipeline = Pipeline(steps)\n",
    "parameters = {'classifier__threshold':np.arange(0, 1)}"
   ]
  },
  {
   "cell_type": "code",
   "execution_count": 186,
   "metadata": {},
   "outputs": [
    {
     "data": {
      "text/plain": [
       "Pipeline(memory=None,\n",
       "     steps=[('scaler', StandardScaler(copy=True, with_mean=True, with_std=True)), ('classifier', LogisticRegression(C=1.0, class_weight=None, dual=False, fit_intercept=True,\n",
       "          intercept_scaling=1, max_iter=100, multi_class='ovr', n_jobs=1,\n",
       "          penalty='l2', random_state=None, solver='liblinear', tol=0.0001,\n",
       "          verbose=0, warm_start=False))])"
      ]
     },
     "execution_count": 186,
     "metadata": {},
     "output_type": "execute_result"
    }
   ],
   "source": [
    "pipeline.fit(x_train, y_train)"
   ]
  },
  {
   "cell_type": "code",
   "execution_count": 187,
   "metadata": {},
   "outputs": [],
   "source": [
    "y_pred_prob = pipeline.predict_proba(x_val)[:,1]\n",
    "fpr, tpr, thresholds = roc_curve(y_val, y_pred_prob)"
   ]
  },
  {
   "cell_type": "code",
   "execution_count": 188,
   "metadata": {},
   "outputs": [
    {
     "data": {
      "image/png": "[encoded data removed]",
      "text/plain": [
       "<Figure size 432x288 with 1 Axes>"
      ]
     },
     "metadata": {
      "needs_background": "light"
     },
     "output_type": "display_data"
    }
   ],
   "source": [
    "plt.plot([0, 1], [0, 1], 'k--')\n",
    "plt.plot(fpr, tpr, label='Logistic Regression')\n",
    "plt.xlabel('False Positive Rate')\n",
    "plt.ylabel('True Positive Rate')\n",
    "plt.title('Logistic Regression ROC Curve')\n",
    "plt.show();"
   ]
  },
  {
   "cell_type": "code",
   "execution_count": 189,
   "metadata": {
    "scrolled": true
   },
   "outputs": [
    {
     "data": {
      "text/plain": [
       "0.890625"
      ]
     },
     "execution_count": 189,
     "metadata": {},
     "output_type": "execute_result"
    }
   ],
   "source": [
    "y_pred_prob = pipeline.predict_proba(x_val)[:,1]\n",
    "roc_auc_score(y_val, y_pred_prob)"
   ]
  },
  {
   "cell_type": "code",
   "execution_count": 190,
   "metadata": {},
   "outputs": [
    {
     "data": {
      "text/plain": [
       "array([0.834375, 0.903125, 0.9875  , 0.809375, 0.859375])"
      ]
     },
     "execution_count": 190,
     "metadata": {},
     "output_type": "execute_result"
    }
   ],
   "source": [
    "cv_scores = cross_val_score(pipeline, x, y, cv=5, scoring='roc_auc')\n",
    "cv_scores"
   ]
  },
  {
   "cell_type": "markdown",
   "metadata": {},
   "source": [
    "## K-Neighbors"
   ]
  },
  {
   "cell_type": "code",
   "execution_count": 191,
   "metadata": {},
   "outputs": [],
   "source": [
    "steps = [('scaler', StandardScaler()), ('classifier', KNeighborsClassifier())]\n",
    "pipeline = Pipeline(steps)\n",
    "parameters = {'classifier__n_neighbors':np.arange(1, 50)}"
   ]
  },
  {
   "cell_type": "code",
   "execution_count": 192,
   "metadata": {},
   "outputs": [
    {
     "data": {
      "text/plain": [
       "GridSearchCV(cv=None, error_score='raise',\n",
       "       estimator=Pipeline(memory=None,\n",
       "     steps=[('scaler', StandardScaler(copy=True, with_mean=True, with_std=True)), ('classifier', KNeighborsClassifier(algorithm='auto', leaf_size=30, metric='minkowski',\n",
       "           metric_params=None, n_jobs=1, n_neighbors=5, p=2,\n",
       "           weights='uniform'))]),\n",
       "       fit_params=None, iid=True, n_jobs=1,\n",
       "       param_grid={'classifier__n_neighbors': array([ 1,  2,  3,  4,  5,  6,  7,  8,  9, 10, 11, 12, 13, 14, 15, 16, 17,\n",
       "       18, 19, 20, 21, 22, 23, 24, 25, 26, 27, 28, 29, 30, 31, 32, 33, 34,\n",
       "       35, 36, 37, 38, 39, 40, 41, 42, 43, 44, 45, 46, 47, 48, 49])},\n",
       "       pre_dispatch='2*n_jobs', refit=True, return_train_score=True,\n",
       "       scoring=None, verbose=0)"
      ]
     },
     "execution_count": 192,
     "metadata": {},
     "output_type": "execute_result"
    }
   ],
   "source": [
    "cv = GridSearchCV(pipeline, param_grid=parameters)\n",
    "cv.fit(x_train, y_train)"
   ]
  },
  {
   "cell_type": "code",
   "execution_count": 193,
   "metadata": {},
   "outputs": [],
   "source": [
    "y_pred = cv.predict(x_val)"
   ]
  },
  {
   "cell_type": "code",
   "execution_count": 194,
   "metadata": {},
   "outputs": [
    {
     "name": "stdout",
     "output_type": "stream",
     "text": [
      "{'classifier__n_neighbors': 16}\n"
     ]
    }
   ],
   "source": [
    "print(cv.best_params_)"
   ]
  },
  {
   "cell_type": "code",
   "execution_count": 195,
   "metadata": {},
   "outputs": [
    {
     "name": "stdout",
     "output_type": "stream",
     "text": [
      "0.8055555555555556\n"
     ]
    }
   ],
   "source": [
    "print(cv.score(x_val, y_val))"
   ]
  },
  {
   "cell_type": "code",
   "execution_count": 196,
   "metadata": {},
   "outputs": [
    {
     "name": "stdout",
     "output_type": "stream",
     "text": [
      "0.8402777777777778\n"
     ]
    }
   ],
   "source": [
    "print(cv.score(x_train, y_train))"
   ]
  },
  {
   "cell_type": "code",
   "execution_count": 197,
   "metadata": {},
   "outputs": [
    {
     "name": "stdout",
     "output_type": "stream",
     "text": [
      "             precision    recall  f1-score   support\n",
      "\n",
      "          0       0.70      1.00      0.82        16\n",
      "          1       1.00      0.65      0.79        20\n",
      "\n",
      "avg / total       0.86      0.81      0.80        36\n",
      "\n"
     ]
    }
   ],
   "source": [
    "print(classification_report(y_val, y_pred))"
   ]
  },
  {
   "cell_type": "markdown",
   "metadata": {},
   "source": [
    "## Deep Learning"
   ]
  },
  {
   "cell_type": "code",
   "execution_count": 198,
   "metadata": {},
   "outputs": [],
   "source": [
    "from tensorflow.keras.layers import Dense, Dropout\n",
    "from tensorflow.keras.models import Sequential\n",
    "from tensorflow.keras.utils import to_categorical\n",
    "from tensorflow.keras.callbacks import EarlyStopping\n",
    "from tensorflow.keras import optimizers\n",
    "from tensorflow.keras import regularizers"
   ]
  },
  {
   "cell_type": "code",
   "execution_count": 199,
   "metadata": {},
   "outputs": [],
   "source": [
    "n_cols = x.shape[1]\n",
    "# target = to_categorical(y)\n",
    "target = y\n",
    "early_stopping_monitor = EarlyStopping(patience=20)\n",
    "model = Sequential()\n",
    "model.add(Dense(n_cols*2, activation='relu', input_shape=(n_cols,), activity_regularizer=regularizers.l2(0.0001)))\n",
    "model.add(Dense(n_cols, activation='relu', input_shape=(n_cols,), activity_regularizer=regularizers.l2(0.0001)))\n",
    "model.add(Dense(n_cols//2, activation='relu', input_shape=(n_cols,), activity_regularizer=regularizers.l2(0.0001)))\n",
    "model.add(Dense(1, activation='sigmoid'))\n",
    "optim = optimizers.SGD(lr=0.008)\n",
    "model.compile(optimizer=optim, loss='mean_squared_error', metrics=['accuracy'])\n",
    "# model.summary()"
   ]
  },
  {
   "cell_type": "code",
   "execution_count": 200,
   "metadata": {},
   "outputs": [
    {
     "name": "stdout",
     "output_type": "stream",
     "text": [
      "Train on 144 samples, validate on 36 samples\n",
      "Epoch 1/5000\n",
      "144/144 [==============================] - 0s 2ms/sample - loss: 0.2872 - accuracy: 0.4444 - val_loss: 0.2622 - val_accuracy: 0.5833\n",
      "Epoch 2/5000\n",
      "144/144 [==============================] - 0s 63us/sample - loss: 0.2832 - accuracy: 0.4514 - val_loss: 0.2601 - val_accuracy: 0.5833\n",
      "Epoch 3/5000\n",
      "144/144 [==============================] - 0s 90us/sample - loss: 0.2793 - accuracy: 0.4583 - val_loss: 0.2582 - val_accuracy: 0.5833\n",
      "Epoch 4/5000\n",
      "144/144 [==============================] - 0s 97us/sample - loss: 0.2757 - accuracy: 0.4583 - val_loss: 0.2562 - val_accuracy: 0.6111\n",
      "Epoch 5/5000\n",
      "144/144 [==============================] - 0s 97us/sample - loss: 0.2722 - accuracy: 0.4583 - val_loss: 0.2545 - val_accuracy: 0.6111\n",
      "Epoch 6/5000\n",
      "144/144 [==============================] - 0s 90us/sample - loss: 0.2690 - accuracy: 0.4653 - val_loss: 0.2526 - val_accuracy: 0.6111\n",
      "Epoch 7/5000\n",
      "144/144 [==============================] - 0s 90us/sample - loss: 0.2655 - accuracy: 0.4653 - val_loss: 0.2508 - val_accuracy: 0.6111\n",
      "Epoch 8/5000\n",
      "144/144 [==============================] - 0s 83us/sample - loss: 0.2622 - accuracy: 0.4722 - val_loss: 0.2493 - val_accuracy: 0.6111\n",
      "Epoch 9/5000\n",
      "144/144 [==============================] - 0s 97us/sample - loss: 0.2592 - accuracy: 0.4722 - val_loss: 0.2478 - val_accuracy: 0.6111\n",
      "Epoch 10/5000\n",
      "144/144 [==============================] - 0s 104us/sample - loss: 0.2562 - accuracy: 0.4722 - val_loss: 0.2464 - val_accuracy: 0.5833\n",
      "Epoch 11/5000\n",
      "144/144 [==============================] - 0s 97us/sample - loss: 0.2535 - accuracy: 0.4792 - val_loss: 0.2450 - val_accuracy: 0.5833\n",
      "Epoch 12/5000\n",
      "144/144 [==============================] - 0s 97us/sample - loss: 0.2507 - accuracy: 0.4931 - val_loss: 0.2438 - val_accuracy: 0.5833\n",
      "Epoch 13/5000\n",
      "144/144 [==============================] - 0s 90us/sample - loss: 0.2482 - accuracy: 0.5069 - val_loss: 0.2426 - val_accuracy: 0.5833\n",
      "Epoch 14/5000\n",
      "144/144 [==============================] - 0s 90us/sample - loss: 0.2459 - accuracy: 0.5139 - val_loss: 0.2415 - val_accuracy: 0.5833\n",
      "Epoch 15/5000\n",
      "144/144 [==============================] - 0s 97us/sample - loss: 0.2437 - accuracy: 0.5278 - val_loss: 0.2404 - val_accuracy: 0.5833\n",
      "Epoch 16/5000\n",
      "144/144 [==============================] - 0s 97us/sample - loss: 0.2415 - accuracy: 0.5486 - val_loss: 0.2395 - val_accuracy: 0.5833\n",
      "Epoch 17/5000\n",
      "144/144 [==============================] - 0s 90us/sample - loss: 0.2393 - accuracy: 0.5764 - val_loss: 0.2385 - val_accuracy: 0.5556\n",
      "Epoch 18/5000\n",
      "144/144 [==============================] - 0s 104us/sample - loss: 0.2373 - accuracy: 0.5972 - val_loss: 0.2376 - val_accuracy: 0.5833\n",
      "Epoch 19/5000\n",
      "144/144 [==============================] - 0s 111us/sample - loss: 0.2353 - accuracy: 0.6111 - val_loss: 0.2368 - val_accuracy: 0.6111\n",
      "Epoch 20/5000\n",
      "144/144 [==============================] - 0s 97us/sample - loss: 0.2334 - accuracy: 0.6250 - val_loss: 0.2360 - val_accuracy: 0.6111\n",
      "Epoch 21/5000\n",
      "144/144 [==============================] - 0s 90us/sample - loss: 0.2317 - accuracy: 0.6389 - val_loss: 0.2351 - val_accuracy: 0.6389\n",
      "Epoch 22/5000\n",
      "144/144 [==============================] - 0s 76us/sample - loss: 0.2297 - accuracy: 0.6528 - val_loss: 0.2343 - val_accuracy: 0.6111\n",
      "Epoch 23/5000\n",
      "144/144 [==============================] - 0s 97us/sample - loss: 0.2280 - accuracy: 0.6528 - val_loss: 0.2336 - val_accuracy: 0.6111\n",
      "Epoch 24/5000\n",
      "144/144 [==============================] - 0s 69us/sample - loss: 0.2264 - accuracy: 0.6667 - val_loss: 0.2327 - val_accuracy: 0.6111\n",
      "Epoch 25/5000\n",
      "144/144 [==============================] - 0s 83us/sample - loss: 0.2247 - accuracy: 0.6736 - val_loss: 0.2321 - val_accuracy: 0.6111\n",
      "Epoch 26/5000\n",
      "144/144 [==============================] - 0s 97us/sample - loss: 0.2233 - accuracy: 0.6736 - val_loss: 0.2313 - val_accuracy: 0.6111\n",
      "Epoch 27/5000\n",
      "144/144 [==============================] - 0s 90us/sample - loss: 0.2218 - accuracy: 0.6736 - val_loss: 0.2306 - val_accuracy: 0.6111\n",
      "Epoch 28/5000\n",
      "144/144 [==============================] - 0s 76us/sample - loss: 0.2204 - accuracy: 0.6736 - val_loss: 0.2299 - val_accuracy: 0.6111\n",
      "Epoch 29/5000\n",
      "144/144 [==============================] - 0s 104us/sample - loss: 0.2190 - accuracy: 0.6736 - val_loss: 0.2291 - val_accuracy: 0.5833\n",
      "Epoch 30/5000\n",
      "144/144 [==============================] - 0s 97us/sample - loss: 0.2176 - accuracy: 0.6944 - val_loss: 0.2283 - val_accuracy: 0.5833\n",
      "Epoch 31/5000\n",
      "144/144 [==============================] - 0s 83us/sample - loss: 0.2162 - accuracy: 0.7014 - val_loss: 0.2275 - val_accuracy: 0.5833\n",
      "Epoch 32/5000\n",
      "144/144 [==============================] - 0s 111us/sample - loss: 0.2149 - accuracy: 0.7083 - val_loss: 0.2267 - val_accuracy: 0.5833\n",
      "Epoch 33/5000\n",
      "144/144 [==============================] - 0s 90us/sample - loss: 0.2135 - accuracy: 0.7083 - val_loss: 0.2259 - val_accuracy: 0.6111\n",
      "Epoch 34/5000\n",
      "144/144 [==============================] - 0s 90us/sample - loss: 0.2121 - accuracy: 0.7153 - val_loss: 0.2251 - val_accuracy: 0.6111\n",
      "Epoch 35/5000\n",
      "144/144 [==============================] - 0s 97us/sample - loss: 0.2107 - accuracy: 0.7222 - val_loss: 0.2243 - val_accuracy: 0.6111\n",
      "Epoch 36/5000\n",
      "144/144 [==============================] - 0s 91us/sample - loss: 0.2095 - accuracy: 0.7292 - val_loss: 0.2236 - val_accuracy: 0.6111\n",
      "Epoch 37/5000\n",
      "144/144 [==============================] - 0s 91us/sample - loss: 0.2082 - accuracy: 0.7361 - val_loss: 0.2228 - val_accuracy: 0.6111\n",
      "Epoch 38/5000\n",
      "144/144 [==============================] - 0s 76us/sample - loss: 0.2070 - accuracy: 0.7361 - val_loss: 0.2221 - val_accuracy: 0.6111\n",
      "Epoch 39/5000\n",
      "144/144 [==============================] - 0s 97us/sample - loss: 0.2057 - accuracy: 0.7500 - val_loss: 0.2214 - val_accuracy: 0.6111\n",
      "Epoch 40/5000\n",
      "144/144 [==============================] - 0s 97us/sample - loss: 0.2045 - accuracy: 0.7431 - val_loss: 0.2207 - val_accuracy: 0.6111\n",
      "Epoch 41/5000\n",
      "144/144 [==============================] - 0s 69us/sample - loss: 0.2033 - accuracy: 0.7431 - val_loss: 0.2199 - val_accuracy: 0.6111\n",
      "Epoch 42/5000\n",
      "144/144 [==============================] - 0s 69us/sample - loss: 0.2020 - accuracy: 0.7569 - val_loss: 0.2192 - val_accuracy: 0.6111\n",
      "Epoch 43/5000\n",
      "144/144 [==============================] - 0s 83us/sample - loss: 0.2008 - accuracy: 0.7639 - val_loss: 0.2184 - val_accuracy: 0.6389\n",
      "Epoch 44/5000\n",
      "144/144 [==============================] - 0s 69us/sample - loss: 0.1996 - accuracy: 0.7708 - val_loss: 0.2177 - val_accuracy: 0.6667\n",
      "Epoch 45/5000\n",
      "144/144 [==============================] - 0s 62us/sample - loss: 0.1984 - accuracy: 0.7778 - val_loss: 0.2169 - val_accuracy: 0.6667\n",
      "Epoch 46/5000\n",
      "144/144 [==============================] - 0s 76us/sample - loss: 0.1973 - accuracy: 0.7847 - val_loss: 0.2162 - val_accuracy: 0.6667\n",
      "Epoch 47/5000\n",
      "144/144 [==============================] - 0s 69us/sample - loss: 0.1962 - accuracy: 0.7917 - val_loss: 0.2154 - val_accuracy: 0.6944\n",
      "Epoch 48/5000\n",
      "144/144 [==============================] - 0s 63us/sample - loss: 0.1950 - accuracy: 0.7917 - val_loss: 0.2147 - val_accuracy: 0.6944\n",
      "Epoch 49/5000\n",
      "144/144 [==============================] - 0s 76us/sample - loss: 0.1939 - accuracy: 0.7917 - val_loss: 0.2140 - val_accuracy: 0.6944\n",
      "Epoch 50/5000\n",
      "144/144 [==============================] - 0s 63us/sample - loss: 0.1927 - accuracy: 0.8056 - val_loss: 0.2133 - val_accuracy: 0.6944\n",
      "Epoch 51/5000\n",
      "144/144 [==============================] - 0s 76us/sample - loss: 0.1916 - accuracy: 0.8125 - val_loss: 0.2127 - val_accuracy: 0.6944\n",
      "Epoch 52/5000\n",
      "144/144 [==============================] - 0s 76us/sample - loss: 0.1906 - accuracy: 0.8125 - val_loss: 0.2120 - val_accuracy: 0.6944\n",
      "Epoch 53/5000\n",
      "144/144 [==============================] - 0s 76us/sample - loss: 0.1895 - accuracy: 0.8125 - val_loss: 0.2114 - val_accuracy: 0.6944\n",
      "Epoch 54/5000\n",
      "144/144 [==============================] - 0s 83us/sample - loss: 0.1885 - accuracy: 0.8125 - val_loss: 0.2107 - val_accuracy: 0.6944\n",
      "Epoch 55/5000\n",
      "144/144 [==============================] - 0s 70us/sample - loss: 0.1873 - accuracy: 0.8125 - val_loss: 0.2100 - val_accuracy: 0.6944\n",
      "Epoch 56/5000\n"
     ]
    },
    {
     "name": "stdout",
     "output_type": "stream",
     "text": [
      "144/144 [==============================] - 0s 69us/sample - loss: 0.1862 - accuracy: 0.8194 - val_loss: 0.2094 - val_accuracy: 0.6944\n",
      "Epoch 57/5000\n",
      "144/144 [==============================] - 0s 83us/sample - loss: 0.1850 - accuracy: 0.8194 - val_loss: 0.2087 - val_accuracy: 0.6944\n",
      "Epoch 58/5000\n",
      "144/144 [==============================] - 0s 63us/sample - loss: 0.1838 - accuracy: 0.8194 - val_loss: 0.2081 - val_accuracy: 0.6944\n",
      "Epoch 59/5000\n",
      "144/144 [==============================] - 0s 90us/sample - loss: 0.1827 - accuracy: 0.8194 - val_loss: 0.2075 - val_accuracy: 0.6944\n",
      "Epoch 60/5000\n",
      "144/144 [==============================] - 0s 83us/sample - loss: 0.1816 - accuracy: 0.8194 - val_loss: 0.2069 - val_accuracy: 0.6944\n",
      "Epoch 61/5000\n",
      "144/144 [==============================] - 0s 90us/sample - loss: 0.1805 - accuracy: 0.8264 - val_loss: 0.2063 - val_accuracy: 0.6944\n",
      "Epoch 62/5000\n",
      "144/144 [==============================] - 0s 90us/sample - loss: 0.1794 - accuracy: 0.8264 - val_loss: 0.2057 - val_accuracy: 0.6944\n",
      "Epoch 63/5000\n",
      "144/144 [==============================] - 0s 90us/sample - loss: 0.1783 - accuracy: 0.8264 - val_loss: 0.2051 - val_accuracy: 0.6944\n",
      "Epoch 64/5000\n",
      "144/144 [==============================] - 0s 90us/sample - loss: 0.1773 - accuracy: 0.8264 - val_loss: 0.2045 - val_accuracy: 0.6944\n",
      "Epoch 65/5000\n",
      "144/144 [==============================] - 0s 70us/sample - loss: 0.1762 - accuracy: 0.8264 - val_loss: 0.2039 - val_accuracy: 0.6944\n",
      "Epoch 66/5000\n",
      "144/144 [==============================] - 0s 76us/sample - loss: 0.1751 - accuracy: 0.8264 - val_loss: 0.2032 - val_accuracy: 0.6944\n",
      "Epoch 67/5000\n",
      "144/144 [==============================] - 0s 76us/sample - loss: 0.1741 - accuracy: 0.8264 - val_loss: 0.2026 - val_accuracy: 0.6944\n",
      "Epoch 68/5000\n",
      "144/144 [==============================] - 0s 87us/sample - loss: 0.1729 - accuracy: 0.8333 - val_loss: 0.2020 - val_accuracy: 0.6944\n",
      "Epoch 69/5000\n",
      "144/144 [==============================] - 0s 90us/sample - loss: 0.1719 - accuracy: 0.8333 - val_loss: 0.2014 - val_accuracy: 0.6944\n",
      "Epoch 70/5000\n",
      "144/144 [==============================] - 0s 90us/sample - loss: 0.1708 - accuracy: 0.8333 - val_loss: 0.2009 - val_accuracy: 0.6944\n",
      "Epoch 71/5000\n",
      "144/144 [==============================] - 0s 83us/sample - loss: 0.1698 - accuracy: 0.8333 - val_loss: 0.2004 - val_accuracy: 0.6944\n",
      "Epoch 72/5000\n",
      "144/144 [==============================] - 0s 76us/sample - loss: 0.1687 - accuracy: 0.8333 - val_loss: 0.1999 - val_accuracy: 0.6944\n",
      "Epoch 73/5000\n",
      "144/144 [==============================] - 0s 76us/sample - loss: 0.1677 - accuracy: 0.8333 - val_loss: 0.1993 - val_accuracy: 0.6944\n",
      "Epoch 74/5000\n",
      "144/144 [==============================] - 0s 76us/sample - loss: 0.1668 - accuracy: 0.8403 - val_loss: 0.1987 - val_accuracy: 0.6944\n",
      "Epoch 75/5000\n",
      "144/144 [==============================] - 0s 76us/sample - loss: 0.1659 - accuracy: 0.8403 - val_loss: 0.1981 - val_accuracy: 0.6944\n",
      "Epoch 76/5000\n",
      "144/144 [==============================] - 0s 83us/sample - loss: 0.1649 - accuracy: 0.8403 - val_loss: 0.1975 - val_accuracy: 0.6944\n",
      "Epoch 77/5000\n",
      "144/144 [==============================] - 0s 83us/sample - loss: 0.1640 - accuracy: 0.8403 - val_loss: 0.1970 - val_accuracy: 0.6944\n",
      "Epoch 78/5000\n",
      "144/144 [==============================] - 0s 69us/sample - loss: 0.1631 - accuracy: 0.8403 - val_loss: 0.1966 - val_accuracy: 0.6944\n",
      "Epoch 79/5000\n",
      "144/144 [==============================] - 0s 83us/sample - loss: 0.1622 - accuracy: 0.8403 - val_loss: 0.1961 - val_accuracy: 0.6944\n",
      "Epoch 80/5000\n",
      "144/144 [==============================] - 0s 83us/sample - loss: 0.1613 - accuracy: 0.8403 - val_loss: 0.1956 - val_accuracy: 0.6944\n",
      "Epoch 81/5000\n",
      "144/144 [==============================] - 0s 83us/sample - loss: 0.1604 - accuracy: 0.8472 - val_loss: 0.1951 - val_accuracy: 0.7222\n",
      "Epoch 82/5000\n",
      "144/144 [==============================] - 0s 76us/sample - loss: 0.1595 - accuracy: 0.8542 - val_loss: 0.1945 - val_accuracy: 0.7222\n",
      "Epoch 83/5000\n",
      "144/144 [==============================] - 0s 90us/sample - loss: 0.1586 - accuracy: 0.8542 - val_loss: 0.1940 - val_accuracy: 0.7222\n",
      "Epoch 84/5000\n",
      "144/144 [==============================] - 0s 83us/sample - loss: 0.1578 - accuracy: 0.8542 - val_loss: 0.1936 - val_accuracy: 0.7222\n",
      "Epoch 85/5000\n",
      "144/144 [==============================] - 0s 69us/sample - loss: 0.1570 - accuracy: 0.8472 - val_loss: 0.1931 - val_accuracy: 0.7500\n",
      "Epoch 86/5000\n",
      "144/144 [==============================] - 0s 76us/sample - loss: 0.1562 - accuracy: 0.8472 - val_loss: 0.1927 - val_accuracy: 0.7500\n",
      "Epoch 87/5000\n",
      "144/144 [==============================] - 0s 83us/sample - loss: 0.1554 - accuracy: 0.8472 - val_loss: 0.1921 - val_accuracy: 0.7500\n",
      "Epoch 88/5000\n",
      "144/144 [==============================] - 0s 83us/sample - loss: 0.1546 - accuracy: 0.8472 - val_loss: 0.1917 - val_accuracy: 0.7500\n",
      "Epoch 89/5000\n",
      "144/144 [==============================] - 0s 83us/sample - loss: 0.1537 - accuracy: 0.8472 - val_loss: 0.1912 - val_accuracy: 0.7500\n",
      "Epoch 90/5000\n",
      "144/144 [==============================] - 0s 83us/sample - loss: 0.1529 - accuracy: 0.8472 - val_loss: 0.1907 - val_accuracy: 0.7500\n",
      "Epoch 91/5000\n",
      "144/144 [==============================] - 0s 76us/sample - loss: 0.1521 - accuracy: 0.8472 - val_loss: 0.1903 - val_accuracy: 0.7500\n",
      "Epoch 92/5000\n",
      "144/144 [==============================] - 0s 69us/sample - loss: 0.1513 - accuracy: 0.8472 - val_loss: 0.1899 - val_accuracy: 0.7500\n",
      "Epoch 93/5000\n",
      "144/144 [==============================] - 0s 83us/sample - loss: 0.1505 - accuracy: 0.8472 - val_loss: 0.1894 - val_accuracy: 0.7500\n",
      "Epoch 94/5000\n",
      "144/144 [==============================] - 0s 76us/sample - loss: 0.1497 - accuracy: 0.8403 - val_loss: 0.1889 - val_accuracy: 0.7500\n",
      "Epoch 95/5000\n",
      "144/144 [==============================] - 0s 125us/sample - loss: 0.1489 - accuracy: 0.8403 - val_loss: 0.1885 - val_accuracy: 0.7500\n",
      "Epoch 96/5000\n",
      "144/144 [==============================] - 0s 90us/sample - loss: 0.1481 - accuracy: 0.8472 - val_loss: 0.1881 - val_accuracy: 0.7778\n",
      "Epoch 97/5000\n",
      "144/144 [==============================] - 0s 83us/sample - loss: 0.1474 - accuracy: 0.8472 - val_loss: 0.1876 - val_accuracy: 0.7778\n",
      "Epoch 98/5000\n",
      "144/144 [==============================] - 0s 97us/sample - loss: 0.1467 - accuracy: 0.8472 - val_loss: 0.1871 - val_accuracy: 0.7778\n",
      "Epoch 99/5000\n",
      "144/144 [==============================] - 0s 90us/sample - loss: 0.1459 - accuracy: 0.8472 - val_loss: 0.1867 - val_accuracy: 0.7778\n",
      "Epoch 100/5000\n",
      "144/144 [==============================] - 0s 90us/sample - loss: 0.1452 - accuracy: 0.8542 - val_loss: 0.1862 - val_accuracy: 0.7778\n",
      "Epoch 101/5000\n",
      "144/144 [==============================] - 0s 69us/sample - loss: 0.1445 - accuracy: 0.8542 - val_loss: 0.1859 - val_accuracy: 0.7778\n",
      "Epoch 102/5000\n",
      "144/144 [==============================] - 0s 69us/sample - loss: 0.1438 - accuracy: 0.8542 - val_loss: 0.1855 - val_accuracy: 0.7778\n",
      "Epoch 103/5000\n",
      "144/144 [==============================] - 0s 76us/sample - loss: 0.1431 - accuracy: 0.8542 - val_loss: 0.1851 - val_accuracy: 0.7778\n",
      "Epoch 104/5000\n",
      "144/144 [==============================] - 0s 83us/sample - loss: 0.1424 - accuracy: 0.8542 - val_loss: 0.1847 - val_accuracy: 0.7778\n",
      "Epoch 105/5000\n",
      "144/144 [==============================] - 0s 90us/sample - loss: 0.1416 - accuracy: 0.8542 - val_loss: 0.1843 - val_accuracy: 0.7778\n",
      "Epoch 106/5000\n",
      "144/144 [==============================] - 0s 90us/sample - loss: 0.1409 - accuracy: 0.8542 - val_loss: 0.1838 - val_accuracy: 0.7778\n",
      "Epoch 107/5000\n",
      "144/144 [==============================] - 0s 90us/sample - loss: 0.1403 - accuracy: 0.8542 - val_loss: 0.1835 - val_accuracy: 0.7778\n",
      "Epoch 108/5000\n",
      "144/144 [==============================] - 0s 83us/sample - loss: 0.1396 - accuracy: 0.8542 - val_loss: 0.1832 - val_accuracy: 0.7778\n",
      "Epoch 109/5000\n",
      "144/144 [==============================] - 0s 62us/sample - loss: 0.1389 - accuracy: 0.8542 - val_loss: 0.1828 - val_accuracy: 0.7778\n",
      "Epoch 110/5000\n",
      "144/144 [==============================] - 0s 76us/sample - loss: 0.1383 - accuracy: 0.8542 - val_loss: 0.1824 - val_accuracy: 0.7778\n",
      "Epoch 111/5000\n"
     ]
    },
    {
     "name": "stdout",
     "output_type": "stream",
     "text": [
      "144/144 [==============================] - 0s 83us/sample - loss: 0.1376 - accuracy: 0.8542 - val_loss: 0.1820 - val_accuracy: 0.7778\n",
      "Epoch 112/5000\n",
      "144/144 [==============================] - 0s 69us/sample - loss: 0.1370 - accuracy: 0.8542 - val_loss: 0.1816 - val_accuracy: 0.7778\n",
      "Epoch 113/5000\n",
      "144/144 [==============================] - 0s 62us/sample - loss: 0.1363 - accuracy: 0.8542 - val_loss: 0.1813 - val_accuracy: 0.7778\n",
      "Epoch 114/5000\n",
      "144/144 [==============================] - 0s 90us/sample - loss: 0.1357 - accuracy: 0.8611 - val_loss: 0.1810 - val_accuracy: 0.7778\n",
      "Epoch 115/5000\n",
      "144/144 [==============================] - 0s 69us/sample - loss: 0.1352 - accuracy: 0.8611 - val_loss: 0.1805 - val_accuracy: 0.7778\n",
      "Epoch 116/5000\n",
      "144/144 [==============================] - 0s 90us/sample - loss: 0.1345 - accuracy: 0.8681 - val_loss: 0.1802 - val_accuracy: 0.7778\n",
      "Epoch 117/5000\n",
      "144/144 [==============================] - 0s 83us/sample - loss: 0.1339 - accuracy: 0.8681 - val_loss: 0.1798 - val_accuracy: 0.7778\n",
      "Epoch 118/5000\n",
      "144/144 [==============================] - 0s 83us/sample - loss: 0.1333 - accuracy: 0.8681 - val_loss: 0.1795 - val_accuracy: 0.7778\n",
      "Epoch 119/5000\n",
      "144/144 [==============================] - 0s 83us/sample - loss: 0.1327 - accuracy: 0.8681 - val_loss: 0.1792 - val_accuracy: 0.7778\n",
      "Epoch 120/5000\n",
      "144/144 [==============================] - 0s 76us/sample - loss: 0.1321 - accuracy: 0.8681 - val_loss: 0.1788 - val_accuracy: 0.7778\n",
      "Epoch 121/5000\n",
      "144/144 [==============================] - 0s 69us/sample - loss: 0.1316 - accuracy: 0.8681 - val_loss: 0.1785 - val_accuracy: 0.7778\n",
      "Epoch 122/5000\n",
      "144/144 [==============================] - 0s 76us/sample - loss: 0.1310 - accuracy: 0.8681 - val_loss: 0.1782 - val_accuracy: 0.7778\n",
      "Epoch 123/5000\n",
      "144/144 [==============================] - 0s 90us/sample - loss: 0.1305 - accuracy: 0.8681 - val_loss: 0.1779 - val_accuracy: 0.7778\n",
      "Epoch 124/5000\n",
      "144/144 [==============================] - 0s 83us/sample - loss: 0.1299 - accuracy: 0.8681 - val_loss: 0.1776 - val_accuracy: 0.7778\n",
      "Epoch 125/5000\n",
      "144/144 [==============================] - 0s 83us/sample - loss: 0.1293 - accuracy: 0.8681 - val_loss: 0.1773 - val_accuracy: 0.7778\n",
      "Epoch 126/5000\n",
      "144/144 [==============================] - 0s 90us/sample - loss: 0.1288 - accuracy: 0.8750 - val_loss: 0.1770 - val_accuracy: 0.7778\n",
      "Epoch 127/5000\n",
      "144/144 [==============================] - 0s 77us/sample - loss: 0.1283 - accuracy: 0.8750 - val_loss: 0.1767 - val_accuracy: 0.7778\n",
      "Epoch 128/5000\n",
      "144/144 [==============================] - 0s 69us/sample - loss: 0.1277 - accuracy: 0.8750 - val_loss: 0.1765 - val_accuracy: 0.7778\n",
      "Epoch 129/5000\n",
      "144/144 [==============================] - 0s 76us/sample - loss: 0.1272 - accuracy: 0.8750 - val_loss: 0.1762 - val_accuracy: 0.7778\n",
      "Epoch 130/5000\n",
      "144/144 [==============================] - 0s 80us/sample - loss: 0.1267 - accuracy: 0.8750 - val_loss: 0.1759 - val_accuracy: 0.8056\n",
      "Epoch 131/5000\n",
      "144/144 [==============================] - 0s 90us/sample - loss: 0.1262 - accuracy: 0.8750 - val_loss: 0.1756 - val_accuracy: 0.8056\n",
      "Epoch 132/5000\n",
      "144/144 [==============================] - 0s 83us/sample - loss: 0.1256 - accuracy: 0.8750 - val_loss: 0.1753 - val_accuracy: 0.8056\n",
      "Epoch 133/5000\n",
      "144/144 [==============================] - 0s 69us/sample - loss: 0.1251 - accuracy: 0.8750 - val_loss: 0.1752 - val_accuracy: 0.8056\n",
      "Epoch 134/5000\n",
      "144/144 [==============================] - 0s 118us/sample - loss: 0.1247 - accuracy: 0.8750 - val_loss: 0.1749 - val_accuracy: 0.8056\n",
      "Epoch 135/5000\n",
      "144/144 [==============================] - 0s 69us/sample - loss: 0.1242 - accuracy: 0.8750 - val_loss: 0.1746 - val_accuracy: 0.8056\n",
      "Epoch 136/5000\n",
      "144/144 [==============================] - 0s 76us/sample - loss: 0.1237 - accuracy: 0.8750 - val_loss: 0.1744 - val_accuracy: 0.8056\n",
      "Epoch 137/5000\n",
      "144/144 [==============================] - 0s 76us/sample - loss: 0.1233 - accuracy: 0.8750 - val_loss: 0.1741 - val_accuracy: 0.8056\n",
      "Epoch 138/5000\n",
      "144/144 [==============================] - 0s 83us/sample - loss: 0.1228 - accuracy: 0.8750 - val_loss: 0.1740 - val_accuracy: 0.8056\n",
      "Epoch 139/5000\n",
      "144/144 [==============================] - 0s 83us/sample - loss: 0.1224 - accuracy: 0.8750 - val_loss: 0.1737 - val_accuracy: 0.8056\n",
      "Epoch 140/5000\n",
      "144/144 [==============================] - 0s 69us/sample - loss: 0.1218 - accuracy: 0.8750 - val_loss: 0.1734 - val_accuracy: 0.8056\n",
      "Epoch 141/5000\n",
      "144/144 [==============================] - 0s 76us/sample - loss: 0.1214 - accuracy: 0.8750 - val_loss: 0.1732 - val_accuracy: 0.8056\n",
      "Epoch 142/5000\n",
      "144/144 [==============================] - 0s 83us/sample - loss: 0.1210 - accuracy: 0.8750 - val_loss: 0.1730 - val_accuracy: 0.8056\n",
      "Epoch 143/5000\n",
      "144/144 [==============================] - 0s 90us/sample - loss: 0.1205 - accuracy: 0.8750 - val_loss: 0.1728 - val_accuracy: 0.8056\n",
      "Epoch 144/5000\n",
      "144/144 [==============================] - 0s 87us/sample - loss: 0.1201 - accuracy: 0.8750 - val_loss: 0.1727 - val_accuracy: 0.8056\n",
      "Epoch 145/5000\n",
      "144/144 [==============================] - 0s 83us/sample - loss: 0.1196 - accuracy: 0.8750 - val_loss: 0.1724 - val_accuracy: 0.8056\n",
      "Epoch 146/5000\n",
      "144/144 [==============================] - 0s 83us/sample - loss: 0.1191 - accuracy: 0.8750 - val_loss: 0.1722 - val_accuracy: 0.8056\n",
      "Epoch 147/5000\n",
      "144/144 [==============================] - 0s 83us/sample - loss: 0.1187 - accuracy: 0.8750 - val_loss: 0.1719 - val_accuracy: 0.8056\n",
      "Epoch 148/5000\n",
      "144/144 [==============================] - 0s 76us/sample - loss: 0.1183 - accuracy: 0.8750 - val_loss: 0.1716 - val_accuracy: 0.8056\n",
      "Epoch 149/5000\n",
      "144/144 [==============================] - 0s 69us/sample - loss: 0.1178 - accuracy: 0.8750 - val_loss: 0.1714 - val_accuracy: 0.8333\n",
      "Epoch 150/5000\n",
      "144/144 [==============================] - 0s 83us/sample - loss: 0.1174 - accuracy: 0.8750 - val_loss: 0.1712 - val_accuracy: 0.8611\n",
      "Epoch 151/5000\n",
      "144/144 [==============================] - 0s 90us/sample - loss: 0.1171 - accuracy: 0.8750 - val_loss: 0.1711 - val_accuracy: 0.8611\n",
      "Epoch 152/5000\n",
      "144/144 [==============================] - 0s 90us/sample - loss: 0.1166 - accuracy: 0.8750 - val_loss: 0.1709 - val_accuracy: 0.8611\n",
      "Epoch 153/5000\n",
      "144/144 [==============================] - 0s 83us/sample - loss: 0.1162 - accuracy: 0.8750 - val_loss: 0.1707 - val_accuracy: 0.8611\n",
      "Epoch 154/5000\n",
      "144/144 [==============================] - 0s 83us/sample - loss: 0.1158 - accuracy: 0.8750 - val_loss: 0.1705 - val_accuracy: 0.8611\n",
      "Epoch 155/5000\n",
      "144/144 [==============================] - 0s 76us/sample - loss: 0.1154 - accuracy: 0.8750 - val_loss: 0.1703 - val_accuracy: 0.8611\n",
      "Epoch 156/5000\n",
      "144/144 [==============================] - 0s 69us/sample - loss: 0.1150 - accuracy: 0.8750 - val_loss: 0.1702 - val_accuracy: 0.8611\n",
      "Epoch 157/5000\n",
      "144/144 [==============================] - 0s 83us/sample - loss: 0.1146 - accuracy: 0.8750 - val_loss: 0.1700 - val_accuracy: 0.8611\n",
      "Epoch 158/5000\n",
      "144/144 [==============================] - 0s 90us/sample - loss: 0.1143 - accuracy: 0.8750 - val_loss: 0.1698 - val_accuracy: 0.8611\n",
      "Epoch 159/5000\n",
      "144/144 [==============================] - 0s 83us/sample - loss: 0.1139 - accuracy: 0.8750 - val_loss: 0.1696 - val_accuracy: 0.8611\n",
      "Epoch 160/5000\n",
      "144/144 [==============================] - 0s 90us/sample - loss: 0.1136 - accuracy: 0.8750 - val_loss: 0.1694 - val_accuracy: 0.8611\n",
      "Epoch 161/5000\n",
      "144/144 [==============================] - 0s 76us/sample - loss: 0.1132 - accuracy: 0.8750 - val_loss: 0.1692 - val_accuracy: 0.8611\n",
      "Epoch 162/5000\n",
      "144/144 [==============================] - 0s 69us/sample - loss: 0.1128 - accuracy: 0.8750 - val_loss: 0.1689 - val_accuracy: 0.8611\n",
      "Epoch 163/5000\n",
      "144/144 [==============================] - 0s 76us/sample - loss: 0.1125 - accuracy: 0.8681 - val_loss: 0.1688 - val_accuracy: 0.8611\n",
      "Epoch 164/5000\n",
      "144/144 [==============================] - 0s 83us/sample - loss: 0.1122 - accuracy: 0.8681 - val_loss: 0.1686 - val_accuracy: 0.8611\n",
      "Epoch 165/5000\n",
      "144/144 [==============================] - 0s 90us/sample - loss: 0.1118 - accuracy: 0.8750 - val_loss: 0.1685 - val_accuracy: 0.8611\n",
      "Epoch 166/5000\n"
     ]
    },
    {
     "name": "stdout",
     "output_type": "stream",
     "text": [
      "144/144 [==============================] - 0s 90us/sample - loss: 0.1115 - accuracy: 0.8681 - val_loss: 0.1684 - val_accuracy: 0.8611\n",
      "Epoch 167/5000\n",
      "144/144 [==============================] - 0s 62us/sample - loss: 0.1111 - accuracy: 0.8681 - val_loss: 0.1682 - val_accuracy: 0.8611\n",
      "Epoch 168/5000\n",
      "144/144 [==============================] - 0s 76us/sample - loss: 0.1108 - accuracy: 0.8681 - val_loss: 0.1681 - val_accuracy: 0.8611\n",
      "Epoch 169/5000\n",
      "144/144 [==============================] - 0s 90us/sample - loss: 0.1105 - accuracy: 0.8681 - val_loss: 0.1680 - val_accuracy: 0.8611\n",
      "Epoch 170/5000\n",
      "144/144 [==============================] - 0s 83us/sample - loss: 0.1102 - accuracy: 0.8681 - val_loss: 0.1678 - val_accuracy: 0.8611\n",
      "Epoch 171/5000\n",
      "144/144 [==============================] - 0s 76us/sample - loss: 0.1098 - accuracy: 0.8681 - val_loss: 0.1677 - val_accuracy: 0.8611\n",
      "Epoch 172/5000\n",
      "144/144 [==============================] - 0s 76us/sample - loss: 0.1095 - accuracy: 0.8681 - val_loss: 0.1677 - val_accuracy: 0.8611\n",
      "Epoch 173/5000\n",
      "144/144 [==============================] - 0s 83us/sample - loss: 0.1093 - accuracy: 0.8681 - val_loss: 0.1674 - val_accuracy: 0.8611\n",
      "Epoch 174/5000\n",
      "144/144 [==============================] - 0s 76us/sample - loss: 0.1089 - accuracy: 0.8681 - val_loss: 0.1672 - val_accuracy: 0.8611\n",
      "Epoch 175/5000\n",
      "144/144 [==============================] - 0s 77us/sample - loss: 0.1086 - accuracy: 0.8750 - val_loss: 0.1671 - val_accuracy: 0.8611\n",
      "Epoch 176/5000\n",
      "144/144 [==============================] - 0s 76us/sample - loss: 0.1082 - accuracy: 0.8750 - val_loss: 0.1670 - val_accuracy: 0.8611\n",
      "Epoch 177/5000\n",
      "144/144 [==============================] - 0s 76us/sample - loss: 0.1080 - accuracy: 0.8750 - val_loss: 0.1669 - val_accuracy: 0.8611\n",
      "Epoch 178/5000\n",
      "144/144 [==============================] - 0s 83us/sample - loss: 0.1077 - accuracy: 0.8750 - val_loss: 0.1668 - val_accuracy: 0.8611\n",
      "Epoch 179/5000\n",
      "144/144 [==============================] - 0s 77us/sample - loss: 0.1074 - accuracy: 0.8819 - val_loss: 0.1667 - val_accuracy: 0.8611\n",
      "Epoch 180/5000\n",
      "144/144 [==============================] - 0s 76us/sample - loss: 0.1071 - accuracy: 0.8750 - val_loss: 0.1665 - val_accuracy: 0.8611\n",
      "Epoch 181/5000\n",
      "144/144 [==============================] - 0s 76us/sample - loss: 0.1068 - accuracy: 0.8819 - val_loss: 0.1664 - val_accuracy: 0.8611\n",
      "Epoch 182/5000\n",
      "144/144 [==============================] - 0s 90us/sample - loss: 0.1065 - accuracy: 0.8819 - val_loss: 0.1663 - val_accuracy: 0.8611\n",
      "Epoch 183/5000\n",
      "144/144 [==============================] - 0s 90us/sample - loss: 0.1062 - accuracy: 0.8819 - val_loss: 0.1662 - val_accuracy: 0.8611\n",
      "Epoch 184/5000\n",
      "144/144 [==============================] - 0s 83us/sample - loss: 0.1059 - accuracy: 0.8819 - val_loss: 0.1661 - val_accuracy: 0.8611\n",
      "Epoch 185/5000\n",
      "144/144 [==============================] - 0s 76us/sample - loss: 0.1057 - accuracy: 0.8819 - val_loss: 0.1659 - val_accuracy: 0.8611\n",
      "Epoch 186/5000\n",
      "144/144 [==============================] - 0s 90us/sample - loss: 0.1054 - accuracy: 0.8819 - val_loss: 0.1658 - val_accuracy: 0.8611\n",
      "Epoch 187/5000\n",
      "144/144 [==============================] - 0s 69us/sample - loss: 0.1051 - accuracy: 0.8819 - val_loss: 0.1657 - val_accuracy: 0.8611\n",
      "Epoch 188/5000\n",
      "144/144 [==============================] - 0s 69us/sample - loss: 0.1048 - accuracy: 0.8819 - val_loss: 0.1657 - val_accuracy: 0.8611\n",
      "Epoch 189/5000\n",
      "144/144 [==============================] - 0s 83us/sample - loss: 0.1045 - accuracy: 0.8819 - val_loss: 0.1656 - val_accuracy: 0.8611\n",
      "Epoch 190/5000\n",
      "144/144 [==============================] - 0s 90us/sample - loss: 0.1043 - accuracy: 0.8819 - val_loss: 0.1655 - val_accuracy: 0.8611\n",
      "Epoch 191/5000\n",
      "144/144 [==============================] - 0s 76us/sample - loss: 0.1040 - accuracy: 0.8819 - val_loss: 0.1655 - val_accuracy: 0.8611\n",
      "Epoch 192/5000\n",
      "144/144 [==============================] - 0s 83us/sample - loss: 0.1038 - accuracy: 0.8819 - val_loss: 0.1654 - val_accuracy: 0.8611\n",
      "Epoch 193/5000\n",
      "144/144 [==============================] - 0s 69us/sample - loss: 0.1035 - accuracy: 0.8819 - val_loss: 0.1652 - val_accuracy: 0.8611\n",
      "Epoch 194/5000\n",
      "144/144 [==============================] - 0s 76us/sample - loss: 0.1033 - accuracy: 0.8819 - val_loss: 0.1652 - val_accuracy: 0.8611\n",
      "Epoch 195/5000\n",
      "144/144 [==============================] - 0s 83us/sample - loss: 0.1030 - accuracy: 0.8819 - val_loss: 0.1651 - val_accuracy: 0.8611\n",
      "Epoch 196/5000\n",
      "144/144 [==============================] - 0s 90us/sample - loss: 0.1027 - accuracy: 0.8889 - val_loss: 0.1651 - val_accuracy: 0.8611\n",
      "Epoch 197/5000\n",
      "144/144 [==============================] - 0s 90us/sample - loss: 0.1025 - accuracy: 0.8889 - val_loss: 0.1651 - val_accuracy: 0.8611\n",
      "Epoch 198/5000\n",
      "144/144 [==============================] - 0s 83us/sample - loss: 0.1022 - accuracy: 0.8889 - val_loss: 0.1649 - val_accuracy: 0.8611\n",
      "Epoch 199/5000\n",
      "144/144 [==============================] - 0s 69us/sample - loss: 0.1019 - accuracy: 0.8889 - val_loss: 0.1649 - val_accuracy: 0.8611\n",
      "Epoch 200/5000\n",
      "144/144 [==============================] - 0s 76us/sample - loss: 0.1018 - accuracy: 0.8889 - val_loss: 0.1648 - val_accuracy: 0.8611\n",
      "Epoch 201/5000\n",
      "144/144 [==============================] - 0s 83us/sample - loss: 0.1015 - accuracy: 0.8889 - val_loss: 0.1647 - val_accuracy: 0.8611\n",
      "Epoch 202/5000\n",
      "144/144 [==============================] - 0s 90us/sample - loss: 0.1012 - accuracy: 0.8889 - val_loss: 0.1647 - val_accuracy: 0.8611\n",
      "Epoch 203/5000\n",
      "144/144 [==============================] - ETA: 0s - loss: 0.0948 - accuracy: 0.87 - 0s 97us/sample - loss: 0.1010 - accuracy: 0.8889 - val_loss: 0.1646 - val_accuracy: 0.8611\n",
      "Epoch 204/5000\n",
      "144/144 [==============================] - 0s 90us/sample - loss: 0.1007 - accuracy: 0.8889 - val_loss: 0.1646 - val_accuracy: 0.8611\n",
      "Epoch 205/5000\n",
      "144/144 [==============================] - 0s 97us/sample - loss: 0.1005 - accuracy: 0.8889 - val_loss: 0.1644 - val_accuracy: 0.8611\n",
      "Epoch 206/5000\n",
      "144/144 [==============================] - 0s 70us/sample - loss: 0.1002 - accuracy: 0.8889 - val_loss: 0.1644 - val_accuracy: 0.8611\n",
      "Epoch 207/5000\n",
      "144/144 [==============================] - 0s 90us/sample - loss: 0.1000 - accuracy: 0.8889 - val_loss: 0.1644 - val_accuracy: 0.8611\n",
      "Epoch 208/5000\n",
      "144/144 [==============================] - 0s 83us/sample - loss: 0.0998 - accuracy: 0.8889 - val_loss: 0.1643 - val_accuracy: 0.8611\n",
      "Epoch 209/5000\n",
      "144/144 [==============================] - 0s 90us/sample - loss: 0.0996 - accuracy: 0.8889 - val_loss: 0.1643 - val_accuracy: 0.8611\n",
      "Epoch 210/5000\n",
      "144/144 [==============================] - 0s 83us/sample - loss: 0.0993 - accuracy: 0.8889 - val_loss: 0.1643 - val_accuracy: 0.8611\n",
      "Epoch 211/5000\n",
      "144/144 [==============================] - 0s 90us/sample - loss: 0.0991 - accuracy: 0.8889 - val_loss: 0.1643 - val_accuracy: 0.8611\n",
      "Epoch 212/5000\n",
      "144/144 [==============================] - 0s 83us/sample - loss: 0.0989 - accuracy: 0.8889 - val_loss: 0.1643 - val_accuracy: 0.8611\n",
      "Epoch 213/5000\n",
      "144/144 [==============================] - 0s 90us/sample - loss: 0.0987 - accuracy: 0.8889 - val_loss: 0.1642 - val_accuracy: 0.8611\n",
      "Epoch 214/5000\n",
      "144/144 [==============================] - 0s 90us/sample - loss: 0.0985 - accuracy: 0.8889 - val_loss: 0.1642 - val_accuracy: 0.8333\n",
      "Epoch 215/5000\n",
      "144/144 [==============================] - 0s 76us/sample - loss: 0.0983 - accuracy: 0.8889 - val_loss: 0.1641 - val_accuracy: 0.8333\n",
      "Epoch 216/5000\n",
      "144/144 [==============================] - 0s 76us/sample - loss: 0.0981 - accuracy: 0.8889 - val_loss: 0.1641 - val_accuracy: 0.8333\n",
      "Epoch 217/5000\n",
      "144/144 [==============================] - 0s 76us/sample - loss: 0.0979 - accuracy: 0.8889 - val_loss: 0.1640 - val_accuracy: 0.8333\n",
      "Epoch 218/5000\n",
      "144/144 [==============================] - 0s 83us/sample - loss: 0.0976 - accuracy: 0.8889 - val_loss: 0.1640 - val_accuracy: 0.8333\n",
      "Epoch 219/5000\n",
      "144/144 [==============================] - 0s 90us/sample - loss: 0.0974 - accuracy: 0.8958 - val_loss: 0.1639 - val_accuracy: 0.8333\n",
      "Epoch 220/5000\n",
      "144/144 [==============================] - 0s 90us/sample - loss: 0.0973 - accuracy: 0.8889 - val_loss: 0.1638 - val_accuracy: 0.8333\n"
     ]
    },
    {
     "name": "stdout",
     "output_type": "stream",
     "text": [
      "Epoch 221/5000\n",
      "144/144 [==============================] - 0s 90us/sample - loss: 0.0971 - accuracy: 0.8889 - val_loss: 0.1638 - val_accuracy: 0.8333\n",
      "Epoch 222/5000\n",
      "144/144 [==============================] - 0s 70us/sample - loss: 0.0969 - accuracy: 0.8889 - val_loss: 0.1637 - val_accuracy: 0.8333\n",
      "Epoch 223/5000\n",
      "144/144 [==============================] - 0s 83us/sample - loss: 0.0967 - accuracy: 0.8889 - val_loss: 0.1637 - val_accuracy: 0.8333\n",
      "Epoch 224/5000\n",
      "144/144 [==============================] - 0s 76us/sample - loss: 0.0965 - accuracy: 0.8889 - val_loss: 0.1638 - val_accuracy: 0.8333\n",
      "Epoch 225/5000\n",
      "144/144 [==============================] - 0s 83us/sample - loss: 0.0963 - accuracy: 0.8958 - val_loss: 0.1636 - val_accuracy: 0.8333\n",
      "Epoch 226/5000\n",
      "144/144 [==============================] - 0s 90us/sample - loss: 0.0961 - accuracy: 0.8958 - val_loss: 0.1636 - val_accuracy: 0.8333\n",
      "Epoch 227/5000\n",
      "144/144 [==============================] - 0s 90us/sample - loss: 0.0959 - accuracy: 0.8889 - val_loss: 0.1636 - val_accuracy: 0.8333\n",
      "Epoch 228/5000\n",
      "144/144 [==============================] - 0s 83us/sample - loss: 0.0957 - accuracy: 0.8958 - val_loss: 0.1636 - val_accuracy: 0.8333\n",
      "Epoch 229/5000\n",
      "144/144 [==============================] - 0s 84us/sample - loss: 0.0955 - accuracy: 0.8958 - val_loss: 0.1635 - val_accuracy: 0.8333\n",
      "Epoch 230/5000\n",
      "144/144 [==============================] - 0s 69us/sample - loss: 0.0954 - accuracy: 0.8958 - val_loss: 0.1635 - val_accuracy: 0.8333\n",
      "Epoch 231/5000\n",
      "144/144 [==============================] - 0s 83us/sample - loss: 0.0952 - accuracy: 0.9028 - val_loss: 0.1634 - val_accuracy: 0.8333\n",
      "Epoch 232/5000\n",
      "144/144 [==============================] - 0s 94us/sample - loss: 0.0950 - accuracy: 0.9028 - val_loss: 0.1633 - val_accuracy: 0.8333\n",
      "Epoch 233/5000\n",
      "144/144 [==============================] - 0s 90us/sample - loss: 0.0948 - accuracy: 0.8958 - val_loss: 0.1633 - val_accuracy: 0.8333\n",
      "Epoch 234/5000\n",
      "144/144 [==============================] - 0s 83us/sample - loss: 0.0946 - accuracy: 0.8958 - val_loss: 0.1633 - val_accuracy: 0.8333\n",
      "Epoch 235/5000\n",
      "144/144 [==============================] - 0s 83us/sample - loss: 0.0944 - accuracy: 0.8958 - val_loss: 0.1633 - val_accuracy: 0.8333\n",
      "Epoch 236/5000\n",
      "144/144 [==============================] - 0s 76us/sample - loss: 0.0942 - accuracy: 0.9028 - val_loss: 0.1633 - val_accuracy: 0.8333\n",
      "Epoch 237/5000\n",
      "144/144 [==============================] - 0s 83us/sample - loss: 0.0941 - accuracy: 0.9028 - val_loss: 0.1633 - val_accuracy: 0.8333\n",
      "Epoch 238/5000\n",
      "144/144 [==============================] - 0s 62us/sample - loss: 0.0939 - accuracy: 0.9028 - val_loss: 0.1633 - val_accuracy: 0.8333\n",
      "Epoch 239/5000\n",
      "144/144 [==============================] - 0s 76us/sample - loss: 0.0938 - accuracy: 0.9097 - val_loss: 0.1632 - val_accuracy: 0.8333\n",
      "Epoch 240/5000\n",
      "144/144 [==============================] - 0s 83us/sample - loss: 0.0935 - accuracy: 0.9097 - val_loss: 0.1631 - val_accuracy: 0.8333\n",
      "Epoch 241/5000\n",
      "144/144 [==============================] - 0s 83us/sample - loss: 0.0933 - accuracy: 0.9097 - val_loss: 0.1631 - val_accuracy: 0.8333\n",
      "Epoch 242/5000\n",
      "144/144 [==============================] - 0s 90us/sample - loss: 0.0931 - accuracy: 0.9097 - val_loss: 0.1630 - val_accuracy: 0.8333\n",
      "Epoch 243/5000\n",
      "144/144 [==============================] - 0s 97us/sample - loss: 0.0930 - accuracy: 0.9097 - val_loss: 0.1630 - val_accuracy: 0.8333\n",
      "Epoch 244/5000\n",
      "144/144 [==============================] - 0s 83us/sample - loss: 0.0928 - accuracy: 0.9097 - val_loss: 0.1630 - val_accuracy: 0.8333\n",
      "Epoch 245/5000\n",
      "144/144 [==============================] - 0s 76us/sample - loss: 0.0926 - accuracy: 0.9097 - val_loss: 0.1629 - val_accuracy: 0.8333\n",
      "Epoch 246/5000\n",
      "144/144 [==============================] - 0s 73us/sample - loss: 0.0924 - accuracy: 0.9097 - val_loss: 0.1629 - val_accuracy: 0.8333\n",
      "Epoch 247/5000\n",
      "144/144 [==============================] - 0s 90us/sample - loss: 0.0922 - accuracy: 0.9097 - val_loss: 0.1630 - val_accuracy: 0.8056\n",
      "Epoch 248/5000\n",
      "144/144 [==============================] - 0s 76us/sample - loss: 0.0921 - accuracy: 0.9097 - val_loss: 0.1630 - val_accuracy: 0.8056\n",
      "Epoch 249/5000\n",
      "144/144 [==============================] - 0s 90us/sample - loss: 0.0919 - accuracy: 0.9097 - val_loss: 0.1630 - val_accuracy: 0.8056\n",
      "Epoch 250/5000\n",
      "144/144 [==============================] - 0s 90us/sample - loss: 0.0917 - accuracy: 0.9097 - val_loss: 0.1629 - val_accuracy: 0.8056\n",
      "Epoch 251/5000\n",
      "144/144 [==============================] - 0s 90us/sample - loss: 0.0916 - accuracy: 0.9097 - val_loss: 0.1629 - val_accuracy: 0.8056\n",
      "Epoch 252/5000\n",
      "144/144 [==============================] - 0s 83us/sample - loss: 0.0914 - accuracy: 0.9097 - val_loss: 0.1629 - val_accuracy: 0.8056\n",
      "Epoch 253/5000\n",
      "144/144 [==============================] - 0s 69us/sample - loss: 0.0912 - accuracy: 0.9097 - val_loss: 0.1628 - val_accuracy: 0.8056\n",
      "Epoch 254/5000\n",
      "144/144 [==============================] - 0s 83us/sample - loss: 0.0911 - accuracy: 0.9097 - val_loss: 0.1628 - val_accuracy: 0.8056\n",
      "Epoch 255/5000\n",
      "144/144 [==============================] - 0s 83us/sample - loss: 0.0909 - accuracy: 0.9097 - val_loss: 0.1628 - val_accuracy: 0.8056\n",
      "Epoch 256/5000\n",
      "144/144 [==============================] - 0s 104us/sample - loss: 0.0908 - accuracy: 0.9097 - val_loss: 0.1627 - val_accuracy: 0.8056\n",
      "Epoch 257/5000\n",
      "144/144 [==============================] - 0s 90us/sample - loss: 0.0906 - accuracy: 0.9097 - val_loss: 0.1628 - val_accuracy: 0.8056\n",
      "Epoch 258/5000\n",
      "144/144 [==============================] - 0s 90us/sample - loss: 0.0904 - accuracy: 0.9097 - val_loss: 0.1627 - val_accuracy: 0.8056\n",
      "Epoch 259/5000\n",
      "144/144 [==============================] - 0s 90us/sample - loss: 0.0903 - accuracy: 0.9097 - val_loss: 0.1627 - val_accuracy: 0.8056\n",
      "Epoch 260/5000\n",
      "144/144 [==============================] - 0s 84us/sample - loss: 0.0901 - accuracy: 0.9097 - val_loss: 0.1626 - val_accuracy: 0.8056\n",
      "Epoch 261/5000\n",
      "144/144 [==============================] - 0s 62us/sample - loss: 0.0900 - accuracy: 0.9097 - val_loss: 0.1626 - val_accuracy: 0.8056\n",
      "Epoch 262/5000\n",
      "144/144 [==============================] - 0s 76us/sample - loss: 0.0898 - accuracy: 0.9097 - val_loss: 0.1625 - val_accuracy: 0.8056\n",
      "Epoch 263/5000\n",
      "144/144 [==============================] - 0s 83us/sample - loss: 0.0897 - accuracy: 0.9097 - val_loss: 0.1626 - val_accuracy: 0.8056\n",
      "Epoch 264/5000\n",
      "144/144 [==============================] - 0s 83us/sample - loss: 0.0896 - accuracy: 0.9097 - val_loss: 0.1625 - val_accuracy: 0.8056\n",
      "Epoch 265/5000\n",
      "144/144 [==============================] - 0s 83us/sample - loss: 0.0893 - accuracy: 0.9097 - val_loss: 0.1624 - val_accuracy: 0.8056\n",
      "Epoch 266/5000\n",
      "144/144 [==============================] - 0s 83us/sample - loss: 0.0892 - accuracy: 0.9097 - val_loss: 0.1624 - val_accuracy: 0.8056\n",
      "Epoch 267/5000\n",
      "144/144 [==============================] - 0s 69us/sample - loss: 0.0891 - accuracy: 0.9097 - val_loss: 0.1624 - val_accuracy: 0.8056\n",
      "Epoch 268/5000\n",
      "144/144 [==============================] - 0s 76us/sample - loss: 0.0889 - accuracy: 0.9097 - val_loss: 0.1622 - val_accuracy: 0.8056\n",
      "Epoch 269/5000\n",
      "144/144 [==============================] - 0s 69us/sample - loss: 0.0887 - accuracy: 0.9097 - val_loss: 0.1622 - val_accuracy: 0.8056\n",
      "Epoch 270/5000\n",
      "144/144 [==============================] - 0s 104us/sample - loss: 0.0886 - accuracy: 0.9097 - val_loss: 0.1622 - val_accuracy: 0.8056\n",
      "Epoch 271/5000\n",
      "144/144 [==============================] - 0s 83us/sample - loss: 0.0885 - accuracy: 0.9097 - val_loss: 0.1622 - val_accuracy: 0.8056\n",
      "Epoch 272/5000\n",
      "144/144 [==============================] - 0s 97us/sample - loss: 0.0883 - accuracy: 0.9097 - val_loss: 0.1623 - val_accuracy: 0.8056\n",
      "Epoch 273/5000\n",
      "144/144 [==============================] - 0s 90us/sample - loss: 0.0883 - accuracy: 0.9097 - val_loss: 0.1623 - val_accuracy: 0.8056\n",
      "Epoch 274/5000\n",
      "144/144 [==============================] - 0s 97us/sample - loss: 0.0881 - accuracy: 0.9097 - val_loss: 0.1622 - val_accuracy: 0.8056\n",
      "Epoch 275/5000\n",
      "144/144 [==============================] - 0s 70us/sample - loss: 0.0879 - accuracy: 0.9097 - val_loss: 0.1622 - val_accuracy: 0.8056\n"
     ]
    },
    {
     "name": "stdout",
     "output_type": "stream",
     "text": [
      "Epoch 276/5000\n",
      "144/144 [==============================] - 0s 69us/sample - loss: 0.0878 - accuracy: 0.9097 - val_loss: 0.1622 - val_accuracy: 0.8056\n",
      "Epoch 277/5000\n",
      "144/144 [==============================] - 0s 118us/sample - loss: 0.0877 - accuracy: 0.9097 - val_loss: 0.1622 - val_accuracy: 0.8056\n",
      "Epoch 278/5000\n",
      "144/144 [==============================] - 0s 97us/sample - loss: 0.0875 - accuracy: 0.9097 - val_loss: 0.1622 - val_accuracy: 0.8056\n",
      "Epoch 279/5000\n",
      "144/144 [==============================] - 0s 76us/sample - loss: 0.0874 - accuracy: 0.9097 - val_loss: 0.1623 - val_accuracy: 0.8056\n",
      "Epoch 280/5000\n",
      "144/144 [==============================] - 0s 83us/sample - loss: 0.0872 - accuracy: 0.9097 - val_loss: 0.1623 - val_accuracy: 0.8056\n",
      "Epoch 281/5000\n",
      "144/144 [==============================] - 0s 90us/sample - loss: 0.0871 - accuracy: 0.9097 - val_loss: 0.1623 - val_accuracy: 0.8056\n",
      "Epoch 282/5000\n",
      "144/144 [==============================] - 0s 83us/sample - loss: 0.0870 - accuracy: 0.9097 - val_loss: 0.1622 - val_accuracy: 0.8056\n",
      "Epoch 283/5000\n",
      "144/144 [==============================] - 0s 90us/sample - loss: 0.0868 - accuracy: 0.9097 - val_loss: 0.1622 - val_accuracy: 0.8056\n",
      "Epoch 284/5000\n",
      "144/144 [==============================] - 0s 90us/sample - loss: 0.0867 - accuracy: 0.9097 - val_loss: 0.1622 - val_accuracy: 0.8056\n",
      "Epoch 285/5000\n",
      "144/144 [==============================] - 0s 76us/sample - loss: 0.0866 - accuracy: 0.9097 - val_loss: 0.1622 - val_accuracy: 0.8056\n",
      "Epoch 286/5000\n",
      "144/144 [==============================] - 0s 76us/sample - loss: 0.0864 - accuracy: 0.9097 - val_loss: 0.1621 - val_accuracy: 0.8056\n",
      "Epoch 287/5000\n",
      "144/144 [==============================] - 0s 69us/sample - loss: 0.0863 - accuracy: 0.9097 - val_loss: 0.1621 - val_accuracy: 0.8056\n",
      "Epoch 288/5000\n",
      "144/144 [==============================] - 0s 90us/sample - loss: 0.0861 - accuracy: 0.9097 - val_loss: 0.1621 - val_accuracy: 0.8056\n",
      "Epoch 289/5000\n",
      "144/144 [==============================] - 0s 83us/sample - loss: 0.0860 - accuracy: 0.9097 - val_loss: 0.1621 - val_accuracy: 0.8056\n",
      "Epoch 290/5000\n",
      "144/144 [==============================] - 0s 97us/sample - loss: 0.0859 - accuracy: 0.9097 - val_loss: 0.1621 - val_accuracy: 0.8056\n",
      "Epoch 291/5000\n",
      "144/144 [==============================] - 0s 83us/sample - loss: 0.0858 - accuracy: 0.9097 - val_loss: 0.1620 - val_accuracy: 0.8056\n",
      "Epoch 292/5000\n",
      "144/144 [==============================] - 0s 83us/sample - loss: 0.0856 - accuracy: 0.9097 - val_loss: 0.1621 - val_accuracy: 0.8056\n",
      "Epoch 293/5000\n",
      "144/144 [==============================] - 0s 69us/sample - loss: 0.0855 - accuracy: 0.9097 - val_loss: 0.1620 - val_accuracy: 0.8056\n",
      "Epoch 294/5000\n",
      "144/144 [==============================] - 0s 76us/sample - loss: 0.0854 - accuracy: 0.9097 - val_loss: 0.1620 - val_accuracy: 0.8056\n",
      "Epoch 295/5000\n",
      "144/144 [==============================] - 0s 90us/sample - loss: 0.0852 - accuracy: 0.9097 - val_loss: 0.1620 - val_accuracy: 0.8056\n",
      "Epoch 296/5000\n",
      "144/144 [==============================] - 0s 83us/sample - loss: 0.0851 - accuracy: 0.9097 - val_loss: 0.1621 - val_accuracy: 0.8056\n",
      "Epoch 297/5000\n",
      "144/144 [==============================] - 0s 76us/sample - loss: 0.0850 - accuracy: 0.9097 - val_loss: 0.1622 - val_accuracy: 0.8056\n",
      "Epoch 298/5000\n",
      "144/144 [==============================] - 0s 83us/sample - loss: 0.0849 - accuracy: 0.9097 - val_loss: 0.1621 - val_accuracy: 0.8056\n",
      "Epoch 299/5000\n",
      "144/144 [==============================] - 0s 83us/sample - loss: 0.0848 - accuracy: 0.9097 - val_loss: 0.1620 - val_accuracy: 0.8056\n",
      "Epoch 300/5000\n",
      "144/144 [==============================] - 0s 69us/sample - loss: 0.0846 - accuracy: 0.9097 - val_loss: 0.1620 - val_accuracy: 0.8056\n",
      "Epoch 301/5000\n",
      "144/144 [==============================] - 0s 83us/sample - loss: 0.0845 - accuracy: 0.9097 - val_loss: 0.1620 - val_accuracy: 0.8056\n",
      "Epoch 302/5000\n",
      "144/144 [==============================] - ETA: 0s - loss: 0.0585 - accuracy: 0.96 - 0s 83us/sample - loss: 0.0843 - accuracy: 0.9097 - val_loss: 0.1620 - val_accuracy: 0.8056\n",
      "Epoch 303/5000\n",
      "144/144 [==============================] - 0s 76us/sample - loss: 0.0842 - accuracy: 0.9097 - val_loss: 0.1621 - val_accuracy: 0.8056\n",
      "Epoch 304/5000\n",
      "144/144 [==============================] - 0s 90us/sample - loss: 0.0841 - accuracy: 0.9097 - val_loss: 0.1621 - val_accuracy: 0.8056\n",
      "Epoch 305/5000\n",
      "144/144 [==============================] - 0s 97us/sample - loss: 0.0839 - accuracy: 0.9097 - val_loss: 0.1621 - val_accuracy: 0.8056\n",
      "Epoch 306/5000\n",
      "144/144 [==============================] - 0s 97us/sample - loss: 0.0838 - accuracy: 0.9097 - val_loss: 0.1620 - val_accuracy: 0.8056\n",
      "Epoch 307/5000\n",
      "144/144 [==============================] - 0s 104us/sample - loss: 0.0837 - accuracy: 0.9097 - val_loss: 0.1621 - val_accuracy: 0.8056\n",
      "Epoch 308/5000\n",
      "144/144 [==============================] - 0s 90us/sample - loss: 0.0836 - accuracy: 0.9097 - val_loss: 0.1621 - val_accuracy: 0.8056\n",
      "Epoch 309/5000\n",
      "144/144 [==============================] - 0s 97us/sample - loss: 0.0835 - accuracy: 0.9097 - val_loss: 0.1621 - val_accuracy: 0.8056\n",
      "Epoch 310/5000\n",
      "144/144 [==============================] - 0s 97us/sample - loss: 0.0834 - accuracy: 0.9097 - val_loss: 0.1621 - val_accuracy: 0.8056\n",
      "Epoch 311/5000\n",
      "144/144 [==============================] - 0s 76us/sample - loss: 0.0832 - accuracy: 0.9097 - val_loss: 0.1620 - val_accuracy: 0.8056\n",
      "Epoch 312/5000\n",
      "144/144 [==============================] - 0s 76us/sample - loss: 0.0831 - accuracy: 0.9097 - val_loss: 0.1619 - val_accuracy: 0.8056\n",
      "Epoch 313/5000\n",
      "144/144 [==============================] - ETA: 0s - loss: 0.0832 - accuracy: 0.90 - 0s 83us/sample - loss: 0.0830 - accuracy: 0.9097 - val_loss: 0.1620 - val_accuracy: 0.8056\n",
      "Epoch 314/5000\n",
      "144/144 [==============================] - 0s 90us/sample - loss: 0.0829 - accuracy: 0.9097 - val_loss: 0.1620 - val_accuracy: 0.8056\n",
      "Epoch 315/5000\n",
      "144/144 [==============================] - 0s 76us/sample - loss: 0.0828 - accuracy: 0.9097 - val_loss: 0.1620 - val_accuracy: 0.8056\n",
      "Epoch 316/5000\n",
      "144/144 [==============================] - 0s 97us/sample - loss: 0.0827 - accuracy: 0.9097 - val_loss: 0.1620 - val_accuracy: 0.8056\n",
      "Epoch 317/5000\n",
      "144/144 [==============================] - 0s 90us/sample - loss: 0.0825 - accuracy: 0.9097 - val_loss: 0.1620 - val_accuracy: 0.8056\n",
      "Epoch 318/5000\n",
      "144/144 [==============================] - 0s 104us/sample - loss: 0.0824 - accuracy: 0.9097 - val_loss: 0.1620 - val_accuracy: 0.8056\n",
      "Epoch 319/5000\n",
      "144/144 [==============================] - 0s 83us/sample - loss: 0.0823 - accuracy: 0.9097 - val_loss: 0.1619 - val_accuracy: 0.8056\n",
      "Epoch 320/5000\n",
      "144/144 [==============================] - 0s 101us/sample - loss: 0.0822 - accuracy: 0.9097 - val_loss: 0.1619 - val_accuracy: 0.8056\n",
      "Epoch 321/5000\n",
      "144/144 [==============================] - 0s 104us/sample - loss: 0.0821 - accuracy: 0.9097 - val_loss: 0.1620 - val_accuracy: 0.8056\n",
      "Epoch 322/5000\n",
      "144/144 [==============================] - 0s 90us/sample - loss: 0.0820 - accuracy: 0.9097 - val_loss: 0.1621 - val_accuracy: 0.8056\n",
      "Epoch 323/5000\n",
      "144/144 [==============================] - 0s 90us/sample - loss: 0.0818 - accuracy: 0.9097 - val_loss: 0.1621 - val_accuracy: 0.8056\n",
      "Epoch 324/5000\n",
      "144/144 [==============================] - 0s 90us/sample - loss: 0.0817 - accuracy: 0.9097 - val_loss: 0.1622 - val_accuracy: 0.8056\n",
      "Epoch 325/5000\n",
      "144/144 [==============================] - 0s 97us/sample - loss: 0.0816 - accuracy: 0.9097 - val_loss: 0.1622 - val_accuracy: 0.8056\n",
      "Epoch 326/5000\n",
      "144/144 [==============================] - 0s 90us/sample - loss: 0.0815 - accuracy: 0.9097 - val_loss: 0.1621 - val_accuracy: 0.8056\n",
      "Epoch 327/5000\n",
      "144/144 [==============================] - 0s 90us/sample - loss: 0.0814 - accuracy: 0.9097 - val_loss: 0.1621 - val_accuracy: 0.8056\n",
      "Epoch 328/5000\n",
      "144/144 [==============================] - 0s 69us/sample - loss: 0.0813 - accuracy: 0.9097 - val_loss: 0.1621 - val_accuracy: 0.8056\n",
      "Epoch 329/5000\n",
      "144/144 [==============================] - 0s 69us/sample - loss: 0.0812 - accuracy: 0.9097 - val_loss: 0.1621 - val_accuracy: 0.8056\n",
      "Epoch 330/5000\n"
     ]
    },
    {
     "name": "stdout",
     "output_type": "stream",
     "text": [
      "144/144 [==============================] - 0s 83us/sample - loss: 0.0811 - accuracy: 0.9097 - val_loss: 0.1620 - val_accuracy: 0.8056\n",
      "Epoch 331/5000\n",
      "144/144 [==============================] - 0s 83us/sample - loss: 0.0810 - accuracy: 0.9097 - val_loss: 0.1621 - val_accuracy: 0.8056\n",
      "Epoch 332/5000\n",
      "144/144 [==============================] - 0s 83us/sample - loss: 0.0808 - accuracy: 0.9097 - val_loss: 0.1621 - val_accuracy: 0.8056\n",
      "Epoch 333/5000\n",
      "144/144 [==============================] - 0s 76us/sample - loss: 0.0808 - accuracy: 0.9097 - val_loss: 0.1622 - val_accuracy: 0.8056\n",
      "Epoch 334/5000\n",
      "144/144 [==============================] - 0s 66us/sample - loss: 0.0806 - accuracy: 0.9097 - val_loss: 0.1622 - val_accuracy: 0.8056\n",
      "Epoch 335/5000\n",
      "144/144 [==============================] - 0s 83us/sample - loss: 0.0806 - accuracy: 0.9097 - val_loss: 0.1623 - val_accuracy: 0.8056\n",
      "Epoch 336/5000\n",
      "144/144 [==============================] - 0s 83us/sample - loss: 0.0804 - accuracy: 0.9097 - val_loss: 0.1623 - val_accuracy: 0.8056\n",
      "Epoch 337/5000\n",
      "144/144 [==============================] - 0s 76us/sample - loss: 0.0803 - accuracy: 0.9097 - val_loss: 0.1622 - val_accuracy: 0.8056\n",
      "Epoch 338/5000\n",
      "144/144 [==============================] - 0s 76us/sample - loss: 0.0802 - accuracy: 0.9097 - val_loss: 0.1623 - val_accuracy: 0.8056\n",
      "Epoch 339/5000\n",
      "144/144 [==============================] - 0s 62us/sample - loss: 0.0801 - accuracy: 0.9097 - val_loss: 0.1623 - val_accuracy: 0.8056\n",
      "Epoch 340/5000\n",
      "144/144 [==============================] - 0s 69us/sample - loss: 0.0800 - accuracy: 0.9097 - val_loss: 0.1623 - val_accuracy: 0.8056\n"
     ]
    },
    {
     "data": {
      "image/png": "[encoded data removed]",
      "text/plain": [
       "<Figure size 432x288 with 1 Axes>"
      ]
     },
     "metadata": {
      "needs_background": "light"
     },
     "output_type": "display_data"
    },
    {
     "data": {
      "image/png": "[encoded data removed]",
      "text/plain": [
       "<Figure size 432x288 with 1 Axes>"
      ]
     },
     "metadata": {
      "needs_background": "light"
     },
     "output_type": "display_data"
    }
   ],
   "source": [
    "history = model.fit(x, target, validation_split=0.2, epochs=5000, callbacks = [early_stopping_monitor])\n",
    "#  \"Accuracy\"\n",
    "plt.plot(history.history['accuracy'])\n",
    "plt.plot(history.history['val_accuracy'])\n",
    "plt.title('model accuracy')\n",
    "plt.ylabel('accuracy')\n",
    "plt.xlabel('epoch')\n",
    "plt.legend(['train', 'validation'], loc='upper left')\n",
    "plt.show()\n",
    "# \"Loss\"\n",
    "plt.plot(history.history['loss'])\n",
    "plt.plot(history.history['val_loss'])\n",
    "plt.title('model loss')\n",
    "plt.ylabel('loss')\n",
    "plt.xlabel('epoch')\n",
    "plt.legend(['train', 'validation'], loc='upper left')\n",
    "plt.show()"
   ]
  },
  {
   "cell_type": "code",
   "execution_count": 201,
   "metadata": {},
   "outputs": [
    {
     "data": {
      "text/plain": [
       "array([0.0739069 , 0.1129162 , 0.9293492 , 0.12969944, 0.88285875,\n",
       "       0.09528941, 0.1790855 , 0.94639003, 0.19344065, 0.07774431,\n",
       "       0.39480186, 0.6177814 , 0.6535082 , 0.95687985, 0.17471659,\n",
       "       0.05548561, 0.06742007, 0.15326524, 0.9305277 , 0.06363118,\n",
       "       0.88096476, 0.17608109, 0.15411258, 0.04565176, 0.4408211 ,\n",
       "       0.8850077 , 0.8226378 , 0.26284355, 0.37063512, 0.09574828,\n",
       "       0.69296265, 0.43299904, 0.80172336, 0.29660034, 0.07761285,\n",
       "       0.08012444, 0.37689954, 0.31045362, 0.25227082, 0.0903241 ,\n",
       "       0.85076064, 0.05260345, 0.9420177 , 0.02213624, 0.93786037,\n",
       "       0.09147832, 0.07965139, 0.10158882, 0.2002461 , 0.89538836,\n",
       "       0.4640685 , 0.09492117, 0.98066413, 0.18015388, 0.2031394 ,\n",
       "       0.12149903, 0.90040183, 0.17272013, 0.45464116, 0.51155823,\n",
       "       0.11032605, 0.951372  , 0.15435442, 0.9093338 , 0.14414331,\n",
       "       0.75887716, 0.4817601 , 0.5689907 , 0.88644284, 0.7813826 ,\n",
       "       0.17102814, 0.95056015, 0.9256402 , 0.96543753, 0.93680406,\n",
       "       0.9458039 , 0.9205876 , 0.8553388 , 0.20987177, 0.8435923 ,\n",
       "       0.83692455, 0.09598431, 0.5723059 , 0.8664273 , 0.15471435,\n",
       "       0.07950509, 0.554406  , 0.14861286, 0.42868948, 0.11863581],\n",
       "      dtype=float32)"
      ]
     },
     "execution_count": 201,
     "metadata": {},
     "output_type": "execute_result"
    }
   ],
   "source": [
    "predictions = model.predict(x_test)\n",
    "predictions = predictions.reshape(90)\n",
    "predictions"
   ]
  },
  {
   "cell_type": "code",
   "execution_count": 203,
   "metadata": {},
   "outputs": [],
   "source": [
    "def save_result(predictions, file_name='results.csv'):\n",
    "    results = pd.DataFrame()\n",
    "    results['patient_id'] = patient_id_test\n",
    "    results['heart_disease_present'] = predictions\n",
    "    results.to_csv('results.csv', index=False)\n",
    "    return results"
   ]
  },
  {
   "cell_type": "code",
   "execution_count": 204,
   "metadata": {},
   "outputs": [
    {
     "data": {
      "text/html": [
       "<div>\n",
       "<style scoped>\n",
       "    .dataframe tbody tr th:only-of-type {\n",
       "        vertical-align: middle;\n",
       "    }\n",
       "\n",
       "    .dataframe tbody tr th {\n",
       "        vertical-align: top;\n",
       "    }\n",
       "\n",
       "    .dataframe thead th {\n",
       "        text-align: right;\n",
       "    }\n",
       "</style>\n",
       "<table border=\"1\" class=\"dataframe\">\n",
       "  <thead>\n",
       "    <tr style=\"text-align: right;\">\n",
       "      <th></th>\n",
       "      <th>patient_id</th>\n",
       "      <th>heart_disease_present</th>\n",
       "    </tr>\n",
       "  </thead>\n",
       "  <tbody>\n",
       "    <tr>\n",
       "      <th>0</th>\n",
       "      <td>olalu7</td>\n",
       "      <td>0.073907</td>\n",
       "    </tr>\n",
       "    <tr>\n",
       "      <th>1</th>\n",
       "      <td>z9n6mx</td>\n",
       "      <td>0.112916</td>\n",
       "    </tr>\n",
       "    <tr>\n",
       "      <th>2</th>\n",
       "      <td>5k4413</td>\n",
       "      <td>0.929349</td>\n",
       "    </tr>\n",
       "    <tr>\n",
       "      <th>3</th>\n",
       "      <td>mrg7q5</td>\n",
       "      <td>0.129699</td>\n",
       "    </tr>\n",
       "    <tr>\n",
       "      <th>4</th>\n",
       "      <td>uki4do</td>\n",
       "      <td>0.882859</td>\n",
       "    </tr>\n",
       "  </tbody>\n",
       "</table>\n",
       "</div>"
      ],
      "text/plain": [
       "  patient_id  heart_disease_present\n",
       "0     olalu7               0.073907\n",
       "1     z9n6mx               0.112916\n",
       "2     5k4413               0.929349\n",
       "3     mrg7q5               0.129699\n",
       "4     uki4do               0.882859"
      ]
     },
     "execution_count": 204,
     "metadata": {},
     "output_type": "execute_result"
    }
   ],
   "source": [
    "results = save_result(predictions)\n",
    "results.head()"
   ]
  }
 ],
 "metadata": {
  "kernelspec": {
   "display_name": "Python 3",
   "language": "python",
   "name": "python3"
  }
 },
 "nbformat": 4,
 "nbformat_minor": 2
}
