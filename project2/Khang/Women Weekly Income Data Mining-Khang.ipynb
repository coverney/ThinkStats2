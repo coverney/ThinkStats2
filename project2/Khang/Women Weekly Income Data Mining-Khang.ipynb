{
 "cells": [
  {
   "cell_type": "markdown",
   "metadata": {},
   "source": [
    "### Data mining"
   ]
  },
  {
   "cell_type": "code",
   "execution_count": 1,
   "metadata": {},
   "outputs": [],
   "source": [
    "import pandas as pd\n",
    "import thinkplot\n",
    "import numpy as np\n",
    "import statsmodels.formula.api as smf"
   ]
  },
  {
   "cell_type": "markdown",
   "metadata": {},
   "source": [
    "Read in data"
   ]
  },
  {
   "cell_type": "code",
   "execution_count": 31,
   "metadata": {},
   "outputs": [
    {
     "data": {
      "text/html": [
       "<div>\n",
       "<style scoped>\n",
       "    .dataframe tbody tr th:only-of-type {\n",
       "        vertical-align: middle;\n",
       "    }\n",
       "\n",
       "    .dataframe tbody tr th {\n",
       "        vertical-align: top;\n",
       "    }\n",
       "\n",
       "    .dataframe thead th {\n",
       "        text-align: right;\n",
       "    }\n",
       "</style>\n",
       "<table border=\"1\" class=\"dataframe\">\n",
       "  <thead>\n",
       "    <tr style=\"text-align: right;\">\n",
       "      <th></th>\n",
       "      <th>YEAR</th>\n",
       "      <th>DATANUM</th>\n",
       "      <th>SERIAL</th>\n",
       "      <th>CBSERIAL</th>\n",
       "      <th>HHWT</th>\n",
       "      <th>REGION</th>\n",
       "      <th>STATEICP</th>\n",
       "      <th>STATEFIP</th>\n",
       "      <th>COUNTYICP</th>\n",
       "      <th>COUNTYFIP</th>\n",
       "      <th>...</th>\n",
       "      <th>DIFFHEAR</th>\n",
       "      <th>PWSTATE2</th>\n",
       "      <th>PWCOUNTY</th>\n",
       "      <th>PWMET13</th>\n",
       "      <th>PWTYPE</th>\n",
       "      <th>PWPUMA00</th>\n",
       "      <th>TRANWORK</th>\n",
       "      <th>TRANTIME</th>\n",
       "      <th>DEPARTS</th>\n",
       "      <th>ARRIVES</th>\n",
       "    </tr>\n",
       "  </thead>\n",
       "  <tbody>\n",
       "    <tr>\n",
       "      <th>0</th>\n",
       "      <td>2017</td>\n",
       "      <td>1</td>\n",
       "      <td>1</td>\n",
       "      <td>2017000000016</td>\n",
       "      <td>206</td>\n",
       "      <td>32</td>\n",
       "      <td>41</td>\n",
       "      <td>1</td>\n",
       "      <td>0</td>\n",
       "      <td>0</td>\n",
       "      <td>...</td>\n",
       "      <td>1</td>\n",
       "      <td>0</td>\n",
       "      <td>0</td>\n",
       "      <td>0</td>\n",
       "      <td>0</td>\n",
       "      <td>0</td>\n",
       "      <td>0</td>\n",
       "      <td>0</td>\n",
       "      <td>0</td>\n",
       "      <td>0</td>\n",
       "    </tr>\n",
       "    <tr>\n",
       "      <th>1</th>\n",
       "      <td>2017</td>\n",
       "      <td>1</td>\n",
       "      <td>2</td>\n",
       "      <td>2017000000031</td>\n",
       "      <td>45</td>\n",
       "      <td>32</td>\n",
       "      <td>41</td>\n",
       "      <td>1</td>\n",
       "      <td>0</td>\n",
       "      <td>0</td>\n",
       "      <td>...</td>\n",
       "      <td>1</td>\n",
       "      <td>1</td>\n",
       "      <td>117</td>\n",
       "      <td>13820</td>\n",
       "      <td>5</td>\n",
       "      <td>1200</td>\n",
       "      <td>10</td>\n",
       "      <td>50</td>\n",
       "      <td>642</td>\n",
       "      <td>734</td>\n",
       "    </tr>\n",
       "    <tr>\n",
       "      <th>2</th>\n",
       "      <td>2017</td>\n",
       "      <td>1</td>\n",
       "      <td>3</td>\n",
       "      <td>2017000000061</td>\n",
       "      <td>136</td>\n",
       "      <td>32</td>\n",
       "      <td>41</td>\n",
       "      <td>1</td>\n",
       "      <td>0</td>\n",
       "      <td>0</td>\n",
       "      <td>...</td>\n",
       "      <td>1</td>\n",
       "      <td>13</td>\n",
       "      <td>0</td>\n",
       "      <td>0</td>\n",
       "      <td>5</td>\n",
       "      <td>1700</td>\n",
       "      <td>10</td>\n",
       "      <td>45</td>\n",
       "      <td>1805</td>\n",
       "      <td>1849</td>\n",
       "    </tr>\n",
       "    <tr>\n",
       "      <th>3</th>\n",
       "      <td>2017</td>\n",
       "      <td>1</td>\n",
       "      <td>3</td>\n",
       "      <td>2017000000061</td>\n",
       "      <td>136</td>\n",
       "      <td>32</td>\n",
       "      <td>41</td>\n",
       "      <td>1</td>\n",
       "      <td>0</td>\n",
       "      <td>0</td>\n",
       "      <td>...</td>\n",
       "      <td>1</td>\n",
       "      <td>0</td>\n",
       "      <td>0</td>\n",
       "      <td>0</td>\n",
       "      <td>0</td>\n",
       "      <td>0</td>\n",
       "      <td>0</td>\n",
       "      <td>0</td>\n",
       "      <td>0</td>\n",
       "      <td>0</td>\n",
       "    </tr>\n",
       "    <tr>\n",
       "      <th>4</th>\n",
       "      <td>2017</td>\n",
       "      <td>1</td>\n",
       "      <td>3</td>\n",
       "      <td>2017000000061</td>\n",
       "      <td>136</td>\n",
       "      <td>32</td>\n",
       "      <td>41</td>\n",
       "      <td>1</td>\n",
       "      <td>0</td>\n",
       "      <td>0</td>\n",
       "      <td>...</td>\n",
       "      <td>1</td>\n",
       "      <td>0</td>\n",
       "      <td>0</td>\n",
       "      <td>0</td>\n",
       "      <td>0</td>\n",
       "      <td>0</td>\n",
       "      <td>0</td>\n",
       "      <td>0</td>\n",
       "      <td>0</td>\n",
       "      <td>0</td>\n",
       "    </tr>\n",
       "  </tbody>\n",
       "</table>\n",
       "<p>5 rows × 90 columns</p>\n",
       "</div>"
      ],
      "text/plain": [
       "   YEAR  DATANUM  SERIAL       CBSERIAL  HHWT  REGION  STATEICP  STATEFIP  \\\n",
       "0  2017        1       1  2017000000016   206      32        41         1   \n",
       "1  2017        1       2  2017000000031    45      32        41         1   \n",
       "2  2017        1       3  2017000000061   136      32        41         1   \n",
       "3  2017        1       3  2017000000061   136      32        41         1   \n",
       "4  2017        1       3  2017000000061   136      32        41         1   \n",
       "\n",
       "   COUNTYICP  COUNTYFIP  ...  DIFFHEAR  PWSTATE2  PWCOUNTY  PWMET13  PWTYPE  \\\n",
       "0          0          0  ...         1         0         0        0       0   \n",
       "1          0          0  ...         1         1       117    13820       5   \n",
       "2          0          0  ...         1        13         0        0       5   \n",
       "3          0          0  ...         1         0         0        0       0   \n",
       "4          0          0  ...         1         0         0        0       0   \n",
       "\n",
       "   PWPUMA00  TRANWORK  TRANTIME  DEPARTS  ARRIVES  \n",
       "0         0         0         0        0        0  \n",
       "1      1200        10        50      642      734  \n",
       "2      1700        10        45     1805     1849  \n",
       "3         0         0         0        0        0  \n",
       "4         0         0         0        0        0  \n",
       "\n",
       "[5 rows x 90 columns]"
      ]
     },
     "execution_count": 31,
     "metadata": {},
     "output_type": "execute_result"
    }
   ],
   "source": [
    "df_raw = pd.read_csv('../Data/usa_00002.csv')\n",
    "df_raw.head()"
   ]
  },
  {
   "cell_type": "code",
   "execution_count": 4,
   "metadata": {},
   "outputs": [],
   "source": [
    "work_force = df_raw[df_raw.EMPSTAT == 1] # Consider all employed people"
   ]
  },
  {
   "cell_type": "markdown",
   "metadata": {},
   "source": [
    "Remove NaNs"
   ]
  },
  {
   "cell_type": "code",
   "execution_count": 5,
   "metadata": {},
   "outputs": [
    {
     "data": {
      "text/html": [
       "<div>\n",
       "<style scoped>\n",
       "    .dataframe tbody tr th:only-of-type {\n",
       "        vertical-align: middle;\n",
       "    }\n",
       "\n",
       "    .dataframe tbody tr th {\n",
       "        vertical-align: top;\n",
       "    }\n",
       "\n",
       "    .dataframe thead th {\n",
       "        text-align: right;\n",
       "    }\n",
       "</style>\n",
       "<table border=\"1\" class=\"dataframe\">\n",
       "  <thead>\n",
       "    <tr style=\"text-align: right;\">\n",
       "      <th></th>\n",
       "      <th>YEAR</th>\n",
       "      <th>DATANUM</th>\n",
       "      <th>SERIAL</th>\n",
       "      <th>CBSERIAL</th>\n",
       "      <th>HHWT</th>\n",
       "      <th>REGION</th>\n",
       "      <th>STATEICP</th>\n",
       "      <th>STATEFIP</th>\n",
       "      <th>COUNTYICP</th>\n",
       "      <th>COUNTYFIP</th>\n",
       "      <th>...</th>\n",
       "      <th>DIFFHEAR</th>\n",
       "      <th>PWSTATE2</th>\n",
       "      <th>PWCOUNTY</th>\n",
       "      <th>PWMET13</th>\n",
       "      <th>PWTYPE</th>\n",
       "      <th>PWPUMA00</th>\n",
       "      <th>TRANWORK</th>\n",
       "      <th>TRANTIME</th>\n",
       "      <th>DEPARTS</th>\n",
       "      <th>ARRIVES</th>\n",
       "    </tr>\n",
       "  </thead>\n",
       "  <tbody>\n",
       "    <tr>\n",
       "      <th>1</th>\n",
       "      <td>2017</td>\n",
       "      <td>1</td>\n",
       "      <td>2</td>\n",
       "      <td>2017000000031</td>\n",
       "      <td>45</td>\n",
       "      <td>32</td>\n",
       "      <td>41</td>\n",
       "      <td>1</td>\n",
       "      <td>0</td>\n",
       "      <td>0</td>\n",
       "      <td>...</td>\n",
       "      <td>1</td>\n",
       "      <td>1</td>\n",
       "      <td>117</td>\n",
       "      <td>13820</td>\n",
       "      <td>5</td>\n",
       "      <td>1200</td>\n",
       "      <td>10</td>\n",
       "      <td>50</td>\n",
       "      <td>642</td>\n",
       "      <td>734</td>\n",
       "    </tr>\n",
       "    <tr>\n",
       "      <th>2</th>\n",
       "      <td>2017</td>\n",
       "      <td>1</td>\n",
       "      <td>3</td>\n",
       "      <td>2017000000061</td>\n",
       "      <td>136</td>\n",
       "      <td>32</td>\n",
       "      <td>41</td>\n",
       "      <td>1</td>\n",
       "      <td>0</td>\n",
       "      <td>0</td>\n",
       "      <td>...</td>\n",
       "      <td>1</td>\n",
       "      <td>13</td>\n",
       "      <td>0</td>\n",
       "      <td>0</td>\n",
       "      <td>5</td>\n",
       "      <td>1700</td>\n",
       "      <td>10</td>\n",
       "      <td>45</td>\n",
       "      <td>1805</td>\n",
       "      <td>1849</td>\n",
       "    </tr>\n",
       "    <tr>\n",
       "      <th>5</th>\n",
       "      <td>2017</td>\n",
       "      <td>1</td>\n",
       "      <td>4</td>\n",
       "      <td>2017000000158</td>\n",
       "      <td>19</td>\n",
       "      <td>32</td>\n",
       "      <td>41</td>\n",
       "      <td>1</td>\n",
       "      <td>0</td>\n",
       "      <td>0</td>\n",
       "      <td>...</td>\n",
       "      <td>1</td>\n",
       "      <td>1</td>\n",
       "      <td>0</td>\n",
       "      <td>0</td>\n",
       "      <td>9</td>\n",
       "      <td>2500</td>\n",
       "      <td>10</td>\n",
       "      <td>25</td>\n",
       "      <td>717</td>\n",
       "      <td>744</td>\n",
       "    </tr>\n",
       "    <tr>\n",
       "      <th>10</th>\n",
       "      <td>2017</td>\n",
       "      <td>1</td>\n",
       "      <td>5</td>\n",
       "      <td>2017000000159</td>\n",
       "      <td>21</td>\n",
       "      <td>32</td>\n",
       "      <td>41</td>\n",
       "      <td>1</td>\n",
       "      <td>0</td>\n",
       "      <td>0</td>\n",
       "      <td>...</td>\n",
       "      <td>1</td>\n",
       "      <td>1</td>\n",
       "      <td>0</td>\n",
       "      <td>0</td>\n",
       "      <td>9</td>\n",
       "      <td>290</td>\n",
       "      <td>10</td>\n",
       "      <td>60</td>\n",
       "      <td>602</td>\n",
       "      <td>704</td>\n",
       "    </tr>\n",
       "    <tr>\n",
       "      <th>11</th>\n",
       "      <td>2017</td>\n",
       "      <td>1</td>\n",
       "      <td>5</td>\n",
       "      <td>2017000000159</td>\n",
       "      <td>21</td>\n",
       "      <td>32</td>\n",
       "      <td>41</td>\n",
       "      <td>1</td>\n",
       "      <td>0</td>\n",
       "      <td>0</td>\n",
       "      <td>...</td>\n",
       "      <td>1</td>\n",
       "      <td>1</td>\n",
       "      <td>0</td>\n",
       "      <td>0</td>\n",
       "      <td>9</td>\n",
       "      <td>290</td>\n",
       "      <td>10</td>\n",
       "      <td>85</td>\n",
       "      <td>702</td>\n",
       "      <td>829</td>\n",
       "    </tr>\n",
       "  </tbody>\n",
       "</table>\n",
       "<p>5 rows × 90 columns</p>\n",
       "</div>"
      ],
      "text/plain": [
       "    YEAR  DATANUM  SERIAL       CBSERIAL  HHWT  REGION  STATEICP  STATEFIP  \\\n",
       "1   2017        1       2  2017000000031    45      32        41         1   \n",
       "2   2017        1       3  2017000000061   136      32        41         1   \n",
       "5   2017        1       4  2017000000158    19      32        41         1   \n",
       "10  2017        1       5  2017000000159    21      32        41         1   \n",
       "11  2017        1       5  2017000000159    21      32        41         1   \n",
       "\n",
       "    COUNTYICP  COUNTYFIP  ...  DIFFHEAR  PWSTATE2  PWCOUNTY  PWMET13  PWTYPE  \\\n",
       "1           0          0  ...         1         1       117    13820       5   \n",
       "2           0          0  ...         1        13         0        0       5   \n",
       "5           0          0  ...         1         1         0        0       9   \n",
       "10          0          0  ...         1         1         0        0       9   \n",
       "11          0          0  ...         1         1         0        0       9   \n",
       "\n",
       "    PWPUMA00  TRANWORK  TRANTIME  DEPARTS  ARRIVES  \n",
       "1       1200        10        50      642      734  \n",
       "2       1700        10        45     1805     1849  \n",
       "5       2500        10        25      717      744  \n",
       "10       290        10        60      602      704  \n",
       "11       290        10        85      702      829  \n",
       "\n",
       "[5 rows x 90 columns]"
      ]
     },
     "execution_count": 5,
     "metadata": {},
     "output_type": "execute_result"
    }
   ],
   "source": [
    "work_force = work_force.dropna()\n",
    "work_force.head()"
   ]
  },
  {
   "cell_type": "markdown",
   "metadata": {},
   "source": [
    "Recode `SEX` to be 0 for female and 1 for male."
   ]
  },
  {
   "cell_type": "code",
   "execution_count": 6,
   "metadata": {},
   "outputs": [
    {
     "data": {
      "text/plain": [
       "1    775971\n",
       "0    713015\n",
       "Name: SEX, dtype: int64"
      ]
     },
     "execution_count": 6,
     "metadata": {},
     "output_type": "execute_result"
    }
   ],
   "source": [
    "work_force['SEX'].replace(2, 0, inplace=True)\n",
    "work_force['SEX'].value_counts()"
   ]
  },
  {
   "cell_type": "markdown",
   "metadata": {},
   "source": [
    "Find hourly income using `UHRSWORK`, Usual hours worked per week, and `WKSWORK2`, Weeks worked last year (intervalled)."
   ]
  },
  {
   "cell_type": "code",
   "execution_count": 7,
   "metadata": {},
   "outputs": [],
   "source": [
    "work_force['UHRSWORK'].replace([0], np.nan, inplace=True)\n",
    "work_force['WKSWORK2'].replace([0], np.nan, inplace=True)\n",
    "work_force['INCWAGE'].replace([0, 999999, 999998], np.nan, inplace=True)"
   ]
  },
  {
   "cell_type": "code",
   "execution_count": 8,
   "metadata": {},
   "outputs": [],
   "source": [
    "work_force['HRLY_INCWAGE'] = work_force['INCWAGE']/(work_force['UHRSWORK'] * work_force['WKSWORK2'])"
   ]
  },
  {
   "cell_type": "code",
   "execution_count": 9,
   "metadata": {},
   "outputs": [
    {
     "data": {
      "text/plain": [
       "count    1.405825e+06\n",
       "mean     2.439490e+02\n",
       "std      1.181061e+03\n",
       "min      6.734007e-03\n",
       "25%      1.041667e+02\n",
       "50%      1.666667e+02\n",
       "75%      2.777778e+02\n",
       "max      6.380000e+05\n",
       "Name: HRLY_INCWAGE, dtype: float64"
      ]
     },
     "execution_count": 9,
     "metadata": {},
     "output_type": "execute_result"
    }
   ],
   "source": [
    "work_force['HRLY_INCWAGE'].describe()"
   ]
  },
  {
   "cell_type": "markdown",
   "metadata": {},
   "source": [
    "### Predictive powers\n",
    "\n",
    "#### Find variables that impact income the most"
   ]
  },
  {
   "cell_type": "code",
   "execution_count": 32,
   "metadata": {},
   "outputs": [],
   "source": [
    "t = []\n",
    "for name in work_force.columns:\n",
    "    try:\n",
    "        if work_force[name].var() < 1e-7:\n",
    "            continue\n",
    "        \n",
    "        formula = 'INCWAGE ~ ' + name\n",
    "        model = smf.ols(formula, data=work_force)\n",
    "        if model.nobs < len(work_force)/2:\n",
    "            continue\n",
    "            \n",
    "        results = model.fit()\n",
    "    except (ValueError, TypeError):\n",
    "        continue\n",
    "        \n",
    "    t.append((results.rsquared, name))"
   ]
  },
  {
   "cell_type": "code",
   "execution_count": 33,
   "metadata": {},
   "outputs": [
    {
     "name": "stdout",
     "output_type": "stream",
     "text": [
      "INCWAGE 1.0\n",
      "INCEARN 0.9643539944174833\n",
      "INCTOT 0.902729536337456\n",
      "OCCSCORE 0.18286323196191778\n",
      "UHRSWORK 0.12402149901584703\n",
      "EDUCD 0.11759843360336752\n",
      "SEI 0.1172720385586764\n",
      "EDUC 0.11280918853939792\n",
      "DEGFIELDD 0.09497986675277326\n",
      "DEGFIELD 0.094931220832427\n",
      "OCC2010 0.06949291741871366\n",
      "OCC 0.06943137181608505\n",
      "OCC1950 0.06657706000955743\n",
      "WKSWORK2 0.05517219681764918\n",
      "MARST 0.05246340203610922\n",
      "YRMARR 0.04463904871535018\n",
      "HRLY_INCWAGE 0.044595057096083024\n",
      "BIRTHYR 0.03626155877132242\n",
      "AGE 0.0362615587713222\n",
      "RELATE 0.02733336528673147\n",
      "RELATED 0.027213563708235577\n",
      "SEX 0.02718355832449204\n",
      "PERNUM 0.025688389310253523\n",
      "SCHOOL 0.02567314704248469\n",
      "GRADEATTD 0.023518076071295746\n",
      "GRADEATT 0.02316318631521619\n",
      "SCHLTYPE 0.021020686371472586\n",
      "FERTYR 0.019072713485713932\n",
      "ELDCH 0.013958445991431367\n",
      "YNGCH 0.013634390687859876\n",
      "NCHILD 0.010229289721466195\n",
      "DEPARTS 0.009578271959497786\n",
      "TRANTIME 0.009237916397048518\n",
      "DEGFIELD2 0.009236210797644029\n",
      "DEGFIELD2D 0.009236074697404506\n",
      "GQ 0.008462723206650424\n",
      "PWTYPE 0.008270750616211187\n",
      "MET2013 0.00817679550746786\n",
      "PWMET13 0.007788172824083506\n",
      "ARRIVES 0.0075803626827234405\n",
      "CLASSWKR 0.007009682022463992\n",
      "METRO 0.006439461036214067\n",
      "HISPAN 0.004900445990161262\n",
      "HISPAND 0.004627271522444132\n",
      "CLASSWKRD 0.004247892440178869\n",
      "NFAMS 0.0035910269735918154\n",
      "MET2013ERR 0.0033336277253739333\n",
      "DIFFREM 0.0028197851598908974\n",
      "HOMELAND 0.002481919577144054\n",
      "SPEAKENG 0.002032411649352528\n",
      "PERWT 0.0018984822101392185\n",
      "DIFFMOB 0.001678454842864996\n",
      "IND 0.0016748020777658246\n",
      "FTOTINC 0.0016068768910081355\n",
      "TRANWORK 0.0014866008895837446\n",
      "RACE 0.0013649865583025278\n",
      "RACED 0.0013362372442375925\n",
      "DIFFPHYS 0.001215537614011275\n",
      "EMPSTATD 0.0011985852805763697\n",
      "NCHLT5 0.0011954053505728313\n",
      "YRSUSA1 0.0010425182221319718\n",
      "PWCOUNTY 0.0009730594138160908\n",
      "COUNTYFIP 0.0006350876879392953\n",
      "COUNTYICP 0.0006313211123921691\n",
      "CITYPOP 0.0006213573236283354\n",
      "VETDISAB 0.000565564974190802\n",
      "DIFFEYE 0.00044379184981147013\n",
      "DIFFCARE 0.00038689877485054147\n",
      "DIFFSENS 0.0003842610175437411\n",
      "SERIAL 0.000368110565570845\n",
      "CITY 0.00035935395283970273\n",
      "PUMA 0.0003369652905482745\n",
      "PWPUMA00 0.00028987478467212835\n",
      "CPUMA0010 0.00028675878335948646\n",
      "STATEFIP 0.0002681959033966619\n",
      "HHWT 0.00024261008388715144\n",
      "DIFFHEAR 0.00010312788110311555\n",
      "REGION 8.202833994941372e-05\n",
      "PWSTATE2 5.236596490532097e-05\n",
      "FARM 3.6701508178693665e-05\n",
      "STATEICP 9.996307614557054e-06\n",
      "CITIZEN 6.985507027823523e-06\n",
      "IND1990 3.070056295850776e-07\n",
      "CITYERR 3.666247183620186e-08\n"
     ]
    }
   ],
   "source": [
    "t.sort(reverse=True)\n",
    "for mse, name in t[:-1]:\n",
    "    print(name, mse)"
   ]
  },
  {
   "cell_type": "markdown",
   "metadata": {},
   "source": [
    "#### Income ~ variables"
   ]
  },
  {
   "cell_type": "code",
   "execution_count": 21,
   "metadata": {},
   "outputs": [],
   "source": [
    "# Build formula\n",
    "formula = 'HRLY_INCWAGE ~ '\n",
    "ignores = ['HRLY_INCWAGE', 'SEX', 'UHRSWORK', 'WKSWORK2', 'INCWAGE', 'INCEARN', 'INCTOT', 'OCCSCORE', 'SEI']\n",
    "for i in range(len(work_force.columns)):\n",
    "    name = work_force.columns[i]\n",
    "    try:\n",
    "        if work_force[name].var() < 1e-7 or name in ignores:\n",
    "            continue\n",
    "\n",
    "        formula += name + ' + '\n",
    "\n",
    "    except (ValueError, TypeError):\n",
    "        continue"
   ]
  },
  {
   "cell_type": "code",
   "execution_count": 22,
   "metadata": {},
   "outputs": [
    {
     "data": {
      "text/plain": [
       "'HRLY_INCWAGE ~ SERIAL + CBSERIAL + HHWT + REGION + STATEICP + STATEFIP + COUNTYICP + COUNTYFIP + METRO + MET2013 + MET2013ERR + CITY + CITYERR + CITYPOP + PUMA + CPUMA0010 + HOMELAND + GQ + FARM + NFAMS + PERNUM + PERWT + NCHILD + NCHLT5 + ELDCH + YNGCH + RELATE + RELATED + AGE + MARST + BIRTHYR + YRMARR + FERTYR + RACE + RACED + HISPAN + HISPAND + CITIZEN + YRSUSA1 + SPEAKENG + SCHOOL + EDUC + EDUCD + GRADEATT + GRADEATTD + SCHLTYPE + DEGFIELD + DEGFIELDD + DEGFIELD2 + DEGFIELD2D + EMPSTATD + OCC + OCC1950 + OCC2010 + IND + IND1990 + CLASSWKR + CLASSWKRD + FTOTINC + VETDISAB + DIFFREM + DIFFPHYS + DIFFMOB + DIFFCARE + DIFFSENS + DIFFEYE + DIFFHEAR + PWSTATE2 + PWCOUNTY + PWMET13 + PWTYPE + PWPUMA00 + TRANWORK + TRANTIME + DEPARTS + ARRIVES'"
      ]
     },
     "execution_count": 22,
     "metadata": {},
     "output_type": "execute_result"
    }
   ],
   "source": [
    "formula = formula[:-3]\n",
    "formula"
   ]
  },
  {
   "cell_type": "code",
   "execution_count": 27,
   "metadata": {},
   "outputs": [
    {
     "data": {
      "text/plain": [
       "0.014334919160695181"
      ]
     },
     "execution_count": 27,
     "metadata": {},
     "output_type": "execute_result"
    }
   ],
   "source": [
    "model = smf.ols(formula, data=work_force)\n",
    "results = model.fit()\n",
    "results.rsquared"
   ]
  },
  {
   "cell_type": "markdown",
   "metadata": {},
   "source": [
    "#### Income ~ variables + sex"
   ]
  },
  {
   "cell_type": "code",
   "execution_count": 28,
   "metadata": {},
   "outputs": [],
   "source": [
    "formula_sex = formula + ' + SEX'"
   ]
  },
  {
   "cell_type": "code",
   "execution_count": 30,
   "metadata": {},
   "outputs": [
    {
     "data": {
      "text/plain": [
       "0.014836905381526488"
      ]
     },
     "execution_count": 30,
     "metadata": {},
     "output_type": "execute_result"
    }
   ],
   "source": [
    "model = smf.ols(formula_sex, data=work_force)\n",
    "results = model.fit()\n",
    "results.rsquared"
   ]
  },
  {
   "cell_type": "markdown",
   "metadata": {},
   "source": [
    "### Analysis into some variables"
   ]
  },
  {
   "cell_type": "code",
   "execution_count": null,
   "metadata": {},
   "outputs": [],
   "source": []
  }
 ],
 "metadata": {
  "kernelspec": {
   "display_name": "Python 3",
   "language": "python",
   "name": "python3"
  },
  "language_info": {
   "codemirror_mode": {
    "name": "ipython",
    "version": 3
   },
   "file_extension": ".py",
   "mimetype": "text/x-python",
   "name": "python",
   "nbconvert_exporter": "python",
   "pygments_lexer": "ipython3",
   "version": "3.6.8"
  }
 },
 "nbformat": 4,
 "nbformat_minor": 2
}
