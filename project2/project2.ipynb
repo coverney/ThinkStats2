{
 "cells": [
  {
   "cell_type": "markdown",
   "metadata": {},
   "source": [
    "\n",
    "# It’s Still Not the Day for Equal Pay\n",
    "MIT License: https://opensource.org/licenses/MIT\n",
    "### Cassandra Overney and Khang Vu\n",
    "The main question we want to answer is how does female income compare to male income in the last three decades. We will answer that question with the following sub-questions:\n",
    "- How do the proportions of median weekly female income to median weekly white male income compare for different races and from 1979 to 2018? Can we predict what the proportions would be in 2019?\n",
    "- What factors (i.e. education, occupation, industry) have the most impact on wage/salary income? How does sex impact income after controlling for those factors?\n",
    "- For specific occupations, how does pay gap and sex segregation change over time (from 2003 to 2018)?"
   ]
  },
  {
   "cell_type": "markdown",
   "metadata": {},
   "source": [
    "## 1. Overview of the Data"
   ]
  },
  {
   "cell_type": "code",
   "execution_count": 1,
   "metadata": {},
   "outputs": [],
   "source": [
    "# Importing the necessary librariers \n",
    "import pandas as pd\n",
    "import numpy as np\n",
    "# import re # might be able to remove\n",
    "import thinkstats2\n",
    "import thinkplot\n",
    "import matplotlib.pyplot as plt\n",
    "import seaborn as sns\n",
    "from statsmodels.tsa.api import Holt\n",
    "import statsmodels.formula.api as smf\n",
    "import paygap"
   ]
  },
  {
   "cell_type": "markdown",
   "metadata": {},
   "source": [
    "### 1.1 CPS and BLS\n",
    "\n",
    "We obtained median weekly income data from the Current Population Survey (CPS), which is a monthly survey of 60,000 households conducted by the Bureau of Census for the Bureau of Labor Statistics (BLS). The terms of use can be found [here](https://www.bls.gov/developers/termsOfService.htm). Here is a summary:\n",
    "- The Departments and Agencies providing the data retain version control.\n",
    "- Once the data has been downloaded, BLS can't vouch for the quality and timeliness of conducted analyses.\n",
    "- Users should cite the date that data were accessed (3/30/2019).\n",
    "- State \"BLS.gov cannot vouch for the data or analyses derived from these data after the data have been retrieved from BLS.gov.\"\n",
    "- Users may not modify or falsely represent content accessed through BLS.gov. \n",
    "- BLS has the right to limit access of data to certain users.\n",
    "- BLS disclaims all warranties of any kind and liabilities.\n",
    "\n",
    "CPS is the primary source of labor force statistics for the US population. The data for median weekly income for males and females of different races can be found [here](https://www.bls.gov/webapps/legacy/cpswktab3.htm). Median weekly incomes are found as annual averages for full-time wage and salary workers 16 years and over and are not seasonally adjusted. Wage and salary workers for earning purposes exclude both the incorporated and the unincorporated self-employed. People who selected more than one race group are excluded. \n",
    "\n",
    "Median earnings are found from usual weekly earning distributions, which reflect earnings before taxes and other deductions. The question associated with usual weekly earnings is:\n",
    "\n",
    "*“I have estimated (your/his/her) usual WEEKLY earnings (as/for (your/his/her) main job as) (AMOUNT) before taxes or other deductions. Does that sound correct?”* \n",
    "\n",
    "The term “usual” means as perceived by the respondent. The estimation component of the question is present because respondents can report earnings in the time periods they prefer.   \n",
    " \n",
    "The data for median weekly income for males and females of different occupations can be found [here](https://www.bls.gov/cps/tables.htm). Occupation describes a person's job or the type of work they do and are based on the job they held during the survey [reference week](https://www.bls.gov/cps/definitions.htm#refweek). The median incomes are derived from annual average data.     \n",
    "\n",
    "Since the Bureau of Census and BLS are Federal government agencies, everything they publish, both in hard copy and electronically, is in the public domain, except for copyrighted photographs and illustrations, which we do not use. This means that we are free to use the CPS data tables as long as we follow the terms of use. "
   ]
  },
  {
   "cell_type": "markdown",
   "metadata": {},
   "source": [
    "### 1.2 IPUMS\n",
    "\n",
    "For regression analysis, we downloaded respondent CPS data from [IPUMS USA](https://usa.ipums.org/usa/cite.shtml) for 2018.In order to use the IPUMS USA dataset, we have to cite it accordingly: \n",
    "\n",
    "*IPUMS USA, University of Minnesota, www.ipums.org.* \n",
    "\n",
    "Furthermore, the licensing agreement for use of IPUMS USA data requires us to provide a citation to our report. We will make sure to add our citation to the [IPUMS bibliography](https://bibliography.ipums.org/) after completing our report. Since IPUMS directly got its 2018 data from the Bureau of Census, the same terms and conditions apply as mentioned in the section above. We did most of our IPUMS analysis on 1.5 million employed full time workers. Since we conducted data mining for many variables, we will introduce the most important ones later on. "
   ]
  },
  {
   "cell_type": "markdown",
   "metadata": {},
   "source": [
    "## 2. Pay Gap between Different Races and Genders"
   ]
  },
  {
   "cell_type": "markdown",
   "metadata": {},
   "source": [
    "In this section, we try to compare male and female incomes from 1979 to 2018 using CPS data. The data contains median weekly incomes for different genders and races. \n",
    "\n",
    "“CPS Tables.” *U.S. Bureau of Labor Statistics*, U.S. Bureau of Labor Statistics, 18 Jan. 2019, [www.bls.gov/cps/tables.htm](http://www.bls.gov/cps/tables.htm)."
   ]
  },
  {
   "cell_type": "markdown",
   "metadata": {},
   "source": [
    "### 2.1 Data Cleaning\n",
    "\n",
    "Read in the CPS data, each row corresponds to a particular gender and race"
   ]
  },
  {
   "cell_type": "code",
   "execution_count": 2,
   "metadata": {},
   "outputs": [],
   "source": [
    "df_race_raw = paygap.ReadCPS('Data/weeklyincome_gender_race_1979to2018.xlsx')"
   ]
  },
  {
   "cell_type": "markdown",
   "metadata": {},
   "source": [
    "Set the index to Category"
   ]
  },
  {
   "cell_type": "code",
   "execution_count": 3,
   "metadata": {},
   "outputs": [
    {
     "data": {
      "text/html": [
       "<div>\n",
       "<style scoped>\n",
       "    .dataframe tbody tr th:only-of-type {\n",
       "        vertical-align: middle;\n",
       "    }\n",
       "\n",
       "    .dataframe tbody tr th {\n",
       "        vertical-align: top;\n",
       "    }\n",
       "\n",
       "    .dataframe thead th {\n",
       "        text-align: right;\n",
       "    }\n",
       "</style>\n",
       "<table border=\"1\" class=\"dataframe\">\n",
       "  <thead>\n",
       "    <tr style=\"text-align: right;\">\n",
       "      <th></th>\n",
       "      <th>Annual\n",
       "1979</th>\n",
       "      <th>Annual\n",
       "1980</th>\n",
       "      <th>Annual\n",
       "1981</th>\n",
       "      <th>Annual\n",
       "1982</th>\n",
       "      <th>Annual\n",
       "1983</th>\n",
       "      <th>Annual\n",
       "1984</th>\n",
       "      <th>Annual\n",
       "1985</th>\n",
       "      <th>Annual\n",
       "1986</th>\n",
       "      <th>Annual\n",
       "1987</th>\n",
       "      <th>Annual\n",
       "1988</th>\n",
       "      <th>...</th>\n",
       "      <th>Annual\n",
       "2009</th>\n",
       "      <th>Annual\n",
       "2010</th>\n",
       "      <th>Annual\n",
       "2011</th>\n",
       "      <th>Annual\n",
       "2012</th>\n",
       "      <th>Annual\n",
       "2013</th>\n",
       "      <th>Annual\n",
       "2014</th>\n",
       "      <th>Annual\n",
       "2015</th>\n",
       "      <th>Annual\n",
       "2016</th>\n",
       "      <th>Annual\n",
       "2017</th>\n",
       "      <th>Annual\n",
       "2018</th>\n",
       "    </tr>\n",
       "    <tr>\n",
       "      <th>Category</th>\n",
       "      <th></th>\n",
       "      <th></th>\n",
       "      <th></th>\n",
       "      <th></th>\n",
       "      <th></th>\n",
       "      <th></th>\n",
       "      <th></th>\n",
       "      <th></th>\n",
       "      <th></th>\n",
       "      <th></th>\n",
       "      <th></th>\n",
       "      <th></th>\n",
       "      <th></th>\n",
       "      <th></th>\n",
       "      <th></th>\n",
       "      <th></th>\n",
       "      <th></th>\n",
       "      <th></th>\n",
       "      <th></th>\n",
       "      <th></th>\n",
       "      <th></th>\n",
       "    </tr>\n",
       "  </thead>\n",
       "  <tbody>\n",
       "    <tr>\n",
       "      <th>White Women</th>\n",
       "      <td>184.0</td>\n",
       "      <td>203.0</td>\n",
       "      <td>221.0</td>\n",
       "      <td>242.0</td>\n",
       "      <td>254.0</td>\n",
       "      <td>268.0</td>\n",
       "      <td>281.0</td>\n",
       "      <td>294.0</td>\n",
       "      <td>307.0</td>\n",
       "      <td>318.0</td>\n",
       "      <td>...</td>\n",
       "      <td>669.0</td>\n",
       "      <td>684.0</td>\n",
       "      <td>703.0</td>\n",
       "      <td>710.0</td>\n",
       "      <td>722.0</td>\n",
       "      <td>734.0</td>\n",
       "      <td>743.0</td>\n",
       "      <td>766.0</td>\n",
       "      <td>795.0</td>\n",
       "      <td>817.0</td>\n",
       "    </tr>\n",
       "    <tr>\n",
       "      <th>Black Women</th>\n",
       "      <td>169.0</td>\n",
       "      <td>185.0</td>\n",
       "      <td>206.0</td>\n",
       "      <td>217.0</td>\n",
       "      <td>232.0</td>\n",
       "      <td>241.0</td>\n",
       "      <td>252.0</td>\n",
       "      <td>264.0</td>\n",
       "      <td>276.0</td>\n",
       "      <td>288.0</td>\n",
       "      <td>...</td>\n",
       "      <td>582.0</td>\n",
       "      <td>592.0</td>\n",
       "      <td>595.0</td>\n",
       "      <td>599.0</td>\n",
       "      <td>606.0</td>\n",
       "      <td>611.0</td>\n",
       "      <td>615.0</td>\n",
       "      <td>641.0</td>\n",
       "      <td>657.0</td>\n",
       "      <td>654.0</td>\n",
       "    </tr>\n",
       "    <tr>\n",
       "      <th>Asian Women</th>\n",
       "      <td>NaN</td>\n",
       "      <td>NaN</td>\n",
       "      <td>NaN</td>\n",
       "      <td>NaN</td>\n",
       "      <td>NaN</td>\n",
       "      <td>NaN</td>\n",
       "      <td>NaN</td>\n",
       "      <td>NaN</td>\n",
       "      <td>NaN</td>\n",
       "      <td>NaN</td>\n",
       "      <td>...</td>\n",
       "      <td>779.0</td>\n",
       "      <td>773.0</td>\n",
       "      <td>751.0</td>\n",
       "      <td>770.0</td>\n",
       "      <td>819.0</td>\n",
       "      <td>841.0</td>\n",
       "      <td>877.0</td>\n",
       "      <td>902.0</td>\n",
       "      <td>903.0</td>\n",
       "      <td>937.0</td>\n",
       "    </tr>\n",
       "    <tr>\n",
       "      <th>Hispanic Women</th>\n",
       "      <td>157.0</td>\n",
       "      <td>172.0</td>\n",
       "      <td>190.0</td>\n",
       "      <td>203.0</td>\n",
       "      <td>215.0</td>\n",
       "      <td>223.0</td>\n",
       "      <td>230.0</td>\n",
       "      <td>241.0</td>\n",
       "      <td>251.0</td>\n",
       "      <td>260.0</td>\n",
       "      <td>...</td>\n",
       "      <td>509.0</td>\n",
       "      <td>508.0</td>\n",
       "      <td>518.0</td>\n",
       "      <td>521.0</td>\n",
       "      <td>541.0</td>\n",
       "      <td>548.0</td>\n",
       "      <td>566.0</td>\n",
       "      <td>586.0</td>\n",
       "      <td>603.0</td>\n",
       "      <td>617.0</td>\n",
       "    </tr>\n",
       "    <tr>\n",
       "      <th>White Men</th>\n",
       "      <td>298.0</td>\n",
       "      <td>320.0</td>\n",
       "      <td>350.0</td>\n",
       "      <td>375.0</td>\n",
       "      <td>387.0</td>\n",
       "      <td>401.0</td>\n",
       "      <td>418.0</td>\n",
       "      <td>433.0</td>\n",
       "      <td>450.0</td>\n",
       "      <td>465.0</td>\n",
       "      <td>...</td>\n",
       "      <td>845.0</td>\n",
       "      <td>850.0</td>\n",
       "      <td>856.0</td>\n",
       "      <td>879.0</td>\n",
       "      <td>884.0</td>\n",
       "      <td>897.0</td>\n",
       "      <td>920.0</td>\n",
       "      <td>942.0</td>\n",
       "      <td>971.0</td>\n",
       "      <td>1002.0</td>\n",
       "    </tr>\n",
       "  </tbody>\n",
       "</table>\n",
       "<p>5 rows × 40 columns</p>\n",
       "</div>"
      ],
      "text/plain": [
       "                Annual\\n1979  Annual\\n1980  Annual\\n1981  Annual\\n1982  \\\n",
       "Category                                                                 \n",
       "White Women            184.0         203.0         221.0         242.0   \n",
       "Black Women            169.0         185.0         206.0         217.0   \n",
       "Asian Women              NaN           NaN           NaN           NaN   \n",
       "Hispanic Women         157.0         172.0         190.0         203.0   \n",
       "White Men              298.0         320.0         350.0         375.0   \n",
       "\n",
       "                Annual\\n1983  Annual\\n1984  Annual\\n1985  Annual\\n1986  \\\n",
       "Category                                                                 \n",
       "White Women            254.0         268.0         281.0         294.0   \n",
       "Black Women            232.0         241.0         252.0         264.0   \n",
       "Asian Women              NaN           NaN           NaN           NaN   \n",
       "Hispanic Women         215.0         223.0         230.0         241.0   \n",
       "White Men              387.0         401.0         418.0         433.0   \n",
       "\n",
       "                Annual\\n1987  Annual\\n1988  ...  Annual\\n2009  Annual\\n2010  \\\n",
       "Category                                    ...                               \n",
       "White Women            307.0         318.0  ...         669.0         684.0   \n",
       "Black Women            276.0         288.0  ...         582.0         592.0   \n",
       "Asian Women              NaN           NaN  ...         779.0         773.0   \n",
       "Hispanic Women         251.0         260.0  ...         509.0         508.0   \n",
       "White Men              450.0         465.0  ...         845.0         850.0   \n",
       "\n",
       "                Annual\\n2011  Annual\\n2012  Annual\\n2013  Annual\\n2014  \\\n",
       "Category                                                                 \n",
       "White Women            703.0         710.0         722.0         734.0   \n",
       "Black Women            595.0         599.0         606.0         611.0   \n",
       "Asian Women            751.0         770.0         819.0         841.0   \n",
       "Hispanic Women         518.0         521.0         541.0         548.0   \n",
       "White Men              856.0         879.0         884.0         897.0   \n",
       "\n",
       "                Annual\\n2015  Annual\\n2016  Annual\\n2017  Annual\\n2018  \n",
       "Category                                                                \n",
       "White Women            743.0         766.0         795.0         817.0  \n",
       "Black Women            615.0         641.0         657.0         654.0  \n",
       "Asian Women            877.0         902.0         903.0         937.0  \n",
       "Hispanic Women         566.0         586.0         603.0         617.0  \n",
       "White Men              920.0         942.0         971.0        1002.0  \n",
       "\n",
       "[5 rows x 40 columns]"
      ]
     },
     "execution_count": 3,
     "metadata": {},
     "output_type": "execute_result"
    }
   ],
   "source": [
    "df_race_raw = df_race_raw.set_index('Category')\n",
    "df_race_raw.head()"
   ]
  },
  {
   "cell_type": "markdown",
   "metadata": {},
   "source": [
    "Generate the year range"
   ]
  },
  {
   "cell_type": "code",
   "execution_count": 4,
   "metadata": {},
   "outputs": [
    {
     "data": {
      "text/plain": [
       "array([1979, 1980, 1981, 1982, 1983, 1984, 1985, 1986, 1987, 1988, 1989,\n",
       "       1990, 1991, 1992, 1993, 1994, 1995, 1996, 1997, 1998, 1999, 2000,\n",
       "       2001, 2002, 2003, 2004, 2005, 2006, 2007, 2008, 2009, 2010, 2011,\n",
       "       2012, 2013, 2014, 2015, 2016, 2017, 2018])"
      ]
     },
     "execution_count": 4,
     "metadata": {},
     "output_type": "execute_result"
    }
   ],
   "source": [
    "years = np.arange(1979, 2019)\n",
    "years"
   ]
  },
  {
   "cell_type": "markdown",
   "metadata": {},
   "source": [
    "### 2.2 Data Exploration"
   ]
  },
  {
   "cell_type": "markdown",
   "metadata": {},
   "source": [
    "We can then plot the incomes for men and women."
   ]
  },
  {
   "cell_type": "code",
   "execution_count": 5,
   "metadata": {},
   "outputs": [
    {
     "data": {
      "image/png": "[encoded data removed]",
      "text/plain": [
       "<Figure size 576x432 with 1 Axes>"
      ]
     },
     "metadata": {
      "needs_background": "light"
     },
     "output_type": "display_data"
    }
   ],
   "source": [
    "fig, ax = plt.subplots(figsize=(8,6))\n",
    "\n",
    "male_income = df_race_raw.loc['Men'].values.astype(float)\n",
    "thinkplot.plot(years, male_income, label='Men', color='navy')\n",
    "\n",
    "female_income = df_race_raw.loc['Women'].values.astype(float)\n",
    "thinkplot.plot(years, female_income, label='Women', color='tomato')\n",
    "\n",
    "# Decorate the plot\n",
    "thinkplot.Config(xlabel='Years', \n",
    "                 ylabel='Median Weekly Income', \n",
    "                 title='Median weekly income for men and women of all races')\n",
    "thinkplot.set_font_size(13, 13, 11, 11)"
   ]
  },
  {
   "cell_type": "markdown",
   "metadata": {},
   "source": [
    "Both lines display a positive relationship with income and year, which is most likely due to inflation. Male income is consistently higher than female income by around \\\\$100. \n",
    "\n",
    "We can also plot the median incomes for differenct races (white, black, asian, and hispanic)."
   ]
  },
  {
   "cell_type": "code",
   "execution_count": 6,
   "metadata": {},
   "outputs": [
    {
     "data": {
      "image/png": "[encoded data removed]",
      "text/plain": [
       "<Figure size 576x432 with 1 Axes>"
      ]
     },
     "metadata": {
      "needs_background": "light"
     },
     "output_type": "display_data"
    }
   ],
   "source": [
    "fig, ax = plt.subplots(figsize=(8,6))\n",
    "\n",
    "races = ['Asian', 'White', 'Black', 'Hispanic']\n",
    "for race in races:\n",
    "    income = df_race_raw.loc[race].values.astype(float)\n",
    "    thinkplot.plot(years, income, label=race, color=paygap.GetColor())\n",
    "\n",
    "# Decorate the plot\n",
    "thinkplot.Config(xlabel='Years', \n",
    "                 ylabel='Median Weekly Income', \n",
    "                 title='Median weekly income for different races of both genders')\n",
    "thinkplot.set_font_size(13, 13, 11, 11)"
   ]
  },
  {
   "cell_type": "markdown",
   "metadata": {},
   "source": [
    "Since the data is not adjusted for inflation, all lines have a positive slope. The incomes of white people are consistently higher than the incomes of black and Hispanic people. After 2000, data for Asian people exist, and they have higher incomes than all other races.       \n",
    "\n",
    "We combine the gender and race variables to answer the question:\n",
    "\n",
    "How do the income distributions by race look like for each gender?"
   ]
  },
  {
   "cell_type": "code",
   "execution_count": 7,
   "metadata": {},
   "outputs": [
    {
     "data": {
      "image/png": "[encoded data removed]",
      "text/plain": [
       "<Figure size 1152x432 with 2 Axes>"
      ]
     },
     "metadata": {
      "needs_background": "light"
     },
     "output_type": "display_data"
    }
   ],
   "source": [
    "fig, axarr = plt.subplots(1, 2, figsize=(16,6))\n",
    "\n",
    "race_groupby = {'men' : ['Asian Men', 'White Men', 'Black Men', 'Hispanic Men'], \n",
    "         'women' : ['Asian Women', 'White Women', 'Black Women', 'Hispanic Women']}\n",
    "for i, gender in enumerate(['men', 'women']):\n",
    "    for race in race_groupby[gender]:\n",
    "        income = df_race_raw.loc[race].values.astype(float)\n",
    "        axarr[i].plot(years, income, label=race, color=paygap.GetColor(), linewidth=3, alpha=0.7)\n",
    "        axarr[i].set_title('Median weekly income for different races of ' + gender)\n",
    "        axarr[i].set(ylim=(100, 1300), xlabel='Years', ylabel='Median Weekly Income')\n",
    "        axarr[i].legend()\n",
    "        paygap.set_font_size(13, 13, 11, 11, ax=axarr[i])"
   ]
  },
  {
   "cell_type": "markdown",
   "metadata": {},
   "source": [
    "For both genders, Asian people have the highest median weekly incomes followed by white people, black people, and then Hispanic people. When we compare the two graphs we can see the following observations:\n",
    "- The incomes of Hispanic men are similar to the incomes of Hispanic women.\n",
    "- The incomes of black men are similar to the incomes of black women. \n",
    "- The incomes of white men are around \\\\$100 higher than the incomes of white women.  \n",
    "- The incomes of Asian men are around \\\\$200 higher than the incomes of Asian women. "
   ]
  },
  {
   "cell_type": "markdown",
   "metadata": {},
   "source": [
    "### 2.3 Female Income Compared to White Male Income for Different Races"
   ]
  },
  {
   "cell_type": "markdown",
   "metadata": {},
   "source": [
    "To better visualize the pay gap between men and women, we plot the proportion of female income compared to white male income for each race. We picked white male income since it is the highest weekly income and is represented for the entire time period. "
   ]
  },
  {
   "cell_type": "markdown",
   "metadata": {},
   "source": [
    "Extract the values of the white male income row"
   ]
  },
  {
   "cell_type": "code",
   "execution_count": 8,
   "metadata": {},
   "outputs": [
    {
     "data": {
      "text/plain": [
       "array([ 298.,  320.,  350.,  375.,  387.,  401.,  418.,  433.,  450.,\n",
       "        465.,  482.,  494.,  506.,  514.,  524.,  547.,  566.,  580.,\n",
       "        595.,  615.,  638.,  662.,  689.,  702.,  715.,  732.,  743.,\n",
       "        761.,  788.,  825.,  845.,  850.,  856.,  879.,  884.,  897.,\n",
       "        920.,  942.,  971., 1002.])"
      ]
     },
     "execution_count": 8,
     "metadata": {},
     "output_type": "execute_result"
    }
   ],
   "source": [
    "white_male_income = df_race_raw.loc['White Men'].values\n",
    "white_male_income"
   ]
  },
  {
   "cell_type": "markdown",
   "metadata": {},
   "source": [
    "Find proportions of female median weekly income to male median weekly income for each year and race"
   ]
  },
  {
   "cell_type": "code",
   "execution_count": 9,
   "metadata": {},
   "outputs": [],
   "source": [
    "white_female_income_prop = df_race_raw.loc['White Women'].values/white_male_income\n",
    "black_female_income_prop = df_race_raw.loc['Black Women'].values/white_male_income\n",
    "asian_female_income_prop = df_race_raw.loc['Asian Women'].values/white_male_income\n",
    "hispanic_female_income_prop = df_race_raw.loc['Hispanic Women'].values/white_male_income"
   ]
  },
  {
   "cell_type": "markdown",
   "metadata": {},
   "source": [
    "Create another DataFrame with calculated values"
   ]
  },
  {
   "cell_type": "code",
   "execution_count": 10,
   "metadata": {},
   "outputs": [
    {
     "data": {
      "text/html": [
       "<div>\n",
       "<style scoped>\n",
       "    .dataframe tbody tr th:only-of-type {\n",
       "        vertical-align: middle;\n",
       "    }\n",
       "\n",
       "    .dataframe tbody tr th {\n",
       "        vertical-align: top;\n",
       "    }\n",
       "\n",
       "    .dataframe thead th {\n",
       "        text-align: right;\n",
       "    }\n",
       "</style>\n",
       "<table border=\"1\" class=\"dataframe\">\n",
       "  <thead>\n",
       "    <tr style=\"text-align: right;\">\n",
       "      <th></th>\n",
       "      <th>Years</th>\n",
       "      <th>Asian Women</th>\n",
       "      <th>White Women</th>\n",
       "      <th>Black Women</th>\n",
       "      <th>Hispanic Women</th>\n",
       "    </tr>\n",
       "  </thead>\n",
       "  <tbody>\n",
       "    <tr>\n",
       "      <th>0</th>\n",
       "      <td>1979</td>\n",
       "      <td>NaN</td>\n",
       "      <td>0.617450</td>\n",
       "      <td>0.567114</td>\n",
       "      <td>0.526846</td>\n",
       "    </tr>\n",
       "    <tr>\n",
       "      <th>1</th>\n",
       "      <td>1980</td>\n",
       "      <td>NaN</td>\n",
       "      <td>0.634375</td>\n",
       "      <td>0.578125</td>\n",
       "      <td>0.537500</td>\n",
       "    </tr>\n",
       "    <tr>\n",
       "      <th>2</th>\n",
       "      <td>1981</td>\n",
       "      <td>NaN</td>\n",
       "      <td>0.631429</td>\n",
       "      <td>0.588571</td>\n",
       "      <td>0.542857</td>\n",
       "    </tr>\n",
       "    <tr>\n",
       "      <th>3</th>\n",
       "      <td>1982</td>\n",
       "      <td>NaN</td>\n",
       "      <td>0.645333</td>\n",
       "      <td>0.578667</td>\n",
       "      <td>0.541333</td>\n",
       "    </tr>\n",
       "    <tr>\n",
       "      <th>4</th>\n",
       "      <td>1983</td>\n",
       "      <td>NaN</td>\n",
       "      <td>0.656331</td>\n",
       "      <td>0.599483</td>\n",
       "      <td>0.555556</td>\n",
       "    </tr>\n",
       "  </tbody>\n",
       "</table>\n",
       "</div>"
      ],
      "text/plain": [
       "   Years  Asian Women  White Women  Black Women  Hispanic Women\n",
       "0   1979          NaN     0.617450     0.567114        0.526846\n",
       "1   1980          NaN     0.634375     0.578125        0.537500\n",
       "2   1981          NaN     0.631429     0.588571        0.542857\n",
       "3   1982          NaN     0.645333     0.578667        0.541333\n",
       "4   1983          NaN     0.656331     0.599483        0.555556"
      ]
     },
     "execution_count": 10,
     "metadata": {},
     "output_type": "execute_result"
    }
   ],
   "source": [
    "d = {'Years': years, \n",
    "     'Asian Women': asian_female_income_prop.astype(float), \n",
    "     'White Women': white_female_income_prop.astype(float), \n",
    "     'Black Women': black_female_income_prop.astype(float), \n",
    "     'Hispanic Women': hispanic_female_income_prop.astype(float)}\n",
    "df_race = pd.DataFrame(d)\n",
    "df_race.head()"
   ]
  },
  {
   "cell_type": "markdown",
   "metadata": {},
   "source": [
    "Plot the columns of the new DataFrame"
   ]
  },
  {
   "cell_type": "code",
   "execution_count": 11,
   "metadata": {},
   "outputs": [
    {
     "data": {
      "image/png": "[encoded data removed]",
      "text/plain": [
       "<Figure size 576x432 with 1 Axes>"
      ]
     },
     "metadata": {
      "needs_background": "light"
     },
     "output_type": "display_data"
    },
    {
     "data": {
      "text/plain": [
       "<Figure size 576x432 with 0 Axes>"
      ]
     },
     "metadata": {},
     "output_type": "display_data"
    }
   ],
   "source": [
    "fig, ax = plt.subplots(figsize=(8,6))\n",
    "\n",
    "# Plot female data across different races\n",
    "for col in df_race:\n",
    "    if col != 'Years':\n",
    "        thinkplot.Plot(df_race['Years'], df_race[col], label=col, color=paygap.GetColor())\n",
    "\n",
    "# Plot white men income (horizontal line at 1.0)\n",
    "xs = np.arange(years.min(), years.max() + 1)\n",
    "ys = np.zeros(len(xs)) + 1\n",
    "thinkplot.Plot(xs,  ys, color='black', lineWidth=1)\n",
    "plt.text(x=1985, y=0.995, s='  same median weekly earnings as white men ', bbox=dict(facecolor='white', alpha=1, edgeColor='white'), fontsize=12)\n",
    "\n",
    "# Decorate the plot\n",
    "thinkplot.Config(xlabel='Years', \n",
    "                 ylabel='Proportion of female income to white male income', \n",
    "                 title='Proportions of median weekly female income to \\nmedian weekly white male income compared for different races')\n",
    "thinkplot.set_font_size(13, 13, 11, 11)\n",
    "thinkplot.Show()"
   ]
  },
  {
   "cell_type": "markdown",
   "metadata": {},
   "source": [
    "None of the lines have proportions greater than or equal to 1. Asian women are closet to white men income with proportions ranging from around 0.8 to 0.95. White women have proportions ranging from 0.6 to 0.8. Black and Hispanic women make a little more than half of what white men make.   "
   ]
  },
  {
   "cell_type": "markdown",
   "metadata": {},
   "source": [
    "#### 2019 Prediction\n",
    "\n",
    "We use the [Holt Winter’s Exponential Smoothing](https://www.statsmodels.org/dev/generated/statsmodels.tsa.holtwinters.Holt.html?highlight=holt) provided by the StatsModels library to predict the pay gap between white men and women of different races in 2019. This method extends Simple Exponential Smoothing and is suitable for univariate time series with trend and/or seasonal components.\n",
    "\n",
    "For example, we can find the predicted value for white women in 2019 as follows:"
   ]
  },
  {
   "cell_type": "code",
   "execution_count": 12,
   "metadata": {},
   "outputs": [
    {
     "data": {
      "text/plain": [
       "35    0.818283\n",
       "36    0.807609\n",
       "37    0.813163\n",
       "38    0.818744\n",
       "39    0.815369\n",
       "Name: White Women, dtype: float64"
      ]
     },
     "execution_count": 12,
     "metadata": {},
     "output_type": "execute_result"
    }
   ],
   "source": [
    "df_race['White Women'].tail()"
   ]
  },
  {
   "cell_type": "code",
   "execution_count": 13,
   "metadata": {},
   "outputs": [
    {
     "data": {
      "text/plain": [
       "40    0.81684\n",
       "dtype: float64"
      ]
     },
     "execution_count": 13,
     "metadata": {},
     "output_type": "execute_result"
    }
   ],
   "source": [
    "fit = Holt(df_race['White Women'], damped=True, exponential=True).fit()\n",
    "fit.predict(len(df_race['White Women']))"
   ]
  },
  {
   "cell_type": "markdown",
   "metadata": {},
   "source": [
    "In 2019, the proportion of white women's median weekly income to white men's will be about 0.82.\n",
    "\n",
    "Next, we use this function to compute the predicted values for women of other races and plot the results on the same graph."
   ]
  },
  {
   "cell_type": "code",
   "execution_count": 14,
   "metadata": {},
   "outputs": [
    {
     "data": {
      "image/png": "[encoded data removed]",
      "text/plain": [
       "<Figure size 576x432 with 1 Axes>"
      ]
     },
     "metadata": {
      "needs_background": "light"
     },
     "output_type": "display_data"
    },
    {
     "data": {
      "text/plain": [
       "<Figure size 576x432 with 0 Axes>"
      ]
     },
     "metadata": {},
     "output_type": "display_data"
    }
   ],
   "source": [
    "fig, ax = plt.subplots(figsize=(8,6))\n",
    "\n",
    "# Plot female data across different races\n",
    "for col in df_race:\n",
    "    if col != 'Years':\n",
    "        # Predict pay gap next year, 2019\n",
    "        y = df_race[col].dropna()\n",
    "        y.index -= y.index.min() # Re-start index at 0\n",
    "        fit = Holt(y, damped=True, exponential=True).fit()\n",
    "        fcast = fit.predict(len(y))\n",
    "        \n",
    "        color = paygap.GetColor()\n",
    "        thinkplot.Plot(df_race['Years'], df_race[col], label=col, color=color) # data\n",
    "        thinkplot.Scatter([2019], fcast, color=color, alpha=0.7) # prediction\n",
    "\n",
    "# Plot white men income (horizontal line at 1.0)\n",
    "xs = np.arange(years.min(), years.max() + 3)\n",
    "ys = np.zeros(len(xs)) + 1\n",
    "thinkplot.Plot(xs,  ys, color='black', lineWidth=1)\n",
    "plt.text(x=1985, y=0.995, s='  same median weekly earnings as white men ', bbox=dict(facecolor='white', alpha=1, edgeColor='white'), fontsize=12)\n",
    "\n",
    "# Decorate the plot\n",
    "thinkplot.Config(xlabel='Years', \n",
    "                 ylabel='Proportion of female income to white male income', \n",
    "                 title='Proportions of median weekly female income to \\nmedian weekly white male income compared for different races')\n",
    "thinkplot.set_font_size(13, 13, 11, 11)\n",
    "thinkplot.Show()"
   ]
  },
  {
   "cell_type": "markdown",
   "metadata": {},
   "source": [
    "We predict that the pay gaps for 2019 will be similar to what they were in 2018. The biggest positive change can be seen from the black women proportions.  "
   ]
  },
  {
   "cell_type": "markdown",
   "metadata": {},
   "source": [
    "## 3. Other Variables that Relate to Income"
   ]
  },
  {
   "cell_type": "markdown",
   "metadata": {},
   "source": [
    "### 3.1 Data Cleaning"
   ]
  },
  {
   "cell_type": "code",
   "execution_count": 15,
   "metadata": {},
   "outputs": [
    {
     "data": {
      "text/html": [
       "<div>\n",
       "<style scoped>\n",
       "    .dataframe tbody tr th:only-of-type {\n",
       "        vertical-align: middle;\n",
       "    }\n",
       "\n",
       "    .dataframe tbody tr th {\n",
       "        vertical-align: top;\n",
       "    }\n",
       "\n",
       "    .dataframe thead th {\n",
       "        text-align: right;\n",
       "    }\n",
       "</style>\n",
       "<table border=\"1\" class=\"dataframe\">\n",
       "  <thead>\n",
       "    <tr style=\"text-align: right;\">\n",
       "      <th></th>\n",
       "      <th>HHWT</th>\n",
       "      <th>REGION</th>\n",
       "      <th>STATEFIP</th>\n",
       "      <th>COUNTYFIP</th>\n",
       "      <th>METRO</th>\n",
       "      <th>MET2013</th>\n",
       "      <th>CITY</th>\n",
       "      <th>CITYERR</th>\n",
       "      <th>PUMA</th>\n",
       "      <th>CPUMA0010</th>\n",
       "      <th>...</th>\n",
       "      <th>DIFFHEAR</th>\n",
       "      <th>PWSTATE2</th>\n",
       "      <th>PWCOUNTY</th>\n",
       "      <th>PWMET13</th>\n",
       "      <th>PWTYPE</th>\n",
       "      <th>PWPUMA00</th>\n",
       "      <th>TRANWORK</th>\n",
       "      <th>TRANTIME</th>\n",
       "      <th>DEPARTS</th>\n",
       "      <th>ARRIVES</th>\n",
       "    </tr>\n",
       "  </thead>\n",
       "  <tbody>\n",
       "    <tr>\n",
       "      <th>0</th>\n",
       "      <td>45</td>\n",
       "      <td>32</td>\n",
       "      <td>1</td>\n",
       "      <td>0</td>\n",
       "      <td>0</td>\n",
       "      <td>0</td>\n",
       "      <td>0</td>\n",
       "      <td>0</td>\n",
       "      <td>1800</td>\n",
       "      <td>13</td>\n",
       "      <td>...</td>\n",
       "      <td>0</td>\n",
       "      <td>1</td>\n",
       "      <td>117</td>\n",
       "      <td>13820</td>\n",
       "      <td>5</td>\n",
       "      <td>1200</td>\n",
       "      <td>10</td>\n",
       "      <td>50</td>\n",
       "      <td>642</td>\n",
       "      <td>734</td>\n",
       "    </tr>\n",
       "    <tr>\n",
       "      <th>1</th>\n",
       "      <td>136</td>\n",
       "      <td>32</td>\n",
       "      <td>1</td>\n",
       "      <td>0</td>\n",
       "      <td>0</td>\n",
       "      <td>0</td>\n",
       "      <td>0</td>\n",
       "      <td>0</td>\n",
       "      <td>2400</td>\n",
       "      <td>16</td>\n",
       "      <td>...</td>\n",
       "      <td>0</td>\n",
       "      <td>13</td>\n",
       "      <td>0</td>\n",
       "      <td>0</td>\n",
       "      <td>5</td>\n",
       "      <td>1700</td>\n",
       "      <td>10</td>\n",
       "      <td>45</td>\n",
       "      <td>1805</td>\n",
       "      <td>1849</td>\n",
       "    </tr>\n",
       "    <tr>\n",
       "      <th>2</th>\n",
       "      <td>19</td>\n",
       "      <td>32</td>\n",
       "      <td>1</td>\n",
       "      <td>0</td>\n",
       "      <td>0</td>\n",
       "      <td>0</td>\n",
       "      <td>0</td>\n",
       "      <td>0</td>\n",
       "      <td>2500</td>\n",
       "      <td>16</td>\n",
       "      <td>...</td>\n",
       "      <td>0</td>\n",
       "      <td>1</td>\n",
       "      <td>0</td>\n",
       "      <td>0</td>\n",
       "      <td>9</td>\n",
       "      <td>2500</td>\n",
       "      <td>10</td>\n",
       "      <td>25</td>\n",
       "      <td>717</td>\n",
       "      <td>744</td>\n",
       "    </tr>\n",
       "    <tr>\n",
       "      <th>3</th>\n",
       "      <td>21</td>\n",
       "      <td>32</td>\n",
       "      <td>1</td>\n",
       "      <td>0</td>\n",
       "      <td>0</td>\n",
       "      <td>0</td>\n",
       "      <td>0</td>\n",
       "      <td>0</td>\n",
       "      <td>500</td>\n",
       "      <td>2</td>\n",
       "      <td>...</td>\n",
       "      <td>0</td>\n",
       "      <td>1</td>\n",
       "      <td>0</td>\n",
       "      <td>0</td>\n",
       "      <td>9</td>\n",
       "      <td>290</td>\n",
       "      <td>10</td>\n",
       "      <td>60</td>\n",
       "      <td>602</td>\n",
       "      <td>704</td>\n",
       "    </tr>\n",
       "    <tr>\n",
       "      <th>4</th>\n",
       "      <td>21</td>\n",
       "      <td>32</td>\n",
       "      <td>1</td>\n",
       "      <td>0</td>\n",
       "      <td>0</td>\n",
       "      <td>0</td>\n",
       "      <td>0</td>\n",
       "      <td>0</td>\n",
       "      <td>500</td>\n",
       "      <td>2</td>\n",
       "      <td>...</td>\n",
       "      <td>0</td>\n",
       "      <td>1</td>\n",
       "      <td>0</td>\n",
       "      <td>0</td>\n",
       "      <td>9</td>\n",
       "      <td>290</td>\n",
       "      <td>10</td>\n",
       "      <td>85</td>\n",
       "      <td>702</td>\n",
       "      <td>829</td>\n",
       "    </tr>\n",
       "  </tbody>\n",
       "</table>\n",
       "<p>5 rows × 62 columns</p>\n",
       "</div>"
      ],
      "text/plain": [
       "   HHWT  REGION  STATEFIP  COUNTYFIP  METRO  MET2013  CITY  CITYERR  PUMA  \\\n",
       "0    45      32         1          0      0        0     0        0  1800   \n",
       "1   136      32         1          0      0        0     0        0  2400   \n",
       "2    19      32         1          0      0        0     0        0  2500   \n",
       "3    21      32         1          0      0        0     0        0   500   \n",
       "4    21      32         1          0      0        0     0        0   500   \n",
       "\n",
       "   CPUMA0010  ...  DIFFHEAR  PWSTATE2  PWCOUNTY  PWMET13  PWTYPE  PWPUMA00  \\\n",
       "0         13  ...         0         1       117    13820       5      1200   \n",
       "1         16  ...         0        13         0        0       5      1700   \n",
       "2         16  ...         0         1         0        0       9      2500   \n",
       "3          2  ...         0         1         0        0       9       290   \n",
       "4          2  ...         0         1         0        0       9       290   \n",
       "\n",
       "   TRANWORK  TRANTIME  DEPARTS  ARRIVES  \n",
       "0        10        50      642      734  \n",
       "1        10        45     1805     1849  \n",
       "2        10        25      717      744  \n",
       "3        10        60      602      704  \n",
       "4        10        85      702      829  \n",
       "\n",
       "[5 rows x 62 columns]"
      ]
     },
     "execution_count": 15,
     "metadata": {},
     "output_type": "execute_result"
    }
   ],
   "source": [
    "work_force = pd.read_csv('Data/ipums_2017.csv')\n",
    "work_force.head()"
   ]
  },
  {
   "cell_type": "code",
   "execution_count": 16,
   "metadata": {},
   "outputs": [],
   "source": [
    "work_force = work_force[work_force['UHRSWORK'] >= 30] # Usual hours worked per week\n",
    "work_force = work_force[work_force['WKSWORK2'] >= 3] # Weeks worked last year (level)"
   ]
  },
  {
   "cell_type": "code",
   "execution_count": 17,
   "metadata": {},
   "outputs": [],
   "source": [
    "work_force['UHRSWORK'].replace([0], np.nan, inplace=True)\n",
    "work_force['WKSWORK'] = work_force['WKSWORK2'].replace([0, 1, 2, 3, 4, 5, 6], [np.nan, 7, 20, 33, 43.5, 48.5, 51.5], inplace=False)\n",
    "work_force['INCWAGE'].replace([0, 999999, 999998], np.nan, inplace=True)"
   ]
  },
  {
   "cell_type": "code",
   "execution_count": 18,
   "metadata": {},
   "outputs": [],
   "source": [
    "work_force['HRLY_INCWAGE'] = work_force['INCWAGE']/(work_force['UHRSWORK'] * work_force['WKSWORK'])\n",
    "work_force = work_force[work_force['HRLY_INCWAGE'] > 2] # Only consider those who earn > $2.0 hourly\n",
    "work_force = work_force.dropna()"
   ]
  },
  {
   "cell_type": "code",
   "execution_count": null,
   "metadata": {},
   "outputs": [
    {
     "data": {
      "text/plain": [
       "0    17.799353\n",
       "1    33.287101\n",
       "2    11.650485\n",
       "3    21.035599\n",
       "4    27.669903\n",
       "Name: HRLY_INCWAGE, dtype: float64"
      ]
     },
     "execution_count": 19,
     "metadata": {},
     "output_type": "execute_result"
    }
   ],
   "source": [
    "work_force['HRLY_INCWAGE'].head()"
   ]
  },
  {
   "cell_type": "markdown",
   "metadata": {},
   "source": [
    "### 3.2 Data Mining"
   ]
  },
  {
   "cell_type": "code",
   "execution_count": null,
   "metadata": {},
   "outputs": [],
   "source": [
    "t = []\n",
    "for name in work_force.columns:\n",
    "    formula = 'HRLY_INCWAGE ~ ' + name\n",
    "    model = smf.ols(formula, data=work_force)\n",
    "    if model.nobs < len(work_force)/2:\n",
    "        continue\n",
    "\n",
    "    results = model.fit()\n",
    "        \n",
    "    t.append((results.rsquared, name))"
   ]
  },
  {
   "cell_type": "code",
   "execution_count": null,
   "metadata": {},
   "outputs": [
    {
     "name": "stdout",
     "output_type": "stream",
     "text": [
      "HRLY_INCWAGE 1.0\n",
      "INCWAGE 0.9261158455252794\n",
      "EDUC 0.11627210702436874\n",
      "DEGFIELD 0.0951023297375887\n",
      "OCC2010 0.07549323581942147\n",
      "MARST 0.03760606125612209\n",
      "AGE 0.033228751535220535\n",
      "YRMARR 0.029945658063642355\n",
      "RELATE 0.020329427202418704\n",
      "SEX 0.015630218428316134\n",
      "PWTYPE 0.01251682703960788\n",
      "MET2013 0.011530645300390496\n",
      "PWMET13 0.009299384416518786\n",
      "METRO 0.008828651596018644\n",
      "UHRSWORK 0.00791208831388257\n",
      "CLASSWKR 0.007129525815958382\n",
      "ELDCH 0.006770865948471982\n",
      "YNGCH 0.0065225018143909574\n",
      "HISPAN 0.006148494141895777\n",
      "SCHOOL 0.005137271811117117\n",
      "NCHILD 0.005116032233183243\n",
      "TRANTIME 0.004794247453699718\n",
      "TRANWORK 0.004597630200731451\n",
      "GRADEATT 0.004542730040963949\n",
      "DEPARTS 0.00403277062846652\n",
      "SCHLTYPE 0.003703717214444957\n",
      "NFAMS 0.003657922426603011\n",
      "PERWT 0.0030467392110153924\n",
      "HOMELAND 0.0029909009135372644\n",
      "ARRIVES 0.002971371832194536\n",
      "WKSWORK 0.0024869686302712024\n",
      "WKSWORK2 0.0024848584828224274\n",
      "SPEAKENG 0.0024389720995459108\n",
      "IND1990 0.0019898863965676084\n",
      "DIFFREM 0.0013794232516962657\n",
      "EMPSTATD 0.0012864844072280057\n",
      "RACE 0.0008863243941279464\n",
      "HHWT 0.0008666138586755912\n",
      "YRSUSA1 0.0007024775568369446\n",
      "PWCOUNTY 0.0007005637219213989\n",
      "DIFFPHYS 0.0006797730590903939\n",
      "FTOTINC 0.0006329191188705341\n",
      "DIFFMOB 0.0006085984068475714\n",
      "COUNTYFIP 0.000551893387178759\n",
      "PUMA 0.0005465725739888239\n",
      "CITY 0.0005105457268013147\n",
      "CPUMA0010 0.0004996765404149395\n",
      "STATEFIP 0.0004499067554845082\n",
      "NCHLT5 0.00044715297741915183\n",
      "DIFFEYE 0.00043414488194226664\n",
      "PWPUMA00 0.0004048618226490941\n",
      "PWSTATE2 0.0003188673450154056\n",
      "DIFFSENS 0.0002989311096452951\n",
      "VETDISAB 0.00023028814741843373\n",
      "REGION 0.00021157003320981804\n",
      "DIFFCARE 0.0001422410675100405\n",
      "FARM 7.338117123367738e-05\n",
      "DIFFHEAR 5.086936333709158e-05\n",
      "CITIZEN 4.084680560234588e-05\n",
      "CITYERR 3.2255828563698685e-07\n",
      "EMPSTAT -2.220446049250313e-16\n",
      "WORKEDYR -4.440892098500626e-16\n",
      "LABFORCE -4.440892098500626e-16\n"
     ]
    }
   ],
   "source": [
    "t.sort(reverse=True)\n",
    "for r2, name in t[:-1]:\n",
    "    print(name, r2)"
   ]
  },
  {
   "cell_type": "markdown",
   "metadata": {},
   "source": [
    "Variables that affect income the most are: education, field of degree, occupation, marital status, age, year of marriage and gender."
   ]
  },
  {
   "cell_type": "markdown",
   "metadata": {},
   "source": [
    "### 3.3 Estimate of Pay Gap after Controlling for Other Variables"
   ]
  },
  {
   "cell_type": "code",
   "execution_count": null,
   "metadata": {},
   "outputs": [
    {
     "data": {
      "text/plain": [
       "'HRLY_INCWAGE ~ REGION + STATEFIP + COUNTYFIP + METRO + MET2013 + CITY + CITYERR + PUMA + CPUMA0010 + HOMELAND + CNTRY + FARM + NFAMS + NCHILD + NCHLT5 + ELDCH + YNGCH + RELATE + AGE + MARST + YRMARR + CITIZEN + YRSUSA1 + SPEAKENG + SCHOOL + GRADEATT + SCHLTYPE + DEGFIELD + EMPSTAT + LABFORCE + OCC2010 + IND1990 + CLASSWKR + WORKEDYR + FTOTINC + VETDISAB + DIFFREM + DIFFPHYS + DIFFMOB + DIFFCARE + DIFFSENS + DIFFEYE + DIFFHEAR + PWSTATE2 + PWCOUNTY + PWMET13 + PWTYPE + PWPUMA00 + TRANWORK + TRANTIME + DEPARTS + ARRIVES'"
      ]
     },
     "execution_count": 22,
     "metadata": {},
     "output_type": "execute_result"
    }
   ],
   "source": [
    "# Build formula\n",
    "formula = 'HRLY_INCWAGE ~ '\n",
    "ignores = ['HRLY_INCWAGE', 'SEX', 'UHRSWORK', 'WKSWORK2', 'WKSWORK', 'INCWAGE', 'INCEARN', 'INCTOT', 'OCCSCORE', 'SEI', 'SERIAL', 'CBSERIAL', 'GQ', 'PERNUM', 'PERWT', 'HHWT', 'RACE', 'HISPAN', 'EDUC', 'DEGFIELD2', 'EMPSTATD', 'HRLY_INCWAGE']\n",
    "for col in work_force.columns:\n",
    "    if col in ignores:\n",
    "        continue\n",
    "\n",
    "    formula += col + ' + '\n",
    "    \n",
    "formula = formula[:-3]\n",
    "formula"
   ]
  },
  {
   "cell_type": "code",
   "execution_count": null,
   "metadata": {},
   "outputs": [
    {
     "data": {
      "text/plain": [
       "0.19682939603279337"
      ]
     },
     "execution_count": 23,
     "metadata": {},
     "output_type": "execute_result"
    }
   ],
   "source": [
    "model = smf.ols(formula, data=work_force)\n",
    "results = model.fit()\n",
    "results.rsquared"
   ]
  },
  {
   "cell_type": "code",
   "execution_count": null,
   "metadata": {},
   "outputs": [],
   "source": [
    "formula_sex = formula + ' + C(SEX)'"
   ]
  },
  {
   "cell_type": "code",
   "execution_count": null,
   "metadata": {},
   "outputs": [
    {
     "data": {
      "text/plain": [
       "0.215880122285528"
      ]
     },
     "execution_count": 25,
     "metadata": {},
     "output_type": "execute_result"
    }
   ],
   "source": [
    "model = smf.ols(formula_sex, data=work_force)\n",
    "results = model.fit()\n",
    "results.rsquared"
   ]
  },
  {
   "cell_type": "markdown",
   "metadata": {},
   "source": [
    "Men earns $8 more than women hourly."
   ]
  },
  {
   "cell_type": "code",
   "execution_count": null,
   "metadata": {},
   "outputs": [
    {
     "data": {
      "text/plain": [
       "8.288933172286253"
      ]
     },
     "execution_count": 26,
     "metadata": {},
     "output_type": "execute_result"
    }
   ],
   "source": [
    "results.params['C(SEX)[T.1]']"
   ]
  },
  {
   "cell_type": "markdown",
   "metadata": {},
   "source": [
    "### 3.4 Prediction of Female and Male Incomes from Regression "
   ]
  },
  {
   "cell_type": "markdown",
   "metadata": {},
   "source": [
    "As an example, we explore the relationship between age and mean hourly income. First, we group the respondents by age and find the mean income in each age group. Then, we run regression on the results and use the regression model to compute the male and female hourly income when controlling for age."
   ]
  },
  {
   "cell_type": "code",
   "execution_count": null,
   "metadata": {},
   "outputs": [],
   "source": [
    "# Group by AGE and compute the mean income\n",
    "grouped = work_force.groupby('AGE')\n",
    "mean_income_by_group = grouped['HRLY_INCWAGE'].mean()"
   ]
  },
  {
   "cell_type": "code",
   "execution_count": null,
   "metadata": {},
   "outputs": [
    {
     "data": {
      "text/plain": [
       "[Text(0, 0.5, 'Mean hourly wage'), Text(0.5, 0, 'Age')]"
      ]
     },
     "execution_count": 28,
     "metadata": {},
     "output_type": "execute_result"
    },
    {
     "data": {
      "image/png": "[encoded data removed]",
      "text/plain": [
       "<Figure size 432x288 with 1 Axes>"
      ]
     },
     "metadata": {
      "needs_background": "light"
     },
     "output_type": "display_data"
    }
   ],
   "source": [
    "# Plot the result\n",
    "fig, ax = plt.subplots()\n",
    "ax.plot(mean_income_by_group, 'o', alpha=0.5)\n",
    "ax.set(ylabel='Mean hourly wage', xlabel='Age')"
   ]
  },
  {
   "cell_type": "markdown",
   "metadata": {},
   "source": [
    "Because this relationship, as well as other relationships we explore later, is non-linear, we use the quartic function to build our regression model."
   ]
  },
  {
   "cell_type": "code",
   "execution_count": null,
   "metadata": {},
   "outputs": [],
   "source": [
    "# Build the regression model\n",
    "col = 'AGE'\n",
    "work_force_pow4 = work_force.copy()\n",
    "work_force_pow4[col+'2'] = work_force[col]**2\n",
    "work_force_pow4[col+'3'] = work_force[col]**3\n",
    "work_force_pow4[col+'4'] = work_force[col]**4\n",
    "\n",
    "formula = 'HRLY_INCWAGE ~ C(SEX) + AGE + AGE2 + AGE3 + AGE4'\n",
    "model = smf.ols(formula, data=work_force_pow4)\n",
    "results = model.fit()"
   ]
  },
  {
   "cell_type": "code",
   "execution_count": null,
   "metadata": {},
   "outputs": [],
   "source": [
    "# Create a new data frame and predict male and female income when controlling for age\n",
    "df = pd.DataFrame()\n",
    "df[col] = np.linspace(work_force_pow4[col].min(), work_force_pow4[col].max(), len(work_force_pow4[col]))\n",
    "df[col+'2'] = df[col]**2\n",
    "df[col+'3'] = df[col]**3\n",
    "df[col+'4'] = df[col]**4\n",
    "\n",
    "df['SEX'] = 1\n",
    "pred_male = results.predict(df)\n",
    "\n",
    "df['SEX'] = 0\n",
    "pred_female = results.predict(df) "
   ]
  },
  {
   "cell_type": "code",
   "execution_count": null,
   "metadata": {},
   "outputs": [
    {
     "data": {
      "text/plain": [
       "<matplotlib.legend.Legend at 0x18916386710>"
      ]
     },
     "execution_count": 31,
     "metadata": {},
     "output_type": "execute_result"
    },
    {
     "data": {
      "image/png": "[encoded data removed]",
      "text/plain": [
       "<Figure size 432x288 with 1 Axes>"
      ]
     },
     "metadata": {
      "needs_background": "light"
     },
     "output_type": "display_data"
    }
   ],
   "source": [
    "# Plot the result\n",
    "fig, ax = plt.subplots()\n",
    "ax.plot(mean_income_by_group, 'o', alpha=0.5, label='data')\n",
    "ax.set(ylabel='Mean hourly wage', xlabel='Age')\n",
    "ax.plot(df[col], pred_male, label='male')\n",
    "ax.plot(df[col], pred_female, label='female')\n",
    "ax.legend()"
   ]
  },
  {
   "cell_type": "markdown",
   "metadata": {},
   "source": [
    "Female hourly income is lower than male hourly income for different ages. The pay gap is wider for middle-aged and older people.\n",
    "\n",
    "Using the same approach, we look into other variables and pick some that seem to have interesting relationships."
   ]
  },
  {
   "cell_type": "code",
   "execution_count": null,
   "metadata": {},
   "outputs": [],
   "source": [
    "variables = ['AGE', 'EDUC', 'ELDCH','NCHILD', 'UHRSWORK', 'WKSWORK', 'YRSUSA1', 'TRANTIME', 'DEPARTS']\n",
    "variables_describe = ['Age', 'Education', 'Age of eldest child', 'Number of children', 'Usual hours worked per week', 'Weeks worked last year (approximate)', 'Years in the US', 'Travel time to work', 'Time of departure for work']"
   ]
  },
  {
   "cell_type": "code",
   "execution_count": null,
   "metadata": {},
   "outputs": [],
   "source": [
    "work_force_pow4 = work_force.copy()\n",
    "for var in variables:\n",
    "    for power in '234':\n",
    "        work_force_pow4[var+power] = work_force_pow4[var]**int(power)"
   ]
  },
  {
   "cell_type": "code",
   "execution_count": null,
   "metadata": {},
   "outputs": [
    {
     "data": {
      "image/png": "[encoded data removed]",
      "text/plain": [
       "<Figure size 1008x720 with 9 Axes>"
      ]
     },
     "metadata": {
      "needs_background": "light"
     },
     "output_type": "display_data"
    }
   ],
   "source": [
    "fig, axarr = plt.subplots(3, 3, figsize=(14,10))\n",
    "for i in range(3):\n",
    "    for j in range(3):\n",
    "        paygap.PlotDataWithRegression(ax=axarr[i, j], work_force=work_force_pow4, col=variables[i*3+j], col_describe=variables_describe[i*3+j])"
   ]
  },
  {
   "cell_type": "markdown",
   "metadata": {},
   "source": []
  },
  {
   "cell_type": "markdown",
   "metadata": {},
   "source": [
    "### 3.5 Income Comparisons of Respondents with and without Disabilities"
   ]
  },
  {
   "cell_type": "markdown",
   "metadata": {},
   "source": [
    "Here are variables for people with disabilities:\n",
    "- `DIFFHEAR`: 'Hearing difficulty'\n",
    "- `DIFFPHYS`: 'Ambulatory difficulty'\n",
    "- `DIFFEYE`: 'Vision difficulty'\n",
    "- `DIFFCARE`: 'Self-care difficulty'\n",
    "- `DIFFREM`: 'Cognitive difficulty'\n",
    "- `DIFFMOB`: 'Independent living difficulty'\n",
    "\n",
    "Response code:\n",
    "- 0 = Does not have a disability\n",
    "- 1 = Have a disability"
   ]
  },
  {
   "cell_type": "code",
   "execution_count": null,
   "metadata": {},
   "outputs": [],
   "source": [
    "diff_vars = ['DIFFHEAR', 'DIFFPHYS', 'DIFFEYE', 'DIFFCARE', 'DIFFREM', 'DIFFMOB']\n",
    "diff_vars_describe = ['Hearing difficulty', 'Ambulatory difficulty', 'Vision difficulty', 'Self-care difficulty', 'Cognitive difficulty', 'Independent living difficulty']\n",
    "is_disabled = (work_force[\"DIFFHEAR\"] == 1) | (work_force[\"DIFFEYE\"] == 1) | (work_force[\"DIFFPHYS\"] == 1) | (work_force[\"DIFFCARE\"] == 1) | (work_force[\"DIFFMOB\"] == 1) | (work_force[\"DIFFREM\"] == 1)"
   ]
  },
  {
   "cell_type": "markdown",
   "metadata": {},
   "source": [
    "First, we create a DataFrame for those respondents who do not have any disability. We also include the HRLY_INCWAGE column in this DataFrame."
   ]
  },
  {
   "cell_type": "code",
   "execution_count": null,
   "metadata": {},
   "outputs": [
    {
     "data": {
      "text/html": [
       "<div>\n",
       "<style scoped>\n",
       "    .dataframe tbody tr th:only-of-type {\n",
       "        vertical-align: middle;\n",
       "    }\n",
       "\n",
       "    .dataframe tbody tr th {\n",
       "        vertical-align: top;\n",
       "    }\n",
       "\n",
       "    .dataframe thead th {\n",
       "        text-align: right;\n",
       "    }\n",
       "</style>\n",
       "<table border=\"1\" class=\"dataframe\">\n",
       "  <thead>\n",
       "    <tr style=\"text-align: right;\">\n",
       "      <th></th>\n",
       "      <th>HRLY_INCWAGE</th>\n",
       "      <th>DIFFHEAR</th>\n",
       "      <th>DIFFPHYS</th>\n",
       "      <th>DIFFEYE</th>\n",
       "      <th>DIFFCARE</th>\n",
       "      <th>DIFFREM</th>\n",
       "      <th>DIFFMOB</th>\n",
       "    </tr>\n",
       "  </thead>\n",
       "  <tbody>\n",
       "    <tr>\n",
       "      <th>0</th>\n",
       "      <td>17.799353</td>\n",
       "      <td>0</td>\n",
       "      <td>0</td>\n",
       "      <td>0</td>\n",
       "      <td>0</td>\n",
       "      <td>0</td>\n",
       "      <td>0</td>\n",
       "    </tr>\n",
       "    <tr>\n",
       "      <th>1</th>\n",
       "      <td>33.287101</td>\n",
       "      <td>0</td>\n",
       "      <td>0</td>\n",
       "      <td>0</td>\n",
       "      <td>0</td>\n",
       "      <td>0</td>\n",
       "      <td>0</td>\n",
       "    </tr>\n",
       "    <tr>\n",
       "      <th>2</th>\n",
       "      <td>11.650485</td>\n",
       "      <td>0</td>\n",
       "      <td>0</td>\n",
       "      <td>0</td>\n",
       "      <td>0</td>\n",
       "      <td>0</td>\n",
       "      <td>0</td>\n",
       "    </tr>\n",
       "    <tr>\n",
       "      <th>3</th>\n",
       "      <td>21.035599</td>\n",
       "      <td>0</td>\n",
       "      <td>0</td>\n",
       "      <td>0</td>\n",
       "      <td>0</td>\n",
       "      <td>0</td>\n",
       "      <td>0</td>\n",
       "    </tr>\n",
       "    <tr>\n",
       "      <th>4</th>\n",
       "      <td>27.669903</td>\n",
       "      <td>0</td>\n",
       "      <td>0</td>\n",
       "      <td>0</td>\n",
       "      <td>0</td>\n",
       "      <td>0</td>\n",
       "      <td>0</td>\n",
       "    </tr>\n",
       "  </tbody>\n",
       "</table>\n",
       "</div>"
      ],
      "text/plain": [
       "   HRLY_INCWAGE  DIFFHEAR  DIFFPHYS  DIFFEYE  DIFFCARE  DIFFREM  DIFFMOB\n",
       "0     17.799353         0         0        0         0        0        0\n",
       "1     33.287101         0         0        0         0        0        0\n",
       "2     11.650485         0         0        0         0        0        0\n",
       "3     21.035599         0         0        0         0        0        0\n",
       "4     27.669903         0         0        0         0        0        0"
      ]
     },
     "execution_count": 36,
     "metadata": {},
     "output_type": "execute_result"
    }
   ],
   "source": [
    "non_disabled = work_force[[\"HRLY_INCWAGE\"] + diff_vars].copy()\n",
    "non_disabled = non_disabled[~is_disabled]\n",
    "\n",
    "non_disabled.head()"
   ]
  },
  {
   "cell_type": "markdown",
   "metadata": {},
   "source": [
    "Next, we create a DataFrame to store the hourly income, `HRLY_INCWAGE`, of non-disabled people."
   ]
  },
  {
   "cell_type": "code",
   "execution_count": null,
   "metadata": {},
   "outputs": [],
   "source": [
    "diff_df = work_force[[\"SEX\"]].copy() # SEX is a dummy variable to keep the index column\n",
    "diff_df[\"No difficulties\"] = non_disabled[\"HRLY_INCWAGE\"]"
   ]
  },
  {
   "cell_type": "markdown",
   "metadata": {},
   "source": [
    "Similarly, we also create a DataFrame for each group of disabled people and add them to `diff_df`."
   ]
  },
  {
   "cell_type": "code",
   "execution_count": null,
   "metadata": {},
   "outputs": [
    {
     "data": {
      "text/html": [
       "<div>\n",
       "<style scoped>\n",
       "    .dataframe tbody tr th:only-of-type {\n",
       "        vertical-align: middle;\n",
       "    }\n",
       "\n",
       "    .dataframe tbody tr th {\n",
       "        vertical-align: top;\n",
       "    }\n",
       "\n",
       "    .dataframe thead th {\n",
       "        text-align: right;\n",
       "    }\n",
       "</style>\n",
       "<table border=\"1\" class=\"dataframe\">\n",
       "  <thead>\n",
       "    <tr style=\"text-align: right;\">\n",
       "      <th></th>\n",
       "      <th>SEX</th>\n",
       "      <th>No difficulties</th>\n",
       "      <th>Hearing difficulty</th>\n",
       "      <th>Ambulatory difficulty</th>\n",
       "      <th>Vision difficulty</th>\n",
       "      <th>Self-care difficulty</th>\n",
       "      <th>Cognitive difficulty</th>\n",
       "      <th>Independent living difficulty</th>\n",
       "    </tr>\n",
       "  </thead>\n",
       "  <tbody>\n",
       "    <tr>\n",
       "      <th>count</th>\n",
       "      <td>1.158958e+06</td>\n",
       "      <td>1.096557e+06</td>\n",
       "      <td>21083.000000</td>\n",
       "      <td>20983.000000</td>\n",
       "      <td>13942.000000</td>\n",
       "      <td>4169.000000</td>\n",
       "      <td>14999.000000</td>\n",
       "      <td>8292.000000</td>\n",
       "    </tr>\n",
       "    <tr>\n",
       "      <th>mean</th>\n",
       "      <td>5.447652e-01</td>\n",
       "      <td>2.829058e+01</td>\n",
       "      <td>26.576556</td>\n",
       "      <td>22.716021</td>\n",
       "      <td>22.803967</td>\n",
       "      <td>22.536601</td>\n",
       "      <td>19.056181</td>\n",
       "      <td>19.989366</td>\n",
       "    </tr>\n",
       "    <tr>\n",
       "      <th>std</th>\n",
       "      <td>4.979923e-01</td>\n",
       "      <td>2.785562e+01</td>\n",
       "      <td>25.428707</td>\n",
       "      <td>22.604345</td>\n",
       "      <td>23.032487</td>\n",
       "      <td>27.578427</td>\n",
       "      <td>19.539960</td>\n",
       "      <td>23.675311</td>\n",
       "    </tr>\n",
       "    <tr>\n",
       "      <th>min</th>\n",
       "      <td>0.000000e+00</td>\n",
       "      <td>2.003390e+00</td>\n",
       "      <td>2.020202</td>\n",
       "      <td>2.019417</td>\n",
       "      <td>2.020202</td>\n",
       "      <td>2.019417</td>\n",
       "      <td>2.012357</td>\n",
       "      <td>2.012357</td>\n",
       "    </tr>\n",
       "    <tr>\n",
       "      <th>25%</th>\n",
       "      <td>0.000000e+00</td>\n",
       "      <td>1.359223e+01</td>\n",
       "      <td>13.106796</td>\n",
       "      <td>11.650485</td>\n",
       "      <td>11.165049</td>\n",
       "      <td>10.614887</td>\n",
       "      <td>9.708738</td>\n",
       "      <td>9.514563</td>\n",
       "    </tr>\n",
       "    <tr>\n",
       "      <th>50%</th>\n",
       "      <td>1.000000e+00</td>\n",
       "      <td>2.097087e+01</td>\n",
       "      <td>20.226537</td>\n",
       "      <td>17.475728</td>\n",
       "      <td>16.990291</td>\n",
       "      <td>16.396980</td>\n",
       "      <td>14.563107</td>\n",
       "      <td>14.563107</td>\n",
       "    </tr>\n",
       "    <tr>\n",
       "      <th>75%</th>\n",
       "      <td>1.000000e+00</td>\n",
       "      <td>3.378641e+01</td>\n",
       "      <td>31.553398</td>\n",
       "      <td>26.699029</td>\n",
       "      <td>27.184466</td>\n",
       "      <td>25.757576</td>\n",
       "      <td>22.863307</td>\n",
       "      <td>23.300971</td>\n",
       "    </tr>\n",
       "    <tr>\n",
       "      <th>max</th>\n",
       "      <td>1.000000e+00</td>\n",
       "      <td>7.171717e+02</td>\n",
       "      <td>488.888889</td>\n",
       "      <td>488.888889</td>\n",
       "      <td>368.582375</td>\n",
       "      <td>488.888889</td>\n",
       "      <td>436.363636</td>\n",
       "      <td>488.888889</td>\n",
       "    </tr>\n",
       "  </tbody>\n",
       "</table>\n",
       "</div>"
      ],
      "text/plain": [
       "                SEX  No difficulties  Hearing difficulty  \\\n",
       "count  1.158958e+06     1.096557e+06        21083.000000   \n",
       "mean   5.447652e-01     2.829058e+01           26.576556   \n",
       "std    4.979923e-01     2.785562e+01           25.428707   \n",
       "min    0.000000e+00     2.003390e+00            2.020202   \n",
       "25%    0.000000e+00     1.359223e+01           13.106796   \n",
       "50%    1.000000e+00     2.097087e+01           20.226537   \n",
       "75%    1.000000e+00     3.378641e+01           31.553398   \n",
       "max    1.000000e+00     7.171717e+02          488.888889   \n",
       "\n",
       "       Ambulatory difficulty  Vision difficulty  Self-care difficulty  \\\n",
       "count           20983.000000       13942.000000           4169.000000   \n",
       "mean               22.716021          22.803967             22.536601   \n",
       "std                22.604345          23.032487             27.578427   \n",
       "min                 2.019417           2.020202              2.019417   \n",
       "25%                11.650485          11.165049             10.614887   \n",
       "50%                17.475728          16.990291             16.396980   \n",
       "75%                26.699029          27.184466             25.757576   \n",
       "max               488.888889         368.582375            488.888889   \n",
       "\n",
       "       Cognitive difficulty  Independent living difficulty  \n",
       "count          14999.000000                    8292.000000  \n",
       "mean              19.056181                      19.989366  \n",
       "std               19.539960                      23.675311  \n",
       "min                2.012357                       2.012357  \n",
       "25%                9.708738                       9.514563  \n",
       "50%               14.563107                      14.563107  \n",
       "75%               22.863307                      23.300971  \n",
       "max              436.363636                     488.888889  "
      ]
     },
     "execution_count": 38,
     "metadata": {},
     "output_type": "execute_result"
    }
   ],
   "source": [
    "for i, col in enumerate(diff_vars):\n",
    "    disabled = work_force.copy()\n",
    "    disabled = disabled[disabled[col] == 1]\n",
    "    # Add a column to diff_df\n",
    "    diff_df[diff_vars_describe[i]] = disabled[\"HRLY_INCWAGE\"]\n",
    "    \n",
    "# Drop the dummy variable\n",
    "diff_df.describe()"
   ]
  },
  {
   "cell_type": "markdown",
   "metadata": {},
   "source": [
    "Finally, we plot the result using Box Plot."
   ]
  },
  {
   "cell_type": "code",
   "execution_count": null,
   "metadata": {},
   "outputs": [
    {
     "data": {
      "text/plain": [
       "[Text(0.5, 0, 'Hourly income')]"
      ]
     },
     "execution_count": 39,
     "metadata": {},
     "output_type": "execute_result"
    },
    {
     "data": {
      "image/png": "[encoded data removed]",
      "text/plain": [
       "<Figure size 1008x504 with 1 Axes>"
      ]
     },
     "metadata": {
      "needs_background": "light"
     },
     "output_type": "display_data"
    }
   ],
   "source": [
    "fig, ax = plt.subplots(figsize=(14,7))\n",
    "ax = sns.boxplot(data=diff_df.drop(['SEX'], axis=1), orient=\"h\", palette=\"Set2\", showfliers=False)\n",
    "ax.set(xlabel=\"Hourly income\")"
   ]
  },
  {
   "cell_type": "markdown",
   "metadata": {},
   "source": [
    "### 3.6 Pay Gap Comparisons of Respondents with and without Disabilities"
   ]
  },
  {
   "cell_type": "markdown",
   "metadata": {},
   "source": [
    "We create a similar `non_disabled` DataFrame as above. This time, we also include the `SEX` column."
   ]
  },
  {
   "cell_type": "code",
   "execution_count": null,
   "metadata": {},
   "outputs": [
    {
     "data": {
      "text/html": [
       "<div>\n",
       "<style scoped>\n",
       "    .dataframe tbody tr th:only-of-type {\n",
       "        vertical-align: middle;\n",
       "    }\n",
       "\n",
       "    .dataframe tbody tr th {\n",
       "        vertical-align: top;\n",
       "    }\n",
       "\n",
       "    .dataframe thead th {\n",
       "        text-align: right;\n",
       "    }\n",
       "</style>\n",
       "<table border=\"1\" class=\"dataframe\">\n",
       "  <thead>\n",
       "    <tr style=\"text-align: right;\">\n",
       "      <th></th>\n",
       "      <th>HRLY_INCWAGE</th>\n",
       "      <th>SEX</th>\n",
       "      <th>DIFFTOTAL</th>\n",
       "    </tr>\n",
       "  </thead>\n",
       "  <tbody>\n",
       "    <tr>\n",
       "      <th>0</th>\n",
       "      <td>17.799353</td>\n",
       "      <td>0</td>\n",
       "      <td>False</td>\n",
       "    </tr>\n",
       "    <tr>\n",
       "      <th>1</th>\n",
       "      <td>33.287101</td>\n",
       "      <td>1</td>\n",
       "      <td>False</td>\n",
       "    </tr>\n",
       "    <tr>\n",
       "      <th>2</th>\n",
       "      <td>11.650485</td>\n",
       "      <td>0</td>\n",
       "      <td>False</td>\n",
       "    </tr>\n",
       "    <tr>\n",
       "      <th>3</th>\n",
       "      <td>21.035599</td>\n",
       "      <td>1</td>\n",
       "      <td>False</td>\n",
       "    </tr>\n",
       "    <tr>\n",
       "      <th>4</th>\n",
       "      <td>27.669903</td>\n",
       "      <td>0</td>\n",
       "      <td>False</td>\n",
       "    </tr>\n",
       "  </tbody>\n",
       "</table>\n",
       "</div>"
      ],
      "text/plain": [
       "   HRLY_INCWAGE  SEX  DIFFTOTAL\n",
       "0     17.799353    0      False\n",
       "1     33.287101    1      False\n",
       "2     11.650485    0      False\n",
       "3     21.035599    1      False\n",
       "4     27.669903    0      False"
      ]
     },
     "execution_count": 40,
     "metadata": {},
     "output_type": "execute_result"
    }
   ],
   "source": [
    "work_force[\"DIFFTOTAL\"] = is_disabled\n",
    "non_disabled = work_force[[\"HRLY_INCWAGE\", \"SEX\", \"DIFFTOTAL\"]]\n",
    "non_disabled = non_disabled[~is_disabled]\n",
    "non_disabled.head()"
   ]
  },
  {
   "cell_type": "markdown",
   "metadata": {},
   "source": [
    "Next, we select people with at least one disability and keep two columns, `HRLY_INCWAGE` and `SEX`."
   ]
  },
  {
   "cell_type": "code",
   "execution_count": null,
   "metadata": {},
   "outputs": [
    {
     "data": {
      "text/html": [
       "<div>\n",
       "<style scoped>\n",
       "    .dataframe tbody tr th:only-of-type {\n",
       "        vertical-align: middle;\n",
       "    }\n",
       "\n",
       "    .dataframe tbody tr th {\n",
       "        vertical-align: top;\n",
       "    }\n",
       "\n",
       "    .dataframe thead th {\n",
       "        text-align: right;\n",
       "    }\n",
       "</style>\n",
       "<table border=\"1\" class=\"dataframe\">\n",
       "  <thead>\n",
       "    <tr style=\"text-align: right;\">\n",
       "      <th></th>\n",
       "      <th>HRLY_INCWAGE</th>\n",
       "      <th>SEX</th>\n",
       "      <th>DIFFTOTAL</th>\n",
       "    </tr>\n",
       "  </thead>\n",
       "  <tbody>\n",
       "    <tr>\n",
       "      <th>21</th>\n",
       "      <td>2.718447</td>\n",
       "      <td>1</td>\n",
       "      <td>True</td>\n",
       "    </tr>\n",
       "    <tr>\n",
       "      <th>52</th>\n",
       "      <td>7.216495</td>\n",
       "      <td>0</td>\n",
       "      <td>True</td>\n",
       "    </tr>\n",
       "    <tr>\n",
       "      <th>78</th>\n",
       "      <td>14.147018</td>\n",
       "      <td>0</td>\n",
       "      <td>True</td>\n",
       "    </tr>\n",
       "    <tr>\n",
       "      <th>79</th>\n",
       "      <td>11.067961</td>\n",
       "      <td>1</td>\n",
       "      <td>True</td>\n",
       "    </tr>\n",
       "    <tr>\n",
       "      <th>139</th>\n",
       "      <td>4.854369</td>\n",
       "      <td>1</td>\n",
       "      <td>True</td>\n",
       "    </tr>\n",
       "  </tbody>\n",
       "</table>\n",
       "</div>"
      ],
      "text/plain": [
       "     HRLY_INCWAGE  SEX  DIFFTOTAL\n",
       "21       2.718447    1       True\n",
       "52       7.216495    0       True\n",
       "78      14.147018    0       True\n",
       "79      11.067961    1       True\n",
       "139      4.854369    1       True"
      ]
     },
     "execution_count": 41,
     "metadata": {},
     "output_type": "execute_result"
    }
   ],
   "source": [
    "disabled = work_force[[\"HRLY_INCWAGE\", \"SEX\", \"DIFFTOTAL\"]]\n",
    "disabled = disabled[is_disabled]\n",
    "disabled.head()"
   ]
  },
  {
   "cell_type": "markdown",
   "metadata": {},
   "source": [
    "First, let's look at the distribution of hourly income of the `non_disabled` group."
   ]
  },
  {
   "cell_type": "code",
   "execution_count": null,
   "metadata": {},
   "outputs": [
    {
     "data": {
      "image/png": "[encoded data removed]",
      "text/plain": [
       "<Figure size 432x288 with 1 Axes>"
      ]
     },
     "metadata": {
      "needs_background": "light"
     },
     "output_type": "display_data"
    }
   ],
   "source": [
    "hist_non_disabled = thinkstats2.Hist(np.round(non_disabled[\"HRLY_INCWAGE\"]), label='non-disabled')\n",
    "thinkplot.hist(hist_non_disabled)\n",
    "thinkplot.Config(xlim=(0, 100), xlabel=\"Hourly income\", ylabel=\"Count\")"
   ]
  },
  {
   "cell_type": "markdown",
   "metadata": {},
   "source": [
    "The distribution is highly skews, so we will use median income to compute the pay gap in each group, which we will use to analyze the effect of disability on pay gap."
   ]
  },
  {
   "cell_type": "markdown",
   "metadata": {},
   "source": [
    "For `non_disabled` group, we can compute the difference between median hourly income of men and of women as follows:"
   ]
  },
  {
   "cell_type": "code",
   "execution_count": null,
   "metadata": {},
   "outputs": [
    {
     "name": "stdout",
     "output_type": "stream",
     "text": [
      "Male median hourly income\t 22.94792586054722\n",
      "Female median hourly income\t 19.41747572815534\n",
      "Pay gap (Non-disabled)\t\t 3.5304501323918807\n"
     ]
    }
   ],
   "source": [
    "male_median_non_disabled = non_disabled[non_disabled.SEX == 1][\"HRLY_INCWAGE\"].median()\n",
    "female_median_non_disabled = non_disabled[non_disabled.SEX == 0][\"HRLY_INCWAGE\"].median()\n",
    "pay_gap_non_disabled = male_median_non_disabled - female_median_non_disabled\n",
    "print(\"Male median hourly income\\t\", male_median_non_disabled)\n",
    "print(\"Female median hourly income\\t\", female_median_non_disabled)\n",
    "print(\"Pay gap (Non-disabled)\\t\\t\", pay_gap_non_disabled)"
   ]
  },
  {
   "cell_type": "markdown",
   "metadata": {},
   "source": [
    "We do the same thing for `disabled` group:"
   ]
  },
  {
   "cell_type": "code",
   "execution_count": null,
   "metadata": {},
   "outputs": [
    {
     "name": "stdout",
     "output_type": "stream",
     "text": [
      "Male median hourly income\t 19.41747572815534\n",
      "Female median hourly income\t 15.782828282828282\n",
      "Pay gap (Disabled)\t\t 3.6346474453270563\n"
     ]
    }
   ],
   "source": [
    "male_median_disabled = disabled[disabled.SEX == 1][\"HRLY_INCWAGE\"].median()\n",
    "female_median_disabled = disabled[disabled.SEX == 0][\"HRLY_INCWAGE\"].median()\n",
    "pay_gap_disabled = male_median_disabled - female_median_disabled\n",
    "print(\"Male median hourly income\\t\", male_median_disabled)\n",
    "print(\"Female median hourly income\\t\", female_median_disabled)\n",
    "print(\"Pay gap (Disabled)\\t\\t\", pay_gap_disabled)"
   ]
  },
  {
   "cell_type": "code",
   "execution_count": null,
   "metadata": {},
   "outputs": [
    {
     "data": {
      "text/plain": [
       "-0.029513888888888496"
      ]
     },
     "execution_count": 45,
     "metadata": {},
     "output_type": "execute_result"
    }
   ],
   "source": [
    "(pay_gap_non_disabled - pay_gap_disabled)/pay_gap_non_disabled"
   ]
  },
  {
   "cell_type": "markdown",
   "metadata": {},
   "source": [
    "#### Compute CI"
   ]
  },
  {
   "cell_type": "code",
   "execution_count": null,
   "metadata": {},
   "outputs": [],
   "source": [
    "def computePayGap(df):\n",
    "        male_median = df[df.SEX == 1][\"HRLY_INCWAGE\"].median()\n",
    "        female_median = df[df.SEX == 0][\"HRLY_INCWAGE\"].median()\n",
    "        return male_median - female_median\n",
    "    \n",
    "def computeStatistic(df):\n",
    "    df = df[[\"HRLY_INCWAGE\", \"SEX\", \"DIFFTOTAL\"]]\n",
    "    is_disabled = df[\"DIFFTOTAL\"]\n",
    "    \n",
    "    non_disabled = df[~is_disabled]\n",
    "    disabled = df[is_disabled]\n",
    "\n",
    "    pay_gap_non_disabled = computePayGap(non_disabled)\n",
    "    pay_gap_disabled = computePayGap(disabled)\n",
    "\n",
    "    return (pay_gap_non_disabled - pay_gap_disabled)/pay_gap_non_disabled\n",
    "    \n",
    "def computeCI(work_force, iter=201):\n",
    "    stats = []\n",
    "    \n",
    "    for i in range(iter):\n",
    "        df = thinkstats2.ResampleRows(work_force)\n",
    "        stat = computeStatistic(df)\n",
    "        stats.append(stat)\n",
    "    \n",
    "    cdf = thinkstats2.Cdf(stats)\n",
    "    ci = cdf.Percentile(5), cdf.Percentile(95)\n",
    "    return ci"
   ]
  },
  {
   "cell_type": "code",
   "execution_count": null,
   "metadata": {},
   "outputs": [
    {
     "data": {
      "text/plain": [
       "(-0.0999999999999993, 0.037500000000000366)"
      ]
     },
     "execution_count": 47,
     "metadata": {},
     "output_type": "execute_result"
    }
   ],
   "source": [
    "computeCI(work_force)"
   ]
  },
  {
   "cell_type": "markdown",
   "metadata": {},
   "source": [
    "Compute p-value"
   ]
  },
  {
   "cell_type": "code",
   "execution_count": null,
   "metadata": {},
   "outputs": [],
   "source": [
    "class ProportionalTest():\n",
    "    def __init__(self, data):\n",
    "        self.data = data\n",
    "        self.actual = self.TestStatistic(data)\n",
    "        \n",
    "    def PValue(self, iters=101):\n",
    "        self.test_stats = [self.TestStatistic(self.RunModel()) for _ in range(iters)]\n",
    "        count = sum(1 for x in self.test_stats if x >= self.actual)\n",
    "        return 100 * count / iters\n",
    "        \n",
    "    def TestStatistic(self, data):\n",
    "        return computeStatistic(data)\n",
    "\n",
    "    def RunModel(self):\n",
    "        # Copy the data frame\n",
    "        shuffled_data = self.data.copy()\n",
    "        # Permutate the rows of the DIFFTOTAL column on the copy\n",
    "        shuffled_data[\"DIFFTOTAL\"] = np.random.permutation(shuffled_data[\"DIFFTOTAL\"]) \n",
    "        \n",
    "        return shuffled_data"
   ]
  },
  {
   "cell_type": "code",
   "execution_count": null,
   "metadata": {},
   "outputs": [],
   "source": [
    "ProportionalTest(work_force).PValue()"
   ]
  },
  {
   "cell_type": "markdown",
   "metadata": {},
   "source": [
    "The P value is very high, which shows that this effect is statistically insignificant."
   ]
  },
  {
   "cell_type": "markdown",
   "metadata": {},
   "source": [
    "## 4. Gender, Income, and Occupation Time Analysis"
   ]
  },
  {
   "cell_type": "markdown",
   "metadata": {},
   "source": [
    "In this section, we delve into the occupation variable, which we couldn't explore in the regression section. For each occupation, we find the proportion of women working in that occupation (percent female), the total weekly median income (total weekly pay or total pay), and the difference in weekly median incomes between men and women (pay gap) from 2002 to 2018. With this data, we can see how different occupations' percent female, total weekly pay, and pay gap vary over time.     "
   ]
  },
  {
   "cell_type": "markdown",
   "metadata": {},
   "source": [
    "### 4.1 Data Cleaning"
   ]
  },
  {
   "cell_type": "markdown",
   "metadata": {},
   "source": [
    "The weekly earning data is from the [Current Population Survey](https://www.bls.gov/cps/tables.htm) (table 39 in the weekly earnings section). It is titled \"Median weekly earnings of full-time wage and salary workers by detailed occupation and sex\". For each year from 2002 to 2018, we downloaded excel and text versions of the data tables, which are stored in the Data folder in the form of `weeklyincome_occupation_gender_year`. Before doing any analysis, we had to consolidate the data from all 17 years, which we did in another [notebook](https://github.com/coverney/ThinkStats2/blob/master/project2/Women%20Weekly%20Income%20and%20Occupation%20Time%20Analysis%20Data%20Cleaning.ipynb). Here is a summary of the major data cleaning steps:\n",
    "- Since the data from 2002 to 2010 only came in `txt` format, we wrote a function `clean_txt` that reads in a `txt` file, cleans up the occupation names, replaces special characters, `(1)` and `'-'`, with `NaN`, converts values from strings to numbers, and saves a cleaned excel version. `(1)` corresponds to data with a base less than 50,000.\n",
    "- Combine the data from 2003 to 2010 into a single excel file. We removed 2002 since it uses other occupation codes, which would have been difficult to compare with other years. The result from this step is saved in `weeklyincome_occupation_gender_combined_2002codes.xlsx`. The file contains `2002codes` because occupations from 2003 to 2010 are recorded with the 2002 Census occupation codes.      \n",
    "- Even though the data from 2011 to 2018 came in `xlsx` format, we still had to clean a few things. We wrote a function `clean_excel` that reads in a `xlsx` file, cleans up the occupation names, replaces special characters, `'–'` and `'-'`, with `NaN`, and saves a cleaned excel version. \n",
    "- Combine the data from 2011 to 2018, The result from this step is saved in `weeklyincome_occupation_gender_combined_2002codes.xlsx`. The file contains `2002codes`. The file contains `2010codes` because those years use the 2010 Census occupation codes. \n",
    "- Combine the 2003 to 2010 data with the 2011 to 2018 data. Before merging, I converted 2002 occupation names into 2010 occupation names using the 2002 to 2010 Census occupation code crosswalk (`2010-2002-occ-codes-crosswalk.xlsx`). The result from this step is saved in `weeklyincome_occupation_gender_combined_all.xlsx`. \n",
    "- Adjust monetary values for inflation using CPI-U-RS values taken from the Census Bureau (`CPI_U_RS.xlsx`). We did this by converting monetary values to constant 2018 dollars.\n",
    "- Consolidate years into arrays. Instead of having a bunch of columns containing the same variable for different years, we wrote a function `consolidate_df` that creates arrays for every variable (percent female, total pay, female pay, male pay, and pay gap). The result from this step is read below.     "
   ]
  },
  {
   "cell_type": "markdown",
   "metadata": {},
   "source": [
    "Read in consolidated time series data. There are a few more things to calculate."
   ]
  },
  {
   "cell_type": "code",
   "execution_count": null,
   "metadata": {},
   "outputs": [],
   "source": [
    "df = pd.read_excel('Data/weeklyincome_occupation_gender_combined_clean_all.xlsx')\n",
    "df = df.set_index('Occupation')\n",
    "df.head()"
   ]
  },
  {
   "cell_type": "markdown",
   "metadata": {},
   "source": [
    "Find changes in percent female, total weekly pay, and pay gap and add to `df` by subtracting values from 2018 by their corresponding 2003 values. Also find percent increases and decreases for percent female change, total weekly pay change, and pay gap change. If the change is negative, that means the value from 2018 is lower than the value from 2003. We can determine the percent **decrease** by dividing the change by the value from 2003. If the change is positive, that means that the value from 2018 is higher than the value from 2003. We can determine the percent **increase** by dividing the change by the value from 2003. Finding relative changes allows us to compare absolute changes between different occupations by adjusting for occupation-based income differences (i.e. doctors tend to make more than janitors).\n",
    "\n",
    "Besides calculating differences between 2018 and 2003, we also find the slopes of three linear least squares fits with the following conditions:\n",
    "- x: years, y: percent female\n",
    "- x: years, y: pay gap\n",
    "- x: years, y: total pay\n",
    "\n",
    "The slopes will be used to identify occupations with positive or negative relationships of percent female and pay over time. \n",
    "\n",
    "For each occupation, extract the percent female, total weekly pay, and pay gap data arrays. Since the arrays are sorted from 2018 to 2003, calculate the absolute changes by subtracting the first element of each array by the last element. Find the relative changes (percent increase/decrease) by dividing the absolute changes with the data from 2003. Find the slopes with `LeastSquares`. Lastly, update `df` with the calculated values. "
   ]
  },
  {
   "cell_type": "code",
   "execution_count": null,
   "metadata": {},
   "outputs": [],
   "source": [
    "years = range(2003, 2019)\n",
    "for occ in df.index:\n",
    "    temp_percent_female = np.asarray(eval(df.loc[occ]['Percent Female']))\n",
    "    temp_total_pay = np.asarray(eval(df.loc[occ]['Total Weekly Pay']))\n",
    "    temp_pay_gap = np.asarray(eval(df.loc[occ]['Pay Gap']))\n",
    "    \n",
    "    temp_percent_female_change = temp_percent_female[0]-temp_percent_female[-1]\n",
    "    temp_total_pay_change = temp_total_pay[0]-temp_total_pay[-1]\n",
    "    temp_pay_gap_change = temp_pay_gap[0]-temp_pay_gap[-1]\n",
    "    \n",
    "    temp_percent_female_change_percent = (temp_percent_female_change/temp_percent_female[-1])*100\n",
    "    temp_total_pay_change_percent = (temp_total_pay_change/temp_total_pay[-1])*100\n",
    "    temp_pay_gap_change_percent = (temp_pay_gap_change/temp_pay_gap[-1])*100\n",
    "    \n",
    "    inter, slope_percent_female = thinkstats2.LeastSquares(years, temp_percent_female[::-1])\n",
    "    inter, slope_total_pay = thinkstats2.LeastSquares(years, temp_total_pay[::-1])\n",
    "    inter, slope_pay_gap = thinkstats2.LeastSquares(years, temp_pay_gap[::-1])\n",
    "    \n",
    "    df.at[occ, 'Percent Female Change (%)'] = temp_percent_female_change\n",
    "    df.at[occ, 'Total Weekly Pay Change ($)'] = temp_total_pay_change\n",
    "    df.at[occ, 'Pay Gap Change ($)'] = temp_pay_gap_change\n",
    "    df.at[occ, 'Relative Percent Female Change (%)'] = temp_percent_female_change_percent\n",
    "    df.at[occ, 'Relative Total Weekly Pay Change (%)'] = temp_total_pay_change_percent\n",
    "    df.at[occ, 'Relative Pay Gap Change (%)'] = temp_pay_gap_change_percent\n",
    "    df.at[occ, 'Percent Female Slope (%/yr)'] = slope_percent_female\n",
    "    df.at[occ, 'Total Weekly Pay Slope ($/yr)'] = slope_total_pay\n",
    "    df.at[occ, 'Pay Gap Slope ($/yr)'] = slope_pay_gap"
   ]
  },
  {
   "cell_type": "markdown",
   "metadata": {},
   "source": [
    "There is a divide by zero warning, which occurs when finding the `Relative Pay Gap Change (%)` for the occupation, Office Clerks General. In 2003, both men and women had a weekly median income of \\\\$502, which results in a pay gap of \\\\$0. The absolute pay gap change divided by 0 is `-inf`.  "
   ]
  },
  {
   "cell_type": "markdown",
   "metadata": {},
   "source": [
    "Display the changes (absolute and relative) for the first five occupations"
   ]
  },
  {
   "cell_type": "code",
   "execution_count": null,
   "metadata": {},
   "outputs": [],
   "source": [
    "df.iloc[:5,-6:]"
   ]
  },
  {
   "cell_type": "markdown",
   "metadata": {},
   "source": [
    "### 4.2 Highest and Lowest Paid Occupations in 2018"
   ]
  },
  {
   "cell_type": "markdown",
   "metadata": {},
   "source": [
    "Read in cleaned 2018 data file"
   ]
  },
  {
   "cell_type": "code",
   "execution_count": null,
   "metadata": {},
   "outputs": [],
   "source": [
    "df_2018 = paygap.ReadBLS(filename='Data/weeklyincome_occupation_gender_clean_2018.xlsx')\n",
    "df_2018 = df_2018.set_index('Occupation')\n",
    "df_2018.head()"
   ]
  },
  {
   "cell_type": "markdown",
   "metadata": {},
   "source": [
    "Calculate the percentages of females in each occupation and store results in a `Series`"
   ]
  },
  {
   "cell_type": "code",
   "execution_count": null,
   "metadata": {},
   "outputs": [],
   "source": [
    "female_props = (df_2018['2018 Women Number of workers']/df_2018['2018 Total Number of workers'])*100\n",
    "female_props.head()"
   ]
  },
  {
   "cell_type": "markdown",
   "metadata": {},
   "source": [
    "Create a new `DataFrame` that just contains the occupations, median weekly incomes, and percent females"
   ]
  },
  {
   "cell_type": "code",
   "execution_count": null,
   "metadata": {},
   "outputs": [],
   "source": [
    "d = {'Weekly Pay': df_2018['2018 Total Median weekly earnings'], \n",
    "     'Percent Female': female_props}\n",
    "df_2018_result = pd.DataFrame(d)\n",
    "df_2018_result.head()"
   ]
  },
  {
   "cell_type": "markdown",
   "metadata": {},
   "source": [
    "Sort the `DataFrame` rows by weekly incomes with the higher incomes at the top"
   ]
  },
  {
   "cell_type": "code",
   "execution_count": null,
   "metadata": {},
   "outputs": [],
   "source": [
    "df_2018_result = df_2018_result.sort_values(by=['Weekly Pay'], ascending=False)"
   ]
  },
  {
   "cell_type": "markdown",
   "metadata": {},
   "source": [
    "Display results for highest paid occupations"
   ]
  },
  {
   "cell_type": "code",
   "execution_count": null,
   "metadata": {},
   "outputs": [],
   "source": [
    "highest = paygap.ShowTableResult(df_2018_result[:10], title='Percentage of female employees in the 10 highest-paid occupations in America by median weekly pay for full-time workers, 2018.')\n",
    "highest"
   ]
  },
  {
   "cell_type": "markdown",
   "metadata": {},
   "source": [
    "Display results for lowest paid occupations"
   ]
  },
  {
   "cell_type": "code",
   "execution_count": null,
   "metadata": {},
   "outputs": [],
   "source": [
    "lowest = paygap.ShowTableResult(df_2018_result[-10:], title='Percentage of female employees in the 10 lowest-paid occupations in America by median weekly pay for full-time workers, 2018.')\n",
    "lowest"
   ]
  },
  {
   "cell_type": "markdown",
   "metadata": {},
   "source": [
    "### 4.3 Data Explorations from 2003 to 2018"
   ]
  },
  {
   "cell_type": "markdown",
   "metadata": {},
   "source": [
    "To begin, we write some helper functions to visualize our data. `plot_percent_female` plots percent female against year for inputted occupations. "
   ]
  },
  {
   "cell_type": "code",
   "execution_count": null,
   "metadata": {},
   "outputs": [],
   "source": [
    "def plot_percent_female(df, occs, colors, title):\n",
    "    fig, ax = plt.subplots(figsize=(10,8))\n",
    "    years = range(2003, 2019)\n",
    "\n",
    "    index = 0\n",
    "    for occ in occs:\n",
    "        percent_female = np.asarray(eval(df.loc[occ]['Percent Female']))[::-1]\n",
    "        thinkplot.Plot(years, percent_female, label=occ, color=colors[index])\n",
    "        index += 1\n",
    "\n",
    "    thinkplot.Config(xlabel='Years', \n",
    "                     ylabel='% Female in Occupation', \n",
    "                     title=title)\n",
    "    thinkplot.set_font_size(13, 13, 11, 11)\n",
    "\n",
    "    thinkplot.Show()"
   ]
  },
  {
   "cell_type": "markdown",
   "metadata": {},
   "source": [
    "`plot_percent_female_pay_gap` plots a two-scale plot of pay gap and percent female versus year. (We need to flip the data arrays since they are ordered in reverse chronological order.) "
   ]
  },
  {
   "cell_type": "code",
   "execution_count": null,
   "metadata": {},
   "outputs": [],
   "source": [
    "def plot_percent_female_pay_gap(df, occ, title):\n",
    "    fig, ax_percent_female = plt.subplots(figsize=(10,6))\n",
    "\n",
    "    color = 'tab:blue'\n",
    "    ax_percent_female.set_xlabel('Year')\n",
    "    ax_percent_female.xaxis.labelpad = 15\n",
    "    ax_percent_female.set_ylabel('% Female in Workforce', color=color)\n",
    "\n",
    "    years= range(2003, 2019)\n",
    "\n",
    "    # Percent female plot\n",
    "    percent_female = np.asarray(eval(df.loc[occ]['Percent Female']))[::-1]\n",
    "    line_percent_female = plt.plot(years, percent_female, label='Percent Female', color=color, marker='o')\n",
    "    ax_percent_female.tick_params(axis='y', labelcolor=color)\n",
    "    ax_percent_female.yaxis.labelpad = 10\n",
    "\n",
    "    ax_pay_gap = ax_percent_female.twinx()  # instantiate a second axes that shares the same x-axis\n",
    "\n",
    "    color = 'tab:red'\n",
    "    ax_pay_gap.set_ylabel('Pay Gap ($)', color=color) # we already handled the x-label with ax_percent_female\n",
    "\n",
    "    # Pay gap plot\n",
    "    pay_gap = np.asarray(eval(df.loc[occ]['Pay Gap']))[::-1]\n",
    "    line_pay_gap = plt.plot(years, pay_gap, label='Pay Gap', color=color, marker='o')\n",
    "    ax_pay_gap.tick_params(axis='y', labelcolor=color)\n",
    "    ax_pay_gap.yaxis.labelpad = 10\n",
    "\n",
    "    ax_pay_gap.title.set_text(title)\n",
    "\n",
    "    lines = line_percent_female + line_pay_gap\n",
    "    labels = [l.get_label() for l in lines]\n",
    "    ax_percent_female.legend(lines, labels)\n",
    "    fig.tight_layout()  # otherwise the right y-label is slightly clipped\n",
    "    plt.show()"
   ]
  },
  {
   "cell_type": "markdown",
   "metadata": {},
   "source": [
    "`plot_percent_female_total_pay` plots a two-scale plot of total pay and percent female versus year."
   ]
  },
  {
   "cell_type": "code",
   "execution_count": null,
   "metadata": {},
   "outputs": [],
   "source": [
    "def plot_percent_female_total_pay(df, occ, title):\n",
    "    fig, ax_percent_female = plt.subplots(figsize=(10,6))\n",
    "\n",
    "    color = 'tab:blue'\n",
    "    ax_percent_female.set_xlabel('Year')\n",
    "    ax_percent_female.xaxis.labelpad = 15\n",
    "    ax_percent_female.set_ylabel('% Female in Workforce', color=color)\n",
    "\n",
    "    years= range(2003, 2019)\n",
    "\n",
    "    # Percent female plot\n",
    "    percent_female = np.asarray(eval(df.loc[occ]['Percent Female']))[::-1]\n",
    "    line_percent_female = plt.plot(years, percent_female, label='Percent Female', color=color, marker='o')\n",
    "    ax_percent_female.tick_params(axis='y', labelcolor=color)\n",
    "    ax_percent_female.yaxis.labelpad = 10\n",
    "\n",
    "    ax_total_pay = ax_percent_female.twinx()  # instantiate a second axes that shares the same x-axis\n",
    "\n",
    "    color = 'tab:red'\n",
    "    ax_total_pay.set_ylabel('Weekly Median Income ($)', color=color) # we already handled the x-label with ax_percent_female\n",
    "\n",
    "    # Pay gap plot\n",
    "    total_pay = np.asarray(eval(df.loc[occ]['Total Weekly Pay']))[::-1]\n",
    "    line_total_pay = plt.plot(years, total_pay, label='Total Pay', color=color, marker='o')\n",
    "    ax_total_pay.tick_params(axis='y', labelcolor=color)\n",
    "    ax_total_pay.yaxis.labelpad = 10\n",
    "\n",
    "    ax_total_pay.title.set_text(title)\n",
    "\n",
    "    lines = line_percent_female + line_total_pay\n",
    "    labels = [l.get_label() for l in lines]\n",
    "    ax_percent_female.legend(lines, labels)\n",
    "    fig.tight_layout()  # otherwise the right y-label is slightly clipped\n",
    "    plt.show()"
   ]
  },
  {
   "cell_type": "markdown",
   "metadata": {},
   "source": [
    "Before we delve into the data for each occupation, we look at how percent female, total weekly pay, and pay gap change for all occupations. This data is represented by the occupation `Total fulltime wage and salary workers`."
   ]
  },
  {
   "cell_type": "code",
   "execution_count": null,
   "metadata": {},
   "outputs": [],
   "source": [
    "df.loc['Total fulltime wage and salary workers'][-9:]"
   ]
  },
  {
   "cell_type": "markdown",
   "metadata": {},
   "source": [
    "In general the pay gap decreased by 6.0%, total weekly pay increased by 4.4%, and the proportion of women in the work force increased by 1.3%. A lower pay gap means that in 2018 the difference between the median weekly male income and median weekly female income is lower than it was in 2003. We can create a two-scale plot of pay gap and percent female versus year.\n",
    "\n",
    "The pay gap slope indicates that the difference between male and female income decreased by around \\\\$1 per year. The total weekly pay slope indicates an increase of around \\\\$2 per year. The percent female slope indicates a slight increase of around 0.05% per year. "
   ]
  },
  {
   "cell_type": "code",
   "execution_count": null,
   "metadata": {},
   "outputs": [],
   "source": [
    "title = 'Proportion of women and pay gap in all occupations from 2003 to 2018'\n",
    "plot_percent_female_pay_gap(df, 'Total fulltime wage and salary workers', title)"
   ]
  },
  {
   "cell_type": "markdown",
   "metadata": {},
   "source": [
    "The blue vertical axis and line corresponds to percent female in the workforce, while the red vertical axis and line corresponds to pay gap. Percent female increases from 2003 to 2018, especially between 2005 and 2009. In 2009, percent female peaks before stabilizing to around 44.3%. In recent years (2016-2018), percent female seems to be on the rise. In general, percent female does not change drastically with a scale from 43.6% to 44.8%.  \n",
    "\n",
    "On the other hand, pay gap fluctuates more widely (from \\\\$160 to \\\\$195) in the same time range, especially between 2011 and 2015. Compared to 2003, the pay gap decreased by around \\\\$10. However, compared to 2016, the pay gap increased by around \\\\$10. "
   ]
  },
  {
   "cell_type": "code",
   "execution_count": null,
   "metadata": {},
   "outputs": [],
   "source": [
    "df.shape[0]"
   ]
  },
  {
   "cell_type": "markdown",
   "metadata": {},
   "source": [
    "`df` contains information for almost 100 occupations! To get a better understanding of how percent female, total pay, and pay gap compares for different occupations, we split the data into sub-sections corresponding to positive/negative values of percent female change, total weekly pay change, and pay gap change. Analysis is first done on occupations with positive values of percent female change and then on occupations with negative values of percent female change.    "
   ]
  },
  {
   "cell_type": "markdown",
   "metadata": {},
   "source": [
    "#### 4.3.1 Occupations with More Women Entering\n",
    "\n",
    "First we create a new `DataFrame` that contains all of the occupations with a positive percent female change and positive slope between percent female and year."
   ]
  },
  {
   "cell_type": "code",
   "execution_count": null,
   "metadata": {},
   "outputs": [],
   "source": [
    "df_percent_female_pos = df[(df['Percent Female Change (%)'] > 0) & ((df['Percent Female Slope (%/yr)'] > 0))]\n",
    "print('Number of occupations:', df_percent_female_pos.shape[0])"
   ]
  },
  {
   "cell_type": "markdown",
   "metadata": {},
   "source": [
    "That's quite a few occupations! Let's order them in descending order by relative percent female change and display the first 10."
   ]
  },
  {
   "cell_type": "code",
   "execution_count": null,
   "metadata": {},
   "outputs": [],
   "source": [
    "df_percent_female_pos_sorted = df_percent_female_pos.sort_values(by=['Relative Percent Female Change (%)'], ascending=False)\n",
    "df_percent_female_pos_sorted.iloc[:10,-6:]"
   ]
  },
  {
   "cell_type": "markdown",
   "metadata": {},
   "source": [
    "We can plot the first five occupations with percent female against year"
   ]
  },
  {
   "cell_type": "code",
   "execution_count": null,
   "metadata": {},
   "outputs": [],
   "source": [
    "colors = ['orange', 'goldenrod', 'salmon', 'navy', 'green', 'crimson', 'purple', 'blue', 'black', 'cyan']\n",
    "occs = df_percent_female_pos_sorted.index[:5]\n",
    "title = 'Percent female in occupations with a positive change in percent female'\n",
    "plot_percent_female(df_percent_female_pos_sorted, occs, colors, title)"
   ]
  },
  {
   "cell_type": "markdown",
   "metadata": {},
   "source": [
    "The following observations can be made from the above figure:\n",
    "- It is important to compare relative changes. Driversales workers and truck drivers has the highest relative increase in percent female (43.6%) but has much lower percent female values compared to other occupations (5% compared to more than 15%). \n",
    "- There is a divide between the three occupations from 30% to 60% and the two occupations below 20%. This divide also distinguishes high income from low income jobs. Driversales workers and laborers have lower median incomes compared to physicians, pharmacists, and lawyers (\\\\$700 vs \\\\$2000). Less women chose these jobs because they have have lower pay and are typically associated with men.  \n",
    "- The pharmacists occupation surpasses 50% after 2011 and continues to steadily increase with time."
   ]
  },
  {
   "cell_type": "markdown",
   "metadata": {},
   "source": [
    "#### 4.3.2 Occupations with More Women Entering but Lower Total Pay\n",
    "\n",
    "We create another `DataFrame` that contains all of the occupations with a positive percent female change (and percent female slope) and negative total weekly pay change (and total pay slope). This subset can be used to provide evidence for the observation that when women become more represented in a job, the pay for that job tends to go down.  "
   ]
  },
  {
   "cell_type": "code",
   "execution_count": null,
   "metadata": {},
   "outputs": [],
   "source": [
    "df_percent_female_pos_total_pay_neg = df_percent_female_pos[(df_percent_female_pos['Total Weekly Pay Change ($)'] < 0) & (df_percent_female_pos['Total Weekly Pay Slope ($/yr)'] < 0)]\n",
    "print('Number of occupations:', df_percent_female_pos_total_pay_neg.shape[0])"
   ]
  },
  {
   "cell_type": "markdown",
   "metadata": {},
   "source": [
    "There are a few. Let's order them in ascending order by `Relative Total Weekly Pay Change (%)` and display the first 10"
   ]
  },
  {
   "cell_type": "code",
   "execution_count": null,
   "metadata": {},
   "outputs": [],
   "source": [
    "df_percent_female_pos_total_pay_neg_sorted = df_percent_female_pos_total_pay_neg.sort_values(by=['Relative Total Weekly Pay Change (%)'], ascending=True)\n",
    "df_percent_female_pos_total_pay_neg_sorted.iloc[:10,-6:]"
   ]
  },
  {
   "cell_type": "markdown",
   "metadata": {},
   "source": [
    "Before visualizing total weekly pay, we pick a few occupations from the above data table with percent female values that increase over time.  "
   ]
  },
  {
   "cell_type": "code",
   "execution_count": null,
   "metadata": {},
   "outputs": [],
   "source": [
    "occs = df_percent_female_pos_total_pay_neg_sorted.index[:8]\n",
    "title = 'Percent female in occupations with a positive change in percent female\\n and negative change in total weekly pay'\n",
    "plot_percent_female(df_percent_female_pos_total_pay_neg_sorted, occs, colors, title)"
   ]
  },
  {
   "cell_type": "markdown",
   "metadata": {},
   "source": [
    "After plotting, the first 8 occupations, we identify three occupations with a positive relationship between percent female and time:\n",
    "- Postal service mail carriers\n",
    "- Lawyers\n",
    "- Food service managers\n",
    "\n",
    "The percent females for these occupations are all in the range of 30% to 50%.\n",
    "\n",
    "For each of the 3 occupations, we make a two-scale plot of total weekly pay and percent female versus year. "
   ]
  },
  {
   "cell_type": "markdown",
   "metadata": {},
   "source": [
    "#### Postal service mail carriers"
   ]
  },
  {
   "cell_type": "code",
   "execution_count": null,
   "metadata": {},
   "outputs": [],
   "source": [
    "occ = 'Postal service mail carriers'\n",
    "title = 'Proportion of women and total pay for postal service mail carriers from 2003 to 2018'\n",
    "plot_percent_female_total_pay(df_percent_female_pos_total_pay_neg_sorted, occ, title)"
   ]
  },
  {
   "cell_type": "markdown",
   "metadata": {},
   "source": [
    "As the percentage of women in the postal service mail carriers occupation increases over time, the weekly median income decreases. Both lines look like reflections of each other. When percent female decreased from 2005 to 2009, total pay increased. When percent female increased from 2009 to 2018, total pay decreased.  "
   ]
  },
  {
   "cell_type": "markdown",
   "metadata": {},
   "source": [
    "#### Lawyers"
   ]
  },
  {
   "cell_type": "code",
   "execution_count": null,
   "metadata": {},
   "outputs": [],
   "source": [
    "title = 'Proportion of women and total pay for lawyers from 2003 to 2018'\n",
    "plot_percent_female_total_pay(df_percent_female_pos_total_pay_neg_sorted, 'Lawyers', title)"
   ]
  },
  {
   "cell_type": "markdown",
   "metadata": {},
   "source": [
    "As the percentage of women in the lawyers occupation increases over time, the weekly median income decreases. Both lines steadily increase and decrease. The total pay decreases by almost \\\\$200, while percent female increases by almost 10\\% (absolute difference). "
   ]
  },
  {
   "cell_type": "markdown",
   "metadata": {},
   "source": [
    "#### Food service managers"
   ]
  },
  {
   "cell_type": "code",
   "execution_count": null,
   "metadata": {},
   "outputs": [],
   "source": [
    "title = 'Proportion of women and total pay for food service managers from 2003 to 2018'\n",
    "plot_percent_female_total_pay(df_percent_female_pos_total_pay_neg_sorted, 'Food service managers', title)"
   ]
  },
  {
   "cell_type": "markdown",
   "metadata": {},
   "source": [
    "As the percentage of women in the food service managers occupation increases over time, the weekly median income decreases. Both lines rapidly increase and decrease from 2003 to 2007 before leveling off. Percent female stabilizes at around 47\\%, while total pay stabilizes at around \\\\$760.    "
   ]
  },
  {
   "cell_type": "markdown",
   "metadata": {},
   "source": [
    "Overall, the three occupations displayed above provide evidence that as more women enter certain occupations, the total median pays for those occupations decrease. Of course, these plots do not prove causation but rather indicate a possible association. "
   ]
  },
  {
   "cell_type": "markdown",
   "metadata": {},
   "source": [
    "#### 4.3.3 Occupations with More Women Entering but Worse Pay Gap\n",
    "\n",
    "We create another `DataFrame` that contains all of the occupations with a positive percent female change (and percent female slope) and positive pay gap change (and pay gap slope). This subset can be used to provide evidence for the observation that as women become more represented in a job, the difference in pay between men and women increases.  "
   ]
  },
  {
   "cell_type": "code",
   "execution_count": null,
   "metadata": {},
   "outputs": [],
   "source": [
    "df_percent_female_pos_pay_gap_pos = df_percent_female_pos[(df_percent_female_pos['Pay Gap Change ($)'] > 0) & (df_percent_female_pos['Pay Gap Slope ($/yr)'] > 0)]\n",
    "print('Number of occupations:', df_percent_female_pos_pay_gap_pos.shape[0])"
   ]
  },
  {
   "cell_type": "markdown",
   "metadata": {},
   "source": [
    "There are less than 10. Let's order them in descending order by `Relative Pay Gap Change (%)` and display them"
   ]
  },
  {
   "cell_type": "code",
   "execution_count": null,
   "metadata": {},
   "outputs": [],
   "source": [
    "df_percent_female_pos_pay_gap_pos_sorted = df_percent_female_pos_pay_gap_pos.sort_values(by=['Relative Pay Gap Change (%)'], ascending=False)\n",
    "df_percent_female_pos_pay_gap_pos_sorted.iloc[:, -6:]"
   ]
  },
  {
   "cell_type": "markdown",
   "metadata": {},
   "source": [
    "Like we did above, before visualizing pay gap, we pick a few occupations from the above data table with percent female values that increase over time."
   ]
  },
  {
   "cell_type": "code",
   "execution_count": null,
   "metadata": {},
   "outputs": [],
   "source": [
    "occs = df_percent_female_pos_pay_gap_pos_sorted.index\n",
    "title = 'Percent female in occupations with a positive change in percent female\\n and positive change in pay gap'\n",
    "plot_percent_female(df_percent_female_pos_pay_gap_pos_sorted, occs, colors, title)"
   ]
  },
  {
   "cell_type": "markdown",
   "metadata": {},
   "source": [
    "After plotting, the first 8 occupations, we identify 2 occupations with a positive relationship between percent female and time:\n",
    "- Postal service mail carriers\n",
    "- Pharmacists\n",
    "\n",
    "For each of the 2 occupations, we make a two-scale plot of pay gap and percent female versus year. "
   ]
  },
  {
   "cell_type": "markdown",
   "metadata": {},
   "source": [
    "#### Postal service mail carriers"
   ]
  },
  {
   "cell_type": "code",
   "execution_count": null,
   "metadata": {},
   "outputs": [],
   "source": [
    "title = 'Proportion of women and pay gap for postal service mail carriers from 2003 to 2018'\n",
    "plot_percent_female_pay_gap(df_percent_female_pos_pay_gap_pos_sorted, 'Postal service mail carriers', title)"
   ]
  },
  {
   "cell_type": "markdown",
   "metadata": {},
   "source": [
    "#### Pharmacists"
   ]
  },
  {
   "cell_type": "code",
   "execution_count": null,
   "metadata": {},
   "outputs": [],
   "source": [
    "title = 'Proportion of women and pay gap for pharmacists from 2003 to 2018'\n",
    "plot_percent_female_pay_gap(df_percent_female_pos_pay_gap_pos_sorted, 'Pharmacists', title)"
   ]
  },
  {
   "cell_type": "markdown",
   "metadata": {},
   "source": [
    "For both postal service mail carriers and pharmacists, as the percentages of women in those occupations increase over time, the pay gaps between male and female median incomes increase. The percentage of female postal service mail carriers increased from around 32% to 41%, while the pay gap increased from \\\\$20 to \\\\$100. The percentage of female pharmacists increased from around 48% to 63%, while the pay gap increased from \\\\$200 to almost \\\\$400. This means that even as women become more represented in these jobs, men still tend to make more, and the differences are even higher now than they were in the past.   "
   ]
  },
  {
   "cell_type": "markdown",
   "metadata": {},
   "source": [
    "#### 4.3.4 Occupations with More Women Entering but Smaller Pay Gap\n",
    "\n",
    "Let's look at some improvements that have been made regarding equal pay! We create another `DataFrame` that contains all of the occupations with a positive percent female change (and percent female slope) and negative pay gap change (and pay gap slope). This subset can be used to provide evidence for the observation that as women become more represented in a job, the difference in pay between men and women decreases (a win-win situation).  "
   ]
  },
  {
   "cell_type": "code",
   "execution_count": null,
   "metadata": {},
   "outputs": [],
   "source": [
    "df_percent_female_pos_pay_gap_neg = df_percent_female_pos[(df_percent_female_pos['Pay Gap Change ($)'] < 0) & (df_percent_female_pos['Pay Gap Slope ($/yr)'] < 0)]\n",
    "print('Number of occupations:', df_percent_female_pos_pay_gap_neg.shape[0])"
   ]
  },
  {
   "cell_type": "markdown",
   "metadata": {},
   "source": [
    "There are a few. Let's order them in ascending order by `Relative Pay Gap Change (%)`."
   ]
  },
  {
   "cell_type": "code",
   "execution_count": null,
   "metadata": {},
   "outputs": [],
   "source": [
    "df_percent_female_pos_pay_gap_neg_sorted = df_percent_female_pos_pay_gap_neg.sort_values(by=['Relative Pay Gap Change (%)'], ascending=True)\n",
    "df_percent_female_pos_pay_gap_neg_sorted.iloc[:10, -6:]"
   ]
  },
  {
   "cell_type": "markdown",
   "metadata": {},
   "source": [
    "Just like before, we pick a few occupations from the above data table with percent female values that increase over time."
   ]
  },
  {
   "cell_type": "code",
   "execution_count": null,
   "metadata": {},
   "outputs": [],
   "source": [
    "occs = df_percent_female_pos_pay_gap_neg_sorted.index[:8]\n",
    "title ='Percent female in occupations with a positive change in percent female\\n and negative change in pay gap'\n",
    "plot_percent_female(df_percent_female_pos_pay_gap_neg_sorted, occs, colors, title)"
   ]
  },
  {
   "cell_type": "markdown",
   "metadata": {},
   "source": [
    "After plotting, the first 8 occupations, we identify 2 occupations with a positive relationship between percent female and time:\n",
    "- Purchasing managers\n",
    "- Insurance sales agents\n",
    "\n",
    "The percent females for these occupations are...\n",
    "\n",
    "For each of the 2 occupations, we make a two-scale plot of pay gap and percent female versus year. "
   ]
  },
  {
   "cell_type": "markdown",
   "metadata": {},
   "source": [
    "#### Purchasing managers"
   ]
  },
  {
   "cell_type": "code",
   "execution_count": null,
   "metadata": {},
   "outputs": [],
   "source": [
    "title = 'Proportion of women and pay gap for purchasing managers from 2003 to 2018'\n",
    "plot_percent_female_pay_gap(df_percent_female_pos_pay_gap_neg_sorted, 'Purchasing managers', title)"
   ]
  },
  {
   "cell_type": "markdown",
   "metadata": {},
   "source": [
    "#### Insurance sales agents"
   ]
  },
  {
   "cell_type": "code",
   "execution_count": null,
   "metadata": {},
   "outputs": [],
   "source": [
    "title = 'Proportion of women and pay gap for insurance sales agents from 2003 to 2018'\n",
    "plot_percent_female_pay_gap(df_percent_female_pos_pay_gap_neg_sorted, 'Insurance sales agents', title)"
   ]
  },
  {
   "cell_type": "markdown",
   "metadata": {},
   "source": [
    "For both purchasing managers and insurance sales agents, as the percentages of women in those occupations increase over time, the pay gaps between male and female median incomes decrease. The negative relationship between pay gap and year is more apparent for purchasing managers, but even with the big fluctuations in pay gap for insurance sales agents, the downward trend of pay gap is especially apparent in the two ends of the year range. The percentage of female purchasing managers increased from around 38.7% to 44.6%, while the pay gap decreased from \\\\$620 to \\\\$200. The percentage of female insurance sales agents increased from around 48% to 56%, while the pay gap decreased from \\\\$509 to almost \\\\$239. This means that as women become more represented in these jobs, men tend to make more, but the differences are lower now than they were in the past."
   ]
  },
  {
   "cell_type": "markdown",
   "metadata": {},
   "source": [
    "#### 4.3.5 Occupations with Less Women Entering\n",
    "\n",
    "Instead of just focusing on occupations with positive percent female changes, we create another `DataFrame` that contains all of the occupations with a negative percent female change (and percent female slope), which indicates the occupations that women have less representation in."
   ]
  },
  {
   "cell_type": "code",
   "execution_count": null,
   "metadata": {},
   "outputs": [],
   "source": [
    "df_percent_female_neg = df[(df['Percent Female Change (%)'] < 0) & (df['Percent Female Slope (%/yr)'] < 0)]\n",
    "print('Number of occupations:', df_percent_female_neg.shape[0])"
   ]
  },
  {
   "cell_type": "markdown",
   "metadata": {},
   "source": [
    "There is a substantial number of such occupations. Let's sort them in ascending order of `Relative Percent Female Change (%)`."
   ]
  },
  {
   "cell_type": "code",
   "execution_count": null,
   "metadata": {},
   "outputs": [],
   "source": [
    "df_percent_female_neg_sorted = df_percent_female_neg.sort_values(by=['Relative Percent Female Change (%)'], ascending=True)\n",
    "df_percent_female_neg_sorted.iloc[:10, -6:]"
   ]
  },
  {
   "cell_type": "markdown",
   "metadata": {},
   "source": [
    "Compared to the previous data tables, there seems to be much more STEM related occupations in this category, such as computer programmers, computer and mathematical occupations, and electrical electronics and electromechanical assemblers! We can plot the first few with percent female against time."
   ]
  },
  {
   "cell_type": "code",
   "execution_count": null,
   "metadata": {},
   "outputs": [],
   "source": [
    "occs = df_percent_female_neg_sorted.index[:8]\n",
    "title ='Percent female in occupations with a negative change in percent female'\n",
    "plot_percent_female(df_percent_female_neg_sorted, occs, colors, title)"
   ]
  },
  {
   "cell_type": "markdown",
   "metadata": {},
   "source": [
    "The following observations can be made from the above figure:\n",
    "- Installation maintenance and repair occupations have one of the highest relative decreases in percent female (-18.4%) but has much lower percent female values compared to the other occupations. \t\n",
    "- Most of the occupations lie in the middle range with percent female varying from 20% to 40%. \n",
    "- Advertising sales agents and electrical electronics and electromechanical assemblers both had close to 60% women in 2003. Over time, percent female steadily decreased to 50%.  \n",
    "\n",
    "Before plotting any two-scale plots, we can break down `df_percent_female_neg` a little more into similar sections like we did for positive female percent change. The following cells include a condensed version of the explorations since the process was already introduced above.    "
   ]
  },
  {
   "cell_type": "markdown",
   "metadata": {},
   "source": [
    "#### 4.3.6 Occupations with Less Women Entering but Higher Total Pay"
   ]
  },
  {
   "cell_type": "code",
   "execution_count": null,
   "metadata": {},
   "outputs": [],
   "source": [
    "df_percent_female_neg_total_pay_pos = df_percent_female_neg[(df_percent_female_neg['Total Weekly Pay Change ($)'] > 0) & (df_percent_female_neg['Total Weekly Pay Slope ($/yr)'] > 0)]\n",
    "print('Number of occupations:', df_percent_female_neg_total_pay_pos.shape[0])"
   ]
  },
  {
   "cell_type": "markdown",
   "metadata": {},
   "source": [
    "An example of an occupation in this section is computer programmers, which we can visualize with a two-scale plot of percent female and total pay."
   ]
  },
  {
   "cell_type": "code",
   "execution_count": null,
   "metadata": {},
   "outputs": [],
   "source": [
    "title = 'Proportion of women and total pay for computer programmers from 2003 to 2018'\n",
    "plot_percent_female_total_pay(df_percent_female_neg_total_pay_pos, 'Computer programmers', title)"
   ]
  },
  {
   "cell_type": "markdown",
   "metadata": {},
   "source": [
    "For computer programmers, as the percentage of women in this occupation decreases over time, the weekly median income for both genders increases. The percentage of female computer programmers decreased from around 26.6% to 21.3%, while the total pay increased from \\\\$1458 to \\\\$1591. This indicates that as women become less represented in this job, the total pay increases.  "
   ]
  },
  {
   "cell_type": "markdown",
   "metadata": {},
   "source": [
    "#### 4.3.7 Occupations with Less Women Entering and Worse Pay Gap"
   ]
  },
  {
   "cell_type": "code",
   "execution_count": null,
   "metadata": {},
   "outputs": [],
   "source": [
    "df_percent_female_neg_pay_gap_pos = df_percent_female_neg[(df_percent_female_neg['Pay Gap Change ($)'] > 0) & (df_percent_female_neg['Pay Gap Slope ($/yr)'] > 0)]\n",
    "print('Number of occupations:', df_percent_female_neg_pay_gap_pos.shape[0])"
   ]
  },
  {
   "cell_type": "markdown",
   "metadata": {},
   "source": [
    "An example of an occupation in this section is computer support specialists, which we can visualize with a two-scale plot of percent female and pay gap."
   ]
  },
  {
   "cell_type": "code",
   "execution_count": null,
   "metadata": {},
   "outputs": [],
   "source": [
    "occ = 'Computer support specialists'\n",
    "title = 'Proportion of women and pay gap for computer support specialists from 2003 to 2018'\n",
    "plot_percent_female_pay_gap(df_percent_female_neg_sorted, occ, title)"
   ]
  },
  {
   "cell_type": "markdown",
   "metadata": {},
   "source": [
    "For computer support specialists, as the percentage of women in the occupation decreases over time, the pay gap between male and female median income increases. The percentage of female computer support specialists decreased from around 35.5% to 27%, while the pay gap increased from \\\\$57.5 to \\\\$99. This means that as women become less represented in these jobs, men continue to make more, and the differences are even higher now than they were in the past. It is interesting how in 2005 and 2011, the pay gap dropped to almost \\\\-$50, which indicates that women were earning more than men for those years. "
   ]
  },
  {
   "cell_type": "markdown",
   "metadata": {},
   "source": [
    "#### 4.3.8 Occupations with Less Women Entering and Smaller Pay Gap"
   ]
  },
  {
   "cell_type": "code",
   "execution_count": null,
   "metadata": {},
   "outputs": [],
   "source": [
    "df_percent_female_neg_pay_gap_neg = df_percent_female_neg[(df_percent_female_neg['Pay Gap Change ($)'] < 0) & (df_percent_female_neg['Pay Gap Slope ($/yr)'] < 0)]\n",
    "print('Number of occupations:', df_percent_female_neg_pay_gap_neg.shape[0])"
   ]
  },
  {
   "cell_type": "markdown",
   "metadata": {},
   "source": [
    "An example of an occupation in this section is software developers, which we can visualize with a two-scale plot of percent female and pay gap."
   ]
  },
  {
   "cell_type": "code",
   "execution_count": null,
   "metadata": {},
   "outputs": [],
   "source": [
    "occ = 'Software developers applications and systems software'\n",
    "title = 'Proportion of women and pay gap for software developers applications and systems software from 2003 to 2018'\n",
    "plot_percent_female_pay_gap(df_percent_female_neg_sorted, occ, title)"
   ]
  },
  {
   "cell_type": "code",
   "execution_count": null,
   "metadata": {},
   "outputs": [],
   "source": [
    "df_percent_female_neg.loc['Software developers applications and systems software']['Pay Gap']"
   ]
  },
  {
   "cell_type": "markdown",
   "metadata": {},
   "source": [
    "For software developers, as the percentage of women in the occupation decreases over time, the pay gap between male and female median income decreases. The percentage of female software developers decreased from around 22.3% to 20.3%, while the pay gap decreased from \\\\$453 to \\\\$250. This means that as women become less represented in these jobs, men continue to make more, but the differences are lower now than they were in the past. \n",
    "\n",
    "**connect to real world?**"
   ]
  },
  {
   "cell_type": "code",
   "execution_count": null,
   "metadata": {},
   "outputs": [],
   "source": []
  }
 ],
 "metadata": {
  "kernelspec": {
   "display_name": "Python 3",
   "language": "python",
   "name": "python3"
  },
  "language_info": {
   "codemirror_mode": {
    "name": "ipython",
    "version": 3
   },
   "file_extension": ".py",
   "mimetype": "text/x-python",
   "name": "python",
   "nbconvert_exporter": "python",
   "pygments_lexer": "ipython3",
   "version": "3.6.8"
  }
 },
 "nbformat": 4,
 "nbformat_minor": 2
}
